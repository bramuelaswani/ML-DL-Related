{
 "cells": [
  {
   "cell_type": "code",
   "execution_count": 1,
   "id": "7a95d023",
   "metadata": {},
   "outputs": [],
   "source": [
    "#!pip install html5lib "
   ]
  },
  {
   "cell_type": "code",
   "execution_count": 2,
   "id": "e2d354ff",
   "metadata": {},
   "outputs": [],
   "source": [
    "import requests"
   ]
  },
  {
   "cell_type": "code",
   "execution_count": 3,
   "id": "5788db77",
   "metadata": {},
   "outputs": [],
   "source": [
    "standings_url = \"https://fbref.com/en/comps/9/Premier-League-Stats\""
   ]
  },
  {
   "cell_type": "code",
   "execution_count": 4,
   "id": "f5603b15",
   "metadata": {},
   "outputs": [],
   "source": [
    "data = requests.get(standings_url)"
   ]
  },
  {
   "cell_type": "code",
   "execution_count": 5,
   "id": "2f65d9f9-ab0b-4122-92b6-7fe310517b36",
   "metadata": {},
   "outputs": [
    {
     "data": {
      "text/plain": [
       "<Response [200]>"
      ]
     },
     "execution_count": 5,
     "metadata": {},
     "output_type": "execute_result"
    }
   ],
   "source": [
    "data"
   ]
  },
  {
   "cell_type": "markdown",
   "id": "13d55c7c",
   "metadata": {},
   "source": [
    "## Scraping our first page with requests"
   ]
  },
  {
   "cell_type": "code",
   "execution_count": 6,
   "id": "6086990d",
   "metadata": {},
   "outputs": [],
   "source": [
    "from bs4 import BeautifulSoup"
   ]
  },
  {
   "cell_type": "code",
   "execution_count": 7,
   "id": "cc5dac87",
   "metadata": {},
   "outputs": [],
   "source": [
    "soup = BeautifulSoup(data.text)"
   ]
  },
  {
   "cell_type": "code",
   "execution_count": 8,
   "id": "a9393aff",
   "metadata": {},
   "outputs": [],
   "source": [
    "standings_table = soup.select('table.stats_table')[0]"
   ]
  },
  {
   "cell_type": "markdown",
   "id": "132b1f6c",
   "metadata": {},
   "source": [
    "## Parsing our first page with requests"
   ]
  },
  {
   "cell_type": "code",
   "execution_count": 9,
   "id": "da2abc58",
   "metadata": {},
   "outputs": [],
   "source": [
    "links = standings_table.find_all('a') "
   ]
  },
  {
   "cell_type": "code",
   "execution_count": 10,
   "id": "b32df755",
   "metadata": {},
   "outputs": [],
   "source": [
    "links = [l.get(\"href\") for l in links]"
   ]
  },
  {
   "cell_type": "code",
   "execution_count": 11,
   "id": "c9fc5485",
   "metadata": {},
   "outputs": [],
   "source": [
    "links = [l for l in links if '/squads/' in l]"
   ]
  },
  {
   "cell_type": "code",
   "execution_count": 12,
   "id": "bb3c6525",
   "metadata": {},
   "outputs": [
    {
     "data": {
      "text/plain": [
       "['/en/squads/18bb7c10/Arsenal-Stats',\n",
       " '/en/squads/b8fd03ef/Manchester-City-Stats',\n",
       " '/en/squads/b2b47a98/Newcastle-United-Stats',\n",
       " '/en/squads/19538871/Manchester-United-Stats',\n",
       " '/en/squads/361ca564/Tottenham-Hotspur-Stats',\n",
       " '/en/squads/d07537b9/Brighton-and-Hove-Albion-Stats',\n",
       " '/en/squads/fd962109/Fulham-Stats',\n",
       " '/en/squads/cd051869/Brentford-Stats',\n",
       " '/en/squads/822bd0ba/Liverpool-Stats',\n",
       " '/en/squads/cff3d9bb/Chelsea-Stats',\n",
       " '/en/squads/8602292d/Aston-Villa-Stats',\n",
       " '/en/squads/47c64c55/Crystal-Palace-Stats',\n",
       " '/en/squads/e4a775cb/Nottingham-Forest-Stats',\n",
       " '/en/squads/a2d435b3/Leicester-City-Stats',\n",
       " '/en/squads/5bfb9659/Leeds-United-Stats',\n",
       " '/en/squads/7c21e445/West-Ham-United-Stats',\n",
       " '/en/squads/8cec06e1/Wolverhampton-Wanderers-Stats',\n",
       " '/en/squads/4ba7cbea/Bournemouth-Stats',\n",
       " '/en/squads/d3fd31cc/Everton-Stats',\n",
       " '/en/squads/33c895d4/Southampton-Stats']"
      ]
     },
     "execution_count": 12,
     "metadata": {},
     "output_type": "execute_result"
    }
   ],
   "source": [
    "links"
   ]
  },
  {
   "cell_type": "code",
   "execution_count": 13,
   "id": "0a0ddd9b",
   "metadata": {},
   "outputs": [],
   "source": [
    "team_urls = [f\"https://fbref.com{l}\" for l in links]"
   ]
  },
  {
   "cell_type": "code",
   "execution_count": 14,
   "id": "a96ddc08",
   "metadata": {},
   "outputs": [],
   "source": [
    "team_urls = team_urls[0]"
   ]
  },
  {
   "cell_type": "code",
   "execution_count": 15,
   "id": "8c854789",
   "metadata": {},
   "outputs": [],
   "source": [
    "data = requests.get(team_urls)"
   ]
  },
  {
   "cell_type": "markdown",
   "id": "530e2841",
   "metadata": {},
   "source": [
    "## Extract match stats using pandas and requests"
   ]
  },
  {
   "cell_type": "code",
   "execution_count": 16,
   "id": "88a079b9",
   "metadata": {},
   "outputs": [],
   "source": [
    "import pandas as pd\n",
    "matches = pd.read_html(data.text, match = \"Scores & Fixtures\")[0]"
   ]
  },
  {
   "cell_type": "code",
   "execution_count": 17,
   "id": "9b96e25f",
   "metadata": {},
   "outputs": [
    {
     "data": {
      "text/html": [
       "<div>\n",
       "<style scoped>\n",
       "    .dataframe tbody tr th:only-of-type {\n",
       "        vertical-align: middle;\n",
       "    }\n",
       "\n",
       "    .dataframe tbody tr th {\n",
       "        vertical-align: top;\n",
       "    }\n",
       "\n",
       "    .dataframe thead th {\n",
       "        text-align: right;\n",
       "    }\n",
       "</style>\n",
       "<table border=\"1\" class=\"dataframe\">\n",
       "  <thead>\n",
       "    <tr style=\"text-align: right;\">\n",
       "      <th></th>\n",
       "      <th>Date</th>\n",
       "      <th>Time</th>\n",
       "      <th>Comp</th>\n",
       "      <th>Round</th>\n",
       "      <th>Day</th>\n",
       "      <th>Venue</th>\n",
       "      <th>Result</th>\n",
       "      <th>GF</th>\n",
       "      <th>GA</th>\n",
       "      <th>Opponent</th>\n",
       "      <th>xG</th>\n",
       "      <th>xGA</th>\n",
       "      <th>Poss</th>\n",
       "      <th>Attendance</th>\n",
       "      <th>Captain</th>\n",
       "      <th>Formation</th>\n",
       "      <th>Referee</th>\n",
       "      <th>Match Report</th>\n",
       "      <th>Notes</th>\n",
       "    </tr>\n",
       "  </thead>\n",
       "  <tbody>\n",
       "    <tr>\n",
       "      <th>0</th>\n",
       "      <td>2022-08-05</td>\n",
       "      <td>20:00</td>\n",
       "      <td>Premier League</td>\n",
       "      <td>Matchweek 1</td>\n",
       "      <td>Fri</td>\n",
       "      <td>Away</td>\n",
       "      <td>W</td>\n",
       "      <td>2.0</td>\n",
       "      <td>0.0</td>\n",
       "      <td>Crystal Palace</td>\n",
       "      <td>1.0</td>\n",
       "      <td>1.2</td>\n",
       "      <td>44.0</td>\n",
       "      <td>25286.0</td>\n",
       "      <td>Martin Ødegaard</td>\n",
       "      <td>4-3-3</td>\n",
       "      <td>Anthony Taylor</td>\n",
       "      <td>Match Report</td>\n",
       "      <td>NaN</td>\n",
       "    </tr>\n",
       "    <tr>\n",
       "      <th>1</th>\n",
       "      <td>2022-08-13</td>\n",
       "      <td>15:00</td>\n",
       "      <td>Premier League</td>\n",
       "      <td>Matchweek 2</td>\n",
       "      <td>Sat</td>\n",
       "      <td>Home</td>\n",
       "      <td>W</td>\n",
       "      <td>4.0</td>\n",
       "      <td>2.0</td>\n",
       "      <td>Leicester City</td>\n",
       "      <td>2.7</td>\n",
       "      <td>0.5</td>\n",
       "      <td>50.0</td>\n",
       "      <td>60033.0</td>\n",
       "      <td>Martin Ødegaard</td>\n",
       "      <td>4-3-3</td>\n",
       "      <td>Darren England</td>\n",
       "      <td>Match Report</td>\n",
       "      <td>NaN</td>\n",
       "    </tr>\n",
       "    <tr>\n",
       "      <th>2</th>\n",
       "      <td>2022-08-20</td>\n",
       "      <td>17:30</td>\n",
       "      <td>Premier League</td>\n",
       "      <td>Matchweek 3</td>\n",
       "      <td>Sat</td>\n",
       "      <td>Away</td>\n",
       "      <td>W</td>\n",
       "      <td>3.0</td>\n",
       "      <td>0.0</td>\n",
       "      <td>Bournemouth</td>\n",
       "      <td>1.3</td>\n",
       "      <td>0.3</td>\n",
       "      <td>57.0</td>\n",
       "      <td>10423.0</td>\n",
       "      <td>Martin Ødegaard</td>\n",
       "      <td>4-3-3</td>\n",
       "      <td>Craig Pawson</td>\n",
       "      <td>Match Report</td>\n",
       "      <td>NaN</td>\n",
       "    </tr>\n",
       "    <tr>\n",
       "      <th>3</th>\n",
       "      <td>2022-08-27</td>\n",
       "      <td>17:30</td>\n",
       "      <td>Premier League</td>\n",
       "      <td>Matchweek 4</td>\n",
       "      <td>Sat</td>\n",
       "      <td>Home</td>\n",
       "      <td>W</td>\n",
       "      <td>2.0</td>\n",
       "      <td>1.0</td>\n",
       "      <td>Fulham</td>\n",
       "      <td>2.6</td>\n",
       "      <td>0.8</td>\n",
       "      <td>71.0</td>\n",
       "      <td>60164.0</td>\n",
       "      <td>Martin Ødegaard</td>\n",
       "      <td>4-3-3</td>\n",
       "      <td>Jarred Gillett</td>\n",
       "      <td>Match Report</td>\n",
       "      <td>NaN</td>\n",
       "    </tr>\n",
       "    <tr>\n",
       "      <th>4</th>\n",
       "      <td>2022-08-31</td>\n",
       "      <td>19:30</td>\n",
       "      <td>Premier League</td>\n",
       "      <td>Matchweek 5</td>\n",
       "      <td>Wed</td>\n",
       "      <td>Home</td>\n",
       "      <td>W</td>\n",
       "      <td>2.0</td>\n",
       "      <td>1.0</td>\n",
       "      <td>Aston Villa</td>\n",
       "      <td>2.4</td>\n",
       "      <td>0.4</td>\n",
       "      <td>59.0</td>\n",
       "      <td>60012.0</td>\n",
       "      <td>Martin Ødegaard</td>\n",
       "      <td>4-3-3</td>\n",
       "      <td>Robert Jones</td>\n",
       "      <td>Match Report</td>\n",
       "      <td>NaN</td>\n",
       "    </tr>\n",
       "  </tbody>\n",
       "</table>\n",
       "</div>"
      ],
      "text/plain": [
       "         Date   Time            Comp        Round  Day Venue Result   GF   GA  \\\n",
       "0  2022-08-05  20:00  Premier League  Matchweek 1  Fri  Away      W  2.0  0.0   \n",
       "1  2022-08-13  15:00  Premier League  Matchweek 2  Sat  Home      W  4.0  2.0   \n",
       "2  2022-08-20  17:30  Premier League  Matchweek 3  Sat  Away      W  3.0  0.0   \n",
       "3  2022-08-27  17:30  Premier League  Matchweek 4  Sat  Home      W  2.0  1.0   \n",
       "4  2022-08-31  19:30  Premier League  Matchweek 5  Wed  Home      W  2.0  1.0   \n",
       "\n",
       "         Opponent   xG  xGA  Poss  Attendance          Captain Formation  \\\n",
       "0  Crystal Palace  1.0  1.2  44.0     25286.0  Martin Ødegaard     4-3-3   \n",
       "1  Leicester City  2.7  0.5  50.0     60033.0  Martin Ødegaard     4-3-3   \n",
       "2     Bournemouth  1.3  0.3  57.0     10423.0  Martin Ødegaard     4-3-3   \n",
       "3          Fulham  2.6  0.8  71.0     60164.0  Martin Ødegaard     4-3-3   \n",
       "4     Aston Villa  2.4  0.4  59.0     60012.0  Martin Ødegaard     4-3-3   \n",
       "\n",
       "          Referee  Match Report Notes  \n",
       "0  Anthony Taylor  Match Report   NaN  \n",
       "1  Darren England  Match Report   NaN  \n",
       "2    Craig Pawson  Match Report   NaN  \n",
       "3  Jarred Gillett  Match Report   NaN  \n",
       "4    Robert Jones  Match Report   NaN  "
      ]
     },
     "execution_count": 17,
     "metadata": {},
     "output_type": "execute_result"
    }
   ],
   "source": [
    "matches.head()"
   ]
  },
  {
   "cell_type": "markdown",
   "id": "30288ec4",
   "metadata": {},
   "source": [
    "## Get match shooting stts with requests and pandas"
   ]
  },
  {
   "cell_type": "code",
   "execution_count": 18,
   "id": "98d1bea6",
   "metadata": {},
   "outputs": [],
   "source": [
    "soup = BeautifulSoup(data.text)"
   ]
  },
  {
   "cell_type": "code",
   "execution_count": 19,
   "id": "f0cf3f2b",
   "metadata": {},
   "outputs": [],
   "source": [
    "links = soup.find_all('a')"
   ]
  },
  {
   "cell_type": "code",
   "execution_count": 20,
   "id": "7a4bf21b",
   "metadata": {},
   "outputs": [],
   "source": [
    "links = [l.get(\"href\") for l in links]"
   ]
  },
  {
   "cell_type": "code",
   "execution_count": 21,
   "id": "8eab296d",
   "metadata": {},
   "outputs": [],
   "source": [
    "links = [l for l in links if l and 'all_comps/shooting/' in l]"
   ]
  },
  {
   "cell_type": "code",
   "execution_count": 22,
   "id": "de7de200",
   "metadata": {},
   "outputs": [
    {
     "data": {
      "text/plain": [
       "['/en/squads/18bb7c10/2022-2023/matchlogs/all_comps/shooting/Arsenal-Match-Logs-All-Competitions',\n",
       " '/en/squads/18bb7c10/2022-2023/matchlogs/all_comps/shooting/Arsenal-Match-Logs-All-Competitions',\n",
       " '/en/squads/18bb7c10/2022-2023/matchlogs/all_comps/shooting/Arsenal-Match-Logs-All-Competitions',\n",
       " '/en/squads/18bb7c10/2022-2023/matchlogs/all_comps/shooting/Arsenal-Match-Logs-All-Competitions']"
      ]
     },
     "execution_count": 22,
     "metadata": {},
     "output_type": "execute_result"
    }
   ],
   "source": [
    "links"
   ]
  },
  {
   "cell_type": "code",
   "execution_count": 23,
   "id": "d11eceb5",
   "metadata": {},
   "outputs": [],
   "source": [
    "data = requests.get(f\"https://fbref.com{links[0]}\")"
   ]
  },
  {
   "cell_type": "code",
   "execution_count": 24,
   "id": "fa61323b",
   "metadata": {},
   "outputs": [
    {
     "data": {
      "text/plain": [
       "<Response [200]>"
      ]
     },
     "execution_count": 24,
     "metadata": {},
     "output_type": "execute_result"
    }
   ],
   "source": [
    "data"
   ]
  },
  {
   "cell_type": "code",
   "execution_count": 25,
   "id": "5b0e1b37",
   "metadata": {},
   "outputs": [],
   "source": [
    "shooting = pd.read_html(data.text, match = \"Shooting\")[0]"
   ]
  },
  {
   "cell_type": "code",
   "execution_count": 26,
   "id": "3427bafd",
   "metadata": {},
   "outputs": [
    {
     "data": {
      "text/html": [
       "<div>\n",
       "<style scoped>\n",
       "    .dataframe tbody tr th:only-of-type {\n",
       "        vertical-align: middle;\n",
       "    }\n",
       "\n",
       "    .dataframe tbody tr th {\n",
       "        vertical-align: top;\n",
       "    }\n",
       "\n",
       "    .dataframe thead tr th {\n",
       "        text-align: left;\n",
       "    }\n",
       "</style>\n",
       "<table border=\"1\" class=\"dataframe\">\n",
       "  <thead>\n",
       "    <tr>\n",
       "      <th></th>\n",
       "      <th colspan=\"10\" halign=\"left\">For Arsenal</th>\n",
       "      <th>...</th>\n",
       "      <th colspan=\"4\" halign=\"left\">Standard</th>\n",
       "      <th colspan=\"5\" halign=\"left\">Expected</th>\n",
       "      <th>Unnamed: 25_level_0</th>\n",
       "    </tr>\n",
       "    <tr>\n",
       "      <th></th>\n",
       "      <th>Date</th>\n",
       "      <th>Time</th>\n",
       "      <th>Comp</th>\n",
       "      <th>Round</th>\n",
       "      <th>Day</th>\n",
       "      <th>Venue</th>\n",
       "      <th>Result</th>\n",
       "      <th>GF</th>\n",
       "      <th>GA</th>\n",
       "      <th>Opponent</th>\n",
       "      <th>...</th>\n",
       "      <th>Dist</th>\n",
       "      <th>FK</th>\n",
       "      <th>PK</th>\n",
       "      <th>PKatt</th>\n",
       "      <th>xG</th>\n",
       "      <th>npxG</th>\n",
       "      <th>npxG/Sh</th>\n",
       "      <th>G-xG</th>\n",
       "      <th>np:G-xG</th>\n",
       "      <th>Match Report</th>\n",
       "    </tr>\n",
       "  </thead>\n",
       "  <tbody>\n",
       "    <tr>\n",
       "      <th>0</th>\n",
       "      <td>2022-08-05</td>\n",
       "      <td>20:00</td>\n",
       "      <td>Premier League</td>\n",
       "      <td>Matchweek 1</td>\n",
       "      <td>Fri</td>\n",
       "      <td>Away</td>\n",
       "      <td>W</td>\n",
       "      <td>2</td>\n",
       "      <td>0</td>\n",
       "      <td>Crystal Palace</td>\n",
       "      <td>...</td>\n",
       "      <td>14.6</td>\n",
       "      <td>1.0</td>\n",
       "      <td>0</td>\n",
       "      <td>0</td>\n",
       "      <td>1.0</td>\n",
       "      <td>1.0</td>\n",
       "      <td>0.10</td>\n",
       "      <td>0.0</td>\n",
       "      <td>0.0</td>\n",
       "      <td>Match Report</td>\n",
       "    </tr>\n",
       "    <tr>\n",
       "      <th>1</th>\n",
       "      <td>2022-08-13</td>\n",
       "      <td>15:00</td>\n",
       "      <td>Premier League</td>\n",
       "      <td>Matchweek 2</td>\n",
       "      <td>Sat</td>\n",
       "      <td>Home</td>\n",
       "      <td>W</td>\n",
       "      <td>4</td>\n",
       "      <td>2</td>\n",
       "      <td>Leicester City</td>\n",
       "      <td>...</td>\n",
       "      <td>13.0</td>\n",
       "      <td>0.0</td>\n",
       "      <td>0</td>\n",
       "      <td>0</td>\n",
       "      <td>2.7</td>\n",
       "      <td>2.7</td>\n",
       "      <td>0.16</td>\n",
       "      <td>1.3</td>\n",
       "      <td>1.3</td>\n",
       "      <td>Match Report</td>\n",
       "    </tr>\n",
       "    <tr>\n",
       "      <th>2</th>\n",
       "      <td>2022-08-20</td>\n",
       "      <td>17:30</td>\n",
       "      <td>Premier League</td>\n",
       "      <td>Matchweek 3</td>\n",
       "      <td>Sat</td>\n",
       "      <td>Away</td>\n",
       "      <td>W</td>\n",
       "      <td>3</td>\n",
       "      <td>0</td>\n",
       "      <td>Bournemouth</td>\n",
       "      <td>...</td>\n",
       "      <td>14.8</td>\n",
       "      <td>0.0</td>\n",
       "      <td>0</td>\n",
       "      <td>0</td>\n",
       "      <td>1.3</td>\n",
       "      <td>1.3</td>\n",
       "      <td>0.10</td>\n",
       "      <td>1.7</td>\n",
       "      <td>1.7</td>\n",
       "      <td>Match Report</td>\n",
       "    </tr>\n",
       "    <tr>\n",
       "      <th>3</th>\n",
       "      <td>2022-08-27</td>\n",
       "      <td>17:30</td>\n",
       "      <td>Premier League</td>\n",
       "      <td>Matchweek 4</td>\n",
       "      <td>Sat</td>\n",
       "      <td>Home</td>\n",
       "      <td>W</td>\n",
       "      <td>2</td>\n",
       "      <td>1</td>\n",
       "      <td>Fulham</td>\n",
       "      <td>...</td>\n",
       "      <td>15.5</td>\n",
       "      <td>1.0</td>\n",
       "      <td>0</td>\n",
       "      <td>0</td>\n",
       "      <td>2.6</td>\n",
       "      <td>2.6</td>\n",
       "      <td>0.12</td>\n",
       "      <td>-0.6</td>\n",
       "      <td>-0.6</td>\n",
       "      <td>Match Report</td>\n",
       "    </tr>\n",
       "    <tr>\n",
       "      <th>4</th>\n",
       "      <td>2022-08-31</td>\n",
       "      <td>19:30</td>\n",
       "      <td>Premier League</td>\n",
       "      <td>Matchweek 5</td>\n",
       "      <td>Wed</td>\n",
       "      <td>Home</td>\n",
       "      <td>W</td>\n",
       "      <td>2</td>\n",
       "      <td>1</td>\n",
       "      <td>Aston Villa</td>\n",
       "      <td>...</td>\n",
       "      <td>16.3</td>\n",
       "      <td>1.0</td>\n",
       "      <td>0</td>\n",
       "      <td>0</td>\n",
       "      <td>2.4</td>\n",
       "      <td>2.4</td>\n",
       "      <td>0.12</td>\n",
       "      <td>-0.4</td>\n",
       "      <td>-0.4</td>\n",
       "      <td>Match Report</td>\n",
       "    </tr>\n",
       "  </tbody>\n",
       "</table>\n",
       "<p>5 rows × 26 columns</p>\n",
       "</div>"
      ],
      "text/plain": [
       "  For Arsenal                                                              \\\n",
       "         Date   Time            Comp        Round  Day Venue Result GF GA   \n",
       "0  2022-08-05  20:00  Premier League  Matchweek 1  Fri  Away      W  2  0   \n",
       "1  2022-08-13  15:00  Premier League  Matchweek 2  Sat  Home      W  4  2   \n",
       "2  2022-08-20  17:30  Premier League  Matchweek 3  Sat  Away      W  3  0   \n",
       "3  2022-08-27  17:30  Premier League  Matchweek 4  Sat  Home      W  2  1   \n",
       "4  2022-08-31  19:30  Premier League  Matchweek 5  Wed  Home      W  2  1   \n",
       "\n",
       "                   ... Standard               Expected                    \\\n",
       "         Opponent  ...     Dist   FK PK PKatt       xG npxG npxG/Sh G-xG   \n",
       "0  Crystal Palace  ...     14.6  1.0  0     0      1.0  1.0    0.10  0.0   \n",
       "1  Leicester City  ...     13.0  0.0  0     0      2.7  2.7    0.16  1.3   \n",
       "2     Bournemouth  ...     14.8  0.0  0     0      1.3  1.3    0.10  1.7   \n",
       "3          Fulham  ...     15.5  1.0  0     0      2.6  2.6    0.12 -0.6   \n",
       "4     Aston Villa  ...     16.3  1.0  0     0      2.4  2.4    0.12 -0.4   \n",
       "\n",
       "          Unnamed: 25_level_0  \n",
       "  np:G-xG        Match Report  \n",
       "0     0.0        Match Report  \n",
       "1     1.3        Match Report  \n",
       "2     1.7        Match Report  \n",
       "3    -0.6        Match Report  \n",
       "4    -0.4        Match Report  \n",
       "\n",
       "[5 rows x 26 columns]"
      ]
     },
     "execution_count": 26,
     "metadata": {},
     "output_type": "execute_result"
    }
   ],
   "source": [
    "shooting.head()"
   ]
  },
  {
   "cell_type": "code",
   "execution_count": 27,
   "id": "10a400cd",
   "metadata": {},
   "outputs": [],
   "source": [
    "shooting.columns = shooting.columns.droplevel()"
   ]
  },
  {
   "cell_type": "code",
   "execution_count": 28,
   "id": "07821309",
   "metadata": {},
   "outputs": [
    {
     "data": {
      "text/plain": [
       "Index(['Date', 'Time', 'Comp', 'Round', 'Day', 'Venue', 'Result', 'GF', 'GA',\n",
       "       'Opponent', 'Gls', 'Sh', 'SoT', 'SoT%', 'G/Sh', 'G/SoT', 'Dist', 'FK',\n",
       "       'PK', 'PKatt', 'xG', 'npxG', 'npxG/Sh', 'G-xG', 'np:G-xG',\n",
       "       'Match Report'],\n",
       "      dtype='object')"
      ]
     },
     "execution_count": 28,
     "metadata": {},
     "output_type": "execute_result"
    }
   ],
   "source": [
    "shooting.columns"
   ]
  },
  {
   "cell_type": "markdown",
   "id": "37bec8d8",
   "metadata": {},
   "source": [
    "## Cleaning and merging scraped data with pandas"
   ]
  },
  {
   "cell_type": "code",
   "execution_count": 29,
   "id": "5290edda",
   "metadata": {},
   "outputs": [],
   "source": [
    "team_data = matches.merge(shooting[[\"Date\", \"Sh\", \"SoT\", \"Dist\", \"FK\", \"PK\", \"PKatt\"]], on = \"Date\")"
   ]
  },
  {
   "cell_type": "code",
   "execution_count": 30,
   "id": "efb86e01",
   "metadata": {},
   "outputs": [
    {
     "data": {
      "text/plain": [
       "(27, 25)"
      ]
     },
     "execution_count": 30,
     "metadata": {},
     "output_type": "execute_result"
    }
   ],
   "source": [
    "team_data.shape"
   ]
  },
  {
   "cell_type": "code",
   "execution_count": 31,
   "id": "a12ccf5a",
   "metadata": {},
   "outputs": [
    {
     "data": {
      "text/plain": [
       "(28, 26)"
      ]
     },
     "execution_count": 31,
     "metadata": {},
     "output_type": "execute_result"
    }
   ],
   "source": [
    "shooting.shape"
   ]
  },
  {
   "cell_type": "code",
   "execution_count": 32,
   "id": "d26684be",
   "metadata": {},
   "outputs": [
    {
     "data": {
      "text/plain": [
       "(47, 19)"
      ]
     },
     "execution_count": 32,
     "metadata": {},
     "output_type": "execute_result"
    }
   ],
   "source": [
    "matches.shape"
   ]
  },
  {
   "cell_type": "markdown",
   "id": "476dd929",
   "metadata": {},
   "source": [
    "## Scraping data for multiple season and teams with forloops"
   ]
  },
  {
   "cell_type": "code",
   "execution_count": 33,
   "id": "68f99c1c",
   "metadata": {},
   "outputs": [],
   "source": [
    "years = list(range(2022, 2019, -1))\n",
    "all_matches = []"
   ]
  },
  {
   "cell_type": "code",
   "execution_count": 34,
   "id": "8c9fc153",
   "metadata": {},
   "outputs": [],
   "source": [
    "standings_url = \"https://fbref.com/en/comps/9/Premier-League-Stats\"\n"
   ]
  },
  {
   "cell_type": "code",
   "execution_count": 35,
   "id": "dd1806fc",
   "metadata": {},
   "outputs": [
    {
     "name": "stdout",
     "output_type": "stream",
     "text": [
      "https://fbref.com/en/squads/18bb7c10/Arsenal-Stats\n",
      "https://fbref.com/en/squads/b8fd03ef/Manchester-City-Stats\n",
      "https://fbref.com/en/squads/b2b47a98/Newcastle-United-Stats\n",
      "https://fbref.com/en/squads/19538871/Manchester-United-Stats\n",
      "https://fbref.com/en/squads/361ca564/Tottenham-Hotspur-Stats\n",
      "https://fbref.com/en/squads/d07537b9/Brighton-and-Hove-Albion-Stats\n",
      "https://fbref.com/en/squads/fd962109/Fulham-Stats\n",
      "https://fbref.com/en/squads/cd051869/Brentford-Stats\n",
      "https://fbref.com/en/squads/822bd0ba/Liverpool-Stats\n",
      "https://fbref.com/en/squads/cff3d9bb/Chelsea-Stats\n",
      "https://fbref.com/en/squads/8602292d/Aston-Villa-Stats\n",
      "https://fbref.com/en/squads/47c64c55/Crystal-Palace-Stats\n",
      "https://fbref.com/en/squads/e4a775cb/Nottingham-Forest-Stats\n",
      "https://fbref.com/en/squads/a2d435b3/Leicester-City-Stats\n",
      "https://fbref.com/en/squads/5bfb9659/Leeds-United-Stats\n",
      "https://fbref.com/en/squads/7c21e445/West-Ham-United-Stats\n",
      "https://fbref.com/en/squads/8cec06e1/Wolverhampton-Wanderers-Stats\n",
      "https://fbref.com/en/squads/4ba7cbea/Bournemouth-Stats\n",
      "https://fbref.com/en/squads/d3fd31cc/Everton-Stats\n",
      "https://fbref.com/en/squads/33c895d4/Southampton-Stats\n",
      "https://fbref.com/en/squads/b8fd03ef/2021-2022/Manchester-City-Stats\n",
      "https://fbref.com/en/squads/822bd0ba/2021-2022/Liverpool-Stats\n",
      "https://fbref.com/en/squads/cff3d9bb/2021-2022/Chelsea-Stats\n",
      "https://fbref.com/en/squads/361ca564/2021-2022/Tottenham-Hotspur-Stats\n",
      "https://fbref.com/en/squads/18bb7c10/2021-2022/Arsenal-Stats\n",
      "https://fbref.com/en/squads/19538871/2021-2022/Manchester-United-Stats\n",
      "https://fbref.com/en/squads/7c21e445/2021-2022/West-Ham-United-Stats\n",
      "https://fbref.com/en/squads/a2d435b3/2021-2022/Leicester-City-Stats\n",
      "https://fbref.com/en/squads/d07537b9/2021-2022/Brighton-and-Hove-Albion-Stats\n",
      "https://fbref.com/en/squads/8cec06e1/2021-2022/Wolverhampton-Wanderers-Stats\n",
      "https://fbref.com/en/squads/b2b47a98/2021-2022/Newcastle-United-Stats\n",
      "https://fbref.com/en/squads/47c64c55/2021-2022/Crystal-Palace-Stats\n",
      "https://fbref.com/en/squads/cd051869/2021-2022/Brentford-Stats\n",
      "https://fbref.com/en/squads/8602292d/2021-2022/Aston-Villa-Stats\n",
      "https://fbref.com/en/squads/33c895d4/2021-2022/Southampton-Stats\n",
      "https://fbref.com/en/squads/d3fd31cc/2021-2022/Everton-Stats\n",
      "https://fbref.com/en/squads/5bfb9659/2021-2022/Leeds-United-Stats\n",
      "https://fbref.com/en/squads/943e8050/2021-2022/Burnley-Stats\n",
      "https://fbref.com/en/squads/2abfe087/2021-2022/Watford-Stats\n",
      "https://fbref.com/en/squads/1c781004/2021-2022/Norwich-City-Stats\n",
      "https://fbref.com/en/squads/b8fd03ef/2020-2021/Manchester-City-Stats\n",
      "https://fbref.com/en/squads/19538871/2020-2021/Manchester-United-Stats\n",
      "https://fbref.com/en/squads/822bd0ba/2020-2021/Liverpool-Stats\n",
      "https://fbref.com/en/squads/cff3d9bb/2020-2021/Chelsea-Stats\n",
      "https://fbref.com/en/squads/a2d435b3/2020-2021/Leicester-City-Stats\n",
      "https://fbref.com/en/squads/7c21e445/2020-2021/West-Ham-United-Stats\n",
      "https://fbref.com/en/squads/361ca564/2020-2021/Tottenham-Hotspur-Stats\n",
      "https://fbref.com/en/squads/18bb7c10/2020-2021/Arsenal-Stats\n",
      "https://fbref.com/en/squads/5bfb9659/2020-2021/Leeds-United-Stats\n",
      "https://fbref.com/en/squads/d3fd31cc/2020-2021/Everton-Stats\n",
      "https://fbref.com/en/squads/8602292d/2020-2021/Aston-Villa-Stats\n",
      "https://fbref.com/en/squads/b2b47a98/2020-2021/Newcastle-United-Stats\n",
      "https://fbref.com/en/squads/8cec06e1/2020-2021/Wolverhampton-Wanderers-Stats\n",
      "https://fbref.com/en/squads/47c64c55/2020-2021/Crystal-Palace-Stats\n",
      "https://fbref.com/en/squads/33c895d4/2020-2021/Southampton-Stats\n",
      "https://fbref.com/en/squads/d07537b9/2020-2021/Brighton-and-Hove-Albion-Stats\n",
      "https://fbref.com/en/squads/943e8050/2020-2021/Burnley-Stats\n",
      "https://fbref.com/en/squads/fd962109/2020-2021/Fulham-Stats\n",
      "https://fbref.com/en/squads/60c6b05f/2020-2021/West-Bromwich-Albion-Stats\n",
      "https://fbref.com/en/squads/1df6b87e/2020-2021/Sheffield-United-Stats\n"
     ]
    }
   ],
   "source": [
    "import time\n",
    "for year in years:\n",
    "    data = requests.get(standings_url)\n",
    "    soup = BeautifulSoup(data.text)\n",
    "    if len(soup.select('table.stats_table')) == 0:\n",
    "        continue\n",
    "    standings_table = soup.select('table.stats_table')[0]\n",
    "\n",
    "    links = [l.get(\"href\") for l in standings_table.find_all('a')]\n",
    "    links = [l for l in links if '/squads/' in l]\n",
    "    team_urls = [f\"https://fbref.com{l}\" for l in links]\n",
    "    \n",
    "    previous_season = soup.select(\"a.prev\")[0].get(\"href\")\n",
    "    standings_url = f\"https://fbref.com{previous_season}\"\n",
    "    \n",
    "    for team_url in team_urls:\n",
    "        team_name = team_url.split(\"/\")[-1].replace(\"-Stats\", \"\").replace(\"-\", \" \")\n",
    "        print(team_url)\n",
    "        \n",
    "        data = requests.get(team_url)\n",
    "        try :\n",
    "            matches = pd.read_html(data.text, match=\"Scores & Fixtures\")[0]\n",
    "        except ValueError:\n",
    "            print(data.text)\n",
    "            continue\n",
    "        soup = BeautifulSoup(data.text)\n",
    "        links = [l.get(\"href\") for l in soup.find_all('a')]\n",
    "        links = [l for l in links if l and 'all_comps/shooting/' in l]\n",
    "        \n",
    "        data = requests.get(f\"https://fbref.com{links[0]}\")\n",
    "        try:\n",
    "            shooting = pd.read_html(data.text, match=\"Shooting\")[0]\n",
    "        except ValueError:\n",
    "            print(links[0])\n",
    "            print(data.text)\n",
    "            continue\n",
    "            \n",
    "        shooting.columns = shooting.columns.droplevel()\n",
    "        try:\n",
    "            team_data = matches.merge(shooting[[\"Date\", \"Sh\", \"SoT\", \"Dist\", \"FK\", \"PK\", \"PKatt\"]], on=\"Date\")\n",
    "        except ValueError:\n",
    "            continue\n",
    "        team_data = team_data[team_data[\"Comp\"] == \"Premier League\"]\n",
    "        \n",
    "        team_data[\"Season\"] = year\n",
    "        team_data[\"Team\"] = team_name\n",
    "        all_matches.append(team_data)\n",
    "        time.sleep(1)"
   ]
  },
  {
   "cell_type": "code",
   "execution_count": 36,
   "id": "3cd747f2",
   "metadata": {},
   "outputs": [
    {
     "data": {
      "text/plain": [
       "60"
      ]
     },
     "execution_count": 36,
     "metadata": {},
     "output_type": "execute_result"
    }
   ],
   "source": [
    "len(all_matches)"
   ]
  },
  {
   "cell_type": "code",
   "execution_count": 37,
   "id": "0d01b42b",
   "metadata": {},
   "outputs": [],
   "source": [
    "match_df = pd.concat(all_matches)"
   ]
  },
  {
   "cell_type": "code",
   "execution_count": 38,
   "id": "1b3b9d15",
   "metadata": {},
   "outputs": [],
   "source": [
    "match_df.columns = [c.lower() for c in match_df.columns]"
   ]
  },
  {
   "cell_type": "code",
   "execution_count": 42,
   "id": "2814f929",
   "metadata": {},
   "outputs": [
    {
     "data": {
      "text/html": [
       "<div>\n",
       "<style scoped>\n",
       "    .dataframe tbody tr th:only-of-type {\n",
       "        vertical-align: middle;\n",
       "    }\n",
       "\n",
       "    .dataframe tbody tr th {\n",
       "        vertical-align: top;\n",
       "    }\n",
       "\n",
       "    .dataframe thead th {\n",
       "        text-align: right;\n",
       "    }\n",
       "</style>\n",
       "<table border=\"1\" class=\"dataframe\">\n",
       "  <thead>\n",
       "    <tr style=\"text-align: right;\">\n",
       "      <th></th>\n",
       "      <th>date</th>\n",
       "      <th>time</th>\n",
       "      <th>comp</th>\n",
       "      <th>round</th>\n",
       "      <th>day</th>\n",
       "      <th>venue</th>\n",
       "      <th>result</th>\n",
       "      <th>gf</th>\n",
       "      <th>ga</th>\n",
       "      <th>opponent</th>\n",
       "      <th>...</th>\n",
       "      <th>match report</th>\n",
       "      <th>notes</th>\n",
       "      <th>sh</th>\n",
       "      <th>sot</th>\n",
       "      <th>dist</th>\n",
       "      <th>fk</th>\n",
       "      <th>pk</th>\n",
       "      <th>pkatt</th>\n",
       "      <th>season</th>\n",
       "      <th>team</th>\n",
       "    </tr>\n",
       "  </thead>\n",
       "  <tbody>\n",
       "    <tr>\n",
       "      <th>0</th>\n",
       "      <td>2022-08-05</td>\n",
       "      <td>20:00</td>\n",
       "      <td>Premier League</td>\n",
       "      <td>Matchweek 1</td>\n",
       "      <td>Fri</td>\n",
       "      <td>Away</td>\n",
       "      <td>W</td>\n",
       "      <td>2.0</td>\n",
       "      <td>0.0</td>\n",
       "      <td>Crystal Palace</td>\n",
       "      <td>...</td>\n",
       "      <td>Match Report</td>\n",
       "      <td>NaN</td>\n",
       "      <td>10.0</td>\n",
       "      <td>2.0</td>\n",
       "      <td>14.6</td>\n",
       "      <td>1.0</td>\n",
       "      <td>0.0</td>\n",
       "      <td>0.0</td>\n",
       "      <td>2022</td>\n",
       "      <td>Arsenal</td>\n",
       "    </tr>\n",
       "    <tr>\n",
       "      <th>1</th>\n",
       "      <td>2022-08-13</td>\n",
       "      <td>15:00</td>\n",
       "      <td>Premier League</td>\n",
       "      <td>Matchweek 2</td>\n",
       "      <td>Sat</td>\n",
       "      <td>Home</td>\n",
       "      <td>W</td>\n",
       "      <td>4.0</td>\n",
       "      <td>2.0</td>\n",
       "      <td>Leicester City</td>\n",
       "      <td>...</td>\n",
       "      <td>Match Report</td>\n",
       "      <td>NaN</td>\n",
       "      <td>19.0</td>\n",
       "      <td>7.0</td>\n",
       "      <td>13.0</td>\n",
       "      <td>0.0</td>\n",
       "      <td>0.0</td>\n",
       "      <td>0.0</td>\n",
       "      <td>2022</td>\n",
       "      <td>Arsenal</td>\n",
       "    </tr>\n",
       "    <tr>\n",
       "      <th>2</th>\n",
       "      <td>2022-08-20</td>\n",
       "      <td>17:30</td>\n",
       "      <td>Premier League</td>\n",
       "      <td>Matchweek 3</td>\n",
       "      <td>Sat</td>\n",
       "      <td>Away</td>\n",
       "      <td>W</td>\n",
       "      <td>3.0</td>\n",
       "      <td>0.0</td>\n",
       "      <td>Bournemouth</td>\n",
       "      <td>...</td>\n",
       "      <td>Match Report</td>\n",
       "      <td>NaN</td>\n",
       "      <td>14.0</td>\n",
       "      <td>6.0</td>\n",
       "      <td>14.8</td>\n",
       "      <td>0.0</td>\n",
       "      <td>0.0</td>\n",
       "      <td>0.0</td>\n",
       "      <td>2022</td>\n",
       "      <td>Arsenal</td>\n",
       "    </tr>\n",
       "    <tr>\n",
       "      <th>3</th>\n",
       "      <td>2022-08-27</td>\n",
       "      <td>17:30</td>\n",
       "      <td>Premier League</td>\n",
       "      <td>Matchweek 4</td>\n",
       "      <td>Sat</td>\n",
       "      <td>Home</td>\n",
       "      <td>W</td>\n",
       "      <td>2.0</td>\n",
       "      <td>1.0</td>\n",
       "      <td>Fulham</td>\n",
       "      <td>...</td>\n",
       "      <td>Match Report</td>\n",
       "      <td>NaN</td>\n",
       "      <td>22.0</td>\n",
       "      <td>8.0</td>\n",
       "      <td>15.5</td>\n",
       "      <td>1.0</td>\n",
       "      <td>0.0</td>\n",
       "      <td>0.0</td>\n",
       "      <td>2022</td>\n",
       "      <td>Arsenal</td>\n",
       "    </tr>\n",
       "    <tr>\n",
       "      <th>4</th>\n",
       "      <td>2022-08-31</td>\n",
       "      <td>19:30</td>\n",
       "      <td>Premier League</td>\n",
       "      <td>Matchweek 5</td>\n",
       "      <td>Wed</td>\n",
       "      <td>Home</td>\n",
       "      <td>W</td>\n",
       "      <td>2.0</td>\n",
       "      <td>1.0</td>\n",
       "      <td>Aston Villa</td>\n",
       "      <td>...</td>\n",
       "      <td>Match Report</td>\n",
       "      <td>NaN</td>\n",
       "      <td>22.0</td>\n",
       "      <td>8.0</td>\n",
       "      <td>16.3</td>\n",
       "      <td>1.0</td>\n",
       "      <td>0.0</td>\n",
       "      <td>0.0</td>\n",
       "      <td>2022</td>\n",
       "      <td>Arsenal</td>\n",
       "    </tr>\n",
       "    <tr>\n",
       "      <th>...</th>\n",
       "      <td>...</td>\n",
       "      <td>...</td>\n",
       "      <td>...</td>\n",
       "      <td>...</td>\n",
       "      <td>...</td>\n",
       "      <td>...</td>\n",
       "      <td>...</td>\n",
       "      <td>...</td>\n",
       "      <td>...</td>\n",
       "      <td>...</td>\n",
       "      <td>...</td>\n",
       "      <td>...</td>\n",
       "      <td>...</td>\n",
       "      <td>...</td>\n",
       "      <td>...</td>\n",
       "      <td>...</td>\n",
       "      <td>...</td>\n",
       "      <td>...</td>\n",
       "      <td>...</td>\n",
       "      <td>...</td>\n",
       "      <td>...</td>\n",
       "    </tr>\n",
       "    <tr>\n",
       "      <th>38</th>\n",
       "      <td>2021-05-02</td>\n",
       "      <td>19:15</td>\n",
       "      <td>Premier League</td>\n",
       "      <td>Matchweek 34</td>\n",
       "      <td>Sun</td>\n",
       "      <td>Away</td>\n",
       "      <td>L</td>\n",
       "      <td>0</td>\n",
       "      <td>4</td>\n",
       "      <td>Tottenham</td>\n",
       "      <td>...</td>\n",
       "      <td>Match Report</td>\n",
       "      <td>NaN</td>\n",
       "      <td>8.0</td>\n",
       "      <td>1.0</td>\n",
       "      <td>18.2</td>\n",
       "      <td>0.0</td>\n",
       "      <td>0.0</td>\n",
       "      <td>0.0</td>\n",
       "      <td>2020</td>\n",
       "      <td>Sheffield United</td>\n",
       "    </tr>\n",
       "    <tr>\n",
       "      <th>39</th>\n",
       "      <td>2021-05-08</td>\n",
       "      <td>15:00</td>\n",
       "      <td>Premier League</td>\n",
       "      <td>Matchweek 35</td>\n",
       "      <td>Sat</td>\n",
       "      <td>Home</td>\n",
       "      <td>L</td>\n",
       "      <td>0</td>\n",
       "      <td>2</td>\n",
       "      <td>Crystal Palace</td>\n",
       "      <td>...</td>\n",
       "      <td>Match Report</td>\n",
       "      <td>NaN</td>\n",
       "      <td>7.0</td>\n",
       "      <td>0.0</td>\n",
       "      <td>13.4</td>\n",
       "      <td>1.0</td>\n",
       "      <td>0.0</td>\n",
       "      <td>0.0</td>\n",
       "      <td>2020</td>\n",
       "      <td>Sheffield United</td>\n",
       "    </tr>\n",
       "    <tr>\n",
       "      <th>40</th>\n",
       "      <td>2021-05-16</td>\n",
       "      <td>19:00</td>\n",
       "      <td>Premier League</td>\n",
       "      <td>Matchweek 36</td>\n",
       "      <td>Sun</td>\n",
       "      <td>Away</td>\n",
       "      <td>W</td>\n",
       "      <td>1</td>\n",
       "      <td>0</td>\n",
       "      <td>Everton</td>\n",
       "      <td>...</td>\n",
       "      <td>Match Report</td>\n",
       "      <td>NaN</td>\n",
       "      <td>10.0</td>\n",
       "      <td>3.0</td>\n",
       "      <td>18.5</td>\n",
       "      <td>0.0</td>\n",
       "      <td>0.0</td>\n",
       "      <td>0.0</td>\n",
       "      <td>2020</td>\n",
       "      <td>Sheffield United</td>\n",
       "    </tr>\n",
       "    <tr>\n",
       "      <th>41</th>\n",
       "      <td>2021-05-19</td>\n",
       "      <td>18:00</td>\n",
       "      <td>Premier League</td>\n",
       "      <td>Matchweek 37</td>\n",
       "      <td>Wed</td>\n",
       "      <td>Away</td>\n",
       "      <td>L</td>\n",
       "      <td>0</td>\n",
       "      <td>1</td>\n",
       "      <td>Newcastle Utd</td>\n",
       "      <td>...</td>\n",
       "      <td>Match Report</td>\n",
       "      <td>NaN</td>\n",
       "      <td>11.0</td>\n",
       "      <td>1.0</td>\n",
       "      <td>18.3</td>\n",
       "      <td>1.0</td>\n",
       "      <td>0.0</td>\n",
       "      <td>0.0</td>\n",
       "      <td>2020</td>\n",
       "      <td>Sheffield United</td>\n",
       "    </tr>\n",
       "    <tr>\n",
       "      <th>42</th>\n",
       "      <td>2021-05-23</td>\n",
       "      <td>16:00</td>\n",
       "      <td>Premier League</td>\n",
       "      <td>Matchweek 38</td>\n",
       "      <td>Sun</td>\n",
       "      <td>Home</td>\n",
       "      <td>W</td>\n",
       "      <td>1</td>\n",
       "      <td>0</td>\n",
       "      <td>Burnley</td>\n",
       "      <td>...</td>\n",
       "      <td>Match Report</td>\n",
       "      <td>NaN</td>\n",
       "      <td>12.0</td>\n",
       "      <td>3.0</td>\n",
       "      <td>17.4</td>\n",
       "      <td>0.0</td>\n",
       "      <td>0.0</td>\n",
       "      <td>0.0</td>\n",
       "      <td>2020</td>\n",
       "      <td>Sheffield United</td>\n",
       "    </tr>\n",
       "  </tbody>\n",
       "</table>\n",
       "<p>1918 rows × 27 columns</p>\n",
       "</div>"
      ],
      "text/plain": [
       "          date   time            comp         round  day venue result   gf  \\\n",
       "0   2022-08-05  20:00  Premier League   Matchweek 1  Fri  Away      W  2.0   \n",
       "1   2022-08-13  15:00  Premier League   Matchweek 2  Sat  Home      W  4.0   \n",
       "2   2022-08-20  17:30  Premier League   Matchweek 3  Sat  Away      W  3.0   \n",
       "3   2022-08-27  17:30  Premier League   Matchweek 4  Sat  Home      W  2.0   \n",
       "4   2022-08-31  19:30  Premier League   Matchweek 5  Wed  Home      W  2.0   \n",
       "..         ...    ...             ...           ...  ...   ...    ...  ...   \n",
       "38  2021-05-02  19:15  Premier League  Matchweek 34  Sun  Away      L    0   \n",
       "39  2021-05-08  15:00  Premier League  Matchweek 35  Sat  Home      L    0   \n",
       "40  2021-05-16  19:00  Premier League  Matchweek 36  Sun  Away      W    1   \n",
       "41  2021-05-19  18:00  Premier League  Matchweek 37  Wed  Away      L    0   \n",
       "42  2021-05-23  16:00  Premier League  Matchweek 38  Sun  Home      W    1   \n",
       "\n",
       "     ga        opponent  ...  match report  notes    sh  sot  dist   fk   pk  \\\n",
       "0   0.0  Crystal Palace  ...  Match Report    NaN  10.0  2.0  14.6  1.0  0.0   \n",
       "1   2.0  Leicester City  ...  Match Report    NaN  19.0  7.0  13.0  0.0  0.0   \n",
       "2   0.0     Bournemouth  ...  Match Report    NaN  14.0  6.0  14.8  0.0  0.0   \n",
       "3   1.0          Fulham  ...  Match Report    NaN  22.0  8.0  15.5  1.0  0.0   \n",
       "4   1.0     Aston Villa  ...  Match Report    NaN  22.0  8.0  16.3  1.0  0.0   \n",
       "..  ...             ...  ...           ...    ...   ...  ...   ...  ...  ...   \n",
       "38    4       Tottenham  ...  Match Report    NaN   8.0  1.0  18.2  0.0  0.0   \n",
       "39    2  Crystal Palace  ...  Match Report    NaN   7.0  0.0  13.4  1.0  0.0   \n",
       "40    0         Everton  ...  Match Report    NaN  10.0  3.0  18.5  0.0  0.0   \n",
       "41    1   Newcastle Utd  ...  Match Report    NaN  11.0  1.0  18.3  1.0  0.0   \n",
       "42    0         Burnley  ...  Match Report    NaN  12.0  3.0  17.4  0.0  0.0   \n",
       "\n",
       "   pkatt season              team  \n",
       "0    0.0   2022           Arsenal  \n",
       "1    0.0   2022           Arsenal  \n",
       "2    0.0   2022           Arsenal  \n",
       "3    0.0   2022           Arsenal  \n",
       "4    0.0   2022           Arsenal  \n",
       "..   ...    ...               ...  \n",
       "38   0.0   2020  Sheffield United  \n",
       "39   0.0   2020  Sheffield United  \n",
       "40   0.0   2020  Sheffield United  \n",
       "41   0.0   2020  Sheffield United  \n",
       "42   0.0   2020  Sheffield United  \n",
       "\n",
       "[1918 rows x 27 columns]"
      ]
     },
     "execution_count": 42,
     "metadata": {},
     "output_type": "execute_result"
    }
   ],
   "source": [
    "match_df"
   ]
  },
  {
   "cell_type": "code",
   "execution_count": 40,
   "id": "9bcb7273",
   "metadata": {},
   "outputs": [],
   "source": [
    "match_df.to_csv(\"match_premier_league.csv\")"
   ]
  },
  {
   "cell_type": "code",
   "execution_count": null,
   "id": "861867ba",
   "metadata": {},
   "outputs": [],
   "source": []
  },
  {
   "cell_type": "code",
   "execution_count": null,
   "id": "5a1f974d",
   "metadata": {},
   "outputs": [],
   "source": []
  },
  {
   "cell_type": "code",
   "execution_count": null,
   "id": "5e9e94c6",
   "metadata": {},
   "outputs": [],
   "source": []
  }
 ],
 "metadata": {
  "hide_input": false,
  "interpreter": {
   "hash": "c7a54c27525f12f8185aeafabf530cb3f43b91cca1c57f749faf5a82d7bc3c15"
  },
  "kernelspec": {
   "display_name": "Python 3 (ipykernel)",
   "language": "python",
   "name": "python3"
  },
  "language_info": {
   "codemirror_mode": {
    "name": "ipython",
    "version": 3
   },
   "file_extension": ".py",
   "mimetype": "text/x-python",
   "name": "python",
   "nbconvert_exporter": "python",
   "pygments_lexer": "ipython3",
   "version": "3.10.6"
  },
  "varInspector": {
   "cols": {
    "lenName": 16,
    "lenType": 16,
    "lenVar": 40
   },
   "kernels_config": {
    "python": {
     "delete_cmd_postfix": "",
     "delete_cmd_prefix": "del ",
     "library": "var_list.py",
     "varRefreshCmd": "print(var_dic_list())"
    },
    "r": {
     "delete_cmd_postfix": ") ",
     "delete_cmd_prefix": "rm(",
     "library": "var_list.r",
     "varRefreshCmd": "cat(var_dic_list()) "
    }
   },
   "types_to_exclude": [
    "module",
    "function",
    "builtin_function_or_method",
    "instance",
    "_Feature"
   ],
   "window_display": false
  }
 },
 "nbformat": 4,
 "nbformat_minor": 5
}
