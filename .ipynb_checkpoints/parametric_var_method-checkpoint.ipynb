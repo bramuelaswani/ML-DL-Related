{
 "cells": [
  {
   "cell_type": "code",
   "execution_count": 1,
   "id": "5f5daed0",
   "metadata": {},
   "outputs": [],
   "source": [
    "import pandas as pd\n",
    "import numpy as np\n",
    "import datetime as dt\n",
    "from pandas_datareader import data as pdr\n",
    "from scipy.stats import norm, t\n",
    "import matplotlib.pyplot as plt"
   ]
  },
  {
   "cell_type": "markdown",
   "id": "d90c98bf",
   "metadata": {},
   "source": [
    "# Import data\n",
    "\n",
    "### Getting the stock data from yahoo and compute some parameters"
   ]
  },
  {
   "cell_type": "code",
   "execution_count": 2,
   "id": "2983c22d",
   "metadata": {},
   "outputs": [],
   "source": [
    "def getData(stocks, start, end):\n",
    "    stockData = pdr.get_data_yahoo(stocks, start=start, end=end)\n",
    "    stockData = stockData['Close']\n",
    "    returns = stockData.pct_change()\n",
    "    meanReturns = returns.mean()\n",
    "    covMatrix = returns.cov()\n",
    "    return returns, meanReturns, covMatrix"
   ]
  },
  {
   "cell_type": "markdown",
   "id": "531732df",
   "metadata": {},
   "source": [
    "# Portfolio Performance\n",
    "#### We compute here the Expected Portfolio Return and the standard deviation of the portfolio"
   ]
  },
  {
   "cell_type": "code",
   "execution_count": 3,
   "id": "6a456d17",
   "metadata": {},
   "outputs": [],
   "source": [
    "def portfolioPerformance(weights, meanReturns, covMatrix, Time):\n",
    "    returns = np.sum(meanReturns*weights)*Time\n",
    "    std = np.sqrt( np.dot(weights.T, np.dot(covMatrix, weights)) ) * np.sqrt(Time)\n",
    "    return returns, std"
   ]
  },
  {
   "cell_type": "markdown",
   "id": "a898a676",
   "metadata": {},
   "source": [
    "### Compute returns data"
   ]
  },
  {
   "cell_type": "code",
   "execution_count": 5,
   "id": "41b8c809",
   "metadata": {},
   "outputs": [
    {
     "ename": "TypeError",
     "evalue": "string indices must be integers",
     "output_type": "error",
     "traceback": [
      "\u001b[1;31m---------------------------------------------------------------------------\u001b[0m",
      "\u001b[1;31mTypeError\u001b[0m                                 Traceback (most recent call last)",
      "Input \u001b[1;32mIn [5]\u001b[0m, in \u001b[0;36m<cell line: 5>\u001b[1;34m()\u001b[0m\n\u001b[0;32m      3\u001b[0m endDate \u001b[38;5;241m=\u001b[39m dt\u001b[38;5;241m.\u001b[39mdatetime\u001b[38;5;241m.\u001b[39mnow()\n\u001b[0;32m      4\u001b[0m startDate \u001b[38;5;241m=\u001b[39m endDate \u001b[38;5;241m-\u001b[39m dt\u001b[38;5;241m.\u001b[39mtimedelta(days\u001b[38;5;241m=\u001b[39m\u001b[38;5;241m800\u001b[39m)\n\u001b[1;32m----> 5\u001b[0m returns, meanReturns, covMatrix \u001b[38;5;241m=\u001b[39m \u001b[43mgetData\u001b[49m\u001b[43m(\u001b[49m\u001b[43mstocks\u001b[49m\u001b[43m,\u001b[49m\u001b[43m \u001b[49m\u001b[43mstart\u001b[49m\u001b[38;5;241;43m=\u001b[39;49m\u001b[43mstartDate\u001b[49m\u001b[43m,\u001b[49m\u001b[43m \u001b[49m\u001b[43mend\u001b[49m\u001b[38;5;241;43m=\u001b[39;49m\u001b[43mendDate\u001b[49m\u001b[43m)\u001b[49m\n\u001b[0;32m      6\u001b[0m returns \u001b[38;5;241m=\u001b[39m returns\u001b[38;5;241m.\u001b[39mdropna()\n",
      "Input \u001b[1;32mIn [2]\u001b[0m, in \u001b[0;36mgetData\u001b[1;34m(stocks, start, end)\u001b[0m\n\u001b[0;32m      1\u001b[0m \u001b[38;5;28;01mdef\u001b[39;00m \u001b[38;5;21mgetData\u001b[39m(stocks, start, end):\n\u001b[1;32m----> 2\u001b[0m     stockData \u001b[38;5;241m=\u001b[39m \u001b[43mpdr\u001b[49m\u001b[38;5;241;43m.\u001b[39;49m\u001b[43mget_data_yahoo\u001b[49m\u001b[43m(\u001b[49m\u001b[43mstocks\u001b[49m\u001b[43m,\u001b[49m\u001b[43m \u001b[49m\u001b[43mstart\u001b[49m\u001b[38;5;241;43m=\u001b[39;49m\u001b[43mstart\u001b[49m\u001b[43m,\u001b[49m\u001b[43m \u001b[49m\u001b[43mend\u001b[49m\u001b[38;5;241;43m=\u001b[39;49m\u001b[43mend\u001b[49m\u001b[43m)\u001b[49m\n\u001b[0;32m      3\u001b[0m     stockData \u001b[38;5;241m=\u001b[39m stockData[\u001b[38;5;124m'\u001b[39m\u001b[38;5;124mClose\u001b[39m\u001b[38;5;124m'\u001b[39m]\n\u001b[0;32m      4\u001b[0m     returns \u001b[38;5;241m=\u001b[39m stockData\u001b[38;5;241m.\u001b[39mpct_change()\n",
      "File \u001b[1;32m~\\anaconda3\\envs\\base2\\lib\\site-packages\\pandas_datareader\\data.py:80\u001b[0m, in \u001b[0;36mget_data_yahoo\u001b[1;34m(*args, **kwargs)\u001b[0m\n\u001b[0;32m     79\u001b[0m \u001b[38;5;28;01mdef\u001b[39;00m \u001b[38;5;21mget_data_yahoo\u001b[39m(\u001b[38;5;241m*\u001b[39margs, \u001b[38;5;241m*\u001b[39m\u001b[38;5;241m*\u001b[39mkwargs):\n\u001b[1;32m---> 80\u001b[0m     \u001b[38;5;28;01mreturn\u001b[39;00m \u001b[43mYahooDailyReader\u001b[49m\u001b[43m(\u001b[49m\u001b[38;5;241;43m*\u001b[39;49m\u001b[43margs\u001b[49m\u001b[43m,\u001b[49m\u001b[43m \u001b[49m\u001b[38;5;241;43m*\u001b[39;49m\u001b[38;5;241;43m*\u001b[39;49m\u001b[43mkwargs\u001b[49m\u001b[43m)\u001b[49m\u001b[38;5;241;43m.\u001b[39;49m\u001b[43mread\u001b[49m\u001b[43m(\u001b[49m\u001b[43m)\u001b[49m\n",
      "File \u001b[1;32m~\\anaconda3\\envs\\base2\\lib\\site-packages\\pandas_datareader\\base.py:258\u001b[0m, in \u001b[0;36m_DailyBaseReader.read\u001b[1;34m(self)\u001b[0m\n\u001b[0;32m    256\u001b[0m     df \u001b[38;5;241m=\u001b[39m \u001b[38;5;28mself\u001b[39m\u001b[38;5;241m.\u001b[39m_dl_mult_symbols(\u001b[38;5;28mself\u001b[39m\u001b[38;5;241m.\u001b[39msymbols\u001b[38;5;241m.\u001b[39mindex)\n\u001b[0;32m    257\u001b[0m \u001b[38;5;28;01melse\u001b[39;00m:\n\u001b[1;32m--> 258\u001b[0m     df \u001b[38;5;241m=\u001b[39m \u001b[38;5;28;43mself\u001b[39;49m\u001b[38;5;241;43m.\u001b[39;49m\u001b[43m_dl_mult_symbols\u001b[49m\u001b[43m(\u001b[49m\u001b[38;5;28;43mself\u001b[39;49m\u001b[38;5;241;43m.\u001b[39;49m\u001b[43msymbols\u001b[49m\u001b[43m)\u001b[49m\n\u001b[0;32m    259\u001b[0m \u001b[38;5;28;01mreturn\u001b[39;00m df\n",
      "File \u001b[1;32m~\\anaconda3\\envs\\base2\\lib\\site-packages\\pandas_datareader\\base.py:268\u001b[0m, in \u001b[0;36m_DailyBaseReader._dl_mult_symbols\u001b[1;34m(self, symbols)\u001b[0m\n\u001b[0;32m    266\u001b[0m \u001b[38;5;28;01mfor\u001b[39;00m sym \u001b[38;5;129;01min\u001b[39;00m sym_group:\n\u001b[0;32m    267\u001b[0m     \u001b[38;5;28;01mtry\u001b[39;00m:\n\u001b[1;32m--> 268\u001b[0m         stocks[sym] \u001b[38;5;241m=\u001b[39m \u001b[38;5;28;43mself\u001b[39;49m\u001b[38;5;241;43m.\u001b[39;49m\u001b[43m_read_one_data\u001b[49m\u001b[43m(\u001b[49m\u001b[38;5;28;43mself\u001b[39;49m\u001b[38;5;241;43m.\u001b[39;49m\u001b[43murl\u001b[49m\u001b[43m,\u001b[49m\u001b[43m \u001b[49m\u001b[38;5;28;43mself\u001b[39;49m\u001b[38;5;241;43m.\u001b[39;49m\u001b[43m_get_params\u001b[49m\u001b[43m(\u001b[49m\u001b[43msym\u001b[49m\u001b[43m)\u001b[49m\u001b[43m)\u001b[49m\n\u001b[0;32m    269\u001b[0m         passed\u001b[38;5;241m.\u001b[39mappend(sym)\n\u001b[0;32m    270\u001b[0m     \u001b[38;5;28;01mexcept\u001b[39;00m (\u001b[38;5;167;01mIOError\u001b[39;00m, \u001b[38;5;167;01mKeyError\u001b[39;00m):\n",
      "File \u001b[1;32m~\\anaconda3\\envs\\base2\\lib\\site-packages\\pandas_datareader\\yahoo\\daily.py:153\u001b[0m, in \u001b[0;36mYahooDailyReader._read_one_data\u001b[1;34m(self, url, params)\u001b[0m\n\u001b[0;32m    151\u001b[0m \u001b[38;5;28;01mtry\u001b[39;00m:\n\u001b[0;32m    152\u001b[0m     j \u001b[38;5;241m=\u001b[39m json\u001b[38;5;241m.\u001b[39mloads(re\u001b[38;5;241m.\u001b[39msearch(ptrn, resp\u001b[38;5;241m.\u001b[39mtext, re\u001b[38;5;241m.\u001b[39mDOTALL)\u001b[38;5;241m.\u001b[39mgroup(\u001b[38;5;241m1\u001b[39m))\n\u001b[1;32m--> 153\u001b[0m     data \u001b[38;5;241m=\u001b[39m \u001b[43mj\u001b[49m\u001b[43m[\u001b[49m\u001b[38;5;124;43m\"\u001b[39;49m\u001b[38;5;124;43mcontext\u001b[39;49m\u001b[38;5;124;43m\"\u001b[39;49m\u001b[43m]\u001b[49m\u001b[43m[\u001b[49m\u001b[38;5;124;43m\"\u001b[39;49m\u001b[38;5;124;43mdispatcher\u001b[39;49m\u001b[38;5;124;43m\"\u001b[39;49m\u001b[43m]\u001b[49m\u001b[43m[\u001b[49m\u001b[38;5;124;43m\"\u001b[39;49m\u001b[38;5;124;43mstores\u001b[39;49m\u001b[38;5;124;43m\"\u001b[39;49m\u001b[43m]\u001b[49m\u001b[43m[\u001b[49m\u001b[38;5;124;43m\"\u001b[39;49m\u001b[38;5;124;43mHistoricalPriceStore\u001b[39;49m\u001b[38;5;124;43m\"\u001b[39;49m\u001b[43m]\u001b[49m\n\u001b[0;32m    154\u001b[0m \u001b[38;5;28;01mexcept\u001b[39;00m \u001b[38;5;167;01mKeyError\u001b[39;00m:\n\u001b[0;32m    155\u001b[0m     msg \u001b[38;5;241m=\u001b[39m \u001b[38;5;124m\"\u001b[39m\u001b[38;5;124mNo data fetched for symbol \u001b[39m\u001b[38;5;132;01m{}\u001b[39;00m\u001b[38;5;124m using \u001b[39m\u001b[38;5;132;01m{}\u001b[39;00m\u001b[38;5;124m\"\u001b[39m\n",
      "\u001b[1;31mTypeError\u001b[0m: string indices must be integers"
     ]
    }
   ],
   "source": [
    "stockList = ['CBA', 'BHP', 'TLS', 'NAB', 'WBC', 'STO']\n",
    "stocks = [stock+'.AX' for stock in stockList]\n",
    "endDate = dt.datetime.now()\n",
    "startDate = endDate - dt.timedelta(days=800)\n",
    "returns, meanReturns, covMatrix = getData(stocks, start=startDate, end=endDate)\n",
    "returns = returns.dropna()"
   ]
  },
  {
   "cell_type": "code",
   "execution_count": null,
   "id": "226c6a29",
   "metadata": {},
   "outputs": [],
   "source": [
    "returns"
   ]
  },
  {
   "cell_type": "code",
   "execution_count": null,
   "id": "de3cca9d",
   "metadata": {},
   "outputs": [],
   "source": [
    "returns['STO.AX'].hist()"
   ]
  },
  {
   "cell_type": "markdown",
   "id": "5e0cbb80",
   "metadata": {},
   "source": [
    "### Compute random weight for each asset that will helps us compute the portfolio"
   ]
  },
  {
   "cell_type": "code",
   "execution_count": null,
   "id": "3e31303f",
   "metadata": {},
   "outputs": [],
   "source": [
    "weights = np.random.random(len(returns.columns))\n",
    "weights /= np.sum(weights)\n",
    "returns['portfolio'] = returns.dot(weights)"
   ]
  },
  {
   "cell_type": "code",
   "execution_count": null,
   "id": "6ec09a0e",
   "metadata": {},
   "outputs": [],
   "source": [
    "returns"
   ]
  },
  {
   "cell_type": "code",
   "execution_count": null,
   "id": "d465dd47",
   "metadata": {},
   "outputs": [],
   "source": [
    "returns['portfolio'].hist()"
   ]
  },
  {
   "cell_type": "markdown",
   "id": "aab43a2e",
   "metadata": {},
   "source": [
    "### Compute historical_Var on one asset or for the entire portfolio"
   ]
  },
  {
   "cell_type": "code",
   "execution_count": null,
   "id": "a37ed033",
   "metadata": {},
   "outputs": [],
   "source": [
    "def VaR(returns, alpha=5):\n",
    "    \"\"\"\n",
    "    Read in a pandas dataframe of returns / a pandas series of returns\n",
    "    Output the percentile of the distribution at the given alpha confidence level\n",
    "    \"\"\"\n",
    "    if isinstance(returns, pd.Series):\n",
    "        return np.percentile(returns, alpha)\n",
    "    # A passed user-defined-function will be passed a Series for evaluation.\n",
    "    elif isinstance(returns, pd.DataFrame):\n",
    "        return returns.aggregate(VaR, alpha=alpha)\n",
    "    else:\n",
    "        raise TypeError(\"Expected returns to be dataframe or series\")"
   ]
  },
  {
   "cell_type": "code",
   "execution_count": null,
   "id": "664a9178",
   "metadata": {},
   "outputs": [],
   "source": [
    "VaR(returns, alpha=5)"
   ]
  },
  {
   "cell_type": "code",
   "execution_count": null,
   "id": "c98b97a6",
   "metadata": {},
   "outputs": [],
   "source": [
    "VaR(returns['portfolio'], alpha=5)"
   ]
  },
  {
   "cell_type": "markdown",
   "id": "c9752359",
   "metadata": {},
   "source": [
    "### Compute historical_CVar on one asset or for the entire portfolio"
   ]
  },
  {
   "cell_type": "code",
   "execution_count": null,
   "id": "8eb9e51c",
   "metadata": {},
   "outputs": [],
   "source": [
    "def CVaR(returns, alpha=5):\n",
    "    \"\"\"\n",
    "    Read in a pandas dataframe of returns / a pandas series of returns\n",
    "    Output the CVaR for dataframe / series\n",
    "    \"\"\"\n",
    "    if isinstance(returns, pd.Series):\n",
    "        belowVaR = returns <= VaR(returns, alpha=alpha)\n",
    "        return returns[belowVaR].mean()\n",
    "    # A passed user-defined-function will be passed a Series for evaluation.\n",
    "    elif isinstance(returns, pd.DataFrame):\n",
    "        return returns.aggregate(CVaR, alpha=alpha)\n",
    "    else:\n",
    "        raise TypeError(\"Expected returns to be dataframe or series\")"
   ]
  },
  {
   "cell_type": "code",
   "execution_count": null,
   "id": "723f6841",
   "metadata": {},
   "outputs": [],
   "source": [
    "CVaR(returns, alpha=5)"
   ]
  },
  {
   "cell_type": "markdown",
   "id": "00a1576d",
   "metadata": {},
   "source": [
    "### We Apply now our var and cvar models to an itinial investement = 10000\n",
    "#### What we want to know is given the level of risk alpha= 5 what is the worst case scenario and the expectation of loss in this worst case scenario"
   ]
  },
  {
   "cell_type": "code",
   "execution_count": null,
   "id": "ed5a5e20",
   "metadata": {},
   "outputs": [],
   "source": [
    "# 10 days\n",
    "Time = 10\n",
    "hVaR = -VaR(returns['portfolio'], alpha=5)*np.sqrt(Time)\n",
    "hCVaR = -CVaR(returns['portfolio'], alpha=5)*np.sqrt(Time)\n",
    "pRet, pStd = portfolioPerformance(weights, meanReturns, covMatrix, Time)\n",
    "InitialInvestment = 10000\n",
    "print('Expected Portfolio Return:      ', round(InitialInvestment*pRet,2))\n",
    "print('Value at Risk 95th CI    :      ', round(InitialInvestment*hVaR,2))\n",
    "print('Conditional VaR 95th CI  :      ', round(InitialInvestment*hCVaR,2))"
   ]
  },
  {
   "cell_type": "markdown",
   "id": "35c47cf4",
   "metadata": {},
   "source": [
    "#### Explanation: \n",
    "##### Over a 10 days time horizon, we expect to make 6.04 and at the 95% interval confidence we are happy to not lose anymore thant 249.04"
   ]
  },
  {
   "cell_type": "code",
   "execution_count": null,
   "id": "1218c316",
   "metadata": {},
   "outputs": [],
   "source": []
  },
  {
   "cell_type": "code",
   "execution_count": null,
   "id": "ecafb4c6",
   "metadata": {},
   "outputs": [],
   "source": [
    "\n",
    "def var_parametric(portofolioReturns, portfolioStd, distribution='normal', alpha=5, dof=6):\n",
    "    # because the distribution is symmetric\n",
    "    if distribution == 'normal':\n",
    "        VaR = norm.ppf(1-alpha/100)*portfolioStd - portofolioReturns\n",
    "    elif distribution == 't-distribution':\n",
    "        nu = dof\n",
    "        VaR = np.sqrt((nu-2)/nu) * t.ppf(1-alpha/100, nu) * portfolioStd - portofolioReturns\n",
    "    else:\n",
    "        raise TypeError(\"Expected distribution type 'normal'/'t-distribution'\")\n",
    "    return VaR"
   ]
  },
  {
   "cell_type": "code",
   "execution_count": null,
   "id": "8251b7af",
   "metadata": {},
   "outputs": [],
   "source": [
    "def cvar_parametric(portofolioReturns, portfolioStd, distribution='normal', alpha=5, dof=6):\n",
    "    if distribution == 'normal':\n",
    "        CVaR = (alpha/100)**-1 * norm.pdf(norm.ppf(alpha/100))*portfolioStd - portofolioReturns\n",
    "    elif distribution == 't-distribution':\n",
    "        nu = dof\n",
    "        xanu = t.ppf(alpha/100, nu)\n",
    "        CVaR = -1/(alpha/100) * (1-nu)**(-1) * (nu-2+xanu**2) * t.pdf(xanu, nu) * portfolioStd - portofolioReturns\n",
    "    else:\n",
    "        raise TypeError(\"Expected distribution type 'normal'/'t-distribution'\")\n",
    "    return CVaR"
   ]
  },
  {
   "cell_type": "code",
   "execution_count": null,
   "id": "b3e8ec6c",
   "metadata": {},
   "outputs": [],
   "source": [
    "normVaR = var_parametric(pRet, pStd)\n",
    "normCVaR = cvar_parametric(pRet, pStd)\n",
    "tVaR = var_parametric(pRet, pStd, distribution='t-distribution')\n",
    "tCVaR = cvar_parametric(pRet, pStd, distribution='t-distribution')"
   ]
  },
  {
   "cell_type": "code",
   "execution_count": null,
   "id": "fd297957",
   "metadata": {},
   "outputs": [],
   "source": [
    "print(\"Normal VaR 95th CI       :      \", round(InitialInvestment*normVaR,2))\n",
    "print(\"Normal CVaR 95th CI      :      \", round(InitialInvestment*normCVaR,2))\n",
    "print(\"t-dist VaR 95th CI       :      \", round(InitialInvestment*tVaR,2))\n",
    "print(\"t-dist CVaR 95th CI      :      \", round(InitialInvestment*tCVaR,2))"
   ]
  }
 ],
 "metadata": {
  "kernelspec": {
   "display_name": "Python 3 (ipykernel)",
   "language": "python",
   "name": "python3"
  },
  "language_info": {
   "codemirror_mode": {
    "name": "ipython",
    "version": 3
   },
   "file_extension": ".py",
   "mimetype": "text/x-python",
   "name": "python",
   "nbconvert_exporter": "python",
   "pygments_lexer": "ipython3",
   "version": "3.10.6"
  }
 },
 "nbformat": 4,
 "nbformat_minor": 5
}
