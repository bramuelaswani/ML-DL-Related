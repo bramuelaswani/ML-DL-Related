{
 "cells": [
  {
   "cell_type": "markdown",
   "metadata": {},
   "source": [
    "# About Dataset\n",
    "\n",
    "## CONTEXT  \n",
    "The used and refurbished device market has grown considerably over the past decade as it provide cost-effective alternatives to both consumers and businesses that are looking to save money when purchasing one. Maximizing the longevity of devices through second-hand trade also reduces their environmental impact and helps in recycling and reducing waste. Here is a sample dataset of normalized used and new pricing data of refurbished / used devices.\n",
    "\n",
    "## OBJECTIVE  \n",
    "The objective is to do Exploratory Data Analytics and apply Linear Regression to create a model which can help in pricing of such devices.  \n",
    "\n",
    "## Variables  \n",
    "__device_brand__: Name of manufacturing brand  \n",
    "__os__: OS on which the device runs  \n",
    "__screen_size__: Size of the screen in cm  \n",
    "__4g__: Whether 4G is available or not  \n",
    "__5g__: Whether 5G is available or not  \n",
    "__front_camera_mp__: Resolution of the rear camera in megapixels  \n",
    "__back_camera_mp__: Resolution of the front camera in megapixels  \n",
    "__internal_memory__: Amount of internal memory (ROM) in GB  \n",
    "__ram__: Amount of RAM in GB  \n",
    "__battery__: Energy capacity of the device battery in mAh  \n",
    "__weight__: Weight of the device in grams  \n",
    "__release_year__: Year when the device model was released  \n",
    "__days_used__: Number of days the used/refurbished device has been used  \n",
    "__normalized_new_price__: Normalized price of a new device of the same model  \n",
    "__normalized_used_price (TARGET)__: Normalized price of the used/refurbished device  "
   ]
  },
  {
   "cell_type": "markdown",
   "metadata": {},
   "source": [
    "# Importing Libraries"
   ]
  },
  {
   "cell_type": "code",
   "execution_count": null,
   "metadata": {},
   "outputs": [],
   "source": [
    "import pandas as pd\n",
    "import numpy as np\n",
    "import matplotlib.pyplot as plt\n",
    "%matplotlib inline\n",
    "import seaborn as sns\n",
    "import warnings\n",
    "warnings.filterwarnings('ignore')\n",
    "from scipy.stats import norm, boxcox\n",
    "from scipy import stats\n",
    "from collections import Counter\n",
    "from sklearn.model_selection import train_test_split, cross_val_score, GridSearchCV\n",
    "from sklearn.linear_model import LinearRegression, Lasso, Ridge\n",
    "from sklearn.tree import DecisionTreeRegressor\n",
    "from sklearn.neighbors import KNeighborsRegressor\n",
    "from sklearn.ensemble import RandomForestRegressor\n",
    "from sklearn.svm import SVR\n",
    "from sklearn.preprocessing import StandardScaler\n",
    "from sklearn.metrics import r2_score, mean_absolute_error, mean_squared_error\n",
    "import statsmodels.api as sm\n",
    "import pickle as pk"
   ]
  },
  {
   "cell_type": "markdown",
   "metadata": {},
   "source": [
    "# Getting data"
   ]
  },
  {
   "cell_type": "code",
   "execution_count": null,
   "metadata": {},
   "outputs": [],
   "source": [
    "data = pd.read_csv('used_device_data.csv')"
   ]
  },
  {
   "cell_type": "markdown",
   "metadata": {},
   "source": [
    "# Initial Review"
   ]
  },
  {
   "cell_type": "code",
   "execution_count": null,
   "metadata": {},
   "outputs": [],
   "source": [
    "data.head()"
   ]
  },
  {
   "cell_type": "code",
   "execution_count": null,
   "metadata": {},
   "outputs": [],
   "source": [
    "data.info()"
   ]
  },
  {
   "cell_type": "code",
   "execution_count": null,
   "metadata": {},
   "outputs": [],
   "source": [
    "data.describe()"
   ]
  },
  {
   "cell_type": "markdown",
   "metadata": {},
   "source": [
    "# Checking Missing Values"
   ]
  },
  {
   "cell_type": "code",
   "execution_count": null,
   "metadata": {
    "scrolled": true
   },
   "outputs": [],
   "source": [
    "data.isnull().sum()"
   ]
  },
  {
   "cell_type": "code",
   "execution_count": null,
   "metadata": {},
   "outputs": [],
   "source": [
    "sns.heatmap(data.isnull(),yticklabels=False,cbar=False,cmap='viridis')"
   ]
  },
  {
   "cell_type": "markdown",
   "metadata": {},
   "source": [
    "## Missing Values found!"
   ]
  },
  {
   "cell_type": "code",
   "execution_count": null,
   "metadata": {},
   "outputs": [],
   "source": [
    "data = data.dropna()"
   ]
  },
  {
   "cell_type": "markdown",
   "metadata": {},
   "source": [
    "## Missing values dropped!"
   ]
  },
  {
   "cell_type": "code",
   "execution_count": null,
   "metadata": {},
   "outputs": [],
   "source": [
    "sns.heatmap(data.isnull(),yticklabels=False,cbar=False,cmap='viridis')"
   ]
  },
  {
   "cell_type": "markdown",
   "metadata": {},
   "source": [
    "# Checking duplicate values"
   ]
  },
  {
   "cell_type": "code",
   "execution_count": null,
   "metadata": {},
   "outputs": [],
   "source": [
    "data.duplicated().sum()"
   ]
  },
  {
   "cell_type": "markdown",
   "metadata": {},
   "source": [
    "## No duplicate values found!"
   ]
  },
  {
   "cell_type": "markdown",
   "metadata": {},
   "source": [
    "## Mapping categorical features(4G,5G)"
   ]
  },
  {
   "cell_type": "code",
   "execution_count": null,
   "metadata": {},
   "outputs": [],
   "source": [
    "dict_G = {'yes':1,'no':0}"
   ]
  },
  {
   "cell_type": "code",
   "execution_count": null,
   "metadata": {},
   "outputs": [],
   "source": [
    "data['4g'] = data['4g'].map(dict_G)"
   ]
  },
  {
   "cell_type": "code",
   "execution_count": null,
   "metadata": {},
   "outputs": [],
   "source": [
    "data['5g'] = data['5g'].map(dict_G)"
   ]
  },
  {
   "cell_type": "code",
   "execution_count": null,
   "metadata": {},
   "outputs": [],
   "source": [
    "brand_dict = data.groupby(['device_brand'])['normalized_used_price'].median().to_dict()\n",
    "data['Device_Brand'] = data['device_brand'].map(brand_dict)"
   ]
  },
  {
   "cell_type": "code",
   "execution_count": null,
   "metadata": {},
   "outputs": [],
   "source": [
    "data.head()"
   ]
  },
  {
   "cell_type": "markdown",
   "metadata": {},
   "source": [
    "# Exploring Categorical features"
   ]
  },
  {
   "cell_type": "code",
   "execution_count": null,
   "metadata": {},
   "outputs": [],
   "source": [
    "len(data.device_brand.value_counts())"
   ]
  },
  {
   "cell_type": "code",
   "execution_count": null,
   "metadata": {},
   "outputs": [],
   "source": [
    "data.device_brand.unique()"
   ]
  },
  {
   "cell_type": "code",
   "execution_count": null,
   "metadata": {},
   "outputs": [],
   "source": [
    "Max_brand = data['device_brand'].value_counts().sort_values(ascending=False)[0:20]\n",
    "Max_brand.name = 'Count'\n",
    "Max_brand.index.name = 'Brands'"
   ]
  },
  {
   "cell_type": "code",
   "execution_count": null,
   "metadata": {},
   "outputs": [],
   "source": [
    "fig = plt.figure(figsize=(14,8))\n",
    "sns.barplot(x=Max_brand.index,y= Max_brand)\n",
    "plt.tight_layout()"
   ]
  },
  {
   "cell_type": "code",
   "execution_count": null,
   "metadata": {},
   "outputs": [],
   "source": [
    "fig = plt.figure(figsize=(15,8))\n",
    "sns.barplot(y=data['Device_Brand'],x=data['device_brand'])\n",
    "plt.xticks(rotation=90);"
   ]
  },
  {
   "cell_type": "code",
   "execution_count": null,
   "metadata": {},
   "outputs": [],
   "source": [
    "data.os.value_counts()"
   ]
  },
  {
   "cell_type": "code",
   "execution_count": null,
   "metadata": {
    "scrolled": true
   },
   "outputs": [],
   "source": [
    "sns.countplot(data['os'])"
   ]
  },
  {
   "cell_type": "markdown",
   "metadata": {},
   "source": [
    "## Android phones are highest in number"
   ]
  },
  {
   "cell_type": "code",
   "execution_count": null,
   "metadata": {},
   "outputs": [],
   "source": [
    "data['5g'].value_counts()"
   ]
  },
  {
   "cell_type": "code",
   "execution_count": null,
   "metadata": {},
   "outputs": [],
   "source": [
    "sns.countplot(data['5g'])"
   ]
  },
  {
   "cell_type": "markdown",
   "metadata": {},
   "source": [
    "## There are very few phones with 5G"
   ]
  },
  {
   "cell_type": "code",
   "execution_count": null,
   "metadata": {},
   "outputs": [],
   "source": [
    "data['4g'].value_counts()"
   ]
  },
  {
   "cell_type": "code",
   "execution_count": null,
   "metadata": {
    "scrolled": true
   },
   "outputs": [],
   "source": [
    "sns.countplot(data['4g'])"
   ]
  },
  {
   "cell_type": "markdown",
   "metadata": {},
   "source": [
    "## There are more phones 4G enabled"
   ]
  },
  {
   "cell_type": "code",
   "execution_count": null,
   "metadata": {},
   "outputs": [],
   "source": [
    "data['ram'].value_counts()"
   ]
  },
  {
   "cell_type": "code",
   "execution_count": null,
   "metadata": {},
   "outputs": [],
   "source": [
    "sns.countplot(data['ram'])"
   ]
  },
  {
   "cell_type": "markdown",
   "metadata": {},
   "source": [
    "## Most phones have 4GB Ram"
   ]
  },
  {
   "cell_type": "code",
   "execution_count": null,
   "metadata": {},
   "outputs": [],
   "source": [
    "data['release_year'].value_counts()"
   ]
  },
  {
   "cell_type": "code",
   "execution_count": null,
   "metadata": {},
   "outputs": [],
   "source": [
    "sns.countplot(data['release_year'])"
   ]
  },
  {
   "cell_type": "code",
   "execution_count": null,
   "metadata": {},
   "outputs": [],
   "source": [
    "data['internal_memory'].value_counts()"
   ]
  },
  {
   "cell_type": "code",
   "execution_count": null,
   "metadata": {},
   "outputs": [],
   "source": [
    "sns.countplot(data['internal_memory'])\n",
    "plt.tight_layout()"
   ]
  },
  {
   "cell_type": "markdown",
   "metadata": {},
   "source": [
    "## Relation between target variable and categorical features"
   ]
  },
  {
   "cell_type": "code",
   "execution_count": null,
   "metadata": {},
   "outputs": [],
   "source": [
    "fig,ax = plt.subplots(2,2,figsize = (15,10))\n",
    "\n",
    "sns.boxplot(x = 'os', y = 'normalized_used_price', data = data,ax=ax[0,0])\n",
    "ax[0,0].set_title('os vs normalized_used_price')\n",
    "\n",
    "sns.boxplot(x = '4g', y = 'normalized_used_price', data = data,ax=ax[0,1])\n",
    "ax[0,1].set_title('4g vs normalized_used_price')\n",
    "\n",
    "sns.boxplot(x = '5g', y = 'normalized_used_price', data = data,ax=ax[1,0])\n",
    "ax[1,0].set_title('5g vs normalized_used_price')\n",
    "\n",
    "sns.boxplot(x = 'release_year', y = 'normalized_used_price', data = data,ax=ax[1,1])\n",
    "ax[1,1].set_title('release_year vs normalized_used_price')\n",
    "\n",
    "plt.tight_layout()\n",
    "plt.show()"
   ]
  },
  {
   "cell_type": "markdown",
   "metadata": {},
   "source": [
    "## Through these visualizations we can see that : \n",
    "## -  phones with os as ios are priced higher than phones with other os\n",
    "## -  5G enabled phones are priced higher\n",
    "## -  4G enabled phones are priced higher\n",
    "## -  Phones from recent years are priced higher than phones from previous years"
   ]
  },
  {
   "cell_type": "code",
   "execution_count": null,
   "metadata": {},
   "outputs": [],
   "source": [
    "data.columns"
   ]
  },
  {
   "cell_type": "code",
   "execution_count": null,
   "metadata": {},
   "outputs": [],
   "source": [
    "numerical_features = ['screen_size','rear_camera_mp','front_camera_mp','battery','weight','days_used','normalized_new_price', 'normalized_used_price']"
   ]
  },
  {
   "cell_type": "markdown",
   "metadata": {},
   "source": [
    "# Checking distribution of data"
   ]
  },
  {
   "cell_type": "code",
   "execution_count": null,
   "metadata": {},
   "outputs": [],
   "source": [
    "data.hist(figsize=(12,8),bins=30)\n",
    "plt.tight_layout()"
   ]
  },
  {
   "cell_type": "markdown",
   "metadata": {},
   "source": [
    "## Function to visualize relationship between target variable and numerical features"
   ]
  },
  {
   "cell_type": "code",
   "execution_count": null,
   "metadata": {},
   "outputs": [],
   "source": [
    "def bivariate_analysis(x):\n",
    "    plt.figure(figsize=(10,6))\n",
    "    ax = sns.regplot(x=x, y='normalized_used_price',data=data)\n",
    "    ax.set_title(\"Used Price vs \"+x, fontsize=25)\n",
    "    ax.set_xlabel(x, fontsize=20)\n",
    "    ax.set_ylabel('normalized_used_price', fontsize=20)\n",
    "    plt.locator_params(axis='x', nbins=10)"
   ]
  },
  {
   "cell_type": "code",
   "execution_count": null,
   "metadata": {},
   "outputs": [],
   "source": [
    "cols = ['screen_size','rear_camera_mp','front_camera_mp','battery','weight','days_used','ram','internal_memory','normalized_new_price']\n",
    "for x in cols:\n",
    "    bivariate_analysis(x)\n",
    "plt.tight_layout()"
   ]
  },
  {
   "cell_type": "markdown",
   "metadata": {},
   "source": [
    "# Multivariate Analysis"
   ]
  },
  {
   "cell_type": "code",
   "execution_count": null,
   "metadata": {},
   "outputs": [],
   "source": [
    "sns.pairplot(data[numerical_features],diag_kind='kde')"
   ]
  },
  {
   "cell_type": "code",
   "execution_count": null,
   "metadata": {},
   "outputs": [],
   "source": [
    "fig = plt.figure(figsize=(12,8))\n",
    "sns.heatmap(data.corr(),annot=True)"
   ]
  },
  {
   "cell_type": "markdown",
   "metadata": {},
   "source": [
    "# Relation between Features  \n",
    "- __Used Price__ has the highest <font color=green>__positive__</font> correlation with __New Price__, followed by __battery__, __front camera__, __screen size__, __rear camera__ and __4G__.\n",
    "- __Used Price__ has the highest <font color=red>__negative__</font> correlation with __Weight__ followed by __Days Used__. \n",
    "\n",
    "### There is a <font color=green>__positive__</font> correlation between  \n",
    "   -  __Battery__ and __Screen Size__ __(HIGH)__    \n",
    "   -  __Release Year__ and __Front Camera__ __(MODERATE)__  \n",
    "   -  __Front Camera__ and __4G__ __(MODERATE)__  \n",
    "   -  __Front Camera__ and __Rear Camera__ __(MODERATE)__  \n",
    "   -  __Release Year__ and __4G__ __(MODERATE)__  \n",
    "   -  __Rear Camera__ and __4G__ __(LOW)__  \n",
    "   -  __Rear Camera__ and __New Price__ __(LOW)__  \n",
    "   -  __New Price__ and __Battery__ __(LOW)__\n",
    "   -  __New Price__ and __Screen Size__ __(LOW)__  \n",
    "   -  __New Price__ and __Front Camera__ __(LOW)__    \n",
    "\n",
    "### There is a <font color=red>__negative__</font> correlation between  \n",
    "   -  __Battery__ and __Weight__ __(HIGH)__  \n",
    "   -  __Screen Size__ and __Weight__ __(HIGH)__    \n",
    "   -  __Days Used__ and __Release Year__ __(MODERATE)__    \n",
    "   -  __Days used__ and __Front Camera__ __(MODERATE)__   "
   ]
  },
  {
   "cell_type": "code",
   "execution_count": null,
   "metadata": {},
   "outputs": [],
   "source": [
    "cols2 = ['screen_size','rear_camera_mp','front_camera_mp','battery','weight','days_used','normalized_new_price','normalized_used_price']"
   ]
  },
  {
   "cell_type": "markdown",
   "metadata": {},
   "source": [
    "# Checking Outliers"
   ]
  },
  {
   "cell_type": "code",
   "execution_count": null,
   "metadata": {},
   "outputs": [],
   "source": [
    "fig,ax=plt.subplots(2,4,figsize=(12,8))\n",
    "index=0\n",
    "ax=ax.flatten()\n",
    "for col in cols2:\n",
    "    sns.boxplot(y=col, data=data, color='r', ax=ax[index])\n",
    "    index+=1\n",
    "plt.tight_layout(pad=0.5, w_pad=1, h_pad=5.0)"
   ]
  },
  {
   "cell_type": "markdown",
   "metadata": {},
   "source": [
    "## Function to detect outliers"
   ]
  },
  {
   "cell_type": "code",
   "execution_count": null,
   "metadata": {},
   "outputs": [],
   "source": [
    "def detect_outliers(columns):\n",
    "    outlier_indices = []\n",
    "\n",
    "    for column in columns:\n",
    "        # 1st quartile\n",
    "        Q1 = np.percentile(data[column], 25)\n",
    "        # 3st quartile\n",
    "        Q3 = np.percentile(data[column], 75)\n",
    "        # IQR\n",
    "        IQR = Q3 - Q1\n",
    "        # Outlier Step\n",
    "        outlier_step = IQR * 1.5\n",
    "        # detect outlier and their indeces\n",
    "        outlier_list_col = data[(data[column] < Q1 - outlier_step)\n",
    "                              | (data[column] > Q3 + outlier_step)].index\n",
    "        # store indeces\n",
    "        outlier_indices.extend(outlier_list_col)\n",
    "        return outlier_indices"
   ]
  },
  {
   "cell_type": "code",
   "execution_count": null,
   "metadata": {},
   "outputs": [],
   "source": [
    "len(detect_outliers(cols2))"
   ]
  },
  {
   "cell_type": "markdown",
   "metadata": {},
   "source": [
    "## 440 Outliers found!"
   ]
  },
  {
   "cell_type": "markdown",
   "metadata": {},
   "source": [
    "# Checking skewness of data"
   ]
  },
  {
   "cell_type": "code",
   "execution_count": null,
   "metadata": {},
   "outputs": [],
   "source": [
    "def check_skweness(columnName):\n",
    "    print('''Before Correcting''')\n",
    "    try:\n",
    "        (mu, sigma) = norm.fit(data[columnName])\n",
    "    except RuntimeError:\n",
    "        (mu,sigma) = norm.fit(data[columnName].dropna())\n",
    "    print(\"Mu before correcting {} : {}, Sigma before correcting {} : {}\".format(\n",
    "        columnName.upper(), mu, columnName.upper(), sigma))\n",
    "    plt.figure(figsize=(20,10))\n",
    "    plt.subplot(1,2,1)\n",
    "    sns.distplot(data[columnName], fit=norm, color=\"orange\")\n",
    "    plt.title(columnName.upper() +\n",
    "              \" Distplot before Skewness Correction\", color=\"black\")\n",
    "    plt.subplot(1,2,2)\n",
    "    stats.probplot(data[columnName], plot=plt)\n",
    "    plt.show();"
   ]
  },
  {
   "cell_type": "code",
   "execution_count": null,
   "metadata": {},
   "outputs": [],
   "source": [
    "skew_check_cols = ['screen_size','rear_camera_mp','front_camera_mp','battery','weight','days_used']\n",
    "for columns in skew_check_cols:\n",
    "    check_skweness(columns)"
   ]
  },
  {
   "cell_type": "markdown",
   "metadata": {},
   "source": [
    "## Function to apply different tranformations on variables to get normalized data"
   ]
  },
  {
   "cell_type": "code",
   "execution_count": null,
   "metadata": {},
   "outputs": [],
   "source": [
    "def trying_different_transformations(column,transformation):\n",
    "    if transformation=='boxcox':\n",
    "        try:\n",
    "            print(\"BoxCox - \"+column)\n",
    "            temp,temp_params = boxcox(data[column]+1)\n",
    "            (mu,sigma)=norm.fit(temp)\n",
    "            print(\"mu \",mu,\" sigma \",sigma)\n",
    "            plt.figure(figsize=(20,10))\n",
    "            plt.subplot(1,2,1)\n",
    "            sns.distplot(temp, fit=norm, color=\"orange\")\n",
    "            plt.subplot(1,2,2)\n",
    "            stats.probplot(temp, plot = plt)\n",
    "        except ValueError:\n",
    "            pass\n",
    "        except ValueError:\n",
    "            pass\n",
    "    elif transformation=='log':\n",
    "        try:\n",
    "            print(\"Log - \"+column)\n",
    "            (mu,sigma)=norm.fit(np.log1p(data[column]))\n",
    "            print(\"mu \",mu,\" sigma \",sigma)\n",
    "            plt.figure(figsize=(20,10))\n",
    "            plt.subplot(1,2,1)\n",
    "            sns.distplot(np.log1p(data[column]), fit=norm, color=\"orange\")\n",
    "            plt.subplot(1,2,2)\n",
    "            stats.probplot(np.log1p(data[column]), plot = plt)\n",
    "        except RuntimeError:\n",
    "            pass\n",
    "        except ValueError:\n",
    "            pass\n",
    "    elif transformation=='reciprocal':\n",
    "        try:\n",
    "            print(\"Reciprocal - \"+column)\n",
    "            temp_r = 1/data[column]\n",
    "            temp_r = temp_r.replace([np.inf, -np.inf], 0)\n",
    "            (mu,sigma)=norm.fit(temp_r)\n",
    "            print(\"mu \",mu,\" sigma \",sigma)\n",
    "            plt.figure(figsize=(20,10))\n",
    "            plt.subplot(1,2,1)\n",
    "            sns.distplot(temp_r, fit=norm, color=\"orange\")\n",
    "            plt.subplot(1,2,2)\n",
    "            stats.probplot(temp_r, plot = plt)\n",
    "        except RuntimeError:\n",
    "            pass\n",
    "        except ValueError:\n",
    "            pass\n",
    "    elif transformation=='sqroot':\n",
    "        try:\n",
    "            print(\"Square_Root - \"+column)\n",
    "            (mu,sigma)=norm.fit(data[column]**(1/2))\n",
    "            print(\"mu \",mu,\" sigma \",sigma)\n",
    "            plt.figure(figsize=(20,10))\n",
    "            plt.subplot(1,2,1)\n",
    "            sns.distplot(data[column]**(1/2), fit=norm, color=\"orange\")\n",
    "            plt.subplot(1,2,2)\n",
    "            stats.probplot(data[column]**(1/2), plot = plt)\n",
    "        except RuntimeError:\n",
    "            pass\n",
    "        except ValueError:\n",
    "            pass\n",
    "    else:\n",
    "        try:\n",
    "            print(\"Exponential - \"+column)\n",
    "            (mu,sigma)=norm.fit(data[column]**(1/1.2))\n",
    "            print(\"mu \",mu,\" sigma \",sigma)\n",
    "            plt.figure(figsize=(20,10))\n",
    "            plt.subplot(1,2,1)\n",
    "            sns.distplot(data[column]**(1/1.2), fit=norm, color=\"orange\")\n",
    "            plt.subplot(1,2,2)\n",
    "            stats.probplot(data[column]**(1/1.2), plot = plt)\n",
    "        except RuntimeError:\n",
    "            pass\n",
    "        except ValueError:\n",
    "            pass"
   ]
  },
  {
   "cell_type": "markdown",
   "metadata": {},
   "source": [
    "## Transformations to try !"
   ]
  },
  {
   "cell_type": "code",
   "execution_count": null,
   "metadata": {},
   "outputs": [],
   "source": [
    "transformations = ['boxcox','log','reciprocal','sqroot','exp']"
   ]
  },
  {
   "cell_type": "markdown",
   "metadata": {},
   "source": [
    "## Trying different transformations on screen_size feature"
   ]
  },
  {
   "cell_type": "code",
   "execution_count": null,
   "metadata": {},
   "outputs": [],
   "source": [
    "for x in transformations:\n",
    "    trying_different_transformations('screen_size',x)"
   ]
  },
  {
   "cell_type": "markdown",
   "metadata": {},
   "source": [
    "## Trying different transformations on rear_camera_mp feature"
   ]
  },
  {
   "cell_type": "code",
   "execution_count": null,
   "metadata": {},
   "outputs": [],
   "source": [
    "for x in transformations:\n",
    "    trying_different_transformations('rear_camera_mp',x)"
   ]
  },
  {
   "cell_type": "markdown",
   "metadata": {},
   "source": [
    "## Trying different transformations on front_camera_mp feature"
   ]
  },
  {
   "cell_type": "code",
   "execution_count": null,
   "metadata": {},
   "outputs": [],
   "source": [
    "for x in transformations:\n",
    "    trying_different_transformations('front_camera_mp',x)"
   ]
  },
  {
   "cell_type": "markdown",
   "metadata": {},
   "source": [
    "## Trying different transformations on battery feature"
   ]
  },
  {
   "cell_type": "code",
   "execution_count": null,
   "metadata": {},
   "outputs": [],
   "source": [
    "for x in transformations:\n",
    "    trying_different_transformations('battery',x)"
   ]
  },
  {
   "cell_type": "markdown",
   "metadata": {},
   "source": [
    "## Trying different transformations on weight feature"
   ]
  },
  {
   "cell_type": "code",
   "execution_count": null,
   "metadata": {},
   "outputs": [],
   "source": [
    "for x in transformations:\n",
    "    trying_different_transformations('weight',x)"
   ]
  },
  {
   "cell_type": "markdown",
   "metadata": {},
   "source": [
    "## Trying different transformations on days_used feature"
   ]
  },
  {
   "cell_type": "code",
   "execution_count": null,
   "metadata": {},
   "outputs": [],
   "source": [
    "for x in transformations:\n",
    "    trying_different_transformations('days_used',x)"
   ]
  },
  {
   "cell_type": "markdown",
   "metadata": {},
   "source": [
    "# Applying transformations"
   ]
  },
  {
   "cell_type": "code",
   "execution_count": null,
   "metadata": {},
   "outputs": [],
   "source": [
    "def skweness_correction(columnName):    \n",
    "    if columnName == 'front_camera_mp' or columnName == 'screen_size' or columnName == 'battery':\n",
    "        data[columnName], temp_params = boxcox(\n",
    "        data[columnName]+1)\n",
    "    elif columnName == 'weight':\n",
    "        data[columnName] = 1/data[columnName].replace([np.inf, -np.inf], 0)\n",
    "    elif columnName =='rear_camera_mp':\n",
    "        data[columnName] = data[columnName]**(1/2)\n",
    "    print('''After Correcting''')\n",
    "    (mu, sigma) = norm.fit(data[columnName])\n",
    "    print(\"Mu after correcting {} : {}, Sigma after correcting {} : {}\".format(\n",
    "        columnName.upper(), mu, columnName.upper(), sigma))\n",
    "    plt.figure(figsize=(20, 10))\n",
    "    plt.subplot(1,2,1)\n",
    "    sns.distplot(data[columnName], fit=norm, color=\"orange\")\n",
    "    plt.title(columnName.upper() +\n",
    "              \" Distplot After Skewness Correction\", color=\"black\")\n",
    "    plt.subplot(1,2,2)\n",
    "    stats.probplot(data[columnName], plot = plt)\n",
    "    plt.show();"
   ]
  },
  {
   "cell_type": "code",
   "execution_count": null,
   "metadata": {},
   "outputs": [],
   "source": [
    "skewColumnList1 = ['screen_size','rear_camera_mp','front_camera_mp','battery','weight']\n",
    "for columns in skewColumnList1:\n",
    "    skweness_correction(columns)"
   ]
  },
  {
   "cell_type": "markdown",
   "metadata": {},
   "source": [
    "# Dropping Outliers!"
   ]
  },
  {
   "cell_type": "code",
   "execution_count": null,
   "metadata": {},
   "outputs": [],
   "source": [
    "len(detect_outliers(cols2))"
   ]
  },
  {
   "cell_type": "code",
   "execution_count": null,
   "metadata": {},
   "outputs": [],
   "source": [
    "data = data.drop(detect_outliers(cols2),axis = 0).reset_index(drop = True)"
   ]
  },
  {
   "cell_type": "code",
   "execution_count": null,
   "metadata": {},
   "outputs": [],
   "source": [
    "data.shape[0]"
   ]
  },
  {
   "cell_type": "markdown",
   "metadata": {},
   "source": [
    "# Encoding categorical features"
   ]
  },
  {
   "cell_type": "code",
   "execution_count": null,
   "metadata": {},
   "outputs": [],
   "source": [
    "data = data.drop(['os','device_brand'],axis=1)"
   ]
  },
  {
   "cell_type": "code",
   "execution_count": null,
   "metadata": {},
   "outputs": [],
   "source": [
    "data"
   ]
  },
  {
   "cell_type": "code",
   "execution_count": null,
   "metadata": {},
   "outputs": [],
   "source": [
    "dummies_year = pd.get_dummies(data['release_year'],drop_first=True)\n",
    "data = pd.concat([data,dummies_year],axis=1)\n",
    "data = data.drop('release_year',axis=1)"
   ]
  },
  {
   "cell_type": "code",
   "execution_count": null,
   "metadata": {},
   "outputs": [],
   "source": [
    "data"
   ]
  },
  {
   "cell_type": "markdown",
   "metadata": {},
   "source": [
    "# Train and Test Split"
   ]
  },
  {
   "cell_type": "code",
   "execution_count": null,
   "metadata": {},
   "outputs": [],
   "source": [
    "Y = data['normalized_used_price']\n",
    "X = data.loc[:, data.columns != 'normalized_used_price']"
   ]
  },
  {
   "cell_type": "code",
   "execution_count": null,
   "metadata": {},
   "outputs": [],
   "source": [
    "X_train, X_test, y_train, y_test = train_test_split(X, Y, test_size=0.3, random_state=0)"
   ]
  },
  {
   "cell_type": "code",
   "execution_count": null,
   "metadata": {},
   "outputs": [],
   "source": [
    "X_train.head()"
   ]
  },
  {
   "cell_type": "code",
   "execution_count": null,
   "metadata": {},
   "outputs": [],
   "source": [
    "X_train.columns"
   ]
  },
  {
   "cell_type": "markdown",
   "metadata": {},
   "source": [
    "# Scaling features"
   ]
  },
  {
   "cell_type": "code",
   "execution_count": null,
   "metadata": {},
   "outputs": [],
   "source": [
    "sc = StandardScaler()\n",
    "X_train = sc.fit_transform(X_train)\n",
    "X_test = sc.transform(X_test)"
   ]
  },
  {
   "cell_type": "code",
   "execution_count": null,
   "metadata": {},
   "outputs": [],
   "source": [
    "X_test.shape[0]"
   ]
  },
  {
   "cell_type": "markdown",
   "metadata": {},
   "source": [
    "# Linear Regression Model"
   ]
  },
  {
   "cell_type": "code",
   "execution_count": null,
   "metadata": {},
   "outputs": [],
   "source": [
    "linear_model = LinearRegression()\n",
    "linear_model.fit(X_train,y_train)\n",
    "X_train_Prediction = linear_model.predict(X_train)\n",
    "print(\"MSE : \",mean_squared_error(y_train,X_train_Prediction))\n",
    "print(\"R2 Score : \",r2_score(y_train,X_train_Prediction))"
   ]
  },
  {
   "cell_type": "code",
   "execution_count": null,
   "metadata": {},
   "outputs": [],
   "source": [
    "cross_linear = cross_val_score(linear_model,X_train,y_train,scoring=\"neg_mean_squared_error\",cv=5)\n",
    "mean_cross_linear = np.mean(cross_linear)\n",
    "print(mean_cross_linear)"
   ]
  },
  {
   "cell_type": "markdown",
   "metadata": {},
   "source": [
    "# Ridge Regression Model"
   ]
  },
  {
   "cell_type": "code",
   "execution_count": null,
   "metadata": {},
   "outputs": [],
   "source": [
    "ridge_model = Ridge()\n",
    "ridge_model.fit(X_train,y_train)\n",
    "X_train_pred_ridge = ridge_model.predict(X_train)\n",
    "print(\"MSE : \",mean_squared_error(y_train,X_train_pred_ridge))\n",
    "print(\"R2 Score : \",r2_score(y_train,X_train_pred_ridge))"
   ]
  },
  {
   "cell_type": "code",
   "execution_count": null,
   "metadata": {},
   "outputs": [],
   "source": [
    "cross_ridge = cross_val_score(ridge_model,X_train,y_train,scoring=\"neg_mean_squared_error\",cv=5)\n",
    "mean_cross_ridge = np.mean(cross_ridge)\n",
    "print(mean_cross_ridge)"
   ]
  },
  {
   "cell_type": "markdown",
   "metadata": {},
   "source": [
    "# Lasso Regression Model"
   ]
  },
  {
   "cell_type": "code",
   "execution_count": null,
   "metadata": {},
   "outputs": [],
   "source": [
    "lasso_model = Lasso()\n",
    "lasso_model.fit(X_train,y_train)\n",
    "X_train_pred_lasso = lasso_model.predict(X_train)\n",
    "print(\"MSE : \",mean_squared_error(y_train,X_train_pred_lasso))\n",
    "print(\"R2 Score : \",r2_score(y_train,X_train_pred_lasso))\n"
   ]
  },
  {
   "cell_type": "code",
   "execution_count": null,
   "metadata": {},
   "outputs": [],
   "source": [
    "cross_lasso = cross_val_score(lasso_model,X_train,y_train,scoring=\"neg_mean_squared_error\",cv=5)\n",
    "mean_cross_lasso = np.mean(cross_lasso)\n",
    "print(mean_cross_lasso)"
   ]
  },
  {
   "cell_type": "markdown",
   "metadata": {},
   "source": [
    "# SVM Regressor"
   ]
  },
  {
   "cell_type": "code",
   "execution_count": null,
   "metadata": {},
   "outputs": [],
   "source": [
    "svmreg_model = SVR()\n",
    "svmreg_model.fit(X_train,y_train)\n",
    "X_train_pred_svmreg = svmreg_model.predict(X_train)\n",
    "print(\"MSE : \",mean_squared_error(y_train,X_train_pred_svmreg))\n",
    "print(\"R2 Score : \",r2_score(y_train,X_train_pred_svmreg))"
   ]
  },
  {
   "cell_type": "code",
   "execution_count": null,
   "metadata": {},
   "outputs": [],
   "source": [
    "cross_svmreg = cross_val_score(svmreg_model,X_train,y_train,scoring=\"neg_mean_squared_error\",cv=5)\n",
    "mean_cross_svmreg = np.mean(cross_svmreg)\n",
    "print(mean_cross_svmreg)"
   ]
  },
  {
   "cell_type": "markdown",
   "metadata": {},
   "source": [
    "# DecisionTree Regressor"
   ]
  },
  {
   "cell_type": "code",
   "execution_count": null,
   "metadata": {},
   "outputs": [],
   "source": [
    "dtree_model = DecisionTreeRegressor(max_depth=10)\n",
    "dtree_model.fit(X_train,y_train)\n",
    "X_train_pred_dtree = dtree_model.predict(X_train)\n",
    "print(\"MSE : \",mean_squared_error(y_train,X_train_pred_dtree))\n",
    "print(\"R2 Score : \",r2_score(y_train,X_train_pred_dtree))"
   ]
  },
  {
   "cell_type": "code",
   "execution_count": null,
   "metadata": {},
   "outputs": [],
   "source": [
    "cross_dtree = cross_val_score(dtree_model,X_train,y_train,scoring=\"neg_mean_squared_error\",cv=5)\n",
    "mean_cross_dtree = np.mean(cross_dtree)\n",
    "print(mean_cross_dtree)"
   ]
  },
  {
   "cell_type": "markdown",
   "metadata": {},
   "source": [
    "# RandomForest Regressor"
   ]
  },
  {
   "cell_type": "code",
   "execution_count": null,
   "metadata": {},
   "outputs": [],
   "source": [
    "rfr_model = RandomForestRegressor()\n",
    "rfr_model.fit(X_train,y_train)\n",
    "X_train_pred_rfr = rfr_model.predict(X_train)\n",
    "print(\"MSE : \",mean_squared_error(y_train,X_train_pred_rfr))\n",
    "print(\"R2 Score : \",r2_score(y_train,X_train_pred_rfr))"
   ]
  },
  {
   "cell_type": "code",
   "execution_count": null,
   "metadata": {},
   "outputs": [],
   "source": [
    "cross_rfr = cross_val_score(rfr_model,X_train,y_train,scoring=\"neg_mean_squared_error\",cv=5)\n",
    "mean_cross_rfr = np.mean(cross_rfr)\n",
    "print(mean_cross_rfr)"
   ]
  },
  {
   "cell_type": "code",
   "execution_count": null,
   "metadata": {},
   "outputs": [],
   "source": [
    "X_test_pred_rfr = rfr_model.predict(X_test)\n",
    "print(\"MSE : \",mean_squared_error(y_test,X_test_pred_rfr))\n",
    "print(\"R2 Score : \",r2_score(y_test,X_test_pred_rfr))"
   ]
  },
  {
   "cell_type": "code",
   "execution_count": null,
   "metadata": {},
   "outputs": [],
   "source": [
    "pk.dump(rfr_model,open(\"Price_Predictor.pkl\",'wb'))"
   ]
  },
  {
   "cell_type": "code",
   "execution_count": null,
   "metadata": {},
   "outputs": [],
   "source": [
    "pk.dump(sc,open(\"Scaler.pkl\",'wb'))"
   ]
  }
 ],
 "metadata": {
  "hide_input": false,
  "kernelspec": {
   "display_name": "Python 3 (ipykernel)",
   "language": "python",
   "name": "python3"
  },
  "language_info": {
   "codemirror_mode": {
    "name": "ipython",
    "version": 3
   },
   "file_extension": ".py",
   "mimetype": "text/x-python",
   "name": "python",
   "nbconvert_exporter": "python",
   "pygments_lexer": "ipython3",
   "version": "3.10.6"
  },
  "varInspector": {
   "cols": {
    "lenName": 16,
    "lenType": 16,
    "lenVar": 40
   },
   "kernels_config": {
    "python": {
     "delete_cmd_postfix": "",
     "delete_cmd_prefix": "del ",
     "library": "var_list.py",
     "varRefreshCmd": "print(var_dic_list())"
    },
    "r": {
     "delete_cmd_postfix": ") ",
     "delete_cmd_prefix": "rm(",
     "library": "var_list.r",
     "varRefreshCmd": "cat(var_dic_list()) "
    }
   },
   "types_to_exclude": [
    "module",
    "function",
    "builtin_function_or_method",
    "instance",
    "_Feature"
   ],
   "window_display": false
  },
  "vscode": {
   "interpreter": {
    "hash": "11938c6bc6919ae2720b4d5011047913343b08a43b18698fd82dedb0d4417594"
   }
  }
 },
 "nbformat": 4,
 "nbformat_minor": 2
}
