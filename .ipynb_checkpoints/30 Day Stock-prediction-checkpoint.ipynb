{
 "cells": [
  {
   "cell_type": "code",
   "execution_count": 1,
   "metadata": {},
   "outputs": [],
   "source": [
    "#!pip install tensorflow"
   ]
  },
  {
   "cell_type": "code",
   "execution_count": null,
   "metadata": {},
   "outputs": [],
   "source": []
  },
  {
   "cell_type": "code",
   "execution_count": 2,
   "metadata": {
    "_cell_guid": "b1076dfc-b9ad-4769-8c92-a6c4dae69d19",
    "_uuid": "8f2839f25d086af736a60e9eeb907d3b93b6e0e5",
    "execution": {
     "iopub.execute_input": "2022-12-17T11:58:56.257784Z",
     "iopub.status.busy": "2022-12-17T11:58:56.257304Z",
     "iopub.status.idle": "2022-12-17T11:58:56.287363Z",
     "shell.execute_reply": "2022-12-17T11:58:56.286332Z",
     "shell.execute_reply.started": "2022-12-17T11:58:56.257693Z"
    },
    "id": "Z4xjGMAcB-ku"
   },
   "outputs": [],
   "source": [
    "# This Python 3 environment comes with many helpful analytics libraries installed\n",
    "# It is defined by the kaggle/python Docker image: https://github.com/kaggle/docker-python\n",
    "# For example, here's several helpful packages to load\n",
    "\n",
    "import numpy as np # linear algebra\n",
    "import pandas as pd # data processing, CSV file I/O (e.g. pd.read_csv)\n",
    "\n",
    "# Input data files are available in the read-only \"../input/\" directory\n",
    "# For example, running this (by clicking run or pressing Shift+Enter) will list all files under the input directory\n",
    "\n",
    "import os\n",
    "for dirname, _, filenames in os.walk('/kaggle/input'):\n",
    "    for filename in filenames:\n",
    "        print(os.path.join(dirname, filename))\n",
    "\n",
    "# You can write up to 20GB to the current directory (/kaggle/working/) that gets preserved as output when you create a version using \"Save & Run All\" \n",
    "# You can also write temporary files to /kaggle/temp/, but they won't be saved outside of the current session"
   ]
  },
  {
   "cell_type": "code",
   "execution_count": 3,
   "metadata": {
    "colab": {
     "base_uri": "https://localhost:8080/",
     "height": 0
    },
    "execution": {
     "iopub.execute_input": "2022-12-17T11:58:56.335609Z",
     "iopub.status.busy": "2022-12-17T11:58:56.334566Z",
     "iopub.status.idle": "2022-12-17T11:59:10.376986Z",
     "shell.execute_reply": "2022-12-17T11:59:10.375922Z",
     "shell.execute_reply.started": "2022-12-17T11:58:56.335563Z"
    },
    "id": "beLF8ZyiB-kx",
    "outputId": "f0802088-e753-43c1-dc0a-3c5b3c8185a3"
   },
   "outputs": [],
   "source": [
    "#!pip install yfinance"
   ]
  },
  {
   "cell_type": "code",
   "execution_count": 4,
   "metadata": {
    "execution": {
     "iopub.execute_input": "2022-12-17T11:59:10.379368Z",
     "iopub.status.busy": "2022-12-17T11:59:10.378980Z",
     "iopub.status.idle": "2022-12-17T11:59:10.402771Z",
     "shell.execute_reply": "2022-12-17T11:59:10.401906Z",
     "shell.execute_reply.started": "2022-12-17T11:59:10.379329Z"
    },
    "id": "1ov9Nm6SB-ky"
   },
   "outputs": [],
   "source": [
    "import yfinance as yf"
   ]
  },
  {
   "cell_type": "code",
   "execution_count": 5,
   "metadata": {
    "execution": {
     "iopub.execute_input": "2022-12-17T11:59:10.404074Z",
     "iopub.status.busy": "2022-12-17T11:59:10.403715Z",
     "iopub.status.idle": "2022-12-17T11:59:10.409701Z",
     "shell.execute_reply": "2022-12-17T11:59:10.408493Z",
     "shell.execute_reply.started": "2022-12-17T11:59:10.404043Z"
    },
    "id": "sq1yurskB-kz"
   },
   "outputs": [],
   "source": [
    "stock_symbol = 'AAPL'"
   ]
  },
  {
   "cell_type": "code",
   "execution_count": 6,
   "metadata": {
    "colab": {
     "base_uri": "https://localhost:8080/",
     "height": 0
    },
    "execution": {
     "iopub.execute_input": "2022-12-17T11:59:10.414427Z",
     "iopub.status.busy": "2022-12-17T11:59:10.412964Z",
     "iopub.status.idle": "2022-12-17T11:59:10.970110Z",
     "shell.execute_reply": "2022-12-17T11:59:10.968729Z",
     "shell.execute_reply.started": "2022-12-17T11:59:10.414376Z"
    },
    "id": "vS1uY1XXB-kz",
    "outputId": "15566723-5151-4ac7-d93e-1dc07d2a9d72"
   },
   "outputs": [
    {
     "name": "stdout",
     "output_type": "stream",
     "text": [
      "[*********************100%***********************]  1 of 1 completed\n"
     ]
    }
   ],
   "source": [
    "data = yf.download(tickers = stock_symbol,period ='5y',interval ='1d')"
   ]
  },
  {
   "cell_type": "code",
   "execution_count": 7,
   "metadata": {
    "colab": {
     "base_uri": "https://localhost:8080/",
     "height": 0
    },
    "execution": {
     "iopub.execute_input": "2022-12-17T11:59:10.974116Z",
     "iopub.status.busy": "2022-12-17T11:59:10.973753Z",
     "iopub.status.idle": "2022-12-17T11:59:10.984984Z",
     "shell.execute_reply": "2022-12-17T11:59:10.983812Z",
     "shell.execute_reply.started": "2022-12-17T11:59:10.974086Z"
    },
    "id": "Fv_4SiajB-kz",
    "outputId": "eb98394f-8785-43aa-89fa-013822157e72"
   },
   "outputs": [
    {
     "data": {
      "text/plain": [
       "pandas.core.frame.DataFrame"
      ]
     },
     "execution_count": 7,
     "metadata": {},
     "output_type": "execute_result"
    }
   ],
   "source": [
    "type(data)"
   ]
  },
  {
   "cell_type": "code",
   "execution_count": 8,
   "metadata": {
    "colab": {
     "base_uri": "https://localhost:8080/",
     "height": 238
    },
    "execution": {
     "iopub.execute_input": "2022-12-17T11:59:10.986804Z",
     "iopub.status.busy": "2022-12-17T11:59:10.986391Z",
     "iopub.status.idle": "2022-12-17T11:59:11.010337Z",
     "shell.execute_reply": "2022-12-17T11:59:11.009443Z",
     "shell.execute_reply.started": "2022-12-17T11:59:10.986771Z"
    },
    "id": "ZltbipYyB-k0",
    "outputId": "e64eade5-b63f-4224-b08a-4e071844a450"
   },
   "outputs": [
    {
     "data": {
      "text/html": [
       "<div>\n",
       "<style scoped>\n",
       "    .dataframe tbody tr th:only-of-type {\n",
       "        vertical-align: middle;\n",
       "    }\n",
       "\n",
       "    .dataframe tbody tr th {\n",
       "        vertical-align: top;\n",
       "    }\n",
       "\n",
       "    .dataframe thead th {\n",
       "        text-align: right;\n",
       "    }\n",
       "</style>\n",
       "<table border=\"1\" class=\"dataframe\">\n",
       "  <thead>\n",
       "    <tr style=\"text-align: right;\">\n",
       "      <th></th>\n",
       "      <th>Open</th>\n",
       "      <th>High</th>\n",
       "      <th>Low</th>\n",
       "      <th>Close</th>\n",
       "      <th>Adj Close</th>\n",
       "      <th>Volume</th>\n",
       "    </tr>\n",
       "    <tr>\n",
       "      <th>Date</th>\n",
       "      <th></th>\n",
       "      <th></th>\n",
       "      <th></th>\n",
       "      <th></th>\n",
       "      <th></th>\n",
       "      <th></th>\n",
       "    </tr>\n",
       "  </thead>\n",
       "  <tbody>\n",
       "    <tr>\n",
       "      <th>2017-12-26</th>\n",
       "      <td>42.700001</td>\n",
       "      <td>42.867500</td>\n",
       "      <td>42.419998</td>\n",
       "      <td>42.642502</td>\n",
       "      <td>40.548737</td>\n",
       "      <td>132742000</td>\n",
       "    </tr>\n",
       "    <tr>\n",
       "      <th>2017-12-27</th>\n",
       "      <td>42.525002</td>\n",
       "      <td>42.695000</td>\n",
       "      <td>42.427502</td>\n",
       "      <td>42.650002</td>\n",
       "      <td>40.555878</td>\n",
       "      <td>85992800</td>\n",
       "    </tr>\n",
       "    <tr>\n",
       "      <th>2017-12-28</th>\n",
       "      <td>42.750000</td>\n",
       "      <td>42.962502</td>\n",
       "      <td>42.619999</td>\n",
       "      <td>42.770000</td>\n",
       "      <td>40.669983</td>\n",
       "      <td>65920800</td>\n",
       "    </tr>\n",
       "    <tr>\n",
       "      <th>2017-12-29</th>\n",
       "      <td>42.630001</td>\n",
       "      <td>42.647499</td>\n",
       "      <td>42.305000</td>\n",
       "      <td>42.307499</td>\n",
       "      <td>40.230190</td>\n",
       "      <td>103999600</td>\n",
       "    </tr>\n",
       "    <tr>\n",
       "      <th>2018-01-02</th>\n",
       "      <td>42.540001</td>\n",
       "      <td>43.075001</td>\n",
       "      <td>42.314999</td>\n",
       "      <td>43.064999</td>\n",
       "      <td>40.950497</td>\n",
       "      <td>102223600</td>\n",
       "    </tr>\n",
       "  </tbody>\n",
       "</table>\n",
       "</div>"
      ],
      "text/plain": [
       "                 Open       High        Low      Close  Adj Close     Volume\n",
       "Date                                                                        \n",
       "2017-12-26  42.700001  42.867500  42.419998  42.642502  40.548737  132742000\n",
       "2017-12-27  42.525002  42.695000  42.427502  42.650002  40.555878   85992800\n",
       "2017-12-28  42.750000  42.962502  42.619999  42.770000  40.669983   65920800\n",
       "2017-12-29  42.630001  42.647499  42.305000  42.307499  40.230190  103999600\n",
       "2018-01-02  42.540001  43.075001  42.314999  43.064999  40.950497  102223600"
      ]
     },
     "execution_count": 8,
     "metadata": {},
     "output_type": "execute_result"
    }
   ],
   "source": [
    "data.head()"
   ]
  },
  {
   "cell_type": "code",
   "execution_count": 9,
   "metadata": {
    "colab": {
     "base_uri": "https://localhost:8080/",
     "height": 238
    },
    "execution": {
     "iopub.execute_input": "2022-12-17T11:59:11.011700Z",
     "iopub.status.busy": "2022-12-17T11:59:11.011379Z",
     "iopub.status.idle": "2022-12-17T11:59:11.028234Z",
     "shell.execute_reply": "2022-12-17T11:59:11.026652Z",
     "shell.execute_reply.started": "2022-12-17T11:59:11.011672Z"
    },
    "id": "1GkLH4_4B-k1",
    "outputId": "b71553bb-5496-47bf-8a96-eee893ae9990"
   },
   "outputs": [
    {
     "data": {
      "text/html": [
       "<div>\n",
       "<style scoped>\n",
       "    .dataframe tbody tr th:only-of-type {\n",
       "        vertical-align: middle;\n",
       "    }\n",
       "\n",
       "    .dataframe tbody tr th {\n",
       "        vertical-align: top;\n",
       "    }\n",
       "\n",
       "    .dataframe thead th {\n",
       "        text-align: right;\n",
       "    }\n",
       "</style>\n",
       "<table border=\"1\" class=\"dataframe\">\n",
       "  <thead>\n",
       "    <tr style=\"text-align: right;\">\n",
       "      <th></th>\n",
       "      <th>Open</th>\n",
       "      <th>High</th>\n",
       "      <th>Low</th>\n",
       "      <th>Close</th>\n",
       "      <th>Adj Close</th>\n",
       "      <th>Volume</th>\n",
       "    </tr>\n",
       "    <tr>\n",
       "      <th>Date</th>\n",
       "      <th></th>\n",
       "      <th></th>\n",
       "      <th></th>\n",
       "      <th></th>\n",
       "      <th></th>\n",
       "      <th></th>\n",
       "    </tr>\n",
       "  </thead>\n",
       "  <tbody>\n",
       "    <tr>\n",
       "      <th>2022-12-16</th>\n",
       "      <td>136.690002</td>\n",
       "      <td>137.649994</td>\n",
       "      <td>133.729996</td>\n",
       "      <td>134.509995</td>\n",
       "      <td>134.509995</td>\n",
       "      <td>160080100</td>\n",
       "    </tr>\n",
       "    <tr>\n",
       "      <th>2022-12-19</th>\n",
       "      <td>135.110001</td>\n",
       "      <td>135.199997</td>\n",
       "      <td>131.320007</td>\n",
       "      <td>132.369995</td>\n",
       "      <td>132.369995</td>\n",
       "      <td>79592600</td>\n",
       "    </tr>\n",
       "    <tr>\n",
       "      <th>2022-12-20</th>\n",
       "      <td>131.389999</td>\n",
       "      <td>133.250000</td>\n",
       "      <td>129.889999</td>\n",
       "      <td>132.300003</td>\n",
       "      <td>132.300003</td>\n",
       "      <td>77432800</td>\n",
       "    </tr>\n",
       "    <tr>\n",
       "      <th>2022-12-21</th>\n",
       "      <td>132.979996</td>\n",
       "      <td>136.809998</td>\n",
       "      <td>132.750000</td>\n",
       "      <td>135.449997</td>\n",
       "      <td>135.449997</td>\n",
       "      <td>85928000</td>\n",
       "    </tr>\n",
       "    <tr>\n",
       "      <th>2022-12-22</th>\n",
       "      <td>134.350006</td>\n",
       "      <td>134.559998</td>\n",
       "      <td>130.300003</td>\n",
       "      <td>132.229996</td>\n",
       "      <td>132.229996</td>\n",
       "      <td>77714600</td>\n",
       "    </tr>\n",
       "  </tbody>\n",
       "</table>\n",
       "</div>"
      ],
      "text/plain": [
       "                  Open        High         Low       Close   Adj Close  \\\n",
       "Date                                                                     \n",
       "2022-12-16  136.690002  137.649994  133.729996  134.509995  134.509995   \n",
       "2022-12-19  135.110001  135.199997  131.320007  132.369995  132.369995   \n",
       "2022-12-20  131.389999  133.250000  129.889999  132.300003  132.300003   \n",
       "2022-12-21  132.979996  136.809998  132.750000  135.449997  135.449997   \n",
       "2022-12-22  134.350006  134.559998  130.300003  132.229996  132.229996   \n",
       "\n",
       "               Volume  \n",
       "Date                   \n",
       "2022-12-16  160080100  \n",
       "2022-12-19   79592600  \n",
       "2022-12-20   77432800  \n",
       "2022-12-21   85928000  \n",
       "2022-12-22   77714600  "
      ]
     },
     "execution_count": 9,
     "metadata": {},
     "output_type": "execute_result"
    }
   ],
   "source": [
    "data.tail()"
   ]
  },
  {
   "cell_type": "code",
   "execution_count": 10,
   "metadata": {
    "execution": {
     "iopub.execute_input": "2022-12-17T11:59:11.030453Z",
     "iopub.status.busy": "2022-12-17T11:59:11.030099Z",
     "iopub.status.idle": "2022-12-17T11:59:11.036330Z",
     "shell.execute_reply": "2022-12-17T11:59:11.035009Z",
     "shell.execute_reply.started": "2022-12-17T11:59:11.030421Z"
    },
    "id": "s8P9DYphB-k1"
   },
   "outputs": [],
   "source": [
    "opn = data[['Open']]"
   ]
  },
  {
   "cell_type": "code",
   "execution_count": 11,
   "metadata": {
    "colab": {
     "base_uri": "https://localhost:8080/",
     "height": 286
    },
    "execution": {
     "iopub.execute_input": "2022-12-17T11:59:11.039417Z",
     "iopub.status.busy": "2022-12-17T11:59:11.039049Z",
     "iopub.status.idle": "2022-12-17T11:59:11.390796Z",
     "shell.execute_reply": "2022-12-17T11:59:11.389785Z",
     "shell.execute_reply.started": "2022-12-17T11:59:11.039386Z"
    },
    "id": "PoASZY__B-k2",
    "outputId": "d9703f08-25e7-4309-9f05-a798630db8f7"
   },
   "outputs": [
    {
     "data": {
      "text/plain": [
       "<AxesSubplot:xlabel='Date'>"
      ]
     },
     "execution_count": 11,
     "metadata": {},
     "output_type": "execute_result"
    },
    {
     "data": {
      "image/png": "[encoded data removed]",
      "text/plain": [
       "<Figure size 640x480 with 1 Axes>"
      ]
     },
     "metadata": {},
     "output_type": "display_data"
    }
   ],
   "source": [
    "opn.plot()"
   ]
  },
  {
   "cell_type": "code",
   "execution_count": 12,
   "metadata": {
    "execution": {
     "iopub.execute_input": "2022-12-17T11:59:11.395308Z",
     "iopub.status.busy": "2022-12-17T11:59:11.394573Z",
     "iopub.status.idle": "2022-12-17T11:59:11.400656Z",
     "shell.execute_reply": "2022-12-17T11:59:11.399241Z",
     "shell.execute_reply.started": "2022-12-17T11:59:11.395268Z"
    },
    "id": "pSqCM-BaB-k2"
   },
   "outputs": [],
   "source": [
    "import matplotlib.pyplot as plt"
   ]
  },
  {
   "cell_type": "code",
   "execution_count": 13,
   "metadata": {
    "execution": {
     "iopub.execute_input": "2022-12-17T11:59:11.402498Z",
     "iopub.status.busy": "2022-12-17T11:59:11.402107Z",
     "iopub.status.idle": "2022-12-17T11:59:11.413008Z",
     "shell.execute_reply": "2022-12-17T11:59:11.411667Z",
     "shell.execute_reply.started": "2022-12-17T11:59:11.402465Z"
    },
    "id": "1ci79ZfLB-k3"
   },
   "outputs": [],
   "source": [
    "ds = opn.values"
   ]
  },
  {
   "cell_type": "code",
   "execution_count": 14,
   "metadata": {
    "colab": {
     "base_uri": "https://localhost:8080/",
     "height": 0
    },
    "execution": {
     "iopub.execute_input": "2022-12-17T11:59:11.415470Z",
     "iopub.status.busy": "2022-12-17T11:59:11.414556Z",
     "iopub.status.idle": "2022-12-17T11:59:11.427020Z",
     "shell.execute_reply": "2022-12-17T11:59:11.425508Z",
     "shell.execute_reply.started": "2022-12-17T11:59:11.415430Z"
    },
    "id": "LDZy0EYhB-k3",
    "outputId": "2efad4e4-6fbe-4e66-92d8-0d53bd0ef023"
   },
   "outputs": [
    {
     "data": {
      "text/plain": [
       "array([[ 42.70000076],\n",
       "       [ 42.52500153],\n",
       "       [ 42.75      ],\n",
       "       ...,\n",
       "       [131.38999939],\n",
       "       [132.97999573],\n",
       "       [134.3500061 ]])"
      ]
     },
     "execution_count": 14,
     "metadata": {},
     "output_type": "execute_result"
    }
   ],
   "source": [
    "ds"
   ]
  },
  {
   "cell_type": "code",
   "execution_count": 15,
   "metadata": {
    "colab": {
     "base_uri": "https://localhost:8080/",
     "height": 265
    },
    "execution": {
     "iopub.execute_input": "2022-12-17T11:59:11.429775Z",
     "iopub.status.busy": "2022-12-17T11:59:11.428737Z",
     "iopub.status.idle": "2022-12-17T11:59:11.642103Z",
     "shell.execute_reply": "2022-12-17T11:59:11.640812Z",
     "shell.execute_reply.started": "2022-12-17T11:59:11.429737Z"
    },
    "id": "eWbGB_ZPB-k3",
    "outputId": "5f7e662f-374c-4923-aa07-6bfd895bf6a9"
   },
   "outputs": [
    {
     "data": {
      "image/png": "[encoded data removed]",
      "text/plain": [
       "<Figure size 640x480 with 1 Axes>"
      ]
     },
     "metadata": {},
     "output_type": "display_data"
    }
   ],
   "source": [
    "plt.plot(ds);"
   ]
  },
  {
   "cell_type": "code",
   "execution_count": 16,
   "metadata": {
    "execution": {
     "iopub.execute_input": "2022-12-17T11:59:11.644477Z",
     "iopub.status.busy": "2022-12-17T11:59:11.643998Z",
     "iopub.status.idle": "2022-12-17T11:59:11.649778Z",
     "shell.execute_reply": "2022-12-17T11:59:11.648516Z",
     "shell.execute_reply.started": "2022-12-17T11:59:11.644433Z"
    },
    "id": "BH7VXjLXB-k4"
   },
   "outputs": [],
   "source": [
    "import numpy as np"
   ]
  },
  {
   "cell_type": "code",
   "execution_count": 17,
   "metadata": {
    "execution": {
     "iopub.execute_input": "2022-12-17T11:59:11.652090Z",
     "iopub.status.busy": "2022-12-17T11:59:11.651697Z",
     "iopub.status.idle": "2022-12-17T11:59:12.812653Z",
     "shell.execute_reply": "2022-12-17T11:59:12.811259Z",
     "shell.execute_reply.started": "2022-12-17T11:59:11.652057Z"
    },
    "id": "MBLXMAKVB-k4"
   },
   "outputs": [],
   "source": [
    "from sklearn.preprocessing import MinMaxScaler"
   ]
  },
  {
   "cell_type": "code",
   "execution_count": 18,
   "metadata": {
    "execution": {
     "iopub.execute_input": "2022-12-17T11:59:12.814748Z",
     "iopub.status.busy": "2022-12-17T11:59:12.814240Z",
     "iopub.status.idle": "2022-12-17T11:59:12.822278Z",
     "shell.execute_reply": "2022-12-17T11:59:12.820958Z",
     "shell.execute_reply.started": "2022-12-17T11:59:12.814702Z"
    },
    "id": "syVwgLj1B-k5"
   },
   "outputs": [],
   "source": [
    "normalizer = MinMaxScaler(feature_range=(0,1))\n",
    "ds_scaled = normalizer.fit_transform(np.array(ds).reshape(-1,1))"
   ]
  },
  {
   "cell_type": "code",
   "execution_count": 19,
   "metadata": {
    "colab": {
     "base_uri": "https://localhost:8080/",
     "height": 0
    },
    "execution": {
     "iopub.execute_input": "2022-12-17T11:59:12.825392Z",
     "iopub.status.busy": "2022-12-17T11:59:12.824715Z",
     "iopub.status.idle": "2022-12-17T11:59:12.842092Z",
     "shell.execute_reply": "2022-12-17T11:59:12.841102Z",
     "shell.execute_reply.started": "2022-12-17T11:59:12.825345Z"
    },
    "id": "4s71ExEzB-k5",
    "outputId": "c7148882-3040-4e45-ac73-2763fc79fb05"
   },
   "outputs": [
    {
     "data": {
      "text/plain": [
       "(1258, 1258)"
      ]
     },
     "execution_count": 19,
     "metadata": {},
     "output_type": "execute_result"
    }
   ],
   "source": [
    "len(ds_scaled),len(ds)"
   ]
  },
  {
   "cell_type": "code",
   "execution_count": 20,
   "metadata": {
    "execution": {
     "iopub.execute_input": "2022-12-17T11:59:12.844260Z",
     "iopub.status.busy": "2022-12-17T11:59:12.843393Z",
     "iopub.status.idle": "2022-12-17T11:59:12.852583Z",
     "shell.execute_reply": "2022-12-17T11:59:12.851164Z",
     "shell.execute_reply.started": "2022-12-17T11:59:12.844223Z"
    },
    "id": "XQ6fg4DYB-k6"
   },
   "outputs": [],
   "source": [
    "train_size = int(len(ds_scaled)*0.70)\n",
    "test_size = len(ds_scaled)-train_size"
   ]
  },
  {
   "cell_type": "code",
   "execution_count": 21,
   "metadata": {
    "colab": {
     "base_uri": "https://localhost:8080/",
     "height": 0
    },
    "execution": {
     "iopub.execute_input": "2022-12-17T11:59:12.855303Z",
     "iopub.status.busy": "2022-12-17T11:59:12.854369Z",
     "iopub.status.idle": "2022-12-17T11:59:12.868777Z",
     "shell.execute_reply": "2022-12-17T11:59:12.867799Z",
     "shell.execute_reply.started": "2022-12-17T11:59:12.855256Z"
    },
    "id": "45td1eq-B-k6",
    "outputId": "e3d61ffd-8b75-4929-e075-4e7ed81fdc6f"
   },
   "outputs": [
    {
     "data": {
      "text/plain": [
       "(880, 378)"
      ]
     },
     "execution_count": 21,
     "metadata": {},
     "output_type": "execute_result"
    }
   ],
   "source": [
    "train_size,test_size"
   ]
  },
  {
   "cell_type": "code",
   "execution_count": 22,
   "metadata": {
    "execution": {
     "iopub.execute_input": "2022-12-17T11:59:12.871094Z",
     "iopub.status.busy": "2022-12-17T11:59:12.870092Z",
     "iopub.status.idle": "2022-12-17T11:59:12.878293Z",
     "shell.execute_reply": "2022-12-17T11:59:12.877177Z",
     "shell.execute_reply.started": "2022-12-17T11:59:12.871057Z"
    },
    "id": "iJNg7DfrB-k6"
   },
   "outputs": [],
   "source": [
    "ds_train,ds_test = ds_scaled[0:train_size,:],ds_scaled[train_size:len(ds_scaled),:1]"
   ]
  },
  {
   "cell_type": "code",
   "execution_count": 23,
   "metadata": {
    "colab": {
     "base_uri": "https://localhost:8080/",
     "height": 0
    },
    "execution": {
     "iopub.execute_input": "2022-12-17T11:59:12.880512Z",
     "iopub.status.busy": "2022-12-17T11:59:12.879543Z",
     "iopub.status.idle": "2022-12-17T11:59:12.893469Z",
     "shell.execute_reply": "2022-12-17T11:59:12.891912Z",
     "shell.execute_reply.started": "2022-12-17T11:59:12.880461Z"
    },
    "id": "AuIgW8y3B-k7",
    "outputId": "188008bf-bdd1-47e3-c789-40437402c13a"
   },
   "outputs": [
    {
     "data": {
      "text/plain": [
       "(880, 378)"
      ]
     },
     "execution_count": 23,
     "metadata": {},
     "output_type": "execute_result"
    }
   ],
   "source": [
    "len(ds_train),len(ds_test)"
   ]
  },
  {
   "cell_type": "code",
   "execution_count": 24,
   "metadata": {
    "execution": {
     "iopub.execute_input": "2022-12-17T11:59:12.895617Z",
     "iopub.status.busy": "2022-12-17T11:59:12.895239Z",
     "iopub.status.idle": "2022-12-17T11:59:12.904644Z",
     "shell.execute_reply": "2022-12-17T11:59:12.903093Z",
     "shell.execute_reply.started": "2022-12-17T11:59:12.895585Z"
    },
    "id": "iDkVlxWDB-k7"
   },
   "outputs": [],
   "source": [
    "#creating dataset in time series for LSTM\n",
    "def create_ds(dataset,step):\n",
    "    Xtrain,Ytrain = [],[]\n",
    "    for i in range(len(dataset)-step-1):\n",
    "        a = dataset[i:(i+step),0]\n",
    "        Xtrain.append(a)\n",
    "        Ytrain.append(dataset[i+step,0])\n",
    "    return np.array(Xtrain),np.array(Ytrain)"
   ]
  },
  {
   "cell_type": "code",
   "execution_count": 25,
   "metadata": {
    "execution": {
     "iopub.execute_input": "2022-12-17T11:59:12.906878Z",
     "iopub.status.busy": "2022-12-17T11:59:12.906374Z",
     "iopub.status.idle": "2022-12-17T11:59:12.918846Z",
     "shell.execute_reply": "2022-12-17T11:59:12.917141Z",
     "shell.execute_reply.started": "2022-12-17T11:59:12.906840Z"
    },
    "id": "ceoCwEdkB-k7"
   },
   "outputs": [],
   "source": [
    "#taking 100 days price as one record for training\n",
    "time_stamp = 100\n",
    "x_train,y_train = create_ds(ds_train,time_stamp)\n",
    "x_test,y_test = create_ds(ds_test,time_stamp)"
   ]
  },
  {
   "cell_type": "code",
   "execution_count": 26,
   "metadata": {
    "colab": {
     "base_uri": "https://localhost:8080/",
     "height": 0
    },
    "execution": {
     "iopub.execute_input": "2022-12-17T11:59:12.921560Z",
     "iopub.status.busy": "2022-12-17T11:59:12.920844Z",
     "iopub.status.idle": "2022-12-17T11:59:12.935104Z",
     "shell.execute_reply": "2022-12-17T11:59:12.933814Z",
     "shell.execute_reply.started": "2022-12-17T11:59:12.921519Z"
    },
    "id": "E_XSBTlhB-k7",
    "outputId": "a20e135d-e5c2-4a0d-c300-bbe58948de03"
   },
   "outputs": [
    {
     "data": {
      "text/plain": [
       "((779, 100), (779,))"
      ]
     },
     "execution_count": 26,
     "metadata": {},
     "output_type": "execute_result"
    }
   ],
   "source": [
    "x_train.shape,y_train.shape"
   ]
  },
  {
   "cell_type": "code",
   "execution_count": 27,
   "metadata": {
    "colab": {
     "base_uri": "https://localhost:8080/",
     "height": 0
    },
    "execution": {
     "iopub.execute_input": "2022-12-17T11:59:12.937516Z",
     "iopub.status.busy": "2022-12-17T11:59:12.936944Z",
     "iopub.status.idle": "2022-12-17T11:59:12.947951Z",
     "shell.execute_reply": "2022-12-17T11:59:12.946859Z",
     "shell.execute_reply.started": "2022-12-17T11:59:12.937476Z"
    },
    "id": "qwudY1ZRB-k7",
    "outputId": "325085af-6499-45bf-93ba-ece11c06eab3"
   },
   "outputs": [
    {
     "data": {
      "text/plain": [
       "((277, 100), (277,))"
      ]
     },
     "execution_count": 27,
     "metadata": {},
     "output_type": "execute_result"
    }
   ],
   "source": [
    "x_test.shape,y_test.shape"
   ]
  },
  {
   "cell_type": "code",
   "execution_count": 28,
   "metadata": {
    "execution": {
     "iopub.execute_input": "2022-12-17T11:59:12.949991Z",
     "iopub.status.busy": "2022-12-17T11:59:12.949594Z",
     "iopub.status.idle": "2022-12-17T11:59:12.957159Z",
     "shell.execute_reply": "2022-12-17T11:59:12.956007Z",
     "shell.execute_reply.started": "2022-12-17T11:59:12.949949Z"
    },
    "id": "p0RNIuYQB-k7"
   },
   "outputs": [],
   "source": [
    "#reshaping data to fit into LSTM model\n",
    "x_train =x_train.reshape(x_train.shape[0],x_train.shape[1],1)\n",
    "x_test =x_test.reshape(x_test.shape[0],x_test.shape[1],1)\n"
   ]
  },
  {
   "cell_type": "code",
   "execution_count": 29,
   "metadata": {
    "execution": {
     "iopub.execute_input": "2022-12-17T11:59:12.959022Z",
     "iopub.status.busy": "2022-12-17T11:59:12.958635Z",
     "iopub.status.idle": "2022-12-17T11:59:19.658190Z",
     "shell.execute_reply": "2022-12-17T11:59:19.656814Z",
     "shell.execute_reply.started": "2022-12-17T11:59:12.958983Z"
    },
    "id": "cYE2uis9B-k8"
   },
   "outputs": [],
   "source": [
    "from keras.models import Sequential\n",
    "from keras.layers import Dense,LSTM"
   ]
  },
  {
   "cell_type": "code",
   "execution_count": 30,
   "metadata": {
    "colab": {
     "base_uri": "https://localhost:8080/",
     "height": 0
    },
    "execution": {
     "iopub.execute_input": "2022-12-17T11:59:19.664267Z",
     "iopub.status.busy": "2022-12-17T11:59:19.663528Z",
     "iopub.status.idle": "2022-12-17T11:59:20.550251Z",
     "shell.execute_reply": "2022-12-17T11:59:20.548859Z",
     "shell.execute_reply.started": "2022-12-17T11:59:19.664227Z"
    },
    "id": "KG63O6AzB-k8",
    "outputId": "d203d1af-a94c-4359-df0a-5103744eec2a"
   },
   "outputs": [
    {
     "name": "stdout",
     "output_type": "stream",
     "text": [
      "Model: \"sequential\"\n",
      "_________________________________________________________________\n",
      " Layer (type)                Output Shape              Param #   \n",
      "=================================================================\n",
      " lstm (LSTM)                 (None, 100, 50)           10400     \n",
      "                                                                 \n",
      " lstm_1 (LSTM)               (None, 100, 50)           20200     \n",
      "                                                                 \n",
      " lstm_2 (LSTM)               (None, 50)                20200     \n",
      "                                                                 \n",
      " dense (Dense)               (None, 1)                 51        \n",
      "                                                                 \n",
      "=================================================================\n",
      "Total params: 50,851\n",
      "Trainable params: 50,851\n",
      "Non-trainable params: 0\n",
      "_________________________________________________________________\n"
     ]
    }
   ],
   "source": [
    "#creating LSTM model using keras\n",
    "model = Sequential()\n",
    "model.add(LSTM(units=50,return_sequences=True,input_shape=(x_train.shape[1],1)))\n",
    "model.add(LSTM(units=50,return_sequences=True))\n",
    "model.add(LSTM(units=50))\n",
    "model.add(Dense(units=1,activation='linear'))\n",
    "model.summary()"
   ]
  },
  {
   "cell_type": "code",
   "execution_count": null,
   "metadata": {
    "colab": {
     "base_uri": "https://localhost:8080/",
     "height": 0
    },
    "id": "KX9qA9XEB-k8",
    "outputId": "dc1f6c9b-e475-4f48-c869-d00ccc8085f0"
   },
   "outputs": [
    {
     "name": "stdout",
     "output_type": "stream",
     "text": [
      "Epoch 1/100\n"
     ]
    }
   ],
   "source": [
    "#Training model with adam optimizer and mean squared error loss function\n",
    "model.compile(loss='mean_squared_error',optimizer = 'adam')\n",
    "model.fit(x_train,y_train,validation_data=(x_test,y_test),epochs=100,batch_size=64)"
   ]
  },
  {
   "cell_type": "code",
   "execution_count": null,
   "metadata": {
    "colab": {
     "base_uri": "https://localhost:8080/",
     "height": 282
    },
    "id": "VdbM6ihwB-k8",
    "outputId": "626b9a67-18e6-40d7-df80-5c42c61c6cba"
   },
   "outputs": [],
   "source": [
    "#plotting loss,it showsthat loss has decreased significantly and model trained well\n",
    "loss = model.history.history['loss']\n",
    "plt.plot(loss)"
   ]
  },
  {
   "cell_type": "code",
   "execution_count": null,
   "metadata": {
    "colab": {
     "base_uri": "https://localhost:8080/",
     "height": 0
    },
    "id": "SbYgzeoiB-k8",
    "outputId": "224c2532-3145-47d8-82a6-659957bdb385"
   },
   "outputs": [],
   "source": [
    "#Predicting on train and test data\n",
    "train_predict = model.predict(x_train)\n",
    "test_predict = model.predict(x_test)"
   ]
  },
  {
   "cell_type": "code",
   "execution_count": null,
   "metadata": {
    "id": "2tV_dayHB-k8"
   },
   "outputs": [],
   "source": [
    "#inverse transforn to get actual value\n",
    "train_predict = normalizer.inverse_transform(train_predict)\n",
    "test_predict = normalizer.inverse_transform(test_predict)"
   ]
  },
  {
   "cell_type": "code",
   "execution_count": null,
   "metadata": {
    "colab": {
     "base_uri": "https://localhost:8080/",
     "height": 282
    },
    "id": "HDix66N3B-k8",
    "outputId": "d5516cb9-0e19-4a5f-c539-4838c7154f19"
   },
   "outputs": [],
   "source": [
    "#comparing using visuals\n",
    "plt.plot(normalizer.inverse_transform(ds_scaled))\n",
    "plt.plot(train_predict)\n",
    "plt.plot(test_predict)"
   ]
  },
  {
   "cell_type": "code",
   "execution_count": null,
   "metadata": {
    "colab": {
     "base_uri": "https://localhost:8080/",
     "height": 0
    },
    "id": "4nEO_ydrB-k8",
    "outputId": "f0684714-d3ac-4c13-c1ec-df34b4b4b83a"
   },
   "outputs": [],
   "source": [
    "type(train_predict)"
   ]
  },
  {
   "cell_type": "code",
   "execution_count": null,
   "metadata": {
    "id": "g-Dd7a5wB-k8"
   },
   "outputs": [],
   "source": [
    "test = np.vstack((train_predict,test_predict))"
   ]
  },
  {
   "cell_type": "code",
   "execution_count": null,
   "metadata": {
    "colab": {
     "base_uri": "https://localhost:8080/",
     "height": 282
    },
    "id": "CsGeweg7B-k9",
    "outputId": "a023b72c-120d-4ba5-82ec-dc9d59fd0848"
   },
   "outputs": [],
   "source": [
    "#combining the predicted data to creatye uniforn data visualization\n",
    "plt.plot(normalizer.inverse_transform(ds_scaled))\n",
    "plt.plot(test)"
   ]
  },
  {
   "cell_type": "code",
   "execution_count": null,
   "metadata": {
    "colab": {
     "base_uri": "https://localhost:8080/",
     "height": 0
    },
    "id": "X7_fI0LsB-k9",
    "outputId": "5f885107-8d4b-4dbc-b25a-a7235b2f9a04"
   },
   "outputs": [],
   "source": [
    "len(ds_test)"
   ]
  },
  {
   "cell_type": "code",
   "execution_count": null,
   "metadata": {
    "id": "o8htJrv9B-k9"
   },
   "outputs": [],
   "source": [
    "#getting  the last 100 days records\n",
    "fut_inp = ds_test[270:]"
   ]
  },
  {
   "cell_type": "code",
   "execution_count": null,
   "metadata": {
    "id": "4gGMyyCGB-k9"
   },
   "outputs": [],
   "source": [
    "fut_inp = fut_inp.reshape(1,-1)"
   ]
  },
  {
   "cell_type": "code",
   "execution_count": null,
   "metadata": {
    "id": "-wYg2mXXB-k9"
   },
   "outputs": [],
   "source": [
    "tmp_inp = list(fut_inp)"
   ]
  },
  {
   "cell_type": "code",
   "execution_count": null,
   "metadata": {
    "id": "Mzm1R-KDB-k9"
   },
   "outputs": [],
   "source": [
    "#creating list of the last 100 days\n",
    "tmp_inp = tmp_inp[0].tolist()"
   ]
  },
  {
   "cell_type": "code",
   "execution_count": null,
   "metadata": {
    "colab": {
     "base_uri": "https://localhost:8080/",
     "height": 0
    },
    "id": "aeYKVd3kB-k9",
    "outputId": "b055a782-409b-43af-e9d2-8f63d67d0a8e"
   },
   "outputs": [],
   "source": [
    "#Predicting next 30 days price suing the current data\n",
    "#It will predict in sliding window manner (algorithm) with stride 1\n",
    "lst_output=[]\n",
    "n_steps=100\n",
    "i=0\n",
    "while(i<30):\n",
    "    \n",
    "    if(len(tmp_inp)>100):\n",
    "        fut_inp = np.array(tmp_inp[1:])\n",
    "        fut_inp=fut_inp.reshape(1,-1)\n",
    "        fut_inp = fut_inp.reshape((1, n_steps, 1))\n",
    "        yhat = model.predict(fut_inp, verbose=0)\n",
    "        tmp_inp.extend(yhat[0].tolist())\n",
    "        tmp_inp = tmp_inp[1:]\n",
    "        lst_output.extend(yhat.tolist())\n",
    "        i=i+1\n",
    "    else:\n",
    "        fut_inp = fut_inp.reshape((1, n_steps,1))\n",
    "        yhat = model.predict(fut_inp, verbose=0)\n",
    "        tmp_inp.extend(yhat[0].tolist())\n",
    "        lst_output.extend(yhat.tolist())\n",
    "        i=i+1\n",
    "    \n",
    "\n",
    "print(lst_output)\n",
    "        "
   ]
  },
  {
   "cell_type": "code",
   "execution_count": null,
   "metadata": {
    "colab": {
     "base_uri": "https://localhost:8080/",
     "height": 0
    },
    "id": "c-SQ_IuGB-k9",
    "outputId": "4c9b7255-a855-4280-b331-962213e6f111"
   },
   "outputs": [],
   "source": [
    "len(ds_scaled)\n"
   ]
  },
  {
   "cell_type": "code",
   "execution_count": null,
   "metadata": {
    "id": "OOTS8bg-B-k9"
   },
   "outputs": [],
   "source": [
    "#Creating a dummy plane to plot graph one after another\n",
    "plot_new=np.arange(1,101)\n",
    "plot_pred=np.arange(101,131)"
   ]
  },
  {
   "cell_type": "code",
   "execution_count": null,
   "metadata": {
    "id": "r2f5Z0bRB-k-"
   },
   "outputs": [],
   "source": [
    "\n",
    "ds_new = ds_scaled.tolist()"
   ]
  },
  {
   "cell_type": "code",
   "execution_count": null,
   "metadata": {
    "colab": {
     "base_uri": "https://localhost:8080/",
     "height": 0
    },
    "id": "nwgh4c3iB-k-",
    "outputId": "005be5ca-fb7c-4faa-a7fd-942dac4821ac"
   },
   "outputs": [],
   "source": [
    "len(ds_new)\n"
   ]
  },
  {
   "cell_type": "code",
   "execution_count": null,
   "metadata": {},
   "outputs": [],
   "source": [
    "#Creating final data for plotting\n",
    "final_graph = normalizer.inverse_transform(ds_new).tolist()"
   ]
  },
  {
   "cell_type": "code",
   "execution_count": null,
   "metadata": {
    "colab": {
     "base_uri": "https://localhost:8080/",
     "height": 312
    },
    "id": "IC96NG-LGdrg",
    "outputId": "19f52942-8bb7-4f38-c6f4-c9396a0e39fc"
   },
   "outputs": [],
   "source": [
    "#Plotting final results with predicted value after 30 Days\n",
    "plt.plot(final_graph,)\n",
    "plt.ylabel(\"Price\")\n",
    "plt.xlabel(\"Time\")\n",
    "plt.title(\"{0} prediction of next month open\".format(stock_symbol))\n",
    "plt.axhline(y=final_graph[len(final_graph)-1], color = 'red', linestyle = ':', label = 'NEXT 30D: {0}'.format(round(float(*final_graph[len(final_graph)-1]),2)))\n",
    "plt.legend()"
   ]
  },
  {
   "cell_type": "code",
   "execution_count": null,
   "metadata": {
    "colab": {
     "base_uri": "https://localhost:8080/",
     "height": 282
    },
    "id": "OogjbMDGB-k-",
    "outputId": "d8c6922e-cbda-4c09-a299-bf6da5e2bceb"
   },
   "outputs": [],
   "source": [
    "#Entends helps us to fill the missing value with approx value\n",
    "ds_new.extend(lst_output)\n",
    "plt.plot(ds_new[1200:])"
   ]
  },
  {
   "cell_type": "code",
   "execution_count": null,
   "metadata": {
    "id": "EDd8qfmIB-k-"
   },
   "outputs": [],
   "source": []
  },
  {
   "cell_type": "code",
   "execution_count": null,
   "metadata": {
    "colab": {
     "base_uri": "https://localhost:8080/",
     "height": 312
    },
    "id": "MKGT88guB-k-",
    "outputId": "83b34165-5c8c-4e22-e769-2c0ed7141a4f"
   },
   "outputs": [],
   "source": [
    "#Plotting final results with predicted value after 30 Days\n",
    "plt.plot(final_graph,)\n",
    "plt.ylabel(\"Price\")\n",
    "plt.xlabel(\"Time\")\n",
    "plt.title(\"{0} prediction of next month open\".format(stock_symbol))\n",
    "plt.axhline(y=final_graph[len(final_graph)-1], color = 'red', linestyle = ':', label = 'NEXT 30D: {0}'.format(round(float(*final_graph[len(final_graph)-1]),2)))\n",
    "plt.legend()"
   ]
  },
  {
   "cell_type": "code",
   "execution_count": null,
   "metadata": {
    "id": "kcjFSPDVB-k-"
   },
   "outputs": [],
   "source": []
  },
  {
   "cell_type": "code",
   "execution_count": null,
   "metadata": {
    "id": "SNP9msBsB-k-"
   },
   "outputs": [],
   "source": []
  },
  {
   "cell_type": "code",
   "execution_count": null,
   "metadata": {
    "id": "VVQz_5GtB-k-"
   },
   "outputs": [],
   "source": []
  },
  {
   "cell_type": "code",
   "execution_count": null,
   "metadata": {
    "id": "t-eqY49RB-k-"
   },
   "outputs": [],
   "source": []
  }
 ],
 "metadata": {
  "colab": {
   "provenance": []
  },
  "kernelspec": {
   "display_name": "Python 3 (ipykernel)",
   "language": "python",
   "name": "python3"
  },
  "language_info": {
   "codemirror_mode": {
    "name": "ipython",
    "version": 3
   },
   "file_extension": ".py",
   "mimetype": "text/x-python",
   "name": "python",
   "nbconvert_exporter": "python",
   "pygments_lexer": "ipython3",
   "version": "3.10.6"
  }
 },
 "nbformat": 4,
 "nbformat_minor": 1
}
