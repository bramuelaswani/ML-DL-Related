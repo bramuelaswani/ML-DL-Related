{
 "cells": [
  {
   "cell_type": "code",
   "execution_count": null,
   "metadata": {
    "id": "bSHMVkyd3DwT"
   },
   "outputs": [],
   "source": [
    "import pandas as pd\n",
    "import matplotlib.pyplot as plt\n",
    "import numpy as np\n",
    "import seaborn as sns\n",
    "sns.set_theme(color_codes=True)"
   ]
  },
  {
   "cell_type": "code",
   "execution_count": null,
   "metadata": {
    "colab": {
     "base_uri": "https://localhost:8080/",
     "height": 424
    },
    "id": "nZIWC3Kh3Rmv",
    "outputId": "52c5264e-f002-4151-ef72-6dd9d2f0f842"
   },
   "outputs": [],
   "source": [
    "df = pd.read_csv('heart.csv')\n",
    "df"
   ]
  },
  {
   "cell_type": "markdown",
   "metadata": {
    "id": "ttwh9ylq39qO"
   },
   "source": [
    "#Exploratory Data Analysis"
   ]
  },
  {
   "cell_type": "code",
   "execution_count": null,
   "metadata": {
    "colab": {
     "base_uri": "https://localhost:8080/",
     "height": 302
    },
    "id": "i8l6OHUi35vV",
    "outputId": "9cf531a4-857c-4817-9dda-510e22dd037c"
   },
   "outputs": [],
   "source": [
    "sns.countplot(data=df, x=\"sex\", hue=\"target\")"
   ]
  },
  {
   "cell_type": "code",
   "execution_count": null,
   "metadata": {
    "colab": {
     "base_uri": "https://localhost:8080/",
     "height": 302
    },
    "id": "zxsyp-Ns72uN",
    "outputId": "2ae6cea6-b50b-4196-b055-0c3b5d938106"
   },
   "outputs": [],
   "source": [
    "sns.histplot(data=df, x=\"age\", hue=\"target\", multiple=\"stack\")"
   ]
  },
  {
   "cell_type": "code",
   "execution_count": null,
   "metadata": {
    "colab": {
     "base_uri": "https://localhost:8080/",
     "height": 302
    },
    "id": "HUQsQOLf9Ip3",
    "outputId": "3bcf3764-086b-408c-f1dc-955b89963f8b"
   },
   "outputs": [],
   "source": [
    "sns.histplot(data=df, x=\"chol\", hue=\"target\", multiple=\"stack\")"
   ]
  },
  {
   "cell_type": "code",
   "execution_count": null,
   "metadata": {
    "colab": {
     "base_uri": "https://localhost:8080/",
     "height": 302
    },
    "id": "E1-6DAWC9cLi",
    "outputId": "a8d801fc-6e9d-4924-b41c-f82bfcc1ae2c"
   },
   "outputs": [],
   "source": [
    "sns.histplot(data=df, x=\"trestbps\", hue=\"target\", multiple=\"stack\")"
   ]
  },
  {
   "cell_type": "code",
   "execution_count": null,
   "metadata": {
    "colab": {
     "base_uri": "https://localhost:8080/",
     "height": 302
    },
    "id": "d2EVibPm9rmY",
    "outputId": "4f3d17d8-d230-449b-d917-eb8c0df5260b"
   },
   "outputs": [],
   "source": [
    "sns.histplot(data=df, x=\"thalach\", hue=\"target\", multiple=\"stack\")"
   ]
  },
  {
   "cell_type": "markdown",
   "metadata": {
    "id": "_3XuagKV9zqH"
   },
   "source": [
    "#Data Preprocessing"
   ]
  },
  {
   "cell_type": "code",
   "execution_count": null,
   "metadata": {
    "colab": {
     "base_uri": "https://localhost:8080/"
    },
    "id": "e6Ub8-lp92Kz",
    "outputId": "ae636303-639e-4894-f6de-c582e2ed1e22"
   },
   "outputs": [],
   "source": [
    "df.isnull().sum()"
   ]
  },
  {
   "cell_type": "code",
   "execution_count": null,
   "metadata": {
    "colab": {
     "base_uri": "https://localhost:8080/",
     "height": 392
    },
    "id": "nOrfOQOX-D7-",
    "outputId": "9c2af424-895f-42a8-b61b-8dc19137cf06"
   },
   "outputs": [],
   "source": [
    "sns.countplot(df['target'])\n",
    "print(df.target.value_counts())"
   ]
  },
  {
   "cell_type": "markdown",
   "metadata": {
    "id": "AO_ow-8P-xkA"
   },
   "source": [
    "#Outlier Detection Using Boxplot"
   ]
  },
  {
   "cell_type": "code",
   "execution_count": null,
   "metadata": {
    "colab": {
     "base_uri": "https://localhost:8080/",
     "height": 302
    },
    "id": "t6u9fVBf-2v5",
    "outputId": "05c9e1bc-e147-40e0-eaaa-9cec3edbcb49"
   },
   "outputs": [],
   "source": [
    "sns.boxplot(x=df[\"age\"])"
   ]
  },
  {
   "cell_type": "code",
   "execution_count": null,
   "metadata": {
    "colab": {
     "base_uri": "https://localhost:8080/",
     "height": 302
    },
    "id": "okFvfSWx-_Pi",
    "outputId": "def5055a-25e2-4236-8e38-5c8c432e19e9"
   },
   "outputs": [],
   "source": [
    "sns.boxplot(x=df[\"trestbps\"])"
   ]
  },
  {
   "cell_type": "code",
   "execution_count": null,
   "metadata": {
    "colab": {
     "base_uri": "https://localhost:8080/",
     "height": 302
    },
    "id": "XVtVBmvB_HQC",
    "outputId": "c9fa9b11-cef3-4494-adb7-634517b5531a"
   },
   "outputs": [],
   "source": [
    "sns.boxplot(x=df[\"chol\"])"
   ]
  },
  {
   "cell_type": "code",
   "execution_count": null,
   "metadata": {
    "colab": {
     "base_uri": "https://localhost:8080/",
     "height": 302
    },
    "id": "P-oJttbC_LPz",
    "outputId": "2bd2c8e2-8d48-43fb-c4cb-b5ebf77117ec"
   },
   "outputs": [],
   "source": [
    "sns.boxplot(x=df[\"thalach\"])"
   ]
  },
  {
   "cell_type": "code",
   "execution_count": null,
   "metadata": {
    "colab": {
     "base_uri": "https://localhost:8080/",
     "height": 302
    },
    "id": "mR5ep4Uv_Pr5",
    "outputId": "252e0c4f-691b-46f4-e574-3848a1a503c7"
   },
   "outputs": [],
   "source": [
    "sns.boxplot(x=df[\"oldpeak\"])"
   ]
  },
  {
   "cell_type": "markdown",
   "metadata": {
    "id": "a77rQjzm_Wqm"
   },
   "source": [
    "#Outlier Removal Using Z-Score"
   ]
  },
  {
   "cell_type": "code",
   "execution_count": null,
   "metadata": {
    "colab": {
     "base_uri": "https://localhost:8080/"
    },
    "id": "OEMmt3ma_ZxF",
    "outputId": "d69fbb8a-a2ea-45ef-9d16-3bef64ae57c6"
   },
   "outputs": [],
   "source": [
    "import scipy.stats as stats\n",
    "z = np.abs(stats.zscore(df))\n",
    "data_clean = df[(z<3).all(axis = 1)] \n",
    "data_clean.shape"
   ]
  },
  {
   "cell_type": "markdown",
   "metadata": {
    "id": "nvgvuJSP_iCv"
   },
   "source": [
    "#Data Correlation using Heatmap"
   ]
  },
  {
   "cell_type": "code",
   "execution_count": null,
   "metadata": {
    "colab": {
     "base_uri": "https://localhost:8080/",
     "height": 324
    },
    "id": "VlrNbSAy_mCi",
    "outputId": "7ade9e7a-21c8-489b-d223-ee2c3ed3dcb5"
   },
   "outputs": [],
   "source": [
    "sns.heatmap(data_clean.corr(), fmt='.2g')"
   ]
  },
  {
   "cell_type": "markdown",
   "metadata": {
    "id": "BLUQchyZTqe7"
   },
   "source": [
    "#Correlation between Class and other attributes"
   ]
  },
  {
   "cell_type": "code",
   "execution_count": null,
   "metadata": {
    "colab": {
     "base_uri": "https://localhost:8080/",
     "height": 303
    },
    "id": "6YzWm3Bc_tw4",
    "outputId": "879228e2-70fc-429c-acb1-913b87113b5c"
   },
   "outputs": [],
   "source": [
    "corr = data_clean[data_clean.columns[1:]].corr()['target'][:-1]\n",
    "plt.plot(corr)\n",
    "plt.xticks(rotation=90)\n",
    "plt.show()"
   ]
  },
  {
   "cell_type": "markdown",
   "metadata": {
    "id": "2Lb9r6QpAn5k"
   },
   "source": [
    "#Machine Learning Model Building"
   ]
  },
  {
   "cell_type": "code",
   "execution_count": null,
   "metadata": {
    "id": "Hge3OrRLAqyu"
   },
   "outputs": [],
   "source": [
    "X = data_clean.drop('target', axis=1)\n",
    "y = data_clean['target']"
   ]
  },
  {
   "cell_type": "code",
   "execution_count": null,
   "metadata": {
    "id": "OYLcXcU-Aw2L"
   },
   "outputs": [],
   "source": [
    "from sklearn.model_selection import train_test_split\n",
    "from sklearn.metrics import accuracy_score\n",
    "X_train, X_test, y_train, y_test = train_test_split(X,y, test_size=0.2,random_state=0)"
   ]
  },
  {
   "cell_type": "markdown",
   "metadata": {
    "id": "SajXtu8KA4cN"
   },
   "source": [
    "#Decision Tree"
   ]
  },
  {
   "cell_type": "code",
   "execution_count": null,
   "metadata": {
    "colab": {
     "base_uri": "https://localhost:8080/"
    },
    "id": "Tn0hISW0A6K3",
    "outputId": "c0599e90-8534-4bbc-d598-fdc0d8de3175"
   },
   "outputs": [],
   "source": [
    "from sklearn.tree import DecisionTreeClassifier\n",
    "dtree = DecisionTreeClassifier(random_state = 0)\n",
    "dtree.fit(X_train, y_train)"
   ]
  },
  {
   "cell_type": "code",
   "execution_count": null,
   "metadata": {
    "colab": {
     "base_uri": "https://localhost:8080/"
    },
    "id": "JrWjRKCDA9Xm",
    "outputId": "9e02a056-3137-45d3-90b6-300d8b74ed6e"
   },
   "outputs": [],
   "source": [
    "y_pred = dtree.predict(X_test)\n",
    "print(\"Accuracy Score :\", round(accuracy_score(y_test, y_pred)*100 ,2), \"%\")"
   ]
  },
  {
   "cell_type": "code",
   "execution_count": null,
   "metadata": {
    "colab": {
     "base_uri": "https://localhost:8080/"
    },
    "id": "MZQhE1gpBCAx",
    "outputId": "99810caa-4696-409b-8ab7-bc86f4ab1da7"
   },
   "outputs": [],
   "source": [
    "from sklearn.metrics import accuracy_score, f1_score, precision_score, recall_score\n",
    "print('F-1 Score : ',(f1_score(y_test, y_pred)))\n",
    "print('Precision Score : ',(precision_score(y_test, y_pred)))\n",
    "print('Recall Score : ',(recall_score(y_test, y_pred)))"
   ]
  },
  {
   "cell_type": "code",
   "execution_count": null,
   "metadata": {
    "colab": {
     "base_uri": "https://localhost:8080/",
     "height": 524
    },
    "id": "xzHaGo2lBT1V",
    "outputId": "cf5620d4-8fd7-4e95-fdb2-46818a07fee1"
   },
   "outputs": [],
   "source": [
    "#Feature Importance\n",
    "imp_df = pd.DataFrame({\n",
    "    \"Feature Name\": X_train.columns,\n",
    "    \"Importance\": dtree.feature_importances_\n",
    "})\n",
    "fi = imp_df.sort_values(by=\"Importance\", ascending=False)\n",
    "plt.figure(figsize=(10,8))\n",
    "sns.barplot(data=fi, x='Importance', y='Feature Name')\n",
    "plt.title('Feature Importance Each Attributes', fontsize=18)\n",
    "plt.xlabel ('Importance', fontsize=16)\n",
    "plt.ylabel ('Feature Name', fontsize=16)\n",
    "plt.show()"
   ]
  },
  {
   "cell_type": "markdown",
   "metadata": {
    "id": "IvBAVtgXBd3_"
   },
   "source": [
    "#Random Forest"
   ]
  },
  {
   "cell_type": "code",
   "execution_count": null,
   "metadata": {
    "colab": {
     "base_uri": "https://localhost:8080/"
    },
    "id": "_AShC8q-BgDw",
    "outputId": "b63c945a-279f-4dc9-c2c8-b23fcffe1415"
   },
   "outputs": [],
   "source": [
    "from sklearn.ensemble import RandomForestClassifier\n",
    "rfc = RandomForestClassifier(random_state=0)\n",
    "rfc.fit(X_train, y_train)"
   ]
  },
  {
   "cell_type": "code",
   "execution_count": null,
   "metadata": {
    "colab": {
     "base_uri": "https://localhost:8080/"
    },
    "id": "4G3F5CLYBpi9",
    "outputId": "60854430-672a-4113-bdbb-1905793cd368"
   },
   "outputs": [],
   "source": [
    "y_pred = rfc.predict(X_test)\n",
    "print(\"Accuracy Score :\", round(accuracy_score(y_test, y_pred)*100 ,2), \"%\")"
   ]
  },
  {
   "cell_type": "code",
   "execution_count": null,
   "metadata": {
    "colab": {
     "base_uri": "https://localhost:8080/"
    },
    "id": "atjUkzGIBssM",
    "outputId": "62813581-87a0-4d79-a392-bb1f97f6d650"
   },
   "outputs": [],
   "source": [
    "from sklearn.metrics import accuracy_score, f1_score, precision_score, recall_score\n",
    "print('F-1 Score : ',(f1_score(y_test, y_pred)))\n",
    "print('Precision Score : ',(precision_score(y_test, y_pred)))\n",
    "print('Recall Score : ',(recall_score(y_test, y_pred)))"
   ]
  },
  {
   "cell_type": "code",
   "execution_count": null,
   "metadata": {
    "colab": {
     "base_uri": "https://localhost:8080/",
     "height": 524
    },
    "id": "nEImvFvPBwq1",
    "outputId": "fac68a81-ce99-4146-c557-21195d5245b7"
   },
   "outputs": [],
   "source": [
    "#Feature Importance\n",
    "imp_df = pd.DataFrame({\n",
    "    \"Feature Name\": X_train.columns,\n",
    "    \"Importance\": rfc.feature_importances_\n",
    "})\n",
    "fi = imp_df.sort_values(by=\"Importance\", ascending=False)\n",
    "plt.figure(figsize=(10,8))\n",
    "sns.barplot(data=fi, x='Importance', y='Feature Name')\n",
    "plt.title('Feature Importance Each Attributes', fontsize=18)\n",
    "plt.xlabel ('Importance', fontsize=16)\n",
    "plt.ylabel ('Feature Name', fontsize=16)\n",
    "plt.show()"
   ]
  },
  {
   "cell_type": "markdown",
   "metadata": {
    "id": "fiPsem14B_6o"
   },
   "source": [
    "#AdaBoost"
   ]
  },
  {
   "cell_type": "code",
   "execution_count": null,
   "metadata": {
    "colab": {
     "base_uri": "https://localhost:8080/"
    },
    "id": "zLE0TzdTCB2M",
    "outputId": "bf0baa94-162c-48ee-9339-9a456231c2fa"
   },
   "outputs": [],
   "source": [
    "from sklearn.ensemble import AdaBoostClassifier\n",
    "ada = AdaBoostClassifier(random_state=0)\n",
    "ada.fit(X_train, y_train)"
   ]
  },
  {
   "cell_type": "code",
   "execution_count": null,
   "metadata": {
    "colab": {
     "base_uri": "https://localhost:8080/"
    },
    "id": "lUkZJB5jCFbj",
    "outputId": "b807e251-c550-48e3-ae91-50df84bea870"
   },
   "outputs": [],
   "source": [
    "y_pred = ada.predict(X_test)\n",
    "print(\"Accuracy Score :\", round(accuracy_score(y_test, y_pred)*100 ,2), \"%\")"
   ]
  },
  {
   "cell_type": "code",
   "execution_count": null,
   "metadata": {
    "colab": {
     "base_uri": "https://localhost:8080/"
    },
    "id": "lCYZ6dc-CKKj",
    "outputId": "183b882b-0ab1-4f89-a1cb-ac2979885fa0"
   },
   "outputs": [],
   "source": [
    "from sklearn.metrics import accuracy_score, f1_score, precision_score, recall_score\n",
    "print('F-1 Score : ',(f1_score(y_test, y_pred)))\n",
    "print('Precision Score : ',(precision_score(y_test, y_pred)))\n",
    "print('Recall Score : ',(recall_score(y_test, y_pred)))"
   ]
  },
  {
   "cell_type": "code",
   "execution_count": null,
   "metadata": {
    "colab": {
     "base_uri": "https://localhost:8080/",
     "height": 524
    },
    "id": "h2BrEqm3COKb",
    "outputId": "9e24ed0b-67e6-4831-9d26-742222dbb65a"
   },
   "outputs": [],
   "source": [
    "#Feature Importance\n",
    "imp_df = pd.DataFrame({\n",
    "    \"Feature Name\": X_train.columns,\n",
    "    \"Importance\": ada.feature_importances_\n",
    "})\n",
    "fi = imp_df.sort_values(by=\"Importance\", ascending=False)\n",
    "plt.figure(figsize=(10,8))\n",
    "sns.barplot(data=fi, x='Importance', y='Feature Name')\n",
    "plt.title('Feature Importance Each Attributes', fontsize=18)\n",
    "plt.xlabel ('Importance', fontsize=16)\n",
    "plt.ylabel ('Feature Name', fontsize=16)\n",
    "plt.show()"
   ]
  }
 ],
 "metadata": {
  "colab": {
   "provenance": []
  },
  "kernelspec": {
   "display_name": "Python 3 (ipykernel)",
   "language": "python",
   "name": "python3"
  },
  "language_info": {
   "codemirror_mode": {
    "name": "ipython",
    "version": 3
   },
   "file_extension": ".py",
   "mimetype": "text/x-python",
   "name": "python",
   "nbconvert_exporter": "python",
   "pygments_lexer": "ipython3",
   "version": "3.10.6"
  }
 },
 "nbformat": 4,
 "nbformat_minor": 1
}
