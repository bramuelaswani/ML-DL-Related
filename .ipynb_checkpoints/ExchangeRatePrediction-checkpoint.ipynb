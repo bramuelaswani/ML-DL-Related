{
 "cells": [
  {
   "cell_type": "markdown",
   "metadata": {},
   "source": [
    "# Application for Univariate Time Series: Algorithmic Trading Model for $/₺ Exchange Rates"
   ]
  },
  {
   "cell_type": "markdown",
   "metadata": {},
   "source": [
    "- <b>Univariate Time Series: ARIMA<b>"
   ]
  },
  {
   "cell_type": "code",
   "execution_count": 1,
   "metadata": {},
   "outputs": [
    {
     "ename": "ModuleNotFoundError",
     "evalue": "No module named 'yahoofinancials'",
     "output_type": "error",
     "traceback": [
      "\u001b[1;31m---------------------------------------------------------------------------\u001b[0m",
      "\u001b[1;31mModuleNotFoundError\u001b[0m                       Traceback (most recent call last)",
      "Input \u001b[1;32mIn [1]\u001b[0m, in \u001b[0;36m<cell line: 8>\u001b[1;34m()\u001b[0m\n\u001b[0;32m      6\u001b[0m \u001b[38;5;28;01mimport\u001b[39;00m \u001b[38;5;21;01mmatplotlib\u001b[39;00m\u001b[38;5;21;01m.\u001b[39;00m\u001b[38;5;21;01mpyplot\u001b[39;00m \u001b[38;5;28;01mas\u001b[39;00m \u001b[38;5;21;01mplt\u001b[39;00m\n\u001b[0;32m      7\u001b[0m \u001b[38;5;28;01mimport\u001b[39;00m \u001b[38;5;21;01mseaborn\u001b[39;00m \u001b[38;5;28;01mas\u001b[39;00m \u001b[38;5;21;01msns\u001b[39;00m\n\u001b[1;32m----> 8\u001b[0m \u001b[38;5;28;01mimport\u001b[39;00m \u001b[38;5;21;01myahoofinancials\u001b[39;00m \u001b[38;5;28;01mas\u001b[39;00m \u001b[38;5;21;01myf\u001b[39;00m\n\u001b[0;32m      9\u001b[0m \u001b[38;5;28;01mimport\u001b[39;00m \u001b[38;5;21;01mrequests\u001b[39;00m\n\u001b[0;32m     10\u001b[0m \u001b[38;5;28;01mimport\u001b[39;00m \u001b[38;5;21;01mftplib\u001b[39;00m\n",
      "\u001b[1;31mModuleNotFoundError\u001b[0m: No module named 'yahoofinancials'"
     ]
    }
   ],
   "source": [
    "import warnings \n",
    "warnings.filterwarnings('ignore')\n",
    "\n",
    "import numpy as np\n",
    "import pandas as pd\n",
    "import matplotlib.pyplot as plt\n",
    "import seaborn as sns\n",
    "import yahoofinancials as yf\n",
    "import requests\n",
    "import ftplib\n",
    "import io"
   ]
  },
  {
   "cell_type": "markdown",
   "metadata": {},
   "source": [
    "<b>Let's download the Dataset from Yahoo Finance<b>"
   ]
  },
  {
   "cell_type": "code",
   "execution_count": null,
   "metadata": {},
   "outputs": [],
   "source": [
    "history = yf.YahooFinancials('USDTRY=X').get_historical_price_data('2017-01-01', '2020-12-31', 'daily')\n",
    "\n",
    "df = pd.DataFrame(history['USDTRY=X']['prices'])\n",
    "\n",
    "df = df.drop(['date'], axis=1)\n",
    "df[\"formatted_date\"] = pd.to_datetime(df['formatted_date'])\n",
    "df = df.set_index('formatted_date')\n",
    "df.head()"
   ]
  },
  {
   "cell_type": "markdown",
   "metadata": {},
   "source": [
    "<b>We draw the 3-year $/₺ rate from Yahoo Finanace, covering the trading days between 01-01-2017 and 12-31-2020. In the data set, we record the daily opening rate, also called OHLC, intraday high and low exchange rates, and closing rate data as Pandas dataframe. Let's create a new series by taking the differences between the closing rates. This is essentially a one-day trading return. We should pay attention to two things about this variable, which we call \"Return\", that is, return: 1) Return cannot be calculated for the first trading day in the data set. Because Return is the exchange rate change between the previous day and that trading day. Therefore, it will write Nan (not available - non available) in the Return cell corresponding to the first trading day. 2) We actually obtained the Return variable by applying the difference stationary process to the Close (Close price) series.<b>"
   ]
  },
  {
   "cell_type": "markdown",
   "metadata": {},
   "source": [
    "<b>Let's create the \"return\" variable by taking the closing exchange rate difference.<b>"
   ]
  },
  {
   "cell_type": "code",
   "execution_count": null,
   "metadata": {},
   "outputs": [],
   "source": [
    "df[\"returns\"] = df[\"close\"].diff()"
   ]
  },
  {
   "cell_type": "markdown",
   "metadata": {},
   "source": [
    "- <b>Grapp : Closing Price and Return Rate Together<b>"
   ]
  },
  {
   "cell_type": "code",
   "execution_count": null,
   "metadata": {},
   "outputs": [],
   "source": [
    "f = plt.figure(figsize=(20,12))\n",
    "f.suptitle(\"$/₺ Exchange Rate and Returns\", fontsize=18)\n",
    "plt.subplot(211)\n",
    "plt.plot(df[\"close\"], color='blue')\n",
    "plt.grid(True)\n",
    "plt.subplot(212)\n",
    "plt.plot(df[\"returns\"], color='red')\n",
    "f.legend([\"$/₺ Exchange Rate\", \"Returns\"], loc='lower center', ncol=2,bbox_to_anchor=(0.45, -0.05))\n",
    "plt.grid(True)\n",
    "plt.show()"
   ]
  },
  {
   "cell_type": "markdown",
   "metadata": {},
   "source": [
    "<b>As can be seen from the graph, while the closing rate is a non-stationary series, it looks like a stationary series by taking the first difference. However, unit root tests should be used to be sure.<b>"
   ]
  },
  {
   "cell_type": "markdown",
   "metadata": {},
   "source": [
    "<b>Total positive and negative returns over the period.<b>"
   ]
  },
  {
   "cell_type": "code",
   "execution_count": null,
   "metadata": {},
   "outputs": [],
   "source": [
    "print(\"Total positive returns: \", df[df[\"returns\"] > 0].shape[0])\n",
    "print(\"Total negative returns: \", df[df[\"returns\"] < 0].shape[0])"
   ]
  },
  {
   "cell_type": "markdown",
   "metadata": {},
   "source": [
    "<b>Basic Stats for Return"
   ]
  },
  {
   "cell_type": "code",
   "execution_count": null,
   "metadata": {},
   "outputs": [],
   "source": [
    "df[\"returns\"].describe()"
   ]
  },
  {
   "cell_type": "markdown",
   "metadata": {},
   "source": [
    "- <b>Anomaly and Outlier Detection<b>"
   ]
  },
  {
   "cell_type": "code",
   "execution_count": null,
   "metadata": {},
   "outputs": [],
   "source": [
    "len(df)"
   ]
  },
  {
   "cell_type": "markdown",
   "metadata": {},
   "source": [
    "<b>Interquantil Method"
   ]
  },
  {
   "cell_type": "code",
   "execution_count": null,
   "metadata": {},
   "outputs": [],
   "source": [
    "from adtk.detector import InterQuartileRangeAD\n",
    "\n",
    "iqr = InterQuartileRangeAD(c=1.5) \n",
    "\n",
    "anomalies = iqr.fit_detect(df[\"returns\"])\n",
    "\n",
    "# Graphical representation\n",
    "from adtk.visualization import plot\n",
    "plot(df[\"returns\"], anomaly=anomalies, ts_linewidth=1, ts_markersize=3,anomaly_color='red', anomaly_tag='marker', anomaly_markersize=6, anomaly_alpha=0.8)"
   ]
  },
  {
   "cell_type": "markdown",
   "metadata": {},
   "source": [
    "<b>Drop Anomalies"
   ]
  },
  {
   "cell_type": "code",
   "execution_count": null,
   "metadata": {},
   "outputs": [],
   "source": [
    "not_outliers = anomalies != 1\n",
    "\n",
    "df = df[not_outliers]\n",
    "\n",
    "len(df)"
   ]
  },
  {
   "cell_type": "markdown",
   "metadata": {},
   "source": [
    "<b>1) Are Series Stationary?<b>\n",
    "\n",
    "- <b>Augmented Dickey-Fuller Test<b>\n",
    "\n",
    "<b>2) Is Series Normal Distribution? <b>\n",
    "\n",
    "- <b>auto-correlation<b>\n",
    "\n",
    "<b>3) Is Series Normal Distribution?<b>\n",
    "\n",
    "- <b>Graph Method<b>\n",
    "- <b>Jarque-Bera test<b>"
   ]
  },
  {
   "cell_type": "code",
   "execution_count": null,
   "metadata": {},
   "outputs": [],
   "source": [
    "df.dropna(inplace=True)\n",
    "len(df)"
   ]
  },
  {
   "cell_type": "code",
   "execution_count": null,
   "metadata": {},
   "outputs": [],
   "source": [
    "# Augmented Dickey-Fuller test (close)\n",
    "\n",
    "from statsmodels.tsa.stattools import adfuller\n",
    "\n",
    "adf_result = adfuller(df[\"close\"])\n",
    "\n",
    "print(\"ADF Statistic: %f\" % adf_result[0])\n",
    "print(\"p-value: %f\" % adf_result[1])\n",
    "\n",
    "if adf_result[1] > 0.05:\n",
    "    print(\"The series is not stationary\")\n",
    "else:\n",
    "    print(\"The series is stationary\")"
   ]
  },
  {
   "cell_type": "code",
   "execution_count": null,
   "metadata": {},
   "outputs": [],
   "source": [
    "# Augmented Dickey-Fuller test (return)\n",
    "\n",
    "adf_result = adfuller(df[\"returns\"])\n",
    "\n",
    "print(\"ADF Statistic: %f\" % adf_result[0])\n",
    "print(\"p-value: %f\" % adf_result[1])\n",
    "\n",
    "if adf_result[1] > 0.05:\n",
    "    print(\"The series is not stationary\")\n",
    "else:\n",
    "    print(\"The series is stationary\")"
   ]
  },
  {
   "cell_type": "code",
   "execution_count": null,
   "metadata": {},
   "outputs": [],
   "source": [
    "# auto-correlation and partial auto-correlation (close)\n",
    "\n",
    "from statsmodels.graphics.tsaplots import plot_acf, plot_pacf\n",
    "\n",
    "f = plt.figure(figsize=(20,12))\n",
    "f.suptitle(\"$/₺ Exchange Rate (Close)\", fontsize=18)\n",
    "ax1 = f.add_subplot(211)\n",
    "fig = plot_acf(df[\"close\"], lags=40, ax=ax1)\n",
    "ax2 = f.add_subplot(212)\n",
    "fig = plot_pacf(df[\"close\"], lags=40, ax=ax2)\n",
    "\n",
    "# auto-correlation and partial auto-correlation (return)\n",
    "\n",
    "f = plt.figure(figsize=(20,12))\n",
    "f.suptitle(\"$/₺ Exchange Rate (Return)\", fontsize=18)\n",
    "ax1 = f.add_subplot(211)\n",
    "fig = plot_acf(df[\"returns\"], lags=40, ax=ax1,color='red')\n",
    "ax2 = f.add_subplot(212)\n",
    "fig = plot_pacf(df[\"returns\"], lags=40, ax=ax2,color='red')\n",
    "\n"
   ]
  },
  {
   "cell_type": "code",
   "execution_count": null,
   "metadata": {},
   "outputs": [],
   "source": [
    "# Graph Method for auto-correlation\n",
    "\n",
    "# close\n",
    "sns.displot(df[\"close\"],kind=\"hist\",color='darkblue',bins=50,kde_kws={'linewidth': 4,'shade':True})\n",
    "\n",
    "# return \n",
    "sns.displot(df[\"returns\"],kind=\"hist\",color='darkblue',bins=50,kde_kws={'linewidth': 4,'shade':True})\n",
    "\n",
    "# Jarque-Bera test (close)\n",
    "\n",
    "from scipy.stats import jarque_bera\n",
    "\n",
    "stat,p = jarque_bera(df[\"close\"])\n",
    "\n",
    "print(\"stat : %.3f , p : %.3f\" %(stat,p))\n",
    "\n",
    "if p > 0.05:\n",
    "    print(\"Close series is normally distributed\")\n",
    "else:\n",
    "    print(\"Close series is not normally distributed\")\n",
    "\n",
    "# Jarque-Bera test (return)\n",
    "\n",
    "stat,p = jarque_bera(df[\"returns\"])\n",
    "\n",
    "print(\"stat : %.3f , p : %.3f\" %(stat,p))\n",
    "\n",
    "if p > 0.05:\n",
    "    print(\"Return series is normally distributed\")\n",
    "\n",
    "else:\n",
    "    print(\"Return series is not normally distributed\")\n",
    "\n",
    "\n"
   ]
  },
  {
   "cell_type": "code",
   "execution_count": null,
   "metadata": {},
   "outputs": [],
   "source": [
    "# Decomposition plot (close)\n",
    "\n",
    "from pylab import rcParams\n",
    "\n",
    "rcParams['figure.figsize'] = 18, 8\n",
    "\n",
    "from statsmodels.tsa.seasonal import seasonal_decompose\n",
    "\n",
    "sd_result = seasonal_decompose(df[\"close\"], model='additive', period=20)\n",
    "\n",
    "sd_result.plot()\n"
   ]
  },
  {
   "cell_type": "markdown",
   "metadata": {},
   "source": [
    "<b>freq = 20 was chosen because there is data for 717 trading days. We need to divide these data into intervals of 717/36 months = 20 days to see if it has a monthly periodicity.<b>"
   ]
  },
  {
   "cell_type": "markdown",
   "metadata": {},
   "source": [
    "<b>The first chart contains the time series itself.\n",
    "\n",
    "The second graph is the Trend graph. The Close variable generally has an upward trend. The trend gives us a clue that an autoregressive process should be followed. That is, the value of the data at time t is correlated with its past values. Therefore, in order to estimate the value of the data at time t, It is necessary to include historical values in the model as explanatory or predictive.\n",
    "\n",
    "The third graph shows the periodic change. It is clearly seen that there is a certain periodicity in the exchange rate.\n",
    "\n",
    "The fourth graph contains residuals representing the error component, also called \"white noise\". Here we can see how random and unpredictable the movements in the time series are.<b>"
   ]
  },
  {
   "cell_type": "code",
   "execution_count": null,
   "metadata": {},
   "outputs": [],
   "source": [
    "# DECEMPOSITION PLOT (RETURN)\n",
    "\n",
    "sd_result = seasonal_decompose(df[\"returns\"], model='additive', period=20)\n",
    "\n",
    "sd_result.plot()"
   ]
  },
  {
   "cell_type": "markdown",
   "metadata": {},
   "source": [
    "<b>Grid Search for ARIMA<b>"
   ]
  },
  {
   "cell_type": "code",
   "execution_count": null,
   "metadata": {},
   "outputs": [],
   "source": [
    "import pmdarima as pm\n",
    "\n",
    "model = pm.auto_arima(df[\"close\"], start_p=0, start_q=0,trace=True)\n",
    "\n",
    "model.summary()"
   ]
  },
  {
   "cell_type": "markdown",
   "metadata": {},
   "source": [
    "<b>Attention! Normally, we had to use the stationary Return series. However, we used the non-stationary Close series here. While the auto_arima function was creating the appropriate ARIMA ordering values, it made it stationary by applying a difference stationary process to the Close series.<b>"
   ]
  },
  {
   "cell_type": "code",
   "execution_count": null,
   "metadata": {},
   "outputs": [],
   "source": [
    "model.plot_diagnostics(figsize=(15,8))\n",
    "\n",
    "plt.show()"
   ]
  },
  {
   "cell_type": "markdown",
   "metadata": {},
   "source": [
    "<b>What do the graphs say about the residuals?<b>\n",
    "- <b>1. graph (standardized residual), are the residuals stable?<b>\n",
    "- <b>Chart 2 (Histogram plus estimated density)<b>\n",
    "- <b>Chart 3 (Normal Q-Q), do the residuals have a normal distribution?<b>\n",
    "- <b>Chart 3 (Correlogram), is there any autocorrelation in the residuals?<b>"
   ]
  },
  {
   "cell_type": "markdown",
   "metadata": {},
   "source": [
    "<b>As can be seen, the residuals are stationary, but although most of the data have a normal distribution, they do not have a normal distribution as a whole. Finally, the residuals do not have an autocorrelation problem.<b>"
   ]
  },
  {
   "cell_type": "markdown",
   "metadata": {},
   "source": [
    "# Let's test the model on real data"
   ]
  },
  {
   "cell_type": "code",
   "execution_count": null,
   "metadata": {},
   "outputs": [],
   "source": [
    "from yahoo_fin.stock_info import *\n",
    "\n",
    "data = get_data(\"USDTRY=X\", start_date=\"01-04-2021\", end_date=\"01-31-2021\", index_as_date = True)\n",
    "\n",
    "data = data.drop([\"open\",\"high\",\"low\",\"adjclose\",\"volume\",\"ticker\"], axis=1)"
   ]
  },
  {
   "cell_type": "code",
   "execution_count": null,
   "metadata": {},
   "outputs": [],
   "source": [
    "data"
   ]
  },
  {
   "cell_type": "code",
   "execution_count": null,
   "metadata": {},
   "outputs": [],
   "source": [
    "n = len(data)\n",
    "\n",
    "fc, confint = model.predict(n_periods=n, return_conf_int=True)\n",
    "\n",
    "data[\"Predicted\"] = fc\n",
    "\n",
    "# RMSE\n",
    "\n",
    "from sklearn.metrics import mean_squared_error\n",
    "\n",
    "rmse = np.sqrt(mean_squared_error(data[\"close\"], data[\"Predicted\"])\n",
    ")\n",
    "print(\"RMSE: \", rmse)"
   ]
  },
  {
   "cell_type": "markdown",
   "metadata": {},
   "source": [
    "# Algorithmic Trading Model Approaches"
   ]
  },
  {
   "cell_type": "markdown",
   "metadata": {},
   "source": [
    "<b>There are three basic approaches in algorithmic trading models.<b>\n",
    "- <b>1) Signal approach<b>\n",
    "- <b>2) Valuation approach<b>\n",
    "- <b>3) Threshold approach<b>"
   ]
  },
  {
   "cell_type": "markdown",
   "metadata": {},
   "source": [
    "<b>Generating Buy-Sell Signals<b>\n",
    "\n",
    "<b>If the real exchange rate is greater than the predicted exchange rate, it means that the exchange rate is overvalued, that is, it will fall. Conversely, if the exchange rate is lower than the predicted exchange rate, it means that it is undervalued by the market, that is, it will rise. Now, let's create Buy-Sell signals according to this strategy.<b>"
   ]
  },
  {
   "cell_type": "code",
   "execution_count": null,
   "metadata": {},
   "outputs": [],
   "source": [
    "data[\"BUY\"] = np.where(data[\"close\"] < data[\"Predicted\"], 1, 0)\n",
    "\n",
    "data[\"SELL\"] = np.where(data[\"close\"] >= data[\"Predicted\"], 1, 0)\n",
    "\n",
    "# Trading Indicators\n",
    "\n",
    "data[\"BUY_ind\"] = np.where(data[\"BUY\"] > data[\"BUY\"].shift(1), 1, 0)\n",
    "\n",
    "data[\"SELL_ind\"] = np.where(data[\"SELL\"] > data[\"SELL\"].shift(1), 1, 0)"
   ]
  },
  {
   "cell_type": "markdown",
   "metadata": {},
   "source": [
    "# Graph : Comparison of Actual and Predicted Exchange Rates"
   ]
  },
  {
   "cell_type": "code",
   "execution_count": null,
   "metadata": {},
   "outputs": [],
   "source": [
    "data[\"date\"] = data.index\n",
    "\n",
    "fig1 = plt.figure(figsize=(20,12))\n",
    "plt.plot(data[\"close\"], label=\"Actual Exchange Rate\")\n",
    "plt.plot(data[\"Predicted\"], label=\"Predicted Exchange Rate\",linestyle='--')\n",
    "\n",
    "plt.scatter(data[data[\"BUY_ind\"] == 1][\"date\"].values, \n",
    "            data[data[\"BUY_ind\"] == 1][\"close\"].values,\n",
    "            marker=\"^\", color=\"green\", label=\"Buy Signal\", s=100)\n",
    "\n",
    "plt.scatter(data[data[\"SELL_ind\"] == 1][\"date\"].values,\n",
    "            data[data[\"SELL_ind\"] == 1][\"close\"].values,\n",
    "            marker=\"v\", color=\"red\", label=\"Sell Signal\", s=100)\n",
    "\n",
    "plt.xlabel(\"Trading Days\")\n",
    "plt.legend(loc=\"best\")\n",
    "plt.title(\"BUY/SELL Signals\")\n",
    "plt.show()"
   ]
  },
  {
   "cell_type": "markdown",
   "metadata": {},
   "source": [
    "<b>Now, let's both report and visualize what the algorithmic trading gain will be on the last trading day of January when trading is started with ₺1000 on January 5, 2021 at the beginning of the term.<b>"
   ]
  },
  {
   "cell_type": "code",
   "execution_count": null,
   "metadata": {},
   "outputs": [],
   "source": [
    "# Daily percent gain\n",
    "data[\"Return_pct\"] = data[\"close\"].pct_change().shift(-1)\n",
    "\n",
    "# Daily Value of 1000₺ Investment\n",
    "\n",
    "data[\"Value\"] = 1000*(1+(np.where(data[\"BUY\"]==1,\n",
    "                                 data[\"Return_pct\"],0).cumsum()))\n",
    "\n",
    "data[\"Value\"] = data[\"Value\"].shift(1) # Reflection of the return the next day\n",
    "\n",
    "# Investment Status Report\n",
    "\n",
    "print(\"==Investment Status Report=======================================\")\n",
    "print(\"₺1000 at the Beginning of the Term Became\",data[\"Value\"][-1].round(2),\"₺ in\",len(data),\"Days\")\n",
    "print(\"=================================================================\")"
   ]
  },
  {
   "cell_type": "code",
   "execution_count": null,
   "metadata": {},
   "outputs": [],
   "source": [
    "data[\"date\"] = data.index\n",
    "\n",
    "f,axarr = plt.subplots(2,figsize=(20,12),sharex=False)\n",
    "\n",
    "f.suptitle(\"Algorithmic Trading Gain (₺1000)\", fontsize=18)\n",
    "\n",
    "axarr[0].plot(data[\"close\"], label=\"Actual Exchange Rate\")\n",
    "axarr[0].plot(data[\"Predicted\"], label=\"Predicted Exchange Rate\",linestyle='--')\n",
    "\n",
    "axarr[0].scatter(data[data[\"BUY_ind\"] == 1][\"date\"].values, \n",
    "            data[data[\"BUY_ind\"] == 1][\"close\"].values,\n",
    "            marker=\"^\", color=\"green\", label=\"Buy Signal\", s=100)\n",
    "\n",
    "axarr[0].scatter(data[data[\"SELL_ind\"] == 1][\"date\"].values,\n",
    "            data[data[\"SELL_ind\"] == 1][\"close\"].values,\n",
    "            marker=\"v\", color=\"red\", label=\"Sell Signal\", s=100)\n",
    "\n",
    "axarr[0].legend(loc=\"best\")\n",
    "axarr[1].plot(data[\"Value\"], label=\"Algorithmic Trading Gain\",color=\"green\")\n",
    "axarr[1].grid()\n",
    "axarr[1].legend(loc=\"best\")\n",
    "plt.show()\n",
    "            "
   ]
  },
  {
   "cell_type": "markdown",
   "metadata": {},
   "source": [
    "<b>It should be noted that in this simulation, we do not take into account the transaction cost, the trading difference and the taxes.<b>"
   ]
  },
  {
   "cell_type": "markdown",
   "metadata": {},
   "source": [
    "# Graph : Confidence Interval, Actual and Predicted Values"
   ]
  },
  {
   "cell_type": "code",
   "execution_count": null,
   "metadata": {},
   "outputs": [],
   "source": [
    "ax = data[\"close\"].plot(figsize=(20,12),color=\"darkblue\",label=\"Actual Exchange Rate\")\n",
    "\n",
    "data[\"Predicted\"].plot(ax=ax,linestyle='--',color=\"red\",label=\"Predicted Exchange Rate\")\n",
    "\n",
    "ax.fill_between(data[\"Predicted\"].index, confint[:,0], confint[:,1], color='k', alpha=.25)\n",
    "\n",
    "ax.set_xlabel(\"Trading Days\")\n",
    "ax.set_ylabel(\"$/₺\")\n",
    "ax.legend(loc=\"best\")\n",
    "plt.show()"
   ]
  }
 ],
 "metadata": {
  "kernelspec": {
   "display_name": "Python 3 (ipykernel)",
   "language": "python",
   "name": "python3"
  },
  "language_info": {
   "codemirror_mode": {
    "name": "ipython",
    "version": 3
   },
   "file_extension": ".py",
   "mimetype": "text/x-python",
   "name": "python",
   "nbconvert_exporter": "python",
   "pygments_lexer": "ipython3",
   "version": "3.10.6"
  },
  "vscode": {
   "interpreter": {
    "hash": "b4c01c8f52586033bb4bb2bf4f864991e275e728809d596b5bf2a750c26b84f7"
   }
  }
 },
 "nbformat": 4,
 "nbformat_minor": 2
}
