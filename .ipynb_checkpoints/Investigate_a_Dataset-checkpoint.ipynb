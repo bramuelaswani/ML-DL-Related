{
 "cells": [
  {
   "cell_type": "markdown",
   "metadata": {},
   "source": [
    "# Project: Investigation of a Collection of 10,000 Movies in The Movie Database (TMDB)\n",
    "\n",
    "## Table of Contents\n",
    "<ul>\n",
    "<li><a href=\"#intro\">Introduction</a></li>\n",
    "<li><a href=\"#wrangling\">Data Wrangling</a></li>\n",
    "<li><a href=\"#eda\">Exploratory Data Analysis</a></li>\n",
    "<li><a href=\"#conclusions\">Conclusions</a></li>\n",
    "</ul>"
   ]
  },
  {
   "cell_type": "markdown",
   "metadata": {},
   "source": [
    "<a id='intro'></a>\n",
    "## Introduction\n",
    "\n",
    "### Dataset Description\n",
    "The dataset investigated in this project is a collection of features of about 10,000 movies in The Movie Database (TMDb). [1](https://docs.google.com/document/d/e/2PACX-1vTlVmknRRnfy_4eTrjw5hYGaiQim5ctr9naaRd4V9du2B5bxpd8FEH3KtDgp8qVekw7Cj1GLk1IXdZi/pub?embedded=True) TMDb is built by community and for community since 2008 and there are currently more than 400,000 developers using the metadata. [2](https://www.themoviedb.org/about)\n",
    "The database consists of the following features:\n",
    "- id: this is the TMDb unique movie identifier\n",
    "- imdb_id: this is the iMDb unique movie identifier\n",
    "- popularity: a metric that measures the acceptance of a movie by the viewers\n",
    "- budget: estimate of the total amount of money earmarked for the movie\n",
    "- revenue: the total amount of money realized from selling the movie\n",
    "- original_title: the movie title\n",
    "- cast: list of actors in the movie [3](https://dictionary.cambridge.org/dictionary/english/cast#:~:text=cast%20noun%20%28ACTORS%29%20B2%20%5B%20C%2C%20%2B%20sing%2Fpl,actors%20who%20were%20not%20playing%20the%20main%20parts%29.)\n",
    "- homepage: the movie homepage\n",
    "- director: the movie director\n",
    "- tagline: a catchphrase for the movie advert\n",
    "- keywords: words used in indexing and ranking movies in search results\n",
    "- overview: high-level summary of the movie story line\n",
    "- runtime: movie duration [4](https://www.merriam-webster.com/dictionary/running%20time#:~:text=Definition%20of%20running%20time%20%3A%20the%20duration%20of,recording%20Examples%20of%20running%20time%20in%20a%20Sentence)\n",
    "- genres: movie category [5](https://www.studiobinder.com/blog/movie-genres-list/)\n",
    "- production_companies: the company that produced the movie\n",
    "- release_date: movie release date\n",
    "- vote_count: number of votes\n",
    "- vote_average: average votes\n",
    "- release_year: movie release year\n",
    "- budget_adj: adjusted budget taking inflation into account\n",
    "- revenue_adj: adjusted revenue taking inflation into account\n",
    "\n",
    "\n",
    "### Question(s) for Analysis\n",
    "The movie industry is multi-billion dollar entreprise with a lot of revenue generations [6](https://www.investopedia.com/articles/investing/091615/movie-vs-tv-industry-which-most-profitable.asp). However, it is important for anyone that want to invest in the industry to have a grasp of the annual revenue trends in the industry. \n",
    "In this notebook, I am going to investigate the:\n",
    "- Annual Revenue Growth of the movie industry\n",
    "- and the relationships between ***popularity, runtime, average votes and revenue generation*** "
   ]
  },
  {
   "cell_type": "code",
   "execution_count": 1,
   "metadata": {},
   "outputs": [],
   "source": [
    "# importing the necessary packages\n",
    "import numpy as np\n",
    "import pandas as pd\n",
    "import datetime\n",
    "import matplotlib.pyplot as plt\n",
    "import seaborn as sns\n",
    "\n",
    "%matplotlib inline"
   ]
  },
  {
   "cell_type": "code",
   "execution_count": null,
   "metadata": {},
   "outputs": [],
   "source": [
    "# Upgrade pandas to use dataframe.explode() function. \n",
    "!pip install --upgrade pandas==0.25.0"
   ]
  },
  {
   "cell_type": "markdown",
   "metadata": {},
   "source": [
    "<a id='wrangling'></a>\n",
    "## Data Wrangling\n",
    "In this section I am going to load, view and clean the dataset before analysis."
   ]
  },
  {
   "cell_type": "code",
   "execution_count": null,
   "metadata": {},
   "outputs": [],
   "source": [
    "# loading the data\n",
    "movies_df = pd.read_csv('tmdb-movies.csv')"
   ]
  },
  {
   "cell_type": "code",
   "execution_count": null,
   "metadata": {},
   "outputs": [],
   "source": [
    "# first five records in the dataset\n",
    "movies_df.head()"
   ]
  },
  {
   "cell_type": "markdown",
   "metadata": {},
   "source": [
    "From this we can observe that:\n",
    "- the dataset consists of 21 features\n",
    "- a movie can fall under more than one genres \n",
    "- and two or more production companies do collaborate to produce movies.\n",
    "\n",
    "Let's check the number of records in the dataset."
   ]
  },
  {
   "cell_type": "code",
   "execution_count": null,
   "metadata": {},
   "outputs": [],
   "source": [
    "# checking the size of the dataset\n",
    "movies_df.shape"
   ]
  },
  {
   "cell_type": "markdown",
   "metadata": {},
   "source": [
    "We can see that there are 10866 entries in the database. Let's investigate the metadata of the features."
   ]
  },
  {
   "cell_type": "code",
   "execution_count": null,
   "metadata": {},
   "outputs": [],
   "source": [
    "movies_df.info()"
   ]
  },
  {
   "cell_type": "markdown",
   "metadata": {},
   "source": [
    "We can see from the above that we have:\n",
    "- three data types: ***float64, int64, object***\n",
    "- the features: ***imdb_id, cast, homepage, director, tagline, keywords, overview, genres, and production_companies*** all have missing values.\n",
    "\n",
    "Let's check the summary statics of the numerical features of the dataset."
   ]
  },
  {
   "cell_type": "code",
   "execution_count": null,
   "metadata": {},
   "outputs": [],
   "source": [
    "movies_df.describe()"
   ]
  },
  {
   "cell_type": "markdown",
   "metadata": {},
   "source": [
    "From the above summary statistics we note that:\n",
    "- ***popularity, runtime, and vote_count*** have outliers because their maximum values far outpass their interquartile ranges.\n",
    "- the record is for 55 year duration (1960-2015)\n",
    "- more than 50% of ***budget, revenue, budget_adj and revenue_adj*** contain zero values. "
   ]
  },
  {
   "cell_type": "markdown",
   "metadata": {},
   "source": [
    "\n",
    "### Data Cleaning\n",
    "In this section, the data will be cleaned prior to analysis. Thus:\n",
    "- as noted above the features: ***imdb_id, cast, homepage, director, tagline, keywords, overview, genres, and production_companies*** have missing values. However, the missing values are not going to be imputed because they are not in our features of interest. \n",
    "- The outliers will be left intact because they are possible values. \n",
    "- The features ***revenue_adj and vote_average*** will be renamed to more readable features\n",
    "- a function that will drop rows equal to some certain values will be defined for code reusability\n",
    "- zero revenue and budget are not common values but it may seem irrational to replace these values with *mean, median or mode*. Thus, all records with the value of zero in ***revenue_adj*** , which is our target feature, will be dropped using the function mentioned above.\n"
   ]
  },
  {
   "cell_type": "markdown",
   "metadata": {},
   "source": [
    "**Renaming the features revenue_adj and vote_average**"
   ]
  },
  {
   "cell_type": "code",
   "execution_count": null,
   "metadata": {},
   "outputs": [],
   "source": [
    "# renaming columns\n",
    "movies_df = movies_df.rename(columns = {'vote_average' : 'average vote', 'revenue_adj' : 'adjusted revenue'})"
   ]
  },
  {
   "cell_type": "markdown",
   "metadata": {},
   "source": [
    "**Defining the rows drop function**"
   ]
  },
  {
   "cell_type": "code",
   "execution_count": null,
   "metadata": {},
   "outputs": [],
   "source": [
    "def row_filter(df, column, value):\n",
    "    '''\n",
    "    The function takes a dataframe object and drops rows equal to a certain value in a certain column.\n",
    "    \n",
    "    Arguments\n",
    "    df: dataframe\n",
    "    column: it is of type string, it is the name of the column to apply the filter\n",
    "    value: it is of type float and it refers to the value in the rows to be dropped\n",
    "    \n",
    "    returns a dataframe without the dropped rows\n",
    "    '''\n",
    "    indices = df[df[column] == value].index            # generating the indices of the rows to be dropped\n",
    "    return df.drop(indices, inplace=True)          # dropping the rows"
   ]
  },
  {
   "cell_type": "markdown",
   "metadata": {},
   "source": [
    "**Dropping the adjusted revenue zero valued rows**"
   ]
  },
  {
   "cell_type": "code",
   "execution_count": null,
   "metadata": {},
   "outputs": [],
   "source": [
    "row_filter(movies_df,'adjusted revenue',0)"
   ]
  },
  {
   "cell_type": "code",
   "execution_count": null,
   "metadata": {},
   "outputs": [],
   "source": [
    "movies_df.shape"
   ]
  },
  {
   "cell_type": "markdown",
   "metadata": {},
   "source": [
    "We are now left with 4850 records which accounts for 44% of the original dataset."
   ]
  },
  {
   "cell_type": "markdown",
   "metadata": {},
   "source": [
    "<a id='eda'></a>\n",
    "## Exploratory Data Analysis\n",
    "In this section analyses of the features: ***popularity, runtime, vote_count, relaese_year*** will be carried out with respect to the target variable, ***revenue_adj*** to explore the relationships between them."
   ]
  },
  {
   "cell_type": "markdown",
   "metadata": {
    "collapsed": true
   },
   "source": [
    "### Question 1: What is the relationship between popularity, runtime, vote_average and revenue_adj?\n",
    "To answer this question, let's define a function that will plot the graphical distributions of these features."
   ]
  },
  {
   "cell_type": "code",
   "execution_count": null,
   "metadata": {},
   "outputs": [],
   "source": [
    "def hist_plots(df, feature, ylabel):\n",
    "    '''\n",
    "    Parameters\n",
    "    df: dataframe\n",
    "    feature: the string name of the feature whose distribution is to be plotted\n",
    "    ylabel: a string name of the horizontal axis\n",
    "    \n",
    "    Returns a plot for the distribution of the feature\n",
    "    '''\n",
    "    proper_feature = feature.capitalize() # capitalizes the feature name\n",
    "    plt.xlabel(proper_feature)\n",
    "    plt.ylabel(ylabel)\n",
    "    title = proper_feature + \" Distribution\"  # crafting the title\n",
    "    plt.title(title);\n",
    "    return df[feature].hist(grid=False)"
   ]
  },
  {
   "cell_type": "markdown",
   "metadata": {},
   "source": [
    "Below are the histograms of the features of interest."
   ]
  },
  {
   "cell_type": "code",
   "execution_count": null,
   "metadata": {},
   "outputs": [],
   "source": [
    "# popularity distribution\n",
    "hist_plots(movies_df, \"popularity\", \"Frequency\");"
   ]
  },
  {
   "cell_type": "code",
   "execution_count": null,
   "metadata": {},
   "outputs": [],
   "source": [
    "# runtime distribution\n",
    "hist_plots(movies_df, \"runtime\", \"Frequency\");"
   ]
  },
  {
   "cell_type": "code",
   "execution_count": null,
   "metadata": {},
   "outputs": [],
   "source": [
    "# average vote distribution\n",
    "hist_plots(movies_df, \"average vote\", \"Frequency\");"
   ]
  },
  {
   "cell_type": "code",
   "execution_count": null,
   "metadata": {},
   "outputs": [],
   "source": [
    "hist_plots(movies_df, \"adjusted revenue\", \"Frequency\");"
   ]
  },
  {
   "cell_type": "markdown",
   "metadata": {},
   "source": [
    "From the above histograms, the feature ***popularity and adjusted revenue*** are left skwed. This reinforces our earlier discovery of outliers in these features. However, the ***runtime and average vote*** are approximately normally distributed as expected.\n",
    "\n",
    "Now let's evaluate the correlations between variables and also plot the scatter plots for the variables of interest."
   ]
  },
  {
   "cell_type": "code",
   "execution_count": null,
   "metadata": {},
   "outputs": [],
   "source": [
    "# getting the correlation coefficients of the features\n",
    "movies_df.corr()"
   ]
  },
  {
   "cell_type": "code",
   "execution_count": null,
   "metadata": {},
   "outputs": [],
   "source": [
    "# plotting the scatter plots for popularity, runtime, average votes against revenue adjusted\n",
    "\n",
    "fig, ax = plt.subplots(3, figsize=(10, 20))\n",
    "ax[0].scatter(x = movies_df['popularity'], y = movies_df['adjusted revenue']/1e9)\n",
    "ax[0].set_xlabel(\"Popularity\")\n",
    "ax[0].set_ylabel(\"Revenue in billion USD\")\n",
    "ax[0].set_title('Revenue by Popularity')\n",
    "\n",
    "ax[1].scatter(x = movies_df['runtime'], y = movies_df['adjusted revenue']/1e9)\n",
    "ax[1].set_xlabel(\"Runtime\")\n",
    "ax[1].set_ylabel(\"Revenue in billion USD\")\n",
    "ax[1].set_title('Revenue by Runtime')\n",
    "\n",
    "ax[2].scatter(x = movies_df['average vote'], y = movies_df['adjusted revenue']/1e9)\n",
    "ax[2].set_xlabel(\"Average Votes\")\n",
    "ax[2].set_ylabel(\"Revenue in billion USD\")\n",
    "ax[2].set_title('Revenue by Average Votes')\n",
    "\n",
    "plt.show()"
   ]
  },
  {
   "cell_type": "markdown",
   "metadata": {},
   "source": [
    "From the correlation coefficents and scatter plots above, we can see that ***runtime and average votes*** have weak postive correlations with the ***adjusted revenue***. While there is moderate positive correlation between ***popularity*** and the ***adjusted revenue***."
   ]
  },
  {
   "cell_type": "markdown",
   "metadata": {},
   "source": [
    "### Question 2: What is the annual revenue trend of the movie industry?\n",
    "To answer this there is a need to evaluate annual revenues and plotting the results in a time series chart. This will showcase the revenue trend over time."
   ]
  },
  {
   "cell_type": "code",
   "execution_count": null,
   "metadata": {},
   "outputs": [],
   "source": [
    "# grouping and summing annual revenue of the industry\n",
    "annual_revenue = movies_df.groupby('release_year')['adjusted revenue'].sum()\n",
    "\n",
    "# changing the series to a dataframe\n",
    "annual_revenue_df = pd.DataFrame(annual_revenue)"
   ]
  },
  {
   "cell_type": "code",
   "execution_count": null,
   "metadata": {},
   "outputs": [],
   "source": [
    "# plotting the line chart\n",
    "\n",
    "plt.plot(annual_revenue_df/1e9, linewidth=3, color='red') # changing the scale to billion USD\n",
    "plt.title('Annual Revenue Growth')\n",
    "plt.xlabel('Release Year')\n",
    "plt.ylabel('Total Annual Revenue in Billion USD')\n",
    "plt.rcParams['figure.figsize'] = [10, 7]\n",
    "plt.rc('axes', titlesize=24)                 # fontsize of the title\n",
    "plt.rc('axes', labelsize=14)                 # fontsize of the x and y labels"
   ]
  },
  {
   "cell_type": "markdown",
   "metadata": {},
   "source": [
    "The above line chart shows an increasing annual revenue trend over the years."
   ]
  },
  {
   "cell_type": "markdown",
   "metadata": {},
   "source": [
    "<a id='conclusions'></a>\n",
    "## Conclusions\n",
    "The above analyses show that popularity is moderately positively correlated with annual revenue generation. It can also be observed that the movie industry revenue is growing over time despite some momentary declines as indicated by the line chart of the annual revenue. The industry has grown in revenue from 950 million USD in 1960 to 24 billion USD in 2015. This industry is worth investing in!\n",
    "\n",
    "**Limitation**\n",
    "The aggregation of annual revenue of the industry is limited because a movie produced in a particular year may continue to generate revenue in the subsequent years and there are no metrics to update such data values."
   ]
  },
  {
   "cell_type": "code",
   "execution_count": null,
   "metadata": {},
   "outputs": [],
   "source": [
    "from subprocess import call\n",
    "call(['python', '-m', 'nbconvert', 'Investigate_a_Dataset.ipynb'])"
   ]
  },
  {
   "cell_type": "markdown",
   "metadata": {},
   "source": [
    "## References\n",
    "\n",
    "- <a href=\"https://docs.google.com/document/d/e/2PACX-1vTlVmknRRnfy_4eTrjw5hYGaiQim5ctr9naaRd4V9du2B5bxpd8FEH3KtDgp8qVekw7Cj1GLk1IXdZi/pub\n",
    "\">Investigate a Dataset</a>\n",
    "\n",
    "- <a href=\"https://www.themoviedb.org/about\">The Movie Database</a>\n",
    "\n",
    "- <a href=\"https://dictionary.cambridge.org/dictionary/english/cast#:~:text=cast%20noun%20%28ACTORS%29%20B2%20%5B%20C%2C%20%2B%20sing%2Fpl,actors%20who%20were%20not%20playing%20the%20main%20parts%29. \">Cambridge Dictionary</a>\n",
    "\n",
    "- <a href=\"https://www.merriam-webster.com/dictionary/running%20time#:~:text=Definition%20of%20running%20time%20%3A%20the%20duration%20of,recording%20Examples%20of%20running%20time%20in%20a%20Sentence\n",
    "\">Merriam Webster Dictionary</a>\n",
    "- <a href=\"https://www.studiobinder.com/blog/movie-genres-list/\">Studio Binder, Ultimate Guide to Movie Genres</a>\n",
    "\n",
    "- <a href=\"https://www.investopedia.com/articles/investing/091615/movie-vs-tv-industry-which-most-profitable.asp\">Investopedia, Movie vs. TV Industry: Which Is More Profitable?</a>\n",
    "\n",
    " \n",
    "\n",
    "\n",
    "    "
   ]
  }
 ],
 "metadata": {
  "kernelspec": {
   "display_name": "Python 3 (ipykernel)",
   "language": "python",
   "name": "python3"
  },
  "language_info": {
   "codemirror_mode": {
    "name": "ipython",
    "version": 3
   },
   "file_extension": ".py",
   "mimetype": "text/x-python",
   "name": "python",
   "nbconvert_exporter": "python",
   "pygments_lexer": "ipython3",
   "version": "3.10.6"
  }
 },
 "nbformat": 4,
 "nbformat_minor": 2
}
