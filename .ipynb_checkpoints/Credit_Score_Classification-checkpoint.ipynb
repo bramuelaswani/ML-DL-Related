{
 "cells": [
  {
   "cell_type": "code",
   "execution_count": 1,
   "id": "2749c999",
   "metadata": {
    "id": "2749c999"
   },
   "outputs": [],
   "source": [
    "import pandas as pd\n",
    "import numpy as np\n",
    "import seaborn as sns\n",
    "import matplotlib.pyplot as plt\n",
    "sns.set_theme(color_codes=True)\n",
    "pd.set_option('display.max_columns', None)"
   ]
  },
  {
   "cell_type": "code",
   "execution_count": 2,
   "id": "3a87b417",
   "metadata": {
    "id": "3a87b417",
    "outputId": "ac41e97b-443b-4300-d608-cbe3792156ae"
   },
   "outputs": [
    {
     "name": "stderr",
     "output_type": "stream",
     "text": [
      "C:\\Users\\25472\\AppData\\Local\\Temp\\ipykernel_16400\\3526802807.py:1: DtypeWarning: Columns (26) have mixed types. Specify dtype option on import or set low_memory=False.\n",
      "  df_train = pd.read_csv('train-credit.csv')\n"
     ]
    },
    {
     "data": {
      "text/html": [
       "<div>\n",
       "<style scoped>\n",
       "    .dataframe tbody tr th:only-of-type {\n",
       "        vertical-align: middle;\n",
       "    }\n",
       "\n",
       "    .dataframe tbody tr th {\n",
       "        vertical-align: top;\n",
       "    }\n",
       "\n",
       "    .dataframe thead th {\n",
       "        text-align: right;\n",
       "    }\n",
       "</style>\n",
       "<table border=\"1\" class=\"dataframe\">\n",
       "  <thead>\n",
       "    <tr style=\"text-align: right;\">\n",
       "      <th></th>\n",
       "      <th>ID</th>\n",
       "      <th>Customer_ID</th>\n",
       "      <th>Month</th>\n",
       "      <th>Name</th>\n",
       "      <th>Age</th>\n",
       "      <th>SSN</th>\n",
       "      <th>Occupation</th>\n",
       "      <th>Annual_Income</th>\n",
       "      <th>Monthly_Inhand_Salary</th>\n",
       "      <th>Num_Bank_Accounts</th>\n",
       "      <th>Num_Credit_Card</th>\n",
       "      <th>Interest_Rate</th>\n",
       "      <th>Num_of_Loan</th>\n",
       "      <th>Type_of_Loan</th>\n",
       "      <th>Delay_from_due_date</th>\n",
       "      <th>Num_of_Delayed_Payment</th>\n",
       "      <th>Changed_Credit_Limit</th>\n",
       "      <th>Num_Credit_Inquiries</th>\n",
       "      <th>Credit_Mix</th>\n",
       "      <th>Outstanding_Debt</th>\n",
       "      <th>Credit_Utilization_Ratio</th>\n",
       "      <th>Credit_History_Age</th>\n",
       "      <th>Payment_of_Min_Amount</th>\n",
       "      <th>Total_EMI_per_month</th>\n",
       "      <th>Amount_invested_monthly</th>\n",
       "      <th>Payment_Behaviour</th>\n",
       "      <th>Monthly_Balance</th>\n",
       "      <th>Credit_Score</th>\n",
       "    </tr>\n",
       "  </thead>\n",
       "  <tbody>\n",
       "    <tr>\n",
       "      <th>0</th>\n",
       "      <td>0x1602</td>\n",
       "      <td>CUS_0xd40</td>\n",
       "      <td>January</td>\n",
       "      <td>Aaron Maashoh</td>\n",
       "      <td>23</td>\n",
       "      <td>821-00-0265</td>\n",
       "      <td>Scientist</td>\n",
       "      <td>19114.12</td>\n",
       "      <td>1824.843333</td>\n",
       "      <td>3</td>\n",
       "      <td>4</td>\n",
       "      <td>3</td>\n",
       "      <td>4</td>\n",
       "      <td>Auto Loan, Credit-Builder Loan, Personal Loan,...</td>\n",
       "      <td>3</td>\n",
       "      <td>7</td>\n",
       "      <td>11.27</td>\n",
       "      <td>4.0</td>\n",
       "      <td>_</td>\n",
       "      <td>809.98</td>\n",
       "      <td>26.822620</td>\n",
       "      <td>22 Years and 1 Months</td>\n",
       "      <td>No</td>\n",
       "      <td>49.574949</td>\n",
       "      <td>80.41529543900253</td>\n",
       "      <td>High_spent_Small_value_payments</td>\n",
       "      <td>312.49408867943663</td>\n",
       "      <td>Good</td>\n",
       "    </tr>\n",
       "    <tr>\n",
       "      <th>1</th>\n",
       "      <td>0x1603</td>\n",
       "      <td>CUS_0xd40</td>\n",
       "      <td>February</td>\n",
       "      <td>Aaron Maashoh</td>\n",
       "      <td>23</td>\n",
       "      <td>821-00-0265</td>\n",
       "      <td>Scientist</td>\n",
       "      <td>19114.12</td>\n",
       "      <td>NaN</td>\n",
       "      <td>3</td>\n",
       "      <td>4</td>\n",
       "      <td>3</td>\n",
       "      <td>4</td>\n",
       "      <td>Auto Loan, Credit-Builder Loan, Personal Loan,...</td>\n",
       "      <td>-1</td>\n",
       "      <td>NaN</td>\n",
       "      <td>11.27</td>\n",
       "      <td>4.0</td>\n",
       "      <td>Good</td>\n",
       "      <td>809.98</td>\n",
       "      <td>31.944960</td>\n",
       "      <td>NaN</td>\n",
       "      <td>No</td>\n",
       "      <td>49.574949</td>\n",
       "      <td>118.28022162236736</td>\n",
       "      <td>Low_spent_Large_value_payments</td>\n",
       "      <td>284.62916249607184</td>\n",
       "      <td>Good</td>\n",
       "    </tr>\n",
       "    <tr>\n",
       "      <th>2</th>\n",
       "      <td>0x1604</td>\n",
       "      <td>CUS_0xd40</td>\n",
       "      <td>March</td>\n",
       "      <td>Aaron Maashoh</td>\n",
       "      <td>-500</td>\n",
       "      <td>821-00-0265</td>\n",
       "      <td>Scientist</td>\n",
       "      <td>19114.12</td>\n",
       "      <td>NaN</td>\n",
       "      <td>3</td>\n",
       "      <td>4</td>\n",
       "      <td>3</td>\n",
       "      <td>4</td>\n",
       "      <td>Auto Loan, Credit-Builder Loan, Personal Loan,...</td>\n",
       "      <td>3</td>\n",
       "      <td>7</td>\n",
       "      <td>_</td>\n",
       "      <td>4.0</td>\n",
       "      <td>Good</td>\n",
       "      <td>809.98</td>\n",
       "      <td>28.609352</td>\n",
       "      <td>22 Years and 3 Months</td>\n",
       "      <td>No</td>\n",
       "      <td>49.574949</td>\n",
       "      <td>81.699521264648</td>\n",
       "      <td>Low_spent_Medium_value_payments</td>\n",
       "      <td>331.2098628537912</td>\n",
       "      <td>Good</td>\n",
       "    </tr>\n",
       "    <tr>\n",
       "      <th>3</th>\n",
       "      <td>0x1605</td>\n",
       "      <td>CUS_0xd40</td>\n",
       "      <td>April</td>\n",
       "      <td>Aaron Maashoh</td>\n",
       "      <td>23</td>\n",
       "      <td>821-00-0265</td>\n",
       "      <td>Scientist</td>\n",
       "      <td>19114.12</td>\n",
       "      <td>NaN</td>\n",
       "      <td>3</td>\n",
       "      <td>4</td>\n",
       "      <td>3</td>\n",
       "      <td>4</td>\n",
       "      <td>Auto Loan, Credit-Builder Loan, Personal Loan,...</td>\n",
       "      <td>5</td>\n",
       "      <td>4</td>\n",
       "      <td>6.27</td>\n",
       "      <td>4.0</td>\n",
       "      <td>Good</td>\n",
       "      <td>809.98</td>\n",
       "      <td>31.377862</td>\n",
       "      <td>22 Years and 4 Months</td>\n",
       "      <td>No</td>\n",
       "      <td>49.574949</td>\n",
       "      <td>199.4580743910713</td>\n",
       "      <td>Low_spent_Small_value_payments</td>\n",
       "      <td>223.45130972736786</td>\n",
       "      <td>Good</td>\n",
       "    </tr>\n",
       "    <tr>\n",
       "      <th>4</th>\n",
       "      <td>0x1606</td>\n",
       "      <td>CUS_0xd40</td>\n",
       "      <td>May</td>\n",
       "      <td>Aaron Maashoh</td>\n",
       "      <td>23</td>\n",
       "      <td>821-00-0265</td>\n",
       "      <td>Scientist</td>\n",
       "      <td>19114.12</td>\n",
       "      <td>1824.843333</td>\n",
       "      <td>3</td>\n",
       "      <td>4</td>\n",
       "      <td>3</td>\n",
       "      <td>4</td>\n",
       "      <td>Auto Loan, Credit-Builder Loan, Personal Loan,...</td>\n",
       "      <td>6</td>\n",
       "      <td>NaN</td>\n",
       "      <td>11.27</td>\n",
       "      <td>4.0</td>\n",
       "      <td>Good</td>\n",
       "      <td>809.98</td>\n",
       "      <td>24.797347</td>\n",
       "      <td>22 Years and 5 Months</td>\n",
       "      <td>No</td>\n",
       "      <td>49.574949</td>\n",
       "      <td>41.420153086217326</td>\n",
       "      <td>High_spent_Medium_value_payments</td>\n",
       "      <td>341.48923103222177</td>\n",
       "      <td>Good</td>\n",
       "    </tr>\n",
       "    <tr>\n",
       "      <th>...</th>\n",
       "      <td>...</td>\n",
       "      <td>...</td>\n",
       "      <td>...</td>\n",
       "      <td>...</td>\n",
       "      <td>...</td>\n",
       "      <td>...</td>\n",
       "      <td>...</td>\n",
       "      <td>...</td>\n",
       "      <td>...</td>\n",
       "      <td>...</td>\n",
       "      <td>...</td>\n",
       "      <td>...</td>\n",
       "      <td>...</td>\n",
       "      <td>...</td>\n",
       "      <td>...</td>\n",
       "      <td>...</td>\n",
       "      <td>...</td>\n",
       "      <td>...</td>\n",
       "      <td>...</td>\n",
       "      <td>...</td>\n",
       "      <td>...</td>\n",
       "      <td>...</td>\n",
       "      <td>...</td>\n",
       "      <td>...</td>\n",
       "      <td>...</td>\n",
       "      <td>...</td>\n",
       "      <td>...</td>\n",
       "      <td>...</td>\n",
       "    </tr>\n",
       "    <tr>\n",
       "      <th>99995</th>\n",
       "      <td>0x25fe9</td>\n",
       "      <td>CUS_0x942c</td>\n",
       "      <td>April</td>\n",
       "      <td>Nicks</td>\n",
       "      <td>25</td>\n",
       "      <td>078-73-5990</td>\n",
       "      <td>Mechanic</td>\n",
       "      <td>39628.99</td>\n",
       "      <td>3359.415833</td>\n",
       "      <td>4</td>\n",
       "      <td>6</td>\n",
       "      <td>7</td>\n",
       "      <td>2</td>\n",
       "      <td>Auto Loan, and Student Loan</td>\n",
       "      <td>23</td>\n",
       "      <td>7</td>\n",
       "      <td>11.5</td>\n",
       "      <td>3.0</td>\n",
       "      <td>_</td>\n",
       "      <td>502.38</td>\n",
       "      <td>34.663572</td>\n",
       "      <td>31 Years and 6 Months</td>\n",
       "      <td>No</td>\n",
       "      <td>35.104023</td>\n",
       "      <td>60.97133255718485</td>\n",
       "      <td>High_spent_Large_value_payments</td>\n",
       "      <td>479.866228</td>\n",
       "      <td>Poor</td>\n",
       "    </tr>\n",
       "    <tr>\n",
       "      <th>99996</th>\n",
       "      <td>0x25fea</td>\n",
       "      <td>CUS_0x942c</td>\n",
       "      <td>May</td>\n",
       "      <td>Nicks</td>\n",
       "      <td>25</td>\n",
       "      <td>078-73-5990</td>\n",
       "      <td>Mechanic</td>\n",
       "      <td>39628.99</td>\n",
       "      <td>3359.415833</td>\n",
       "      <td>4</td>\n",
       "      <td>6</td>\n",
       "      <td>7</td>\n",
       "      <td>2</td>\n",
       "      <td>Auto Loan, and Student Loan</td>\n",
       "      <td>18</td>\n",
       "      <td>7</td>\n",
       "      <td>11.5</td>\n",
       "      <td>3.0</td>\n",
       "      <td>_</td>\n",
       "      <td>502.38</td>\n",
       "      <td>40.565631</td>\n",
       "      <td>31 Years and 7 Months</td>\n",
       "      <td>No</td>\n",
       "      <td>35.104023</td>\n",
       "      <td>54.18595028760385</td>\n",
       "      <td>High_spent_Medium_value_payments</td>\n",
       "      <td>496.65161</td>\n",
       "      <td>Poor</td>\n",
       "    </tr>\n",
       "    <tr>\n",
       "      <th>99997</th>\n",
       "      <td>0x25feb</td>\n",
       "      <td>CUS_0x942c</td>\n",
       "      <td>June</td>\n",
       "      <td>Nicks</td>\n",
       "      <td>25</td>\n",
       "      <td>078-73-5990</td>\n",
       "      <td>Mechanic</td>\n",
       "      <td>39628.99</td>\n",
       "      <td>3359.415833</td>\n",
       "      <td>4</td>\n",
       "      <td>6</td>\n",
       "      <td>5729</td>\n",
       "      <td>2</td>\n",
       "      <td>Auto Loan, and Student Loan</td>\n",
       "      <td>27</td>\n",
       "      <td>6</td>\n",
       "      <td>11.5</td>\n",
       "      <td>3.0</td>\n",
       "      <td>Good</td>\n",
       "      <td>502.38</td>\n",
       "      <td>41.255522</td>\n",
       "      <td>31 Years and 8 Months</td>\n",
       "      <td>No</td>\n",
       "      <td>35.104023</td>\n",
       "      <td>24.02847744864441</td>\n",
       "      <td>High_spent_Large_value_payments</td>\n",
       "      <td>516.809083</td>\n",
       "      <td>Poor</td>\n",
       "    </tr>\n",
       "    <tr>\n",
       "      <th>99998</th>\n",
       "      <td>0x25fec</td>\n",
       "      <td>CUS_0x942c</td>\n",
       "      <td>July</td>\n",
       "      <td>Nicks</td>\n",
       "      <td>25</td>\n",
       "      <td>078-73-5990</td>\n",
       "      <td>Mechanic</td>\n",
       "      <td>39628.99</td>\n",
       "      <td>3359.415833</td>\n",
       "      <td>4</td>\n",
       "      <td>6</td>\n",
       "      <td>7</td>\n",
       "      <td>2</td>\n",
       "      <td>Auto Loan, and Student Loan</td>\n",
       "      <td>20</td>\n",
       "      <td>NaN</td>\n",
       "      <td>11.5</td>\n",
       "      <td>3.0</td>\n",
       "      <td>Good</td>\n",
       "      <td>502.38</td>\n",
       "      <td>33.638208</td>\n",
       "      <td>31 Years and 9 Months</td>\n",
       "      <td>No</td>\n",
       "      <td>35.104023</td>\n",
       "      <td>251.67258219721603</td>\n",
       "      <td>Low_spent_Large_value_payments</td>\n",
       "      <td>319.164979</td>\n",
       "      <td>Standard</td>\n",
       "    </tr>\n",
       "    <tr>\n",
       "      <th>99999</th>\n",
       "      <td>0x25fed</td>\n",
       "      <td>CUS_0x942c</td>\n",
       "      <td>August</td>\n",
       "      <td>Nicks</td>\n",
       "      <td>25</td>\n",
       "      <td>078-73-5990</td>\n",
       "      <td>Mechanic</td>\n",
       "      <td>39628.99_</td>\n",
       "      <td>3359.415833</td>\n",
       "      <td>4</td>\n",
       "      <td>6</td>\n",
       "      <td>7</td>\n",
       "      <td>2</td>\n",
       "      <td>Auto Loan, and Student Loan</td>\n",
       "      <td>18</td>\n",
       "      <td>6</td>\n",
       "      <td>11.5</td>\n",
       "      <td>3.0</td>\n",
       "      <td>Good</td>\n",
       "      <td>502.38</td>\n",
       "      <td>34.192463</td>\n",
       "      <td>31 Years and 10 Months</td>\n",
       "      <td>No</td>\n",
       "      <td>35.104023</td>\n",
       "      <td>167.1638651610451</td>\n",
       "      <td>!@9#%8</td>\n",
       "      <td>393.673696</td>\n",
       "      <td>Poor</td>\n",
       "    </tr>\n",
       "  </tbody>\n",
       "</table>\n",
       "<p>100000 rows × 28 columns</p>\n",
       "</div>"
      ],
      "text/plain": [
       "            ID Customer_ID     Month           Name   Age          SSN  \\\n",
       "0       0x1602   CUS_0xd40   January  Aaron Maashoh    23  821-00-0265   \n",
       "1       0x1603   CUS_0xd40  February  Aaron Maashoh    23  821-00-0265   \n",
       "2       0x1604   CUS_0xd40     March  Aaron Maashoh  -500  821-00-0265   \n",
       "3       0x1605   CUS_0xd40     April  Aaron Maashoh    23  821-00-0265   \n",
       "4       0x1606   CUS_0xd40       May  Aaron Maashoh    23  821-00-0265   \n",
       "...        ...         ...       ...            ...   ...          ...   \n",
       "99995  0x25fe9  CUS_0x942c     April          Nicks    25  078-73-5990   \n",
       "99996  0x25fea  CUS_0x942c       May          Nicks    25  078-73-5990   \n",
       "99997  0x25feb  CUS_0x942c      June          Nicks    25  078-73-5990   \n",
       "99998  0x25fec  CUS_0x942c      July          Nicks    25  078-73-5990   \n",
       "99999  0x25fed  CUS_0x942c    August          Nicks    25  078-73-5990   \n",
       "\n",
       "      Occupation Annual_Income  Monthly_Inhand_Salary  Num_Bank_Accounts  \\\n",
       "0      Scientist      19114.12            1824.843333                  3   \n",
       "1      Scientist      19114.12                    NaN                  3   \n",
       "2      Scientist      19114.12                    NaN                  3   \n",
       "3      Scientist      19114.12                    NaN                  3   \n",
       "4      Scientist      19114.12            1824.843333                  3   \n",
       "...          ...           ...                    ...                ...   \n",
       "99995   Mechanic      39628.99            3359.415833                  4   \n",
       "99996   Mechanic      39628.99            3359.415833                  4   \n",
       "99997   Mechanic      39628.99            3359.415833                  4   \n",
       "99998   Mechanic      39628.99            3359.415833                  4   \n",
       "99999   Mechanic     39628.99_            3359.415833                  4   \n",
       "\n",
       "       Num_Credit_Card  Interest_Rate Num_of_Loan  \\\n",
       "0                    4              3           4   \n",
       "1                    4              3           4   \n",
       "2                    4              3           4   \n",
       "3                    4              3           4   \n",
       "4                    4              3           4   \n",
       "...                ...            ...         ...   \n",
       "99995                6              7           2   \n",
       "99996                6              7           2   \n",
       "99997                6           5729           2   \n",
       "99998                6              7           2   \n",
       "99999                6              7           2   \n",
       "\n",
       "                                            Type_of_Loan  Delay_from_due_date  \\\n",
       "0      Auto Loan, Credit-Builder Loan, Personal Loan,...                    3   \n",
       "1      Auto Loan, Credit-Builder Loan, Personal Loan,...                   -1   \n",
       "2      Auto Loan, Credit-Builder Loan, Personal Loan,...                    3   \n",
       "3      Auto Loan, Credit-Builder Loan, Personal Loan,...                    5   \n",
       "4      Auto Loan, Credit-Builder Loan, Personal Loan,...                    6   \n",
       "...                                                  ...                  ...   \n",
       "99995                        Auto Loan, and Student Loan                   23   \n",
       "99996                        Auto Loan, and Student Loan                   18   \n",
       "99997                        Auto Loan, and Student Loan                   27   \n",
       "99998                        Auto Loan, and Student Loan                   20   \n",
       "99999                        Auto Loan, and Student Loan                   18   \n",
       "\n",
       "      Num_of_Delayed_Payment Changed_Credit_Limit  Num_Credit_Inquiries  \\\n",
       "0                          7                11.27                   4.0   \n",
       "1                        NaN                11.27                   4.0   \n",
       "2                          7                    _                   4.0   \n",
       "3                          4                 6.27                   4.0   \n",
       "4                        NaN                11.27                   4.0   \n",
       "...                      ...                  ...                   ...   \n",
       "99995                      7                 11.5                   3.0   \n",
       "99996                      7                 11.5                   3.0   \n",
       "99997                      6                 11.5                   3.0   \n",
       "99998                    NaN                 11.5                   3.0   \n",
       "99999                      6                 11.5                   3.0   \n",
       "\n",
       "      Credit_Mix Outstanding_Debt  Credit_Utilization_Ratio  \\\n",
       "0              _           809.98                 26.822620   \n",
       "1           Good           809.98                 31.944960   \n",
       "2           Good           809.98                 28.609352   \n",
       "3           Good           809.98                 31.377862   \n",
       "4           Good           809.98                 24.797347   \n",
       "...          ...              ...                       ...   \n",
       "99995          _           502.38                 34.663572   \n",
       "99996          _           502.38                 40.565631   \n",
       "99997       Good           502.38                 41.255522   \n",
       "99998       Good           502.38                 33.638208   \n",
       "99999       Good           502.38                 34.192463   \n",
       "\n",
       "           Credit_History_Age Payment_of_Min_Amount  Total_EMI_per_month  \\\n",
       "0       22 Years and 1 Months                    No            49.574949   \n",
       "1                         NaN                    No            49.574949   \n",
       "2       22 Years and 3 Months                    No            49.574949   \n",
       "3       22 Years and 4 Months                    No            49.574949   \n",
       "4       22 Years and 5 Months                    No            49.574949   \n",
       "...                       ...                   ...                  ...   \n",
       "99995   31 Years and 6 Months                    No            35.104023   \n",
       "99996   31 Years and 7 Months                    No            35.104023   \n",
       "99997   31 Years and 8 Months                    No            35.104023   \n",
       "99998   31 Years and 9 Months                    No            35.104023   \n",
       "99999  31 Years and 10 Months                    No            35.104023   \n",
       "\n",
       "      Amount_invested_monthly                 Payment_Behaviour  \\\n",
       "0           80.41529543900253   High_spent_Small_value_payments   \n",
       "1          118.28022162236736    Low_spent_Large_value_payments   \n",
       "2             81.699521264648   Low_spent_Medium_value_payments   \n",
       "3           199.4580743910713    Low_spent_Small_value_payments   \n",
       "4          41.420153086217326  High_spent_Medium_value_payments   \n",
       "...                       ...                               ...   \n",
       "99995       60.97133255718485   High_spent_Large_value_payments   \n",
       "99996       54.18595028760385  High_spent_Medium_value_payments   \n",
       "99997       24.02847744864441   High_spent_Large_value_payments   \n",
       "99998      251.67258219721603    Low_spent_Large_value_payments   \n",
       "99999       167.1638651610451                            !@9#%8   \n",
       "\n",
       "          Monthly_Balance Credit_Score  \n",
       "0      312.49408867943663         Good  \n",
       "1      284.62916249607184         Good  \n",
       "2       331.2098628537912         Good  \n",
       "3      223.45130972736786         Good  \n",
       "4      341.48923103222177         Good  \n",
       "...                   ...          ...  \n",
       "99995          479.866228         Poor  \n",
       "99996           496.65161         Poor  \n",
       "99997          516.809083         Poor  \n",
       "99998          319.164979     Standard  \n",
       "99999          393.673696         Poor  \n",
       "\n",
       "[100000 rows x 28 columns]"
      ]
     },
     "execution_count": 2,
     "metadata": {},
     "output_type": "execute_result"
    }
   ],
   "source": [
    "df_train = pd.read_csv('train-credit.csv')\n",
    "df_train"
   ]
  },
  {
   "cell_type": "code",
   "execution_count": 3,
   "id": "957cfdea",
   "metadata": {
    "id": "957cfdea",
    "outputId": "100d0d2f-aeeb-4e05-d43c-5de1dc2e0d92"
   },
   "outputs": [
    {
     "ename": "FileNotFoundError",
     "evalue": "[Errno 2] No such file or directory: 'test.csv'",
     "output_type": "error",
     "traceback": [
      "\u001b[1;31m---------------------------------------------------------------------------\u001b[0m",
      "\u001b[1;31mFileNotFoundError\u001b[0m                         Traceback (most recent call last)",
      "Input \u001b[1;32mIn [3]\u001b[0m, in \u001b[0;36m<cell line: 1>\u001b[1;34m()\u001b[0m\n\u001b[1;32m----> 1\u001b[0m df_test \u001b[38;5;241m=\u001b[39m \u001b[43mpd\u001b[49m\u001b[38;5;241;43m.\u001b[39;49m\u001b[43mread_csv\u001b[49m\u001b[43m(\u001b[49m\u001b[38;5;124;43m'\u001b[39;49m\u001b[38;5;124;43mtest.csv\u001b[39;49m\u001b[38;5;124;43m'\u001b[39;49m\u001b[43m)\u001b[49m\n\u001b[0;32m      2\u001b[0m df_test\n",
      "File \u001b[1;32m~\\anaconda3\\envs\\base2\\lib\\site-packages\\pandas\\util\\_decorators.py:311\u001b[0m, in \u001b[0;36mdeprecate_nonkeyword_arguments.<locals>.decorate.<locals>.wrapper\u001b[1;34m(*args, **kwargs)\u001b[0m\n\u001b[0;32m    305\u001b[0m \u001b[38;5;28;01mif\u001b[39;00m \u001b[38;5;28mlen\u001b[39m(args) \u001b[38;5;241m>\u001b[39m num_allow_args:\n\u001b[0;32m    306\u001b[0m     warnings\u001b[38;5;241m.\u001b[39mwarn(\n\u001b[0;32m    307\u001b[0m         msg\u001b[38;5;241m.\u001b[39mformat(arguments\u001b[38;5;241m=\u001b[39marguments),\n\u001b[0;32m    308\u001b[0m         \u001b[38;5;167;01mFutureWarning\u001b[39;00m,\n\u001b[0;32m    309\u001b[0m         stacklevel\u001b[38;5;241m=\u001b[39mstacklevel,\n\u001b[0;32m    310\u001b[0m     )\n\u001b[1;32m--> 311\u001b[0m \u001b[38;5;28;01mreturn\u001b[39;00m func(\u001b[38;5;241m*\u001b[39margs, \u001b[38;5;241m*\u001b[39m\u001b[38;5;241m*\u001b[39mkwargs)\n",
      "File \u001b[1;32m~\\anaconda3\\envs\\base2\\lib\\site-packages\\pandas\\io\\parsers\\readers.py:678\u001b[0m, in \u001b[0;36mread_csv\u001b[1;34m(filepath_or_buffer, sep, delimiter, header, names, index_col, usecols, squeeze, prefix, mangle_dupe_cols, dtype, engine, converters, true_values, false_values, skipinitialspace, skiprows, skipfooter, nrows, na_values, keep_default_na, na_filter, verbose, skip_blank_lines, parse_dates, infer_datetime_format, keep_date_col, date_parser, dayfirst, cache_dates, iterator, chunksize, compression, thousands, decimal, lineterminator, quotechar, quoting, doublequote, escapechar, comment, encoding, encoding_errors, dialect, error_bad_lines, warn_bad_lines, on_bad_lines, delim_whitespace, low_memory, memory_map, float_precision, storage_options)\u001b[0m\n\u001b[0;32m    663\u001b[0m kwds_defaults \u001b[38;5;241m=\u001b[39m _refine_defaults_read(\n\u001b[0;32m    664\u001b[0m     dialect,\n\u001b[0;32m    665\u001b[0m     delimiter,\n\u001b[1;32m   (...)\u001b[0m\n\u001b[0;32m    674\u001b[0m     defaults\u001b[38;5;241m=\u001b[39m{\u001b[38;5;124m\"\u001b[39m\u001b[38;5;124mdelimiter\u001b[39m\u001b[38;5;124m\"\u001b[39m: \u001b[38;5;124m\"\u001b[39m\u001b[38;5;124m,\u001b[39m\u001b[38;5;124m\"\u001b[39m},\n\u001b[0;32m    675\u001b[0m )\n\u001b[0;32m    676\u001b[0m kwds\u001b[38;5;241m.\u001b[39mupdate(kwds_defaults)\n\u001b[1;32m--> 678\u001b[0m \u001b[38;5;28;01mreturn\u001b[39;00m \u001b[43m_read\u001b[49m\u001b[43m(\u001b[49m\u001b[43mfilepath_or_buffer\u001b[49m\u001b[43m,\u001b[49m\u001b[43m \u001b[49m\u001b[43mkwds\u001b[49m\u001b[43m)\u001b[49m\n",
      "File \u001b[1;32m~\\anaconda3\\envs\\base2\\lib\\site-packages\\pandas\\io\\parsers\\readers.py:575\u001b[0m, in \u001b[0;36m_read\u001b[1;34m(filepath_or_buffer, kwds)\u001b[0m\n\u001b[0;32m    572\u001b[0m _validate_names(kwds\u001b[38;5;241m.\u001b[39mget(\u001b[38;5;124m\"\u001b[39m\u001b[38;5;124mnames\u001b[39m\u001b[38;5;124m\"\u001b[39m, \u001b[38;5;28;01mNone\u001b[39;00m))\n\u001b[0;32m    574\u001b[0m \u001b[38;5;66;03m# Create the parser.\u001b[39;00m\n\u001b[1;32m--> 575\u001b[0m parser \u001b[38;5;241m=\u001b[39m TextFileReader(filepath_or_buffer, \u001b[38;5;241m*\u001b[39m\u001b[38;5;241m*\u001b[39mkwds)\n\u001b[0;32m    577\u001b[0m \u001b[38;5;28;01mif\u001b[39;00m chunksize \u001b[38;5;129;01mor\u001b[39;00m iterator:\n\u001b[0;32m    578\u001b[0m     \u001b[38;5;28;01mreturn\u001b[39;00m parser\n",
      "File \u001b[1;32m~\\anaconda3\\envs\\base2\\lib\\site-packages\\pandas\\io\\parsers\\readers.py:932\u001b[0m, in \u001b[0;36mTextFileReader.__init__\u001b[1;34m(self, f, engine, **kwds)\u001b[0m\n\u001b[0;32m    929\u001b[0m     \u001b[38;5;28mself\u001b[39m\u001b[38;5;241m.\u001b[39moptions[\u001b[38;5;124m\"\u001b[39m\u001b[38;5;124mhas_index_names\u001b[39m\u001b[38;5;124m\"\u001b[39m] \u001b[38;5;241m=\u001b[39m kwds[\u001b[38;5;124m\"\u001b[39m\u001b[38;5;124mhas_index_names\u001b[39m\u001b[38;5;124m\"\u001b[39m]\n\u001b[0;32m    931\u001b[0m \u001b[38;5;28mself\u001b[39m\u001b[38;5;241m.\u001b[39mhandles: IOHandles \u001b[38;5;241m|\u001b[39m \u001b[38;5;28;01mNone\u001b[39;00m \u001b[38;5;241m=\u001b[39m \u001b[38;5;28;01mNone\u001b[39;00m\n\u001b[1;32m--> 932\u001b[0m \u001b[38;5;28mself\u001b[39m\u001b[38;5;241m.\u001b[39m_engine \u001b[38;5;241m=\u001b[39m \u001b[38;5;28;43mself\u001b[39;49m\u001b[38;5;241;43m.\u001b[39;49m\u001b[43m_make_engine\u001b[49m\u001b[43m(\u001b[49m\u001b[43mf\u001b[49m\u001b[43m,\u001b[49m\u001b[43m \u001b[49m\u001b[38;5;28;43mself\u001b[39;49m\u001b[38;5;241;43m.\u001b[39;49m\u001b[43mengine\u001b[49m\u001b[43m)\u001b[49m\n",
      "File \u001b[1;32m~\\anaconda3\\envs\\base2\\lib\\site-packages\\pandas\\io\\parsers\\readers.py:1216\u001b[0m, in \u001b[0;36mTextFileReader._make_engine\u001b[1;34m(self, f, engine)\u001b[0m\n\u001b[0;32m   1212\u001b[0m     mode \u001b[38;5;241m=\u001b[39m \u001b[38;5;124m\"\u001b[39m\u001b[38;5;124mrb\u001b[39m\u001b[38;5;124m\"\u001b[39m\n\u001b[0;32m   1213\u001b[0m \u001b[38;5;66;03m# error: No overload variant of \"get_handle\" matches argument types\u001b[39;00m\n\u001b[0;32m   1214\u001b[0m \u001b[38;5;66;03m# \"Union[str, PathLike[str], ReadCsvBuffer[bytes], ReadCsvBuffer[str]]\"\u001b[39;00m\n\u001b[0;32m   1215\u001b[0m \u001b[38;5;66;03m# , \"str\", \"bool\", \"Any\", \"Any\", \"Any\", \"Any\", \"Any\"\u001b[39;00m\n\u001b[1;32m-> 1216\u001b[0m \u001b[38;5;28mself\u001b[39m\u001b[38;5;241m.\u001b[39mhandles \u001b[38;5;241m=\u001b[39m \u001b[43mget_handle\u001b[49m\u001b[43m(\u001b[49m\u001b[43m  \u001b[49m\u001b[38;5;66;43;03m# type: ignore[call-overload]\u001b[39;49;00m\n\u001b[0;32m   1217\u001b[0m \u001b[43m    \u001b[49m\u001b[43mf\u001b[49m\u001b[43m,\u001b[49m\n\u001b[0;32m   1218\u001b[0m \u001b[43m    \u001b[49m\u001b[43mmode\u001b[49m\u001b[43m,\u001b[49m\n\u001b[0;32m   1219\u001b[0m \u001b[43m    \u001b[49m\u001b[43mencoding\u001b[49m\u001b[38;5;241;43m=\u001b[39;49m\u001b[38;5;28;43mself\u001b[39;49m\u001b[38;5;241;43m.\u001b[39;49m\u001b[43moptions\u001b[49m\u001b[38;5;241;43m.\u001b[39;49m\u001b[43mget\u001b[49m\u001b[43m(\u001b[49m\u001b[38;5;124;43m\"\u001b[39;49m\u001b[38;5;124;43mencoding\u001b[39;49m\u001b[38;5;124;43m\"\u001b[39;49m\u001b[43m,\u001b[49m\u001b[43m \u001b[49m\u001b[38;5;28;43;01mNone\u001b[39;49;00m\u001b[43m)\u001b[49m\u001b[43m,\u001b[49m\n\u001b[0;32m   1220\u001b[0m \u001b[43m    \u001b[49m\u001b[43mcompression\u001b[49m\u001b[38;5;241;43m=\u001b[39;49m\u001b[38;5;28;43mself\u001b[39;49m\u001b[38;5;241;43m.\u001b[39;49m\u001b[43moptions\u001b[49m\u001b[38;5;241;43m.\u001b[39;49m\u001b[43mget\u001b[49m\u001b[43m(\u001b[49m\u001b[38;5;124;43m\"\u001b[39;49m\u001b[38;5;124;43mcompression\u001b[39;49m\u001b[38;5;124;43m\"\u001b[39;49m\u001b[43m,\u001b[49m\u001b[43m \u001b[49m\u001b[38;5;28;43;01mNone\u001b[39;49;00m\u001b[43m)\u001b[49m\u001b[43m,\u001b[49m\n\u001b[0;32m   1221\u001b[0m \u001b[43m    \u001b[49m\u001b[43mmemory_map\u001b[49m\u001b[38;5;241;43m=\u001b[39;49m\u001b[38;5;28;43mself\u001b[39;49m\u001b[38;5;241;43m.\u001b[39;49m\u001b[43moptions\u001b[49m\u001b[38;5;241;43m.\u001b[39;49m\u001b[43mget\u001b[49m\u001b[43m(\u001b[49m\u001b[38;5;124;43m\"\u001b[39;49m\u001b[38;5;124;43mmemory_map\u001b[39;49m\u001b[38;5;124;43m\"\u001b[39;49m\u001b[43m,\u001b[49m\u001b[43m \u001b[49m\u001b[38;5;28;43;01mFalse\u001b[39;49;00m\u001b[43m)\u001b[49m\u001b[43m,\u001b[49m\n\u001b[0;32m   1222\u001b[0m \u001b[43m    \u001b[49m\u001b[43mis_text\u001b[49m\u001b[38;5;241;43m=\u001b[39;49m\u001b[43mis_text\u001b[49m\u001b[43m,\u001b[49m\n\u001b[0;32m   1223\u001b[0m \u001b[43m    \u001b[49m\u001b[43merrors\u001b[49m\u001b[38;5;241;43m=\u001b[39;49m\u001b[38;5;28;43mself\u001b[39;49m\u001b[38;5;241;43m.\u001b[39;49m\u001b[43moptions\u001b[49m\u001b[38;5;241;43m.\u001b[39;49m\u001b[43mget\u001b[49m\u001b[43m(\u001b[49m\u001b[38;5;124;43m\"\u001b[39;49m\u001b[38;5;124;43mencoding_errors\u001b[39;49m\u001b[38;5;124;43m\"\u001b[39;49m\u001b[43m,\u001b[49m\u001b[43m \u001b[49m\u001b[38;5;124;43m\"\u001b[39;49m\u001b[38;5;124;43mstrict\u001b[39;49m\u001b[38;5;124;43m\"\u001b[39;49m\u001b[43m)\u001b[49m\u001b[43m,\u001b[49m\n\u001b[0;32m   1224\u001b[0m \u001b[43m    \u001b[49m\u001b[43mstorage_options\u001b[49m\u001b[38;5;241;43m=\u001b[39;49m\u001b[38;5;28;43mself\u001b[39;49m\u001b[38;5;241;43m.\u001b[39;49m\u001b[43moptions\u001b[49m\u001b[38;5;241;43m.\u001b[39;49m\u001b[43mget\u001b[49m\u001b[43m(\u001b[49m\u001b[38;5;124;43m\"\u001b[39;49m\u001b[38;5;124;43mstorage_options\u001b[39;49m\u001b[38;5;124;43m\"\u001b[39;49m\u001b[43m,\u001b[49m\u001b[43m \u001b[49m\u001b[38;5;28;43;01mNone\u001b[39;49;00m\u001b[43m)\u001b[49m\u001b[43m,\u001b[49m\n\u001b[0;32m   1225\u001b[0m \u001b[43m\u001b[49m\u001b[43m)\u001b[49m\n\u001b[0;32m   1226\u001b[0m \u001b[38;5;28;01massert\u001b[39;00m \u001b[38;5;28mself\u001b[39m\u001b[38;5;241m.\u001b[39mhandles \u001b[38;5;129;01mis\u001b[39;00m \u001b[38;5;129;01mnot\u001b[39;00m \u001b[38;5;28;01mNone\u001b[39;00m\n\u001b[0;32m   1227\u001b[0m f \u001b[38;5;241m=\u001b[39m \u001b[38;5;28mself\u001b[39m\u001b[38;5;241m.\u001b[39mhandles\u001b[38;5;241m.\u001b[39mhandle\n",
      "File \u001b[1;32m~\\anaconda3\\envs\\base2\\lib\\site-packages\\pandas\\io\\common.py:786\u001b[0m, in \u001b[0;36mget_handle\u001b[1;34m(path_or_buf, mode, encoding, compression, memory_map, is_text, errors, storage_options)\u001b[0m\n\u001b[0;32m    781\u001b[0m \u001b[38;5;28;01melif\u001b[39;00m \u001b[38;5;28misinstance\u001b[39m(handle, \u001b[38;5;28mstr\u001b[39m):\n\u001b[0;32m    782\u001b[0m     \u001b[38;5;66;03m# Check whether the filename is to be opened in binary mode.\u001b[39;00m\n\u001b[0;32m    783\u001b[0m     \u001b[38;5;66;03m# Binary mode does not support 'encoding' and 'newline'.\u001b[39;00m\n\u001b[0;32m    784\u001b[0m     \u001b[38;5;28;01mif\u001b[39;00m ioargs\u001b[38;5;241m.\u001b[39mencoding \u001b[38;5;129;01mand\u001b[39;00m \u001b[38;5;124m\"\u001b[39m\u001b[38;5;124mb\u001b[39m\u001b[38;5;124m\"\u001b[39m \u001b[38;5;129;01mnot\u001b[39;00m \u001b[38;5;129;01min\u001b[39;00m ioargs\u001b[38;5;241m.\u001b[39mmode:\n\u001b[0;32m    785\u001b[0m         \u001b[38;5;66;03m# Encoding\u001b[39;00m\n\u001b[1;32m--> 786\u001b[0m         handle \u001b[38;5;241m=\u001b[39m \u001b[38;5;28;43mopen\u001b[39;49m\u001b[43m(\u001b[49m\n\u001b[0;32m    787\u001b[0m \u001b[43m            \u001b[49m\u001b[43mhandle\u001b[49m\u001b[43m,\u001b[49m\n\u001b[0;32m    788\u001b[0m \u001b[43m            \u001b[49m\u001b[43mioargs\u001b[49m\u001b[38;5;241;43m.\u001b[39;49m\u001b[43mmode\u001b[49m\u001b[43m,\u001b[49m\n\u001b[0;32m    789\u001b[0m \u001b[43m            \u001b[49m\u001b[43mencoding\u001b[49m\u001b[38;5;241;43m=\u001b[39;49m\u001b[43mioargs\u001b[49m\u001b[38;5;241;43m.\u001b[39;49m\u001b[43mencoding\u001b[49m\u001b[43m,\u001b[49m\n\u001b[0;32m    790\u001b[0m \u001b[43m            \u001b[49m\u001b[43merrors\u001b[49m\u001b[38;5;241;43m=\u001b[39;49m\u001b[43merrors\u001b[49m\u001b[43m,\u001b[49m\n\u001b[0;32m    791\u001b[0m \u001b[43m            \u001b[49m\u001b[43mnewline\u001b[49m\u001b[38;5;241;43m=\u001b[39;49m\u001b[38;5;124;43m\"\u001b[39;49m\u001b[38;5;124;43m\"\u001b[39;49m\u001b[43m,\u001b[49m\n\u001b[0;32m    792\u001b[0m \u001b[43m        \u001b[49m\u001b[43m)\u001b[49m\n\u001b[0;32m    793\u001b[0m     \u001b[38;5;28;01melse\u001b[39;00m:\n\u001b[0;32m    794\u001b[0m         \u001b[38;5;66;03m# Binary mode\u001b[39;00m\n\u001b[0;32m    795\u001b[0m         handle \u001b[38;5;241m=\u001b[39m \u001b[38;5;28mopen\u001b[39m(handle, ioargs\u001b[38;5;241m.\u001b[39mmode)\n",
      "\u001b[1;31mFileNotFoundError\u001b[0m: [Errno 2] No such file or directory: 'test.csv'"
     ]
    }
   ],
   "source": [
    "df_test = pd.read_csv('test.csv')\n",
    "df_test"
   ]
  },
  {
   "cell_type": "markdown",
   "id": "89c1b606",
   "metadata": {
    "id": "89c1b606"
   },
   "source": [
    "# Data Preprocessing Part 1"
   ]
  },
  {
   "cell_type": "code",
   "execution_count": null,
   "id": "387283d5",
   "metadata": {
    "id": "387283d5",
    "outputId": "1891d4bc-c348-4145-a297-97feba187958"
   },
   "outputs": [],
   "source": [
    "df_train['Occupation'].unique()"
   ]
  },
  {
   "cell_type": "code",
   "execution_count": null,
   "id": "b502f637",
   "metadata": {
    "id": "b502f637",
    "outputId": "1f677e48-24ff-417d-8eac-ce641621b2c8"
   },
   "outputs": [],
   "source": [
    "df_train['Occupation'] = df_train['Occupation'].str.replace('_______', 'Other', regex=True)\n",
    "df_train['Occupation'].unique()"
   ]
  },
  {
   "cell_type": "code",
   "execution_count": null,
   "id": "385c550e",
   "metadata": {
    "id": "385c550e"
   },
   "outputs": [],
   "source": [
    "#Remove unwanted columns\n",
    "cols_to_drop = [\n",
    "    'ID',\n",
    "    'Customer_ID',\n",
    "    'Name',\n",
    "    'SSN'\n",
    "]"
   ]
  },
  {
   "cell_type": "code",
   "execution_count": null,
   "id": "4a91426e",
   "metadata": {
    "id": "4a91426e",
    "outputId": "ffef6cf2-b9ee-4614-e69e-1b06e486bded"
   },
   "outputs": [],
   "source": [
    "df_train.drop(columns = cols_to_drop, inplace = True)\n",
    "df_train.shape"
   ]
  },
  {
   "cell_type": "code",
   "execution_count": null,
   "id": "a2c827f9",
   "metadata": {
    "id": "a2c827f9",
    "outputId": "2b2c9e4d-c042-4561-fd55-dc1c89ad6df9"
   },
   "outputs": [],
   "source": [
    "#Check Missing Value percentage each attribute\n",
    "check_missing = df_train.isnull().sum() * 100 / df_train.shape[0]\n",
    "check_missing[check_missing > 0].sort_values(ascending=False)"
   ]
  },
  {
   "cell_type": "code",
   "execution_count": null,
   "id": "5ec88cae",
   "metadata": {
    "id": "5ec88cae",
    "outputId": "a2cf04ca-b2eb-4999-e249-f9818f5953dd"
   },
   "outputs": [],
   "source": [
    "#Drop Categorial Data that have 1 & 0 category, and have lot of category\n",
    "df_train.select_dtypes(include='object').nunique()"
   ]
  },
  {
   "cell_type": "code",
   "execution_count": null,
   "id": "5498a513",
   "metadata": {
    "id": "5498a513",
    "outputId": "f6ef2847-405d-401c-89de-10b4d26392ab"
   },
   "outputs": [],
   "source": [
    "df_train.dtypes"
   ]
  },
  {
   "cell_type": "code",
   "execution_count": null,
   "id": "88a21068",
   "metadata": {
    "id": "88a21068",
    "outputId": "e6da4e7d-9dbb-4b79-d6eb-98fbac4f56cc"
   },
   "outputs": [],
   "source": [
    "df_train['Age'] = df_train['Age'].str.replace(r'\\D', '')\n",
    "df_train['Annual_Income'] = df_train['Annual_Income'].str.replace(r'\\D', '')\n",
    "df_train['Num_of_Loan'] = df_train['Num_of_Loan'].str.replace(r'\\D', '')\n",
    "df_train['Num_of_Delayed_Payment'] = df_train['Num_of_Delayed_Payment'].str.replace(r'\\D', '')\n",
    "df_train['Changed_Credit_Limit'] = df_train['Changed_Credit_Limit'].str.replace(r'\\D', '')\n",
    "df_train['Outstanding_Debt'] = df_train['Outstanding_Debt'].str.replace(r'\\D', '')\n",
    "df_train['Amount_invested_monthly'] = df_train['Amount_invested_monthly'].str.replace(r'\\D', '')\n",
    "df_train['Monthly_Balance'] = df_train['Monthly_Balance'].str.replace(r'\\D', '')"
   ]
  },
  {
   "cell_type": "code",
   "execution_count": null,
   "id": "2fccd72a",
   "metadata": {
    "id": "2fccd72a",
    "outputId": "c70f7790-882f-44e1-bdb8-55d10d62ef9a"
   },
   "outputs": [],
   "source": [
    "df_train"
   ]
  },
  {
   "cell_type": "code",
   "execution_count": null,
   "id": "9e719e54",
   "metadata": {
    "id": "9e719e54",
    "outputId": "47473ac5-4930-4716-95ec-46e2380993e2"
   },
   "outputs": [],
   "source": [
    "df_train.drop(columns = 'Type_of_Loan', inplace = True)\n",
    "df_train.shape"
   ]
  },
  {
   "cell_type": "code",
   "execution_count": null,
   "id": "c4caf747",
   "metadata": {
    "id": "c4caf747",
    "outputId": "7c301ec5-d3bf-4790-c219-73ad3fc346ba"
   },
   "outputs": [],
   "source": [
    "df_train.drop(columns = 'Credit_History_Age', inplace = True)\n",
    "df_train.shape"
   ]
  },
  {
   "cell_type": "code",
   "execution_count": null,
   "id": "c317cd07",
   "metadata": {
    "id": "c317cd07",
    "outputId": "adf34b60-6e2b-42a6-9632-28bdab06430b"
   },
   "outputs": [],
   "source": [
    "#convert object data types column to integer\n",
    "df_train['Age'] = pd.to_numeric(df_train['Age'])\n",
    "df_train['Annual_Income'] = pd.to_numeric(df_train['Annual_Income'])\n",
    "df_train['Num_of_Loan'] = pd.to_numeric(df_train['Num_of_Loan'])\n",
    "df_train['Num_of_Delayed_Payment'] = pd.to_numeric(df_train['Num_of_Delayed_Payment'])\n",
    "df_train['Changed_Credit_Limit'] = pd.to_numeric(df_train['Changed_Credit_Limit'])\n",
    "df_train['Outstanding_Debt'] = pd.to_numeric(df_train['Outstanding_Debt'])\n",
    "df_train['Outstanding_Debt'] = pd.to_numeric(df_train['Outstanding_Debt'])\n",
    "df_train['Amount_invested_monthly'] = pd.to_numeric(df_train['Amount_invested_monthly'])\n",
    "\n",
    "df_train.dtypes"
   ]
  },
  {
   "cell_type": "code",
   "execution_count": null,
   "id": "ba030be1",
   "metadata": {
    "id": "ba030be1",
    "outputId": "5c319957-65c4-4e68-eee8-ce25f97aaa53"
   },
   "outputs": [],
   "source": [
    "df_train.drop(columns = 'Monthly_Balance', inplace = True)\n",
    "df_train.shape"
   ]
  },
  {
   "cell_type": "markdown",
   "id": "a5ac3c08",
   "metadata": {
    "id": "a5ac3c08"
   },
   "source": [
    "# Exploratory Data Analysis"
   ]
  },
  {
   "cell_type": "code",
   "execution_count": null,
   "id": "2411cf90",
   "metadata": {
    "id": "2411cf90",
    "outputId": "e7f097b7-8418-4ee5-abc4-e8024969869e"
   },
   "outputs": [],
   "source": [
    "sns.countplot(data=df_train, x=\"Credit_Score\", hue=\"Payment_Behaviour\")"
   ]
  },
  {
   "cell_type": "code",
   "execution_count": null,
   "id": "ced54ea3",
   "metadata": {
    "id": "ced54ea3",
    "outputId": "4483869d-68c1-4daa-9537-5f47720700a5"
   },
   "outputs": [],
   "source": [
    "sns.barplot(data=df_train, x=\"Credit_Score\", y=\"Age\")\n",
    "#This is most likely have alot of outlier so this analysis is false"
   ]
  },
  {
   "cell_type": "code",
   "execution_count": null,
   "id": "b3c93785",
   "metadata": {
    "id": "b3c93785",
    "outputId": "14d0d3e6-2ade-44f0-cd9a-d3043989c12d"
   },
   "outputs": [],
   "source": [
    "sns.countplot(data=df_train, x=\"Occupation\", hue=\"Credit_Score\")\n",
    "plt.xticks (rotation='vertical')"
   ]
  },
  {
   "cell_type": "code",
   "execution_count": null,
   "id": "2147b34e",
   "metadata": {
    "id": "2147b34e",
    "outputId": "9707aa58-cf59-4593-e754-4288129114e1"
   },
   "outputs": [],
   "source": [
    "sns.barplot(data=df_train, x=\"Credit_Score\", y=\"Num_Bank_Accounts\")"
   ]
  },
  {
   "cell_type": "code",
   "execution_count": null,
   "id": "16ed32d6",
   "metadata": {
    "id": "16ed32d6",
    "outputId": "0cbb1d0b-0817-4839-ffa4-c1d497d43254"
   },
   "outputs": [],
   "source": [
    "sns.barplot(data=df_train, x=\"Credit_Score\", y=\"Num_Credit_Card\")"
   ]
  },
  {
   "cell_type": "code",
   "execution_count": null,
   "id": "7a37ed90",
   "metadata": {
    "id": "7a37ed90",
    "outputId": "3bb20d4d-da29-4899-91f6-c600a0e44bb8"
   },
   "outputs": [],
   "source": [
    "sns.countplot(data=df_train, x=\"Payment_of_Min_Amount\", hue=\"Credit_Score\")\n",
    "#Give some Promotion to the people that have no Payment_of_Min_Amount"
   ]
  },
  {
   "cell_type": "code",
   "execution_count": null,
   "id": "667c3775",
   "metadata": {
    "id": "667c3775",
    "outputId": "06cab439-4c25-41d1-8678-066aa998550a"
   },
   "outputs": [],
   "source": [
    "sns.countplot(data=df_train, x=\"Credit_Mix\", hue=\"Credit_Score\")\n",
    "#We can give some promotion to the people with good Credit Mix"
   ]
  },
  {
   "cell_type": "markdown",
   "id": "a3aa3418",
   "metadata": {
    "id": "a3aa3418"
   },
   "source": [
    "# Data Preprocessing Part 2"
   ]
  },
  {
   "cell_type": "code",
   "execution_count": null,
   "id": "b8e40388",
   "metadata": {
    "id": "b8e40388",
    "outputId": "64cb795b-d7d3-48bb-ff9b-f4f67f3028fc"
   },
   "outputs": [],
   "source": [
    "df_train.head()"
   ]
  },
  {
   "cell_type": "code",
   "execution_count": null,
   "id": "2e5616f8",
   "metadata": {
    "id": "2e5616f8",
    "outputId": "af2fb0d4-45a1-487d-a901-5a36d86c2caf"
   },
   "outputs": [],
   "source": [
    "df_train.drop(columns = 'Month', inplace = True)\n",
    "df_train.shape"
   ]
  },
  {
   "cell_type": "code",
   "execution_count": null,
   "id": "0c60b0a2",
   "metadata": {
    "id": "0c60b0a2",
    "outputId": "63143068-6809-4133-d77a-21a012d3637c"
   },
   "outputs": [],
   "source": [
    "df_train['Occupation'].unique()"
   ]
  },
  {
   "cell_type": "code",
   "execution_count": null,
   "id": "b99fb75e",
   "metadata": {
    "id": "b99fb75e",
    "outputId": "b34aae12-c61d-4b6e-9f19-7ae679422141"
   },
   "outputs": [],
   "source": [
    "from sklearn import preprocessing\n",
    "label_encoder = preprocessing.LabelEncoder()\n",
    "df_train['Occupation']= label_encoder.fit_transform(df_train['Occupation'])\n",
    "df_train['Occupation'].unique()"
   ]
  },
  {
   "cell_type": "code",
   "execution_count": null,
   "id": "ffb86a63",
   "metadata": {
    "id": "ffb86a63",
    "outputId": "aa104672-edd2-4455-f4c3-432ed159f9eb"
   },
   "outputs": [],
   "source": [
    "df_train['Credit_Mix'].unique()"
   ]
  },
  {
   "cell_type": "code",
   "execution_count": null,
   "id": "12e08a9a",
   "metadata": {
    "id": "12e08a9a",
    "outputId": "d6f1d8aa-5e10-41fb-f0ba-355cf4f56682"
   },
   "outputs": [],
   "source": [
    "df_train['Credit_Mix']= label_encoder.fit_transform(df_train['Credit_Mix'])\n",
    "df_train['Credit_Mix'].unique()"
   ]
  },
  {
   "cell_type": "code",
   "execution_count": null,
   "id": "1a279124",
   "metadata": {
    "id": "1a279124",
    "outputId": "78a0f1a4-ec05-4493-dde2-6a52ac255fa8"
   },
   "outputs": [],
   "source": [
    "df_train['Payment_of_Min_Amount']= label_encoder.fit_transform(df_train['Payment_of_Min_Amount'])\n",
    "df_train['Payment_of_Min_Amount'].unique()"
   ]
  },
  {
   "cell_type": "code",
   "execution_count": null,
   "id": "86caa54b",
   "metadata": {
    "id": "86caa54b",
    "outputId": "4e763885-e1f0-431b-86f8-745ee74ffcbe"
   },
   "outputs": [],
   "source": [
    "df_train['Payment_Behaviour'].unique()"
   ]
  },
  {
   "cell_type": "code",
   "execution_count": null,
   "id": "188d708b",
   "metadata": {
    "id": "188d708b",
    "outputId": "c138b4e7-598f-4e91-9be2-6da6f4733ea1"
   },
   "outputs": [],
   "source": [
    "df_train['Payment_Behaviour']= label_encoder.fit_transform(df_train['Payment_Behaviour'])\n",
    "df_train['Payment_Behaviour'].unique()"
   ]
  },
  {
   "cell_type": "code",
   "execution_count": null,
   "id": "1b45a5dc",
   "metadata": {
    "id": "1b45a5dc",
    "outputId": "16c4ea0b-96dc-47e5-e318-0fff2a07c178"
   },
   "outputs": [],
   "source": [
    "df_train['Credit_Score'].unique()"
   ]
  },
  {
   "cell_type": "code",
   "execution_count": null,
   "id": "5fe0c41a",
   "metadata": {
    "id": "5fe0c41a",
    "outputId": "0b8d1ab3-3bbf-4d18-f20a-fca17519aad6"
   },
   "outputs": [],
   "source": [
    "df_train['Credit_Score']= label_encoder.fit_transform(df_train['Credit_Score'])\n",
    "df_train['Credit_Score'].unique()\n",
    "# 0 -> Good\n",
    "# 1 -> Poor\n",
    "# 2 -> Standard"
   ]
  },
  {
   "cell_type": "code",
   "execution_count": null,
   "id": "094cd404",
   "metadata": {
    "id": "094cd404",
    "outputId": "2032e800-b7c3-4974-9324-4f180bfb20a8"
   },
   "outputs": [],
   "source": [
    "df_train.dtypes"
   ]
  },
  {
   "cell_type": "markdown",
   "id": "0b2f21bd",
   "metadata": {
    "id": "0b2f21bd"
   },
   "source": [
    "# Balance the Class Value"
   ]
  },
  {
   "cell_type": "code",
   "execution_count": null,
   "id": "4c46f21c",
   "metadata": {
    "id": "4c46f21c",
    "outputId": "df910804-7e6c-42fb-eef2-6061cb47272d"
   },
   "outputs": [],
   "source": [
    "#Counting 1 and 0 Value in Response column\n",
    "sns.countplot(df_train['Credit_Score'])\n",
    "df_train['Credit_Score'].value_counts()"
   ]
  },
  {
   "cell_type": "code",
   "execution_count": null,
   "id": "ad9cd29d",
   "metadata": {
    "id": "ad9cd29d"
   },
   "outputs": [],
   "source": [
    "from sklearn.utils import resample\n",
    "#create two different dataframe of majority and minority class \n",
    "df_majority = df_train[(df_train['Credit_Score']==2)] \n",
    "df_minority = df_train[(df_train['Credit_Score']==1)] \n",
    "df_minority2 = df_train[(df_train['Credit_Score']==0)] \n",
    "# upsample minority class\n",
    "df_minority_upsampled = resample(df_minority, \n",
    "                                 replace=True,    # sample with replacement\n",
    "                                 n_samples= 53174, # to match majority class\n",
    "                                 random_state=0)  # reproducible results\n",
    "df_minority_upsampled2 = resample(df_minority2, \n",
    "                                 replace=True,    # sample with replacement\n",
    "                                 n_samples= 53174, # to match majority class\n",
    "                                 random_state=0)  # reproducible results\n",
    "# Combine majority class with upsampled minority class\n",
    "df_upsampled = pd.concat([df_minority_upsampled, df_minority_upsampled2, df_majority])"
   ]
  },
  {
   "cell_type": "code",
   "execution_count": null,
   "id": "95980fd8",
   "metadata": {
    "id": "95980fd8",
    "outputId": "c3f80981-a9f5-4a78-a281-dc1437bdd365"
   },
   "outputs": [],
   "source": [
    "#Counting 1 and 0 Value in Response column\n",
    "sns.countplot(df_upsampled['Credit_Score'])\n",
    "df_upsampled['Credit_Score'].value_counts()"
   ]
  },
  {
   "cell_type": "code",
   "execution_count": null,
   "id": "ee665d05",
   "metadata": {
    "id": "ee665d05",
    "outputId": "e12559bc-48b1-46ae-8f0d-a3ecf1d33031"
   },
   "outputs": [],
   "source": [
    "df_upsampled"
   ]
  },
  {
   "cell_type": "code",
   "execution_count": null,
   "id": "1d31d497",
   "metadata": {
    "id": "1d31d497",
    "outputId": "19e8fbeb-61c2-4e59-affb-62bdfb8eabff"
   },
   "outputs": [],
   "source": [
    "df_upsampled.dropna(inplace = True)\n",
    "df_upsampled.shape"
   ]
  },
  {
   "cell_type": "markdown",
   "id": "ad3d1fa8",
   "metadata": {
    "id": "ad3d1fa8"
   },
   "source": [
    "# Clean the Outlier"
   ]
  },
  {
   "cell_type": "code",
   "execution_count": null,
   "id": "7dc206f5",
   "metadata": {
    "id": "7dc206f5",
    "outputId": "a457755a-a41b-4add-c1ce-6adfce983cb4"
   },
   "outputs": [],
   "source": [
    "#Remove Outlier using Z-Score Method\n",
    "import scipy.stats as stats\n",
    "z = np.abs(stats.zscore(df_upsampled))\n",
    "data_clean = df_upsampled[(z<3).all(axis = 1)] \n",
    "data_clean.shape"
   ]
  },
  {
   "cell_type": "markdown",
   "id": "79803093",
   "metadata": {
    "id": "79803093"
   },
   "source": [
    "# Correlation Heatmap"
   ]
  },
  {
   "cell_type": "code",
   "execution_count": null,
   "id": "4ea407a4",
   "metadata": {
    "id": "4ea407a4",
    "outputId": "23f864e6-e07b-4851-ed43-6c1ccf68dd48"
   },
   "outputs": [],
   "source": [
    "sns.heatmap(data_clean.corr(), fmt='.2g')"
   ]
  },
  {
   "cell_type": "markdown",
   "id": "3f860374",
   "metadata": {
    "id": "3f860374"
   },
   "source": [
    "# Machine Learning Model Building"
   ]
  },
  {
   "cell_type": "code",
   "execution_count": null,
   "id": "fa8c5cd7",
   "metadata": {
    "id": "fa8c5cd7"
   },
   "outputs": [],
   "source": [
    "X = data_clean.drop('Credit_Score', axis=1)\n",
    "y = data_clean['Credit_Score']"
   ]
  },
  {
   "cell_type": "code",
   "execution_count": null,
   "id": "e02cc3ec",
   "metadata": {
    "id": "e02cc3ec"
   },
   "outputs": [],
   "source": [
    "#test size 20% and train size 80%\n",
    "from sklearn.model_selection import train_test_split\n",
    "from sklearn.metrics import accuracy_score\n",
    "X_train, X_test, y_train, y_test = train_test_split(X,y, test_size=0.2,random_state=0)"
   ]
  },
  {
   "cell_type": "markdown",
   "id": "d93ad6f6",
   "metadata": {
    "id": "d93ad6f6"
   },
   "source": [
    "# Decision Tree"
   ]
  },
  {
   "cell_type": "code",
   "execution_count": null,
   "id": "71604618",
   "metadata": {
    "id": "71604618",
    "outputId": "4499e176-46ee-4110-e10a-2968c6b42bef"
   },
   "outputs": [],
   "source": [
    "from sklearn.tree import DecisionTreeClassifier\n",
    "dtree = DecisionTreeClassifier(random_state=0)\n",
    "dtree.fit(X_train, y_train)"
   ]
  },
  {
   "cell_type": "code",
   "execution_count": null,
   "id": "bce5e220",
   "metadata": {
    "id": "bce5e220",
    "outputId": "daa8b16f-6cce-424d-9d25-115c8fb1ded9"
   },
   "outputs": [],
   "source": [
    "y_pred = dtree.predict(X_test)\n",
    "print(\"Accuracy Score :\", round(accuracy_score(y_test, y_pred)*100 ,2), \"%\")"
   ]
  },
  {
   "cell_type": "code",
   "execution_count": null,
   "id": "e1db26ce",
   "metadata": {
    "id": "e1db26ce",
    "outputId": "8ce6f884-a7bb-48ba-928e-735d8c1e4453"
   },
   "outputs": [],
   "source": [
    "from sklearn.metrics import accuracy_score, f1_score, precision_score, recall_score\n",
    "print('F-1 Score : ',(f1_score(y_test, y_pred, average='micro')))\n",
    "print('Precision Score : ',(precision_score(y_test, y_pred, average='micro')))\n",
    "print('Recall Score : ',(recall_score(y_test, y_pred, average='micro')))"
   ]
  },
  {
   "cell_type": "markdown",
   "id": "f27743e0",
   "metadata": {
    "id": "f27743e0"
   },
   "source": [
    "# Random Forest "
   ]
  },
  {
   "cell_type": "code",
   "execution_count": null,
   "id": "fb62afad",
   "metadata": {
    "id": "fb62afad",
    "outputId": "97124e7f-02fa-424d-9e1c-1508119f8ffa"
   },
   "outputs": [],
   "source": [
    "from sklearn.ensemble import RandomForestClassifier\n",
    "rfc = RandomForestClassifier(random_state=0)\n",
    "rfc.fit(X_train, y_train)"
   ]
  },
  {
   "cell_type": "code",
   "execution_count": null,
   "id": "ff957c77",
   "metadata": {
    "id": "ff957c77",
    "outputId": "a4358ce6-c85b-448a-c71a-ed51c966411d"
   },
   "outputs": [],
   "source": [
    "y_pred = rfc.predict(X_test)\n",
    "print(\"Accuracy Score :\", round(accuracy_score(y_test, y_pred)*100 ,2), \"%\")"
   ]
  },
  {
   "cell_type": "code",
   "execution_count": null,
   "id": "1627a63a",
   "metadata": {
    "id": "1627a63a",
    "outputId": "382ede4f-1d66-4e51-a607-4e06581c8e8b"
   },
   "outputs": [],
   "source": [
    "from sklearn.metrics import accuracy_score, f1_score, precision_score, recall_score\n",
    "print('F-1 Score : ',(f1_score(y_test, y_pred, average='micro')))\n",
    "print('Precision Score : ',(precision_score(y_test, y_pred, average='micro')))\n",
    "print('Recall Score : ',(recall_score(y_test, y_pred, average='micro')))"
   ]
  },
  {
   "cell_type": "markdown",
   "id": "59323d33",
   "metadata": {
    "id": "59323d33"
   },
   "source": [
    "# Logistic Regression"
   ]
  },
  {
   "cell_type": "code",
   "execution_count": null,
   "id": "09906772",
   "metadata": {
    "id": "09906772",
    "outputId": "9219e029-db96-4dd3-a6a7-3bdbd5d3497e"
   },
   "outputs": [],
   "source": [
    "from sklearn.linear_model import LogisticRegression\n",
    "lr = LogisticRegression(random_state=0)\n",
    "lr.fit(X_train, y_train)"
   ]
  },
  {
   "cell_type": "code",
   "execution_count": null,
   "id": "541904fd",
   "metadata": {
    "id": "541904fd",
    "outputId": "364f319a-03c8-452b-edea-fa1d7d8afb14"
   },
   "outputs": [],
   "source": [
    "y_pred = lr.predict(X_test)\n",
    "print(\"Accuracy Score :\", round(accuracy_score(y_test, y_pred)*100 ,2), \"%\")"
   ]
  },
  {
   "cell_type": "code",
   "execution_count": null,
   "id": "d783f3e7",
   "metadata": {
    "id": "d783f3e7",
    "outputId": "d4c80612-8512-490d-a0d8-2ec30acd3331"
   },
   "outputs": [],
   "source": [
    "from sklearn.metrics import accuracy_score, f1_score, precision_score, recall_score\n",
    "print('F-1 Score : ',(f1_score(y_test, y_pred, average='micro')))\n",
    "print('Precision Score : ',(precision_score(y_test, y_pred, average='micro')))\n",
    "print('Recall Score : ',(recall_score(y_test, y_pred, average='micro')))"
   ]
  },
  {
   "cell_type": "markdown",
   "id": "3fdcfe87",
   "metadata": {
    "id": "3fdcfe87"
   },
   "source": [
    "# Visualize Random Forest Classifier"
   ]
  },
  {
   "cell_type": "code",
   "execution_count": null,
   "id": "c2635a74",
   "metadata": {
    "id": "c2635a74"
   },
   "outputs": [],
   "source": [
    "rfc = RandomForestClassifier(random_state=0)\n",
    "rfc.fit(X_train, y_train)"
   ]
  },
  {
   "cell_type": "code",
   "execution_count": null,
   "id": "b2057330",
   "metadata": {
    "id": "b2057330",
    "outputId": "12de57bd-06c8-4035-ebb9-d112d3397a31"
   },
   "outputs": [],
   "source": [
    "from sklearn.metrics import confusion_matrix\n",
    "cm = confusion_matrix(y_test, y_pred)\n",
    "plt.figure(figsize=(5,5))\n",
    "sns.heatmap(data=cm,linewidths=.5, annot=True,  cmap = 'Blues')\n",
    "plt.ylabel('Actual label')\n",
    "plt.xlabel('Predicted label')\n",
    "all_sample_title = 'Accuracy Score: {0}'.format(rfc.score(X_test, y_test))\n",
    "plt.title(all_sample_title, size = 15)"
   ]
  },
  {
   "cell_type": "code",
   "execution_count": null,
   "id": "b25bb0a1",
   "metadata": {
    "id": "b25bb0a1",
    "outputId": "994f765b-02b5-4530-a36b-94bcf05568bb"
   },
   "outputs": [],
   "source": [
    "#Feature Importance\n",
    "imp_df = pd.DataFrame({\n",
    "    \"Feature Name\": X_train.columns,\n",
    "    \"Importance\": rfc.feature_importances_\n",
    "})\n",
    "fi = imp_df.sort_values(by=\"Importance\", ascending=False)\n",
    "fi"
   ]
  },
  {
   "cell_type": "code",
   "execution_count": null,
   "id": "6053845e",
   "metadata": {
    "id": "6053845e",
    "outputId": "7e1e1ce1-aa42-4ecf-ca00-8f6c2c94545e"
   },
   "outputs": [],
   "source": [
    "fi2 = fi.head(10)\n",
    "plt.figure(figsize=(10,8))\n",
    "sns.barplot(data=fi2, x='Importance', y='Feature Name')\n",
    "plt.title('Top 10 Feature Importance Each Attributes (Random Forest)', fontsize=18)\n",
    "plt.xlabel ('Importance', fontsize=16)\n",
    "plt.ylabel ('Feature Name', fontsize=16)\n",
    "plt.show()"
   ]
  }
 ],
 "metadata": {
  "colab": {
   "provenance": []
  },
  "hide_input": false,
  "kernelspec": {
   "display_name": "Python 3 (ipykernel)",
   "language": "python",
   "name": "python3"
  },
  "language_info": {
   "codemirror_mode": {
    "name": "ipython",
    "version": 3
   },
   "file_extension": ".py",
   "mimetype": "text/x-python",
   "name": "python",
   "nbconvert_exporter": "python",
   "pygments_lexer": "ipython3",
   "version": "3.10.6"
  },
  "varInspector": {
   "cols": {
    "lenName": 16,
    "lenType": 16,
    "lenVar": 40
   },
   "kernels_config": {
    "python": {
     "delete_cmd_postfix": "",
     "delete_cmd_prefix": "del ",
     "library": "var_list.py",
     "varRefreshCmd": "print(var_dic_list())"
    },
    "r": {
     "delete_cmd_postfix": ") ",
     "delete_cmd_prefix": "rm(",
     "library": "var_list.r",
     "varRefreshCmd": "cat(var_dic_list()) "
    }
   },
   "types_to_exclude": [
    "module",
    "function",
    "builtin_function_or_method",
    "instance",
    "_Feature"
   ],
   "window_display": false
  }
 },
 "nbformat": 4,
 "nbformat_minor": 5
}
