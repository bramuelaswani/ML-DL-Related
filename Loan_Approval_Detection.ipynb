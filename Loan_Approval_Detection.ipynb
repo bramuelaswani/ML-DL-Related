{
 "cells": [
  {
   "cell_type": "code",
   "execution_count": 1,
   "id": "0bd04336",
   "metadata": {},
   "outputs": [],
   "source": [
    "#datasent link: https://www.kaggle.com/code/alditopatriza1999/sba-default-loan-classification/data"
   ]
  },
  {
   "cell_type": "code",
   "execution_count": 2,
   "id": "3d13af6f",
   "metadata": {
    "id": "3d13af6f"
   },
   "outputs": [],
   "source": [
    "import pandas as pd\n",
    "import os\n",
    "import matplotlib.pyplot as plt\n",
    "import seaborn as sns\n",
    "import numpy as np\n",
    "sns.set_theme(color_codes=True)\n",
    "pd.set_option('display.max_columns', None)"
   ]
  },
  {
   "cell_type": "code",
   "execution_count": 3,
   "id": "7d5bd917",
   "metadata": {},
   "outputs": [],
   "source": [
    "# files=[file for file in os.listdir('.\\\\finance\\')]\n",
    "# for file in files:\n",
    "#     print(file)"
   ]
  },
  {
   "cell_type": "code",
   "execution_count": 4,
   "id": "4c783449",
   "metadata": {
    "id": "4c783449",
    "outputId": "95602c14-d9ba-4215-924b-9234eb27ae37",
    "scrolled": true
   },
   "outputs": [
    {
     "name": "stderr",
     "output_type": "stream",
     "text": [
      "C:\\Users\\25472\\AppData\\Local\\Temp\\ipykernel_13528\\969270114.py:1: DtypeWarning: Columns (9) have mixed types. Specify dtype option on import or set low_memory=False.\n",
      "  df = pd.read_csv(r'C:\\Users\\25472\\Desktop\\finance\\SBAnational.csv')\n"
     ]
    },
    {
     "data": {
      "text/html": [
       "<div>\n",
       "<style scoped>\n",
       "    .dataframe tbody tr th:only-of-type {\n",
       "        vertical-align: middle;\n",
       "    }\n",
       "\n",
       "    .dataframe tbody tr th {\n",
       "        vertical-align: top;\n",
       "    }\n",
       "\n",
       "    .dataframe thead th {\n",
       "        text-align: right;\n",
       "    }\n",
       "</style>\n",
       "<table border=\"1\" class=\"dataframe\">\n",
       "  <thead>\n",
       "    <tr style=\"text-align: right;\">\n",
       "      <th></th>\n",
       "      <th>LoanNr_ChkDgt</th>\n",
       "      <th>Name</th>\n",
       "      <th>City</th>\n",
       "      <th>State</th>\n",
       "      <th>Zip</th>\n",
       "      <th>Bank</th>\n",
       "      <th>BankState</th>\n",
       "      <th>NAICS</th>\n",
       "      <th>ApprovalDate</th>\n",
       "      <th>ApprovalFY</th>\n",
       "      <th>Term</th>\n",
       "      <th>NoEmp</th>\n",
       "      <th>NewExist</th>\n",
       "      <th>CreateJob</th>\n",
       "      <th>RetainedJob</th>\n",
       "      <th>FranchiseCode</th>\n",
       "      <th>UrbanRural</th>\n",
       "      <th>RevLineCr</th>\n",
       "      <th>LowDoc</th>\n",
       "      <th>ChgOffDate</th>\n",
       "      <th>DisbursementDate</th>\n",
       "      <th>DisbursementGross</th>\n",
       "      <th>BalanceGross</th>\n",
       "      <th>MIS_Status</th>\n",
       "      <th>ChgOffPrinGr</th>\n",
       "      <th>GrAppv</th>\n",
       "      <th>SBA_Appv</th>\n",
       "    </tr>\n",
       "  </thead>\n",
       "  <tbody>\n",
       "    <tr>\n",
       "      <th>0</th>\n",
       "      <td>1000014003</td>\n",
       "      <td>ABC HOBBYCRAFT</td>\n",
       "      <td>EVANSVILLE</td>\n",
       "      <td>IN</td>\n",
       "      <td>47711</td>\n",
       "      <td>FIFTH THIRD BANK</td>\n",
       "      <td>OH</td>\n",
       "      <td>451120</td>\n",
       "      <td>28-Feb-97</td>\n",
       "      <td>1997</td>\n",
       "      <td>84</td>\n",
       "      <td>4</td>\n",
       "      <td>2.0</td>\n",
       "      <td>0</td>\n",
       "      <td>0</td>\n",
       "      <td>1</td>\n",
       "      <td>0</td>\n",
       "      <td>N</td>\n",
       "      <td>Y</td>\n",
       "      <td>NaN</td>\n",
       "      <td>28-Feb-99</td>\n",
       "      <td>$60,000.00</td>\n",
       "      <td>$0.00</td>\n",
       "      <td>P I F</td>\n",
       "      <td>$0.00</td>\n",
       "      <td>$60,000.00</td>\n",
       "      <td>$48,000.00</td>\n",
       "    </tr>\n",
       "    <tr>\n",
       "      <th>1</th>\n",
       "      <td>1000024006</td>\n",
       "      <td>LANDMARK BAR &amp; GRILLE (THE)</td>\n",
       "      <td>NEW PARIS</td>\n",
       "      <td>IN</td>\n",
       "      <td>46526</td>\n",
       "      <td>1ST SOURCE BANK</td>\n",
       "      <td>IN</td>\n",
       "      <td>722410</td>\n",
       "      <td>28-Feb-97</td>\n",
       "      <td>1997</td>\n",
       "      <td>60</td>\n",
       "      <td>2</td>\n",
       "      <td>2.0</td>\n",
       "      <td>0</td>\n",
       "      <td>0</td>\n",
       "      <td>1</td>\n",
       "      <td>0</td>\n",
       "      <td>N</td>\n",
       "      <td>Y</td>\n",
       "      <td>NaN</td>\n",
       "      <td>31-May-97</td>\n",
       "      <td>$40,000.00</td>\n",
       "      <td>$0.00</td>\n",
       "      <td>P I F</td>\n",
       "      <td>$0.00</td>\n",
       "      <td>$40,000.00</td>\n",
       "      <td>$32,000.00</td>\n",
       "    </tr>\n",
       "    <tr>\n",
       "      <th>2</th>\n",
       "      <td>1000034009</td>\n",
       "      <td>WHITLOCK DDS, TODD M.</td>\n",
       "      <td>BLOOMINGTON</td>\n",
       "      <td>IN</td>\n",
       "      <td>47401</td>\n",
       "      <td>GRANT COUNTY STATE BANK</td>\n",
       "      <td>IN</td>\n",
       "      <td>621210</td>\n",
       "      <td>28-Feb-97</td>\n",
       "      <td>1997</td>\n",
       "      <td>180</td>\n",
       "      <td>7</td>\n",
       "      <td>1.0</td>\n",
       "      <td>0</td>\n",
       "      <td>0</td>\n",
       "      <td>1</td>\n",
       "      <td>0</td>\n",
       "      <td>N</td>\n",
       "      <td>N</td>\n",
       "      <td>NaN</td>\n",
       "      <td>31-Dec-97</td>\n",
       "      <td>$287,000.00</td>\n",
       "      <td>$0.00</td>\n",
       "      <td>P I F</td>\n",
       "      <td>$0.00</td>\n",
       "      <td>$287,000.00</td>\n",
       "      <td>$215,250.00</td>\n",
       "    </tr>\n",
       "    <tr>\n",
       "      <th>3</th>\n",
       "      <td>1000044001</td>\n",
       "      <td>BIG BUCKS PAWN &amp; JEWELRY, LLC</td>\n",
       "      <td>BROKEN ARROW</td>\n",
       "      <td>OK</td>\n",
       "      <td>74012</td>\n",
       "      <td>1ST NATL BK &amp; TR CO OF BROKEN</td>\n",
       "      <td>OK</td>\n",
       "      <td>0</td>\n",
       "      <td>28-Feb-97</td>\n",
       "      <td>1997</td>\n",
       "      <td>60</td>\n",
       "      <td>2</td>\n",
       "      <td>1.0</td>\n",
       "      <td>0</td>\n",
       "      <td>0</td>\n",
       "      <td>1</td>\n",
       "      <td>0</td>\n",
       "      <td>N</td>\n",
       "      <td>Y</td>\n",
       "      <td>NaN</td>\n",
       "      <td>30-Jun-97</td>\n",
       "      <td>$35,000.00</td>\n",
       "      <td>$0.00</td>\n",
       "      <td>P I F</td>\n",
       "      <td>$0.00</td>\n",
       "      <td>$35,000.00</td>\n",
       "      <td>$28,000.00</td>\n",
       "    </tr>\n",
       "    <tr>\n",
       "      <th>4</th>\n",
       "      <td>1000054004</td>\n",
       "      <td>ANASTASIA CONFECTIONS, INC.</td>\n",
       "      <td>ORLANDO</td>\n",
       "      <td>FL</td>\n",
       "      <td>32801</td>\n",
       "      <td>FLORIDA BUS. DEVEL CORP</td>\n",
       "      <td>FL</td>\n",
       "      <td>0</td>\n",
       "      <td>28-Feb-97</td>\n",
       "      <td>1997</td>\n",
       "      <td>240</td>\n",
       "      <td>14</td>\n",
       "      <td>1.0</td>\n",
       "      <td>7</td>\n",
       "      <td>7</td>\n",
       "      <td>1</td>\n",
       "      <td>0</td>\n",
       "      <td>N</td>\n",
       "      <td>N</td>\n",
       "      <td>NaN</td>\n",
       "      <td>14-May-97</td>\n",
       "      <td>$229,000.00</td>\n",
       "      <td>$0.00</td>\n",
       "      <td>P I F</td>\n",
       "      <td>$0.00</td>\n",
       "      <td>$229,000.00</td>\n",
       "      <td>$229,000.00</td>\n",
       "    </tr>\n",
       "  </tbody>\n",
       "</table>\n",
       "</div>"
      ],
      "text/plain": [
       "   LoanNr_ChkDgt                           Name          City State    Zip  \\\n",
       "0     1000014003                 ABC HOBBYCRAFT    EVANSVILLE    IN  47711   \n",
       "1     1000024006    LANDMARK BAR & GRILLE (THE)     NEW PARIS    IN  46526   \n",
       "2     1000034009          WHITLOCK DDS, TODD M.   BLOOMINGTON    IN  47401   \n",
       "3     1000044001  BIG BUCKS PAWN & JEWELRY, LLC  BROKEN ARROW    OK  74012   \n",
       "4     1000054004    ANASTASIA CONFECTIONS, INC.       ORLANDO    FL  32801   \n",
       "\n",
       "                            Bank BankState   NAICS ApprovalDate ApprovalFY  \\\n",
       "0               FIFTH THIRD BANK        OH  451120    28-Feb-97       1997   \n",
       "1                1ST SOURCE BANK        IN  722410    28-Feb-97       1997   \n",
       "2        GRANT COUNTY STATE BANK        IN  621210    28-Feb-97       1997   \n",
       "3  1ST NATL BK & TR CO OF BROKEN        OK       0    28-Feb-97       1997   \n",
       "4        FLORIDA BUS. DEVEL CORP        FL       0    28-Feb-97       1997   \n",
       "\n",
       "   Term  NoEmp  NewExist  CreateJob  RetainedJob  FranchiseCode  UrbanRural  \\\n",
       "0    84      4       2.0          0            0              1           0   \n",
       "1    60      2       2.0          0            0              1           0   \n",
       "2   180      7       1.0          0            0              1           0   \n",
       "3    60      2       1.0          0            0              1           0   \n",
       "4   240     14       1.0          7            7              1           0   \n",
       "\n",
       "  RevLineCr LowDoc ChgOffDate DisbursementDate DisbursementGross BalanceGross  \\\n",
       "0         N      Y        NaN        28-Feb-99       $60,000.00        $0.00    \n",
       "1         N      Y        NaN        31-May-97       $40,000.00        $0.00    \n",
       "2         N      N        NaN        31-Dec-97      $287,000.00        $0.00    \n",
       "3         N      Y        NaN        30-Jun-97       $35,000.00        $0.00    \n",
       "4         N      N        NaN        14-May-97      $229,000.00        $0.00    \n",
       "\n",
       "  MIS_Status ChgOffPrinGr        GrAppv      SBA_Appv  \n",
       "0      P I F       $0.00    $60,000.00    $48,000.00   \n",
       "1      P I F       $0.00    $40,000.00    $32,000.00   \n",
       "2      P I F       $0.00   $287,000.00   $215,250.00   \n",
       "3      P I F       $0.00    $35,000.00    $28,000.00   \n",
       "4      P I F       $0.00   $229,000.00   $229,000.00   "
      ]
     },
     "execution_count": 4,
     "metadata": {},
     "output_type": "execute_result"
    }
   ],
   "source": [
    "df = pd.read_csv(r'C:\\Users\\25472\\Desktop\\finance\\SBAnational.csv')\n",
    "df.head()"
   ]
  },
  {
   "cell_type": "code",
   "execution_count": 5,
   "id": "2bd38e70",
   "metadata": {},
   "outputs": [
    {
     "data": {
      "text/plain": [
       "(899164, 27)"
      ]
     },
     "execution_count": 5,
     "metadata": {},
     "output_type": "execute_result"
    }
   ],
   "source": [
    "df.shape"
   ]
  },
  {
   "cell_type": "markdown",
   "id": "fe9a76d9",
   "metadata": {
    "id": "fe9a76d9"
   },
   "source": [
    "# Data Preprocessing and Cleansing"
   ]
  },
  {
   "cell_type": "code",
   "execution_count": 6,
   "id": "b5d5e133",
   "metadata": {
    "id": "b5d5e133",
    "outputId": "e6aaa5a0-946e-4d29-f8f4-1977dd91ef4d"
   },
   "outputs": [
    {
     "data": {
      "text/plain": [
       "LoanNr_ChkDgt          int64\n",
       "Name                  object\n",
       "City                  object\n",
       "State                 object\n",
       "Zip                    int64\n",
       "Bank                  object\n",
       "BankState             object\n",
       "NAICS                  int64\n",
       "ApprovalDate          object\n",
       "ApprovalFY            object\n",
       "Term                   int64\n",
       "NoEmp                  int64\n",
       "NewExist             float64\n",
       "CreateJob              int64\n",
       "RetainedJob            int64\n",
       "FranchiseCode          int64\n",
       "UrbanRural             int64\n",
       "RevLineCr             object\n",
       "LowDoc                object\n",
       "ChgOffDate            object\n",
       "DisbursementDate      object\n",
       "DisbursementGross     object\n",
       "BalanceGross          object\n",
       "MIS_Status            object\n",
       "ChgOffPrinGr          object\n",
       "GrAppv                object\n",
       "SBA_Appv              object\n",
       "dtype: object"
      ]
     },
     "execution_count": 6,
     "metadata": {},
     "output_type": "execute_result"
    }
   ],
   "source": [
    "df.dtypes"
   ]
  },
  {
   "cell_type": "code",
   "execution_count": 7,
   "id": "5a1eb714",
   "metadata": {
    "id": "5a1eb714",
    "outputId": "5e615387-4628-4456-a7b9-12f2b89d74f5"
   },
   "outputs": [
    {
     "data": {
      "text/plain": [
       "ChgOffDate          81.905526\n",
       "RevLineCr            0.503579\n",
       "LowDoc               0.287156\n",
       "DisbursementDate     0.263356\n",
       "MIS_Status           0.222095\n",
       "BankState            0.174162\n",
       "Bank                 0.173383\n",
       "NewExist             0.015125\n",
       "City                 0.003336\n",
       "Name                 0.001557\n",
       "State                0.001557\n",
       "dtype: float64"
      ]
     },
     "execution_count": 7,
     "metadata": {},
     "output_type": "execute_result"
    }
   ],
   "source": [
    "check_missing = df.isnull().sum() * 100 / df.shape[0]\n",
    "check_missing[check_missing > 0].sort_values(ascending=False)"
   ]
  },
  {
   "cell_type": "code",
   "execution_count": 8,
   "id": "2c3bf466",
   "metadata": {
    "id": "2c3bf466",
    "outputId": "1fcadb6a-9758-4e19-f1be-b2d518b6c9ed"
   },
   "outputs": [
    {
     "data": {
      "text/plain": [
       "(899164, 26)"
      ]
     },
     "execution_count": 8,
     "metadata": {},
     "output_type": "execute_result"
    }
   ],
   "source": [
    "df.drop(columns = 'ChgOffDate', inplace = True)\n",
    "df.shape"
   ]
  },
  {
   "cell_type": "markdown",
   "id": "2457e601",
   "metadata": {
    "id": "2457e601"
   },
   "source": [
    "# Drop Unnecesary attributes"
   ]
  },
  {
   "cell_type": "code",
   "execution_count": 9,
   "id": "3a72056f",
   "metadata": {
    "id": "3a72056f",
    "outputId": "83dbc5eb-a185-4df4-8934-2de1b85a254d"
   },
   "outputs": [
    {
     "data": {
      "text/plain": [
       "LoanNr_ChkDgt        899164\n",
       "Name                 779583\n",
       "City                  32581\n",
       "State                    51\n",
       "Zip                   33611\n",
       "Bank                   5802\n",
       "BankState                56\n",
       "NAICS                  1312\n",
       "ApprovalDate           9859\n",
       "ApprovalFY               70\n",
       "Term                    412\n",
       "NoEmp                   599\n",
       "NewExist                  3\n",
       "CreateJob               246\n",
       "RetainedJob             358\n",
       "FranchiseCode          2768\n",
       "UrbanRural                3\n",
       "RevLineCr                18\n",
       "LowDoc                    8\n",
       "DisbursementDate       8472\n",
       "DisbursementGross    118859\n",
       "BalanceGross             15\n",
       "MIS_Status                2\n",
       "ChgOffPrinGr          83165\n",
       "GrAppv                22128\n",
       "SBA_Appv              38326\n",
       "dtype: int64"
      ]
     },
     "execution_count": 9,
     "metadata": {},
     "output_type": "execute_result"
    }
   ],
   "source": [
    "df.nunique()"
   ]
  },
  {
   "cell_type": "code",
   "execution_count": 10,
   "id": "87f9342b",
   "metadata": {
    "id": "87f9342b"
   },
   "outputs": [],
   "source": [
    "cols_to_drop = [\n",
    "    'LoanNr_ChkDgt',\n",
    "    'Name',\n",
    "    'City',\n",
    "    'State',\n",
    "    'Zip',\n",
    "    'Bank',\n",
    "    'BankState',\n",
    "    'NAICS',\n",
    "    'ApprovalDate',\n",
    "    'DisbursementDate',\n",
    "    'RevLineCr',\n",
    "    'LowDoc'\n",
    "]"
   ]
  },
  {
   "cell_type": "code",
   "execution_count": 11,
   "id": "bda48aa6",
   "metadata": {
    "id": "bda48aa6",
    "outputId": "1586bd1f-1443-4389-e2f7-915b0edf9ae4"
   },
   "outputs": [
    {
     "data": {
      "text/plain": [
       "(899164, 14)"
      ]
     },
     "execution_count": 11,
     "metadata": {},
     "output_type": "execute_result"
    }
   ],
   "source": [
    "df.drop(columns = cols_to_drop, inplace = True)\n",
    "df.shape"
   ]
  },
  {
   "cell_type": "code",
   "execution_count": 12,
   "id": "f3cd948a",
   "metadata": {
    "id": "f3cd948a",
    "outputId": "8d201a2c-c9ad-4688-a408-712fa96b13b7"
   },
   "outputs": [
    {
     "data": {
      "text/html": [
       "<div>\n",
       "<style scoped>\n",
       "    .dataframe tbody tr th:only-of-type {\n",
       "        vertical-align: middle;\n",
       "    }\n",
       "\n",
       "    .dataframe tbody tr th {\n",
       "        vertical-align: top;\n",
       "    }\n",
       "\n",
       "    .dataframe thead th {\n",
       "        text-align: right;\n",
       "    }\n",
       "</style>\n",
       "<table border=\"1\" class=\"dataframe\">\n",
       "  <thead>\n",
       "    <tr style=\"text-align: right;\">\n",
       "      <th></th>\n",
       "      <th>ApprovalFY</th>\n",
       "      <th>Term</th>\n",
       "      <th>NoEmp</th>\n",
       "      <th>NewExist</th>\n",
       "      <th>CreateJob</th>\n",
       "      <th>RetainedJob</th>\n",
       "      <th>FranchiseCode</th>\n",
       "      <th>UrbanRural</th>\n",
       "      <th>DisbursementGross</th>\n",
       "      <th>BalanceGross</th>\n",
       "      <th>MIS_Status</th>\n",
       "      <th>ChgOffPrinGr</th>\n",
       "      <th>GrAppv</th>\n",
       "      <th>SBA_Appv</th>\n",
       "    </tr>\n",
       "  </thead>\n",
       "  <tbody>\n",
       "    <tr>\n",
       "      <th>0</th>\n",
       "      <td>1997</td>\n",
       "      <td>84</td>\n",
       "      <td>4</td>\n",
       "      <td>2.0</td>\n",
       "      <td>0</td>\n",
       "      <td>0</td>\n",
       "      <td>1</td>\n",
       "      <td>0</td>\n",
       "      <td>6000000</td>\n",
       "      <td>000</td>\n",
       "      <td>P I F</td>\n",
       "      <td>000</td>\n",
       "      <td>$60,000.00</td>\n",
       "      <td>4800000</td>\n",
       "    </tr>\n",
       "    <tr>\n",
       "      <th>1</th>\n",
       "      <td>1997</td>\n",
       "      <td>60</td>\n",
       "      <td>2</td>\n",
       "      <td>2.0</td>\n",
       "      <td>0</td>\n",
       "      <td>0</td>\n",
       "      <td>1</td>\n",
       "      <td>0</td>\n",
       "      <td>4000000</td>\n",
       "      <td>000</td>\n",
       "      <td>P I F</td>\n",
       "      <td>000</td>\n",
       "      <td>$40,000.00</td>\n",
       "      <td>3200000</td>\n",
       "    </tr>\n",
       "    <tr>\n",
       "      <th>2</th>\n",
       "      <td>1997</td>\n",
       "      <td>180</td>\n",
       "      <td>7</td>\n",
       "      <td>1.0</td>\n",
       "      <td>0</td>\n",
       "      <td>0</td>\n",
       "      <td>1</td>\n",
       "      <td>0</td>\n",
       "      <td>28700000</td>\n",
       "      <td>000</td>\n",
       "      <td>P I F</td>\n",
       "      <td>000</td>\n",
       "      <td>$287,000.00</td>\n",
       "      <td>21525000</td>\n",
       "    </tr>\n",
       "    <tr>\n",
       "      <th>3</th>\n",
       "      <td>1997</td>\n",
       "      <td>60</td>\n",
       "      <td>2</td>\n",
       "      <td>1.0</td>\n",
       "      <td>0</td>\n",
       "      <td>0</td>\n",
       "      <td>1</td>\n",
       "      <td>0</td>\n",
       "      <td>3500000</td>\n",
       "      <td>000</td>\n",
       "      <td>P I F</td>\n",
       "      <td>000</td>\n",
       "      <td>$35,000.00</td>\n",
       "      <td>2800000</td>\n",
       "    </tr>\n",
       "    <tr>\n",
       "      <th>4</th>\n",
       "      <td>1997</td>\n",
       "      <td>240</td>\n",
       "      <td>14</td>\n",
       "      <td>1.0</td>\n",
       "      <td>7</td>\n",
       "      <td>7</td>\n",
       "      <td>1</td>\n",
       "      <td>0</td>\n",
       "      <td>22900000</td>\n",
       "      <td>000</td>\n",
       "      <td>P I F</td>\n",
       "      <td>000</td>\n",
       "      <td>$229,000.00</td>\n",
       "      <td>22900000</td>\n",
       "    </tr>\n",
       "  </tbody>\n",
       "</table>\n",
       "</div>"
      ],
      "text/plain": [
       "  ApprovalFY  Term  NoEmp  NewExist  CreateJob  RetainedJob  FranchiseCode  \\\n",
       "0       1997    84      4       2.0          0            0              1   \n",
       "1       1997    60      2       2.0          0            0              1   \n",
       "2       1997   180      7       1.0          0            0              1   \n",
       "3       1997    60      2       1.0          0            0              1   \n",
       "4       1997   240     14       1.0          7            7              1   \n",
       "\n",
       "   UrbanRural DisbursementGross BalanceGross MIS_Status ChgOffPrinGr  \\\n",
       "0           0           6000000          000      P I F          000   \n",
       "1           0           4000000          000      P I F          000   \n",
       "2           0          28700000          000      P I F          000   \n",
       "3           0           3500000          000      P I F          000   \n",
       "4           0          22900000          000      P I F          000   \n",
       "\n",
       "         GrAppv  SBA_Appv  \n",
       "0   $60,000.00    4800000  \n",
       "1   $40,000.00    3200000  \n",
       "2  $287,000.00   21525000  \n",
       "3   $35,000.00    2800000  \n",
       "4  $229,000.00   22900000  "
      ]
     },
     "execution_count": 12,
     "metadata": {},
     "output_type": "execute_result"
    }
   ],
   "source": [
    "df['DisbursementGross'] = df['DisbursementGross'].str.replace('\\W', '', regex=True)\n",
    "df['BalanceGross'] = df['BalanceGross'].str.replace('\\W', '', regex=True)\n",
    "df['ChgOffPrinGr'] = df['ChgOffPrinGr'].str.replace('\\W', '', regex=True)\n",
    "df['SBA_Appv'] = df['SBA_Appv'].str.replace('\\W', '', regex=True)\n",
    "df.head()"
   ]
  },
  {
   "cell_type": "code",
   "execution_count": 13,
   "id": "2f1379ca",
   "metadata": {
    "id": "2f1379ca",
    "outputId": "112c0dc4-55a0-48ed-ca78-509ad8d23655"
   },
   "outputs": [
    {
     "data": {
      "text/html": [
       "<div>\n",
       "<style scoped>\n",
       "    .dataframe tbody tr th:only-of-type {\n",
       "        vertical-align: middle;\n",
       "    }\n",
       "\n",
       "    .dataframe tbody tr th {\n",
       "        vertical-align: top;\n",
       "    }\n",
       "\n",
       "    .dataframe thead th {\n",
       "        text-align: right;\n",
       "    }\n",
       "</style>\n",
       "<table border=\"1\" class=\"dataframe\">\n",
       "  <thead>\n",
       "    <tr style=\"text-align: right;\">\n",
       "      <th></th>\n",
       "      <th>ApprovalFY</th>\n",
       "      <th>Term</th>\n",
       "      <th>NoEmp</th>\n",
       "      <th>NewExist</th>\n",
       "      <th>CreateJob</th>\n",
       "      <th>RetainedJob</th>\n",
       "      <th>FranchiseCode</th>\n",
       "      <th>UrbanRural</th>\n",
       "      <th>DisbursementGross</th>\n",
       "      <th>BalanceGross</th>\n",
       "      <th>MIS_Status</th>\n",
       "      <th>ChgOffPrinGr</th>\n",
       "      <th>GrAppv</th>\n",
       "      <th>SBA_Appv</th>\n",
       "    </tr>\n",
       "  </thead>\n",
       "  <tbody>\n",
       "    <tr>\n",
       "      <th>0</th>\n",
       "      <td>1997</td>\n",
       "      <td>84</td>\n",
       "      <td>4</td>\n",
       "      <td>2.0</td>\n",
       "      <td>0</td>\n",
       "      <td>0</td>\n",
       "      <td>1</td>\n",
       "      <td>0</td>\n",
       "      <td>6000000</td>\n",
       "      <td>000</td>\n",
       "      <td>P I F</td>\n",
       "      <td>000</td>\n",
       "      <td>6000000</td>\n",
       "      <td>4800000</td>\n",
       "    </tr>\n",
       "    <tr>\n",
       "      <th>1</th>\n",
       "      <td>1997</td>\n",
       "      <td>60</td>\n",
       "      <td>2</td>\n",
       "      <td>2.0</td>\n",
       "      <td>0</td>\n",
       "      <td>0</td>\n",
       "      <td>1</td>\n",
       "      <td>0</td>\n",
       "      <td>4000000</td>\n",
       "      <td>000</td>\n",
       "      <td>P I F</td>\n",
       "      <td>000</td>\n",
       "      <td>4000000</td>\n",
       "      <td>3200000</td>\n",
       "    </tr>\n",
       "    <tr>\n",
       "      <th>2</th>\n",
       "      <td>1997</td>\n",
       "      <td>180</td>\n",
       "      <td>7</td>\n",
       "      <td>1.0</td>\n",
       "      <td>0</td>\n",
       "      <td>0</td>\n",
       "      <td>1</td>\n",
       "      <td>0</td>\n",
       "      <td>28700000</td>\n",
       "      <td>000</td>\n",
       "      <td>P I F</td>\n",
       "      <td>000</td>\n",
       "      <td>28700000</td>\n",
       "      <td>21525000</td>\n",
       "    </tr>\n",
       "    <tr>\n",
       "      <th>3</th>\n",
       "      <td>1997</td>\n",
       "      <td>60</td>\n",
       "      <td>2</td>\n",
       "      <td>1.0</td>\n",
       "      <td>0</td>\n",
       "      <td>0</td>\n",
       "      <td>1</td>\n",
       "      <td>0</td>\n",
       "      <td>3500000</td>\n",
       "      <td>000</td>\n",
       "      <td>P I F</td>\n",
       "      <td>000</td>\n",
       "      <td>3500000</td>\n",
       "      <td>2800000</td>\n",
       "    </tr>\n",
       "    <tr>\n",
       "      <th>4</th>\n",
       "      <td>1997</td>\n",
       "      <td>240</td>\n",
       "      <td>14</td>\n",
       "      <td>1.0</td>\n",
       "      <td>7</td>\n",
       "      <td>7</td>\n",
       "      <td>1</td>\n",
       "      <td>0</td>\n",
       "      <td>22900000</td>\n",
       "      <td>000</td>\n",
       "      <td>P I F</td>\n",
       "      <td>000</td>\n",
       "      <td>22900000</td>\n",
       "      <td>22900000</td>\n",
       "    </tr>\n",
       "  </tbody>\n",
       "</table>\n",
       "</div>"
      ],
      "text/plain": [
       "  ApprovalFY  Term  NoEmp  NewExist  CreateJob  RetainedJob  FranchiseCode  \\\n",
       "0       1997    84      4       2.0          0            0              1   \n",
       "1       1997    60      2       2.0          0            0              1   \n",
       "2       1997   180      7       1.0          0            0              1   \n",
       "3       1997    60      2       1.0          0            0              1   \n",
       "4       1997   240     14       1.0          7            7              1   \n",
       "\n",
       "   UrbanRural DisbursementGross BalanceGross MIS_Status ChgOffPrinGr  \\\n",
       "0           0           6000000          000      P I F          000   \n",
       "1           0           4000000          000      P I F          000   \n",
       "2           0          28700000          000      P I F          000   \n",
       "3           0           3500000          000      P I F          000   \n",
       "4           0          22900000          000      P I F          000   \n",
       "\n",
       "     GrAppv  SBA_Appv  \n",
       "0   6000000   4800000  \n",
       "1   4000000   3200000  \n",
       "2  28700000  21525000  \n",
       "3   3500000   2800000  \n",
       "4  22900000  22900000  "
      ]
     },
     "execution_count": 13,
     "metadata": {},
     "output_type": "execute_result"
    }
   ],
   "source": [
    "df['GrAppv'] = df['GrAppv'].str.replace('\\W', '', regex=True)\n",
    "df.head()"
   ]
  },
  {
   "cell_type": "code",
   "execution_count": 14,
   "id": "2defc1c9",
   "metadata": {
    "id": "2defc1c9",
    "outputId": "9c1943f4-4ad6-48f9-93e7-25fe4059e88e"
   },
   "outputs": [
    {
     "data": {
      "text/plain": [
       "ApprovalFY            object\n",
       "Term                   int64\n",
       "NoEmp                  int64\n",
       "NewExist             float64\n",
       "CreateJob              int64\n",
       "RetainedJob            int64\n",
       "FranchiseCode          int64\n",
       "UrbanRural             int64\n",
       "DisbursementGross      int64\n",
       "BalanceGross           int64\n",
       "MIS_Status            object\n",
       "ChgOffPrinGr           int64\n",
       "GrAppv                 int64\n",
       "SBA_Appv               int64\n",
       "dtype: object"
      ]
     },
     "execution_count": 14,
     "metadata": {},
     "output_type": "execute_result"
    }
   ],
   "source": [
    "#convert object data types column to integer\n",
    "df['DisbursementGross'] = pd.to_numeric(df['DisbursementGross'])\n",
    "df['BalanceGross'] = pd.to_numeric(df['BalanceGross'])\n",
    "df['ChgOffPrinGr'] = pd.to_numeric(df['ChgOffPrinGr'])\n",
    "df['SBA_Appv'] = pd.to_numeric(df['SBA_Appv'])\n",
    "df['GrAppv'] = pd.to_numeric(df['GrAppv'])\n",
    "df.dtypes"
   ]
  },
  {
   "cell_type": "markdown",
   "id": "eb6aa594",
   "metadata": {
    "id": "eb6aa594"
   },
   "source": [
    "# Exploratory Data Analysis"
   ]
  },
  {
   "cell_type": "code",
   "execution_count": 15,
   "id": "b551c429",
   "metadata": {
    "id": "b551c429",
    "outputId": "c362ae73-d976-4695-9c27-7daf771fda26"
   },
   "outputs": [
    {
     "data": {
      "text/plain": [
       "<AxesSubplot:xlabel='MIS_Status', ylabel='SBA_Appv'>"
      ]
     },
     "execution_count": 15,
     "metadata": {},
     "output_type": "execute_result"
    },
    {
     "data": {
      "image/png": "[encoded data removed]",
      "text/plain": [
       "<Figure size 640x480 with 1 Axes>"
      ]
     },
     "metadata": {},
     "output_type": "display_data"
    }
   ],
   "source": [
    "sns.barplot(data=df, x=\"MIS_Status\", y=\"SBA_Appv\")\n",
    "#People with low SBA’s guaranteed amount of approved loan are most likely Loan status charged off "
   ]
  },
  {
   "cell_type": "code",
   "execution_count": 16,
   "id": "18a94261",
   "metadata": {
    "id": "18a94261",
    "outputId": "4fad8f7a-e808-4d34-addd-1ac2cc39878e"
   },
   "outputs": [
    {
     "data": {
      "text/plain": [
       "<AxesSubplot:xlabel='MIS_Status', ylabel='GrAppv'>"
      ]
     },
     "execution_count": 16,
     "metadata": {},
     "output_type": "execute_result"
    },
    {
     "data": {
      "image/png": "[encoded data removed]",
      "text/plain": [
       "<Figure size 640x480 with 1 Axes>"
      ]
     },
     "metadata": {},
     "output_type": "display_data"
    }
   ],
   "source": [
    "sns.barplot(data=df, x=\"MIS_Status\", y=\"GrAppv\")\n",
    "#People with low Gross amount of loan approved by bank are most likely Loan status charged off "
   ]
  },
  {
   "cell_type": "code",
   "execution_count": 17,
   "id": "a325ab34",
   "metadata": {
    "id": "a325ab34",
    "outputId": "8dad7c5d-0416-4c9c-ee7a-917fa7e05729"
   },
   "outputs": [
    {
     "data": {
      "text/plain": [
       "<AxesSubplot:xlabel='MIS_Status', ylabel='ChgOffPrinGr'>"
      ]
     },
     "execution_count": 17,
     "metadata": {},
     "output_type": "execute_result"
    },
    {
     "data": {
      "image/png": "[encoded data removed]",
      "text/plain": [
       "<Figure size 640x480 with 1 Axes>"
      ]
     },
     "metadata": {},
     "output_type": "display_data"
    }
   ],
   "source": [
    "sns.barplot(data=df, x=\"MIS_Status\", y=\"ChgOffPrinGr\")\n",
    "#People wih high Charged-off amount are most likely Loan status charged off"
   ]
  },
  {
   "cell_type": "code",
   "execution_count": 18,
   "id": "fac0d6e9",
   "metadata": {
    "id": "fac0d6e9",
    "outputId": "565aa76a-e0e0-4616-9f48-03a7ac685088"
   },
   "outputs": [
    {
     "data": {
      "text/plain": [
       "<AxesSubplot:xlabel='MIS_Status', ylabel='Term'>"
      ]
     },
     "execution_count": 18,
     "metadata": {},
     "output_type": "execute_result"
    },
    {
     "data": {
      "image/png": "[encoded data removed]",
      "text/plain": [
       "<Figure size 640x480 with 1 Axes>"
      ]
     },
     "metadata": {},
     "output_type": "display_data"
    }
   ],
   "source": [
    "sns.barplot(data=df, x=\"MIS_Status\", y=\"Term\")\n",
    "#People with high Loan term in months are most likely to Paid in full"
   ]
  },
  {
   "cell_type": "code",
   "execution_count": 19,
   "id": "b9abc1fd",
   "metadata": {
    "id": "b9abc1fd",
    "outputId": "46d1d393-aa0c-4fe5-a6b1-adb044d6d1a0"
   },
   "outputs": [
    {
     "data": {
      "text/plain": [
       "<AxesSubplot:xlabel='MIS_Status', ylabel='BalanceGross'>"
      ]
     },
     "execution_count": 19,
     "metadata": {},
     "output_type": "execute_result"
    },
    {
     "data": {
      "image/png": "[encoded data removed]",
      "text/plain": [
       "<Figure size 640x480 with 1 Axes>"
      ]
     },
     "metadata": {},
     "output_type": "display_data"
    }
   ],
   "source": [
    "sns.barplot(data=df, x=\"MIS_Status\", y=\"BalanceGross\")\n",
    "#People with hirh balance gross are most likely to Paid in full"
   ]
  },
  {
   "cell_type": "code",
   "execution_count": 20,
   "id": "fc25151f",
   "metadata": {
    "id": "fc25151f"
   },
   "outputs": [],
   "source": [
    "def with_hue(plot, feature, Number_of_categories, hue_categories):\n",
    "    a = [p.get_height() for p in plot.patches]\n",
    "    patch = [p for p in plot.patches]\n",
    "    for i in range(Number_of_categories):\n",
    "        total = feature.value_counts().values[i]\n",
    "        for j in range(hue_categories):\n",
    "            percentage = '{:.1f}%'.format(100 * a[(j*Number_of_categories + i)]/total)\n",
    "            x = patch[(j*Number_of_categories + i)].get_x() + patch[(j*Number_of_categories + i)].get_width() / 2 - 0.15\n",
    "            y = patch[(j*Number_of_categories + i)].get_y() + patch[(j*Number_of_categories + i)].get_height() \n",
    "            ax.annotate(percentage, (x, y), size = 12)\n",
    "    plt.show()\n",
    "\n",
    "def without_hue(plot, feature):\n",
    "    total = len(feature)\n",
    "    for p in ax.patches:\n",
    "        percentage = '{:.1f}%'.format(100 * p.get_height()/total)\n",
    "        x = p.get_x() + p.get_width() / 2 - 0.05\n",
    "        y = p.get_y() + p.get_height()\n",
    "        ax.annotate(percentage, (x, y), size = 12)\n",
    "    plt.show()"
   ]
  },
  {
   "cell_type": "code",
   "execution_count": 21,
   "id": "c99b356b",
   "metadata": {
    "id": "c99b356b",
    "outputId": "a077b0d4-5a41-4bbb-e6b9-d38871f986aa"
   },
   "outputs": [
    {
     "name": "stderr",
     "output_type": "stream",
     "text": [
      "C:\\Users\\25472\\anaconda3\\envs\\base2\\lib\\site-packages\\seaborn\\_decorators.py:36: FutureWarning: Pass the following variable as a keyword arg: x. From version 0.12, the only valid positional argument will be `data`, and passing other arguments without an explicit keyword will result in an error or misinterpretation.\n",
      "  warnings.warn(\n"
     ]
    },
    {
     "data": {
      "image/png": "[encoded data removed]",
      "text/plain": [
       "<Figure size 700x500 with 1 Axes>"
      ]
     },
     "metadata": {},
     "output_type": "display_data"
    }
   ],
   "source": [
    "plt.figure(figsize=(7,5))\n",
    "ax = sns.countplot('MIS_Status', hue='UrbanRural', data = df)\n",
    "plt.xticks(size = 12)\n",
    "plt.xlabel('MIS_Status', size = 12)\n",
    "plt.yticks(size = 12)\n",
    "plt.xlabel('UrbanRural', size = 12)\n",
    "with_hue(ax, df.MIS_Status,2,2)\n",
    "#Urban people are most likely Loan status charged off "
   ]
  },
  {
   "cell_type": "code",
   "execution_count": 22,
   "id": "f978c7ad",
   "metadata": {
    "id": "f978c7ad",
    "outputId": "eac9bb62-b3b5-4963-aa61-4633899a664d"
   },
   "outputs": [
    {
     "data": {
      "text/plain": [
       "(899164, 13)"
      ]
     },
     "execution_count": 22,
     "metadata": {},
     "output_type": "execute_result"
    }
   ],
   "source": [
    "df.drop(columns = 'ApprovalFY', inplace = True)\n",
    "df.shape"
   ]
  },
  {
   "cell_type": "code",
   "execution_count": 23,
   "id": "e8c82e73",
   "metadata": {
    "id": "e8c82e73",
    "outputId": "f7836bf5-358d-42da-8225-9aa58ae4281e"
   },
   "outputs": [
    {
     "data": {
      "text/plain": [
       "<AxesSubplot:xlabel='MIS_Status', ylabel='CreateJob'>"
      ]
     },
     "execution_count": 23,
     "metadata": {},
     "output_type": "execute_result"
    },
    {
     "data": {
      "image/png": "[encoded data removed]",
      "text/plain": [
       "<Figure size 640x480 with 1 Axes>"
      ]
     },
     "metadata": {},
     "output_type": "display_data"
    }
   ],
   "source": [
    "sns.barplot(data=df, x=\"MIS_Status\", y=\"CreateJob\")\n",
    "#People with low amount of created job are most likely to Paid in full"
   ]
  },
  {
   "cell_type": "code",
   "execution_count": 24,
   "id": "832f8f78",
   "metadata": {
    "id": "832f8f78",
    "outputId": "4837940f-04a3-4754-bbe0-2a3cf2f9b822"
   },
   "outputs": [
    {
     "data": {
      "text/plain": [
       "<AxesSubplot:xlabel='MIS_Status', ylabel='RetainedJob'>"
      ]
     },
     "execution_count": 24,
     "metadata": {},
     "output_type": "execute_result"
    },
    {
     "data": {
      "image/png": "[encoded data removed]",
      "text/plain": [
       "<Figure size 640x480 with 1 Axes>"
      ]
     },
     "metadata": {},
     "output_type": "display_data"
    }
   ],
   "source": [
    "sns.barplot(data=df, x=\"MIS_Status\", y=\"RetainedJob\")\n",
    "#People with low amount of retained job are most likely to Paid in full"
   ]
  },
  {
   "cell_type": "markdown",
   "id": "e37f38d8",
   "metadata": {
    "id": "e37f38d8"
   },
   "source": [
    "# Data Preprocessing Part 2"
   ]
  },
  {
   "cell_type": "code",
   "execution_count": 25,
   "id": "72278950",
   "metadata": {
    "id": "72278950",
    "outputId": "9dcee2b0-b8af-4ab4-d25d-5e172e51fd13"
   },
   "outputs": [
    {
     "data": {
      "text/html": [
       "<div>\n",
       "<style scoped>\n",
       "    .dataframe tbody tr th:only-of-type {\n",
       "        vertical-align: middle;\n",
       "    }\n",
       "\n",
       "    .dataframe tbody tr th {\n",
       "        vertical-align: top;\n",
       "    }\n",
       "\n",
       "    .dataframe thead th {\n",
       "        text-align: right;\n",
       "    }\n",
       "</style>\n",
       "<table border=\"1\" class=\"dataframe\">\n",
       "  <thead>\n",
       "    <tr style=\"text-align: right;\">\n",
       "      <th></th>\n",
       "      <th>Term</th>\n",
       "      <th>NoEmp</th>\n",
       "      <th>NewExist</th>\n",
       "      <th>CreateJob</th>\n",
       "      <th>RetainedJob</th>\n",
       "      <th>FranchiseCode</th>\n",
       "      <th>UrbanRural</th>\n",
       "      <th>DisbursementGross</th>\n",
       "      <th>BalanceGross</th>\n",
       "      <th>MIS_Status</th>\n",
       "      <th>ChgOffPrinGr</th>\n",
       "      <th>GrAppv</th>\n",
       "      <th>SBA_Appv</th>\n",
       "    </tr>\n",
       "  </thead>\n",
       "  <tbody>\n",
       "    <tr>\n",
       "      <th>0</th>\n",
       "      <td>84</td>\n",
       "      <td>4</td>\n",
       "      <td>2.0</td>\n",
       "      <td>0</td>\n",
       "      <td>0</td>\n",
       "      <td>1</td>\n",
       "      <td>0</td>\n",
       "      <td>6000000</td>\n",
       "      <td>0</td>\n",
       "      <td>P I F</td>\n",
       "      <td>0</td>\n",
       "      <td>6000000</td>\n",
       "      <td>4800000</td>\n",
       "    </tr>\n",
       "    <tr>\n",
       "      <th>1</th>\n",
       "      <td>60</td>\n",
       "      <td>2</td>\n",
       "      <td>2.0</td>\n",
       "      <td>0</td>\n",
       "      <td>0</td>\n",
       "      <td>1</td>\n",
       "      <td>0</td>\n",
       "      <td>4000000</td>\n",
       "      <td>0</td>\n",
       "      <td>P I F</td>\n",
       "      <td>0</td>\n",
       "      <td>4000000</td>\n",
       "      <td>3200000</td>\n",
       "    </tr>\n",
       "    <tr>\n",
       "      <th>2</th>\n",
       "      <td>180</td>\n",
       "      <td>7</td>\n",
       "      <td>1.0</td>\n",
       "      <td>0</td>\n",
       "      <td>0</td>\n",
       "      <td>1</td>\n",
       "      <td>0</td>\n",
       "      <td>28700000</td>\n",
       "      <td>0</td>\n",
       "      <td>P I F</td>\n",
       "      <td>0</td>\n",
       "      <td>28700000</td>\n",
       "      <td>21525000</td>\n",
       "    </tr>\n",
       "    <tr>\n",
       "      <th>3</th>\n",
       "      <td>60</td>\n",
       "      <td>2</td>\n",
       "      <td>1.0</td>\n",
       "      <td>0</td>\n",
       "      <td>0</td>\n",
       "      <td>1</td>\n",
       "      <td>0</td>\n",
       "      <td>3500000</td>\n",
       "      <td>0</td>\n",
       "      <td>P I F</td>\n",
       "      <td>0</td>\n",
       "      <td>3500000</td>\n",
       "      <td>2800000</td>\n",
       "    </tr>\n",
       "    <tr>\n",
       "      <th>4</th>\n",
       "      <td>240</td>\n",
       "      <td>14</td>\n",
       "      <td>1.0</td>\n",
       "      <td>7</td>\n",
       "      <td>7</td>\n",
       "      <td>1</td>\n",
       "      <td>0</td>\n",
       "      <td>22900000</td>\n",
       "      <td>0</td>\n",
       "      <td>P I F</td>\n",
       "      <td>0</td>\n",
       "      <td>22900000</td>\n",
       "      <td>22900000</td>\n",
       "    </tr>\n",
       "  </tbody>\n",
       "</table>\n",
       "</div>"
      ],
      "text/plain": [
       "   Term  NoEmp  NewExist  CreateJob  RetainedJob  FranchiseCode  UrbanRural  \\\n",
       "0    84      4       2.0          0            0              1           0   \n",
       "1    60      2       2.0          0            0              1           0   \n",
       "2   180      7       1.0          0            0              1           0   \n",
       "3    60      2       1.0          0            0              1           0   \n",
       "4   240     14       1.0          7            7              1           0   \n",
       "\n",
       "   DisbursementGross  BalanceGross MIS_Status  ChgOffPrinGr    GrAppv  \\\n",
       "0            6000000             0      P I F             0   6000000   \n",
       "1            4000000             0      P I F             0   4000000   \n",
       "2           28700000             0      P I F             0  28700000   \n",
       "3            3500000             0      P I F             0   3500000   \n",
       "4           22900000             0      P I F             0  22900000   \n",
       "\n",
       "   SBA_Appv  \n",
       "0   4800000  \n",
       "1   3200000  \n",
       "2  21525000  \n",
       "3   2800000  \n",
       "4  22900000  "
      ]
     },
     "execution_count": 25,
     "metadata": {},
     "output_type": "execute_result"
    }
   ],
   "source": [
    "df.head()"
   ]
  },
  {
   "cell_type": "code",
   "execution_count": 26,
   "id": "126bd53c",
   "metadata": {
    "id": "126bd53c",
    "outputId": "06f419cd-e576-442c-a8c7-c3853beb09f6"
   },
   "outputs": [
    {
     "data": {
      "text/plain": [
       "Term                   int64\n",
       "NoEmp                  int64\n",
       "NewExist             float64\n",
       "CreateJob              int64\n",
       "RetainedJob            int64\n",
       "FranchiseCode          int64\n",
       "UrbanRural             int64\n",
       "DisbursementGross      int64\n",
       "BalanceGross           int64\n",
       "MIS_Status            object\n",
       "ChgOffPrinGr           int64\n",
       "GrAppv                 int64\n",
       "SBA_Appv               int64\n",
       "dtype: object"
      ]
     },
     "execution_count": 26,
     "metadata": {},
     "output_type": "execute_result"
    }
   ],
   "source": [
    "df.dtypes"
   ]
  },
  {
   "cell_type": "code",
   "execution_count": 27,
   "id": "a3d3a73f",
   "metadata": {
    "id": "a3d3a73f",
    "outputId": "71b6386f-e74e-4fe0-ffb8-fd7a65f68cc7"
   },
   "outputs": [
    {
     "data": {
      "text/plain": [
       "array(['P I F', 'CHGOFF', nan], dtype=object)"
      ]
     },
     "execution_count": 27,
     "metadata": {},
     "output_type": "execute_result"
    }
   ],
   "source": [
    "df['MIS_Status'].unique()"
   ]
  },
  {
   "cell_type": "code",
   "execution_count": 28,
   "id": "d47cae15",
   "metadata": {
    "id": "d47cae15",
    "outputId": "c9084889-eccb-4497-f955-d2e03724052e"
   },
   "outputs": [
    {
     "data": {
      "text/plain": [
       "(899164, 13)"
      ]
     },
     "execution_count": 28,
     "metadata": {},
     "output_type": "execute_result"
    }
   ],
   "source": [
    "df['MIS_Status'].dropna()\n",
    "df.shape"
   ]
  },
  {
   "cell_type": "code",
   "execution_count": 29,
   "id": "82976e01",
   "metadata": {
    "id": "82976e01",
    "outputId": "acb00d30-902b-40c7-d78d-f2b9ca7fc7fa"
   },
   "outputs": [
    {
     "data": {
      "text/plain": [
       "array([1, 0, 2])"
      ]
     },
     "execution_count": 29,
     "metadata": {},
     "output_type": "execute_result"
    }
   ],
   "source": [
    "from sklearn import preprocessing\n",
    "label_encoder = preprocessing.LabelEncoder()\n",
    "df['MIS_Status']= label_encoder.fit_transform(df['MIS_Status'])\n",
    "df['MIS_Status'].unique()"
   ]
  },
  {
   "cell_type": "code",
   "execution_count": 30,
   "id": "0a8aadc4",
   "metadata": {
    "id": "0a8aadc4",
    "outputId": "5964f8e1-5d47-4878-91b6-281374aa18f2"
   },
   "outputs": [
    {
     "data": {
      "text/plain": [
       "1    739609\n",
       "0    157558\n",
       "2      1997\n",
       "Name: MIS_Status, dtype: int64"
      ]
     },
     "execution_count": 30,
     "metadata": {},
     "output_type": "execute_result"
    }
   ],
   "source": [
    "df['MIS_Status'].value_counts()"
   ]
  },
  {
   "cell_type": "code",
   "execution_count": 31,
   "id": "299fe44a",
   "metadata": {
    "id": "299fe44a",
    "outputId": "6442c933-8ba3-4a77-e7c6-cf5b2fc1ea16"
   },
   "outputs": [
    {
     "data": {
      "text/plain": [
       "(897167, 13)"
      ]
     },
     "execution_count": 31,
     "metadata": {},
     "output_type": "execute_result"
    }
   ],
   "source": [
    "df = df[df.MIS_Status != 2]\n",
    "df.shape"
   ]
  },
  {
   "cell_type": "code",
   "execution_count": 32,
   "id": "89a697c7",
   "metadata": {
    "id": "89a697c7",
    "outputId": "63403c92-def7-43ef-802e-36c421d7d097"
   },
   "outputs": [
    {
     "data": {
      "text/plain": [
       "array([1, 0])"
      ]
     },
     "execution_count": 32,
     "metadata": {},
     "output_type": "execute_result"
    }
   ],
   "source": [
    "df['MIS_Status'].unique()"
   ]
  },
  {
   "cell_type": "code",
   "execution_count": 33,
   "id": "37d9a917",
   "metadata": {
    "id": "37d9a917",
    "outputId": "82784ffb-fc8d-46cb-dc05-6007c5124da9"
   },
   "outputs": [
    {
     "data": {
      "text/plain": [
       "NewExist    0.014936\n",
       "dtype: float64"
      ]
     },
     "execution_count": 33,
     "metadata": {},
     "output_type": "execute_result"
    }
   ],
   "source": [
    "check_missing = df.isnull().sum() * 100 / df.shape[0]\n",
    "check_missing[check_missing > 0].sort_values(ascending=False)"
   ]
  },
  {
   "cell_type": "code",
   "execution_count": 34,
   "id": "7a219c29",
   "metadata": {
    "id": "7a219c29"
   },
   "outputs": [],
   "source": [
    "df['NewExist'].fillna(df['NewExist'].median(), inplace=True)"
   ]
  },
  {
   "cell_type": "markdown",
   "id": "6c9f9814",
   "metadata": {
    "id": "6c9f9814"
   },
   "source": [
    "# Balance Class Value (MIS Status)"
   ]
  },
  {
   "cell_type": "code",
   "execution_count": 35,
   "id": "14693263",
   "metadata": {
    "id": "14693263",
    "outputId": "d007ca2d-7b33-47ed-8763-0c89a9dcbcde"
   },
   "outputs": [
    {
     "name": "stderr",
     "output_type": "stream",
     "text": [
      "C:\\Users\\25472\\anaconda3\\envs\\base2\\lib\\site-packages\\seaborn\\_decorators.py:36: FutureWarning: Pass the following variable as a keyword arg: x. From version 0.12, the only valid positional argument will be `data`, and passing other arguments without an explicit keyword will result in an error or misinterpretation.\n",
      "  warnings.warn(\n"
     ]
    },
    {
     "data": {
      "text/plain": [
       "1    739609\n",
       "0    157558\n",
       "Name: MIS_Status, dtype: int64"
      ]
     },
     "execution_count": 35,
     "metadata": {},
     "output_type": "execute_result"
    },
    {
     "data": {
      "image/png": "[encoded data removed]",
      "text/plain": [
       "<Figure size 640x480 with 1 Axes>"
      ]
     },
     "metadata": {},
     "output_type": "display_data"
    }
   ],
   "source": [
    "#Counting 1 and 0 Value in Response column\n",
    "sns.countplot(df['MIS_Status'])\n",
    "df['MIS_Status'].value_counts()"
   ]
  },
  {
   "cell_type": "code",
   "execution_count": 36,
   "id": "e7e796e3",
   "metadata": {
    "id": "e7e796e3"
   },
   "outputs": [],
   "source": [
    "from sklearn.utils import resample\n",
    "#create two different dataframe of majority and minority class \n",
    "df_majority = df[(df['MIS_Status']==1)] \n",
    "df_minority = df[(df['MIS_Status']==0)] \n",
    "# upsample minority class\n",
    "df_minority_upsampled = resample(df_minority, \n",
    "                                 replace=True,    # sample with replacement\n",
    "                                 n_samples= 739609, # to match majority class\n",
    "                                 random_state=0)  # reproducible results\n",
    "# Combine majority class with upsampled minority class\n",
    "df_upsampled = pd.concat([df_minority_upsampled, df_majority])"
   ]
  },
  {
   "cell_type": "code",
   "execution_count": 37,
   "id": "1f4b5040",
   "metadata": {
    "id": "1f4b5040",
    "outputId": "3be33b55-e774-4674-d6ea-f12f3501519e"
   },
   "outputs": [
    {
     "name": "stderr",
     "output_type": "stream",
     "text": [
      "C:\\Users\\25472\\anaconda3\\envs\\base2\\lib\\site-packages\\seaborn\\_decorators.py:36: FutureWarning: Pass the following variable as a keyword arg: x. From version 0.12, the only valid positional argument will be `data`, and passing other arguments without an explicit keyword will result in an error or misinterpretation.\n",
      "  warnings.warn(\n"
     ]
    },
    {
     "data": {
      "text/plain": [
       "0    739609\n",
       "1    739609\n",
       "Name: MIS_Status, dtype: int64"
      ]
     },
     "execution_count": 37,
     "metadata": {},
     "output_type": "execute_result"
    },
    {
     "data": {
      "image/png": "[encoded data removed]",
      "text/plain": [
       "<Figure size 640x480 with 1 Axes>"
      ]
     },
     "metadata": {},
     "output_type": "display_data"
    }
   ],
   "source": [
    "#Counting 1 and 0 Value in Response column\n",
    "sns.countplot(df_upsampled['MIS_Status'])\n",
    "df_upsampled['MIS_Status'].value_counts()"
   ]
  },
  {
   "cell_type": "markdown",
   "id": "739d9a3d",
   "metadata": {
    "id": "739d9a3d"
   },
   "source": [
    "# Clean the outlier using Z-Score Method"
   ]
  },
  {
   "cell_type": "code",
   "execution_count": 38,
   "id": "ba803fac",
   "metadata": {
    "id": "ba803fac",
    "outputId": "8b4565ab-fcf9-4c7d-c5e1-3d945279ddcf"
   },
   "outputs": [
    {
     "data": {
      "text/plain": [
       "(1367022, 13)"
      ]
     },
     "execution_count": 38,
     "metadata": {},
     "output_type": "execute_result"
    }
   ],
   "source": [
    "#Remove Outlier using Z-Score Method\n",
    "import scipy.stats as stats\n",
    "z = np.abs(stats.zscore(df_upsampled))\n",
    "data_clean = df_upsampled[(z<3).all(axis = 1)] \n",
    "data_clean.shape"
   ]
  },
  {
   "cell_type": "markdown",
   "id": "5497848a",
   "metadata": {
    "id": "5497848a"
   },
   "source": [
    "# Heatmap Data Correlation"
   ]
  },
  {
   "cell_type": "code",
   "execution_count": 39,
   "id": "58f37c69",
   "metadata": {
    "id": "58f37c69",
    "outputId": "c54b0c4b-ee44-4dab-c4d5-e8c218e67d3b"
   },
   "outputs": [
    {
     "data": {
      "text/plain": [
       "<AxesSubplot:>"
      ]
     },
     "execution_count": 39,
     "metadata": {},
     "output_type": "execute_result"
    },
    {
     "data": {
      "image/png": "[encoded data removed]",
      "text/plain": [
       "<Figure size 640x480 with 2 Axes>"
      ]
     },
     "metadata": {},
     "output_type": "display_data"
    }
   ],
   "source": [
    "sns.heatmap(data_clean.corr(), fmt='.2g')"
   ]
  },
  {
   "cell_type": "markdown",
   "id": "60e797f0",
   "metadata": {
    "id": "60e797f0"
   },
   "source": [
    "# Machine Learning Model Building"
   ]
  },
  {
   "cell_type": "code",
   "execution_count": 40,
   "id": "fdb5ae7a",
   "metadata": {
    "id": "fdb5ae7a"
   },
   "outputs": [],
   "source": [
    "X = data_clean.drop('MIS_Status', axis=1)\n",
    "y = data_clean['MIS_Status']"
   ]
  },
  {
   "cell_type": "code",
   "execution_count": 41,
   "id": "4392053c",
   "metadata": {
    "id": "4392053c"
   },
   "outputs": [],
   "source": [
    "#test size 20% and train size 80%\n",
    "from sklearn.model_selection import train_test_split\n",
    "from sklearn.metrics import accuracy_score\n",
    "X_train, X_test, y_train, y_test = train_test_split(X,y, test_size=0.2,random_state=0)"
   ]
  },
  {
   "cell_type": "markdown",
   "id": "676cb728",
   "metadata": {
    "id": "676cb728"
   },
   "source": [
    "# Decision Tree Classifier"
   ]
  },
  {
   "cell_type": "code",
   "execution_count": 42,
   "id": "ea42730d",
   "metadata": {
    "id": "ea42730d",
    "outputId": "79d3cbb5-ff7a-4621-ed20-c2fad1912e6a"
   },
   "outputs": [
    {
     "data": {
      "text/html": [
       "<style>#sk-container-id-1 {color: black;background-color: white;}#sk-container-id-1 pre{padding: 0;}#sk-container-id-1 div.sk-toggleable {background-color: white;}#sk-container-id-1 label.sk-toggleable__label {cursor: pointer;display: block;width: 100%;margin-bottom: 0;padding: 0.3em;box-sizing: border-box;text-align: center;}#sk-container-id-1 label.sk-toggleable__label-arrow:before {content: \"▸\";float: left;margin-right: 0.25em;color: #696969;}#sk-container-id-1 label.sk-toggleable__label-arrow:hover:before {color: black;}#sk-container-id-1 div.sk-estimator:hover label.sk-toggleable__label-arrow:before {color: black;}#sk-container-id-1 div.sk-toggleable__content {max-height: 0;max-width: 0;overflow: hidden;text-align: left;background-color: #f0f8ff;}#sk-container-id-1 div.sk-toggleable__content pre {margin: 0.2em;color: black;border-radius: 0.25em;background-color: #f0f8ff;}#sk-container-id-1 input.sk-toggleable__control:checked~div.sk-toggleable__content {max-height: 200px;max-width: 100%;overflow: auto;}#sk-container-id-1 input.sk-toggleable__control:checked~label.sk-toggleable__label-arrow:before {content: \"▾\";}#sk-container-id-1 div.sk-estimator input.sk-toggleable__control:checked~label.sk-toggleable__label {background-color: #d4ebff;}#sk-container-id-1 div.sk-label input.sk-toggleable__control:checked~label.sk-toggleable__label {background-color: #d4ebff;}#sk-container-id-1 input.sk-hidden--visually {border: 0;clip: rect(1px 1px 1px 1px);clip: rect(1px, 1px, 1px, 1px);height: 1px;margin: -1px;overflow: hidden;padding: 0;position: absolute;width: 1px;}#sk-container-id-1 div.sk-estimator {font-family: monospace;background-color: #f0f8ff;border: 1px dotted black;border-radius: 0.25em;box-sizing: border-box;margin-bottom: 0.5em;}#sk-container-id-1 div.sk-estimator:hover {background-color: #d4ebff;}#sk-container-id-1 div.sk-parallel-item::after {content: \"\";width: 100%;border-bottom: 1px solid gray;flex-grow: 1;}#sk-container-id-1 div.sk-label:hover label.sk-toggleable__label {background-color: #d4ebff;}#sk-container-id-1 div.sk-serial::before {content: \"\";position: absolute;border-left: 1px solid gray;box-sizing: border-box;top: 0;bottom: 0;left: 50%;z-index: 0;}#sk-container-id-1 div.sk-serial {display: flex;flex-direction: column;align-items: center;background-color: white;padding-right: 0.2em;padding-left: 0.2em;position: relative;}#sk-container-id-1 div.sk-item {position: relative;z-index: 1;}#sk-container-id-1 div.sk-parallel {display: flex;align-items: stretch;justify-content: center;background-color: white;position: relative;}#sk-container-id-1 div.sk-item::before, #sk-container-id-1 div.sk-parallel-item::before {content: \"\";position: absolute;border-left: 1px solid gray;box-sizing: border-box;top: 0;bottom: 0;left: 50%;z-index: -1;}#sk-container-id-1 div.sk-parallel-item {display: flex;flex-direction: column;z-index: 1;position: relative;background-color: white;}#sk-container-id-1 div.sk-parallel-item:first-child::after {align-self: flex-end;width: 50%;}#sk-container-id-1 div.sk-parallel-item:last-child::after {align-self: flex-start;width: 50%;}#sk-container-id-1 div.sk-parallel-item:only-child::after {width: 0;}#sk-container-id-1 div.sk-dashed-wrapped {border: 1px dashed gray;margin: 0 0.4em 0.5em 0.4em;box-sizing: border-box;padding-bottom: 0.4em;background-color: white;}#sk-container-id-1 div.sk-label label {font-family: monospace;font-weight: bold;display: inline-block;line-height: 1.2em;}#sk-container-id-1 div.sk-label-container {text-align: center;}#sk-container-id-1 div.sk-container {/* jupyter's `normalize.less` sets `[hidden] { display: none; }` but bootstrap.min.css set `[hidden] { display: none !important; }` so we also need the `!important` here to be able to override the default hidden behavior on the sphinx rendered scikit-learn.org. See: https://github.com/scikit-learn/scikit-learn/issues/21755 */display: inline-block !important;position: relative;}#sk-container-id-1 div.sk-text-repr-fallback {display: none;}</style><div id=\"sk-container-id-1\" class=\"sk-top-container\"><div class=\"sk-text-repr-fallback\"><pre>DecisionTreeClassifier(random_state=0)</pre><b>In a Jupyter environment, please rerun this cell to show the HTML representation or trust the notebook. <br />On GitHub, the HTML representation is unable to render, please try loading this page with nbviewer.org.</b></div><div class=\"sk-container\" hidden><div class=\"sk-item\"><div class=\"sk-estimator sk-toggleable\"><input class=\"sk-toggleable__control sk-hidden--visually\" id=\"sk-estimator-id-1\" type=\"checkbox\" checked><label for=\"sk-estimator-id-1\" class=\"sk-toggleable__label sk-toggleable__label-arrow\">DecisionTreeClassifier</label><div class=\"sk-toggleable__content\"><pre>DecisionTreeClassifier(random_state=0)</pre></div></div></div></div></div>"
      ],
      "text/plain": [
       "DecisionTreeClassifier(random_state=0)"
      ]
     },
     "execution_count": 42,
     "metadata": {},
     "output_type": "execute_result"
    }
   ],
   "source": [
    "from sklearn.tree import DecisionTreeClassifier\n",
    "dtree = DecisionTreeClassifier(random_state=0)\n",
    "dtree.fit(X_train, y_train)"
   ]
  },
  {
   "cell_type": "code",
   "execution_count": 43,
   "id": "d5420d29",
   "metadata": {
    "id": "d5420d29",
    "outputId": "2e8df26b-d2fe-4505-907b-38b06cfb7607"
   },
   "outputs": [
    {
     "name": "stdout",
     "output_type": "stream",
     "text": [
      "Accuracy Score : 99.57 %\n"
     ]
    }
   ],
   "source": [
    "y_pred = dtree.predict(X_test)\n",
    "print(\"Accuracy Score :\", round(accuracy_score(y_test, y_pred)*100 ,2), \"%\")"
   ]
  },
  {
   "cell_type": "code",
   "execution_count": 44,
   "id": "0121ffe0",
   "metadata": {
    "id": "0121ffe0",
    "outputId": "05a23adc-ed63-4077-e3ff-dcd9f1bbe374"
   },
   "outputs": [
    {
     "name": "stdout",
     "output_type": "stream",
     "text": [
      "F-1 Score :  0.9956635249347315\n",
      "Precision Score :  0.998971475082319\n",
      "Recall Score :  0.9923774100835765\n"
     ]
    }
   ],
   "source": [
    "from sklearn.metrics import accuracy_score, f1_score, precision_score, recall_score\n",
    "print('F-1 Score : ',(f1_score(y_test, y_pred)))\n",
    "print('Precision Score : ',(precision_score(y_test, y_pred)))\n",
    "print('Recall Score : ',(recall_score(y_test, y_pred)))"
   ]
  },
  {
   "cell_type": "markdown",
   "id": "0c0adb1d",
   "metadata": {
    "id": "0c0adb1d"
   },
   "source": [
    "# Random Forest  Classifier"
   ]
  },
  {
   "cell_type": "code",
   "execution_count": 45,
   "id": "c8934258",
   "metadata": {
    "id": "c8934258",
    "outputId": "412f3528-b376-4314-dc94-9ae24547edab"
   },
   "outputs": [
    {
     "data": {
      "text/html": [
       "<style>#sk-container-id-2 {color: black;background-color: white;}#sk-container-id-2 pre{padding: 0;}#sk-container-id-2 div.sk-toggleable {background-color: white;}#sk-container-id-2 label.sk-toggleable__label {cursor: pointer;display: block;width: 100%;margin-bottom: 0;padding: 0.3em;box-sizing: border-box;text-align: center;}#sk-container-id-2 label.sk-toggleable__label-arrow:before {content: \"▸\";float: left;margin-right: 0.25em;color: #696969;}#sk-container-id-2 label.sk-toggleable__label-arrow:hover:before {color: black;}#sk-container-id-2 div.sk-estimator:hover label.sk-toggleable__label-arrow:before {color: black;}#sk-container-id-2 div.sk-toggleable__content {max-height: 0;max-width: 0;overflow: hidden;text-align: left;background-color: #f0f8ff;}#sk-container-id-2 div.sk-toggleable__content pre {margin: 0.2em;color: black;border-radius: 0.25em;background-color: #f0f8ff;}#sk-container-id-2 input.sk-toggleable__control:checked~div.sk-toggleable__content {max-height: 200px;max-width: 100%;overflow: auto;}#sk-container-id-2 input.sk-toggleable__control:checked~label.sk-toggleable__label-arrow:before {content: \"▾\";}#sk-container-id-2 div.sk-estimator input.sk-toggleable__control:checked~label.sk-toggleable__label {background-color: #d4ebff;}#sk-container-id-2 div.sk-label input.sk-toggleable__control:checked~label.sk-toggleable__label {background-color: #d4ebff;}#sk-container-id-2 input.sk-hidden--visually {border: 0;clip: rect(1px 1px 1px 1px);clip: rect(1px, 1px, 1px, 1px);height: 1px;margin: -1px;overflow: hidden;padding: 0;position: absolute;width: 1px;}#sk-container-id-2 div.sk-estimator {font-family: monospace;background-color: #f0f8ff;border: 1px dotted black;border-radius: 0.25em;box-sizing: border-box;margin-bottom: 0.5em;}#sk-container-id-2 div.sk-estimator:hover {background-color: #d4ebff;}#sk-container-id-2 div.sk-parallel-item::after {content: \"\";width: 100%;border-bottom: 1px solid gray;flex-grow: 1;}#sk-container-id-2 div.sk-label:hover label.sk-toggleable__label {background-color: #d4ebff;}#sk-container-id-2 div.sk-serial::before {content: \"\";position: absolute;border-left: 1px solid gray;box-sizing: border-box;top: 0;bottom: 0;left: 50%;z-index: 0;}#sk-container-id-2 div.sk-serial {display: flex;flex-direction: column;align-items: center;background-color: white;padding-right: 0.2em;padding-left: 0.2em;position: relative;}#sk-container-id-2 div.sk-item {position: relative;z-index: 1;}#sk-container-id-2 div.sk-parallel {display: flex;align-items: stretch;justify-content: center;background-color: white;position: relative;}#sk-container-id-2 div.sk-item::before, #sk-container-id-2 div.sk-parallel-item::before {content: \"\";position: absolute;border-left: 1px solid gray;box-sizing: border-box;top: 0;bottom: 0;left: 50%;z-index: -1;}#sk-container-id-2 div.sk-parallel-item {display: flex;flex-direction: column;z-index: 1;position: relative;background-color: white;}#sk-container-id-2 div.sk-parallel-item:first-child::after {align-self: flex-end;width: 50%;}#sk-container-id-2 div.sk-parallel-item:last-child::after {align-self: flex-start;width: 50%;}#sk-container-id-2 div.sk-parallel-item:only-child::after {width: 0;}#sk-container-id-2 div.sk-dashed-wrapped {border: 1px dashed gray;margin: 0 0.4em 0.5em 0.4em;box-sizing: border-box;padding-bottom: 0.4em;background-color: white;}#sk-container-id-2 div.sk-label label {font-family: monospace;font-weight: bold;display: inline-block;line-height: 1.2em;}#sk-container-id-2 div.sk-label-container {text-align: center;}#sk-container-id-2 div.sk-container {/* jupyter's `normalize.less` sets `[hidden] { display: none; }` but bootstrap.min.css set `[hidden] { display: none !important; }` so we also need the `!important` here to be able to override the default hidden behavior on the sphinx rendered scikit-learn.org. See: https://github.com/scikit-learn/scikit-learn/issues/21755 */display: inline-block !important;position: relative;}#sk-container-id-2 div.sk-text-repr-fallback {display: none;}</style><div id=\"sk-container-id-2\" class=\"sk-top-container\"><div class=\"sk-text-repr-fallback\"><pre>RandomForestClassifier(random_state=0)</pre><b>In a Jupyter environment, please rerun this cell to show the HTML representation or trust the notebook. <br />On GitHub, the HTML representation is unable to render, please try loading this page with nbviewer.org.</b></div><div class=\"sk-container\" hidden><div class=\"sk-item\"><div class=\"sk-estimator sk-toggleable\"><input class=\"sk-toggleable__control sk-hidden--visually\" id=\"sk-estimator-id-2\" type=\"checkbox\" checked><label for=\"sk-estimator-id-2\" class=\"sk-toggleable__label sk-toggleable__label-arrow\">RandomForestClassifier</label><div class=\"sk-toggleable__content\"><pre>RandomForestClassifier(random_state=0)</pre></div></div></div></div></div>"
      ],
      "text/plain": [
       "RandomForestClassifier(random_state=0)"
      ]
     },
     "execution_count": 45,
     "metadata": {},
     "output_type": "execute_result"
    }
   ],
   "source": [
    "from sklearn.ensemble import RandomForestClassifier\n",
    "rfc = RandomForestClassifier(random_state=0)\n",
    "rfc.fit(X_train, y_train)"
   ]
  },
  {
   "cell_type": "code",
   "execution_count": 46,
   "id": "99e551ef",
   "metadata": {
    "id": "99e551ef",
    "outputId": "4fb2f1fa-af9c-4ab9-eebb-6844d0349f63"
   },
   "outputs": [
    {
     "name": "stdout",
     "output_type": "stream",
     "text": [
      "Accuracy Score : 99.62 %\n"
     ]
    }
   ],
   "source": [
    "y_pred = rfc.predict(X_test)\n",
    "print(\"Accuracy Score :\", round(accuracy_score(y_test, y_pred)*100 ,2), \"%\")"
   ]
  },
  {
   "cell_type": "code",
   "execution_count": 47,
   "id": "35076b7e",
   "metadata": {
    "id": "35076b7e",
    "outputId": "f8bb816c-c6c4-4f83-a797-6210909b3883"
   },
   "outputs": [
    {
     "name": "stdout",
     "output_type": "stream",
     "text": [
      "F-1 Score :  0.9961934831841956\n",
      "Precision Score :  0.9997778945887719\n",
      "Recall Score :  0.9926346816815271\n"
     ]
    }
   ],
   "source": [
    "from sklearn.metrics import accuracy_score, f1_score, precision_score, recall_score\n",
    "print('F-1 Score : ',(f1_score(y_test, y_pred)))\n",
    "print('Precision Score : ',(precision_score(y_test, y_pred)))\n",
    "print('Recall Score : ',(recall_score(y_test, y_pred)))"
   ]
  },
  {
   "cell_type": "markdown",
   "id": "9cfa2922",
   "metadata": {
    "id": "9cfa2922"
   },
   "source": [
    "# Visualize Best Algorithm (Random Forest Classifier)"
   ]
  },
  {
   "cell_type": "code",
   "execution_count": 51,
   "id": "fc4399fb",
   "metadata": {
    "id": "fc4399fb",
    "outputId": "7bf0b10d-4050-4397-8bc6-7ea8f18a9530"
   },
   "outputs": [
    {
     "data": {
      "text/html": [
       "<div>\n",
       "<style scoped>\n",
       "    .dataframe tbody tr th:only-of-type {\n",
       "        vertical-align: middle;\n",
       "    }\n",
       "\n",
       "    .dataframe tbody tr th {\n",
       "        vertical-align: top;\n",
       "    }\n",
       "\n",
       "    .dataframe thead th {\n",
       "        text-align: right;\n",
       "    }\n",
       "</style>\n",
       "<table border=\"1\" class=\"dataframe\">\n",
       "  <thead>\n",
       "    <tr style=\"text-align: right;\">\n",
       "      <th></th>\n",
       "      <th>Feature Name</th>\n",
       "      <th>Importance</th>\n",
       "    </tr>\n",
       "  </thead>\n",
       "  <tbody>\n",
       "    <tr>\n",
       "      <th>9</th>\n",
       "      <td>ChgOffPrinGr</td>\n",
       "      <td>7.226684e-01</td>\n",
       "    </tr>\n",
       "    <tr>\n",
       "      <th>0</th>\n",
       "      <td>Term</td>\n",
       "      <td>1.873627e-01</td>\n",
       "    </tr>\n",
       "    <tr>\n",
       "      <th>5</th>\n",
       "      <td>FranchiseCode</td>\n",
       "      <td>2.341338e-02</td>\n",
       "    </tr>\n",
       "    <tr>\n",
       "      <th>6</th>\n",
       "      <td>UrbanRural</td>\n",
       "      <td>1.783382e-02</td>\n",
       "    </tr>\n",
       "    <tr>\n",
       "      <th>11</th>\n",
       "      <td>SBA_Appv</td>\n",
       "      <td>1.694594e-02</td>\n",
       "    </tr>\n",
       "    <tr>\n",
       "      <th>4</th>\n",
       "      <td>RetainedJob</td>\n",
       "      <td>1.158896e-02</td>\n",
       "    </tr>\n",
       "    <tr>\n",
       "      <th>10</th>\n",
       "      <td>GrAppv</td>\n",
       "      <td>7.611267e-03</td>\n",
       "    </tr>\n",
       "    <tr>\n",
       "      <th>7</th>\n",
       "      <td>DisbursementGross</td>\n",
       "      <td>5.860008e-03</td>\n",
       "    </tr>\n",
       "    <tr>\n",
       "      <th>1</th>\n",
       "      <td>NoEmp</td>\n",
       "      <td>3.708249e-03</td>\n",
       "    </tr>\n",
       "    <tr>\n",
       "      <th>3</th>\n",
       "      <td>CreateJob</td>\n",
       "      <td>1.710933e-03</td>\n",
       "    </tr>\n",
       "    <tr>\n",
       "      <th>2</th>\n",
       "      <td>NewExist</td>\n",
       "      <td>1.296381e-03</td>\n",
       "    </tr>\n",
       "    <tr>\n",
       "      <th>8</th>\n",
       "      <td>BalanceGross</td>\n",
       "      <td>1.239145e-08</td>\n",
       "    </tr>\n",
       "  </tbody>\n",
       "</table>\n",
       "</div>"
      ],
      "text/plain": [
       "         Feature Name    Importance\n",
       "9        ChgOffPrinGr  7.226684e-01\n",
       "0                Term  1.873627e-01\n",
       "5       FranchiseCode  2.341338e-02\n",
       "6          UrbanRural  1.783382e-02\n",
       "11           SBA_Appv  1.694594e-02\n",
       "4         RetainedJob  1.158896e-02\n",
       "10             GrAppv  7.611267e-03\n",
       "7   DisbursementGross  5.860008e-03\n",
       "1               NoEmp  3.708249e-03\n",
       "3           CreateJob  1.710933e-03\n",
       "2            NewExist  1.296381e-03\n",
       "8        BalanceGross  1.239145e-08"
      ]
     },
     "execution_count": 51,
     "metadata": {},
     "output_type": "execute_result"
    }
   ],
   "source": [
    "#Feature Importance\n",
    "imp_df = pd.DataFrame({\n",
    "    \"Feature Name\": X_train.columns,\n",
    "    \"Importance\": rfc.feature_importances_\n",
    "})\n",
    "fi = imp_df.sort_values(by=\"Importance\", ascending=False)\n",
    "fi"
   ]
  },
  {
   "cell_type": "code",
   "execution_count": 49,
   "id": "7e1ba56b",
   "metadata": {
    "id": "7e1ba56b",
    "outputId": "f089926c-24c3-4564-ef44-7e865770b980"
   },
   "outputs": [
    {
     "data": {
      "image/png": "[encoded data removed]",
      "text/plain": [
       "<Figure size 1000x800 with 1 Axes>"
      ]
     },
     "metadata": {},
     "output_type": "display_data"
    }
   ],
   "source": [
    "fi2 = fi.head(10)\n",
    "plt.figure(figsize=(10,8))\n",
    "sns.barplot(data=fi2, x='Importance', y='Feature Name')\n",
    "plt.title('Top 10 Feature Importance Each Attributes (Random Forest)', fontsize=18)\n",
    "plt.xlabel ('Importance', fontsize=16)\n",
    "plt.ylabel ('Feature Name', fontsize=16)\n",
    "plt.show()"
   ]
  }
 ],
 "metadata": {
  "colab": {
   "provenance": []
  },
  "hide_input": false,
  "kernelspec": {
   "display_name": "Python 3 (ipykernel)",
   "language": "python",
   "name": "python3"
  },
  "language_info": {
   "codemirror_mode": {
    "name": "ipython",
    "version": 3
   },
   "file_extension": ".py",
   "mimetype": "text/x-python",
   "name": "python",
   "nbconvert_exporter": "python",
   "pygments_lexer": "ipython3",
   "version": "3.10.6"
  },
  "varInspector": {
   "cols": {
    "lenName": 16,
    "lenType": 16,
    "lenVar": 40
   },
   "kernels_config": {
    "python": {
     "delete_cmd_postfix": "",
     "delete_cmd_prefix": "del ",
     "library": "var_list.py",
     "varRefreshCmd": "print(var_dic_list())"
    },
    "r": {
     "delete_cmd_postfix": ") ",
     "delete_cmd_prefix": "rm(",
     "library": "var_list.r",
     "varRefreshCmd": "cat(var_dic_list()) "
    }
   },
   "types_to_exclude": [
    "module",
    "function",
    "builtin_function_or_method",
    "instance",
    "_Feature"
   ],
   "window_display": false
  }
 },
 "nbformat": 4,
 "nbformat_minor": 5
}
