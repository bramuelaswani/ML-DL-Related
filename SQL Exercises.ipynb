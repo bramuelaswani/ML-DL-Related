{
 "cells": [
  {
   "cell_type": "markdown",
   "id": "024c835e",
   "metadata": {},
   "source": [
    "## SQL Practices"
   ]
  },
  {
   "cell_type": "code",
   "execution_count": 1,
   "id": "8af7af8e",
   "metadata": {},
   "outputs": [],
   "source": [
    "# Load Magic commands\n",
    "import sqlite3\n",
    "%load_ext sql\n",
    "\n",
    "# Load SQLite database\n",
    "%sql sqlite:///pandp.db"
   ]
  },
  {
   "cell_type": "code",
   "execution_count": 2,
   "id": "51c1781d",
   "metadata": {},
   "outputs": [
    {
     "name": "stdout",
     "output_type": "stream",
     "text": [
      " * sqlite:///pandp.db\n",
      "Done.\n"
     ]
    },
    {
     "data": {
      "text/html": [
       "<table>\n",
       "    <tr>\n",
       "        <th>tables</th>\n",
       "    </tr>\n",
       "    <tr>\n",
       "        <td>accounts</td>\n",
       "    </tr>\n",
       "    <tr>\n",
       "        <td>orders</td>\n",
       "    </tr>\n",
       "    <tr>\n",
       "        <td>region</td>\n",
       "    </tr>\n",
       "    <tr>\n",
       "        <td>sales_reps</td>\n",
       "    </tr>\n",
       "    <tr>\n",
       "        <td>web_events</td>\n",
       "    </tr>\n",
       "</table>"
      ],
      "text/plain": [
       "[('accounts',), ('orders',), ('region',), ('sales_reps',), ('web_events',)]"
      ]
     },
     "execution_count": 2,
     "metadata": {},
     "output_type": "execute_result"
    }
   ],
   "source": [
    "%%sql\n",
    "SELECT name tables\n",
    "FROM sqlite_master \n",
    "WHERE type IN ('table','view') AND name NOT LIKE 'sqlite_%' \n",
    "ORDER BY 1;"
   ]
  },
  {
   "cell_type": "markdown",
   "id": "05311897",
   "metadata": {},
   "source": [
    "### order by"
   ]
  },
  {
   "cell_type": "code",
   "execution_count": 3,
   "id": "18a7498d",
   "metadata": {},
   "outputs": [
    {
     "name": "stdout",
     "output_type": "stream",
     "text": [
      " * sqlite:///pandp.db\n",
      "Done.\n"
     ]
    },
    {
     "data": {
      "text/html": [
       "<table>\n",
       "    <tr>\n",
       "        <th>id</th>\n",
       "        <th>account_id</th>\n",
       "        <th>total_amt_usd</th>\n",
       "    </tr>\n",
       "    <tr>\n",
       "        <td>4308</td>\n",
       "        <td>1001</td>\n",
       "        <td>9426.71</td>\n",
       "    </tr>\n",
       "    <tr>\n",
       "        <td>4309</td>\n",
       "        <td>1001</td>\n",
       "        <td>9230.67</td>\n",
       "    </tr>\n",
       "    <tr>\n",
       "        <td>4316</td>\n",
       "        <td>1001</td>\n",
       "        <td>9134.31</td>\n",
       "    </tr>\n",
       "    <tr>\n",
       "        <td>4317</td>\n",
       "        <td>1001</td>\n",
       "        <td>8963.91</td>\n",
       "    </tr>\n",
       "    <tr>\n",
       "        <td>4314</td>\n",
       "        <td>1001</td>\n",
       "        <td>8863.24</td>\n",
       "    </tr>\n",
       "</table>"
      ],
      "text/plain": [
       "[(4308, 1001, 9426.71),\n",
       " (4309, 1001, 9230.67),\n",
       " (4316, 1001, 9134.31),\n",
       " (4317, 1001, 8963.91),\n",
       " (4314, 1001, 8863.24)]"
      ]
     },
     "execution_count": 3,
     "metadata": {},
     "output_type": "execute_result"
    }
   ],
   "source": [
    "%%sql\n",
    "SELECT id, account_id, total_amt_usd\n",
    "FROM orders\n",
    "ORDER BY account_id, total_amt_usd DESC\n",
    "limit 5;"
   ]
  },
  {
   "cell_type": "code",
   "execution_count": 4,
   "id": "72555d3f",
   "metadata": {},
   "outputs": [
    {
     "name": "stdout",
     "output_type": "stream",
     "text": [
      " * sqlite:///pandp.db\n",
      "Done.\n"
     ]
    },
    {
     "data": {
      "text/html": [
       "<table>\n",
       "    <tr>\n",
       "        <th>id</th>\n",
       "        <th>account_id</th>\n",
       "        <th>total_amt_usd</th>\n",
       "    </tr>\n",
       "    <tr>\n",
       "        <td>4016</td>\n",
       "        <td>4251</td>\n",
       "        <td>232207.07</td>\n",
       "    </tr>\n",
       "    <tr>\n",
       "        <td>3892</td>\n",
       "        <td>4161</td>\n",
       "        <td>112875.18</td>\n",
       "    </tr>\n",
       "    <tr>\n",
       "        <td>3963</td>\n",
       "        <td>4211</td>\n",
       "        <td>107533.55</td>\n",
       "    </tr>\n",
       "    <tr>\n",
       "        <td>5791</td>\n",
       "        <td>2861</td>\n",
       "        <td>95005.82</td>\n",
       "    </tr>\n",
       "    <tr>\n",
       "        <td>3778</td>\n",
       "        <td>4101</td>\n",
       "        <td>93547.84</td>\n",
       "    </tr>\n",
       "</table>"
      ],
      "text/plain": [
       "[(4016, 4251, 232207.07),\n",
       " (3892, 4161, 112875.18),\n",
       " (3963, 4211, 107533.55),\n",
       " (5791, 2861, 95005.82),\n",
       " (3778, 4101, 93547.84)]"
      ]
     },
     "execution_count": 4,
     "metadata": {},
     "output_type": "execute_result"
    }
   ],
   "source": [
    "%%sql\n",
    "SELECT id, account_id, total_amt_usd\n",
    "FROM orders\n",
    "ORDER BY total_amt_usd DESC, account_id\n",
    "limit 5;"
   ]
  },
  {
   "cell_type": "markdown",
   "id": "d0b6f6e6",
   "metadata": {},
   "source": [
    "### where"
   ]
  },
  {
   "cell_type": "code",
   "execution_count": 5,
   "id": "23e15baf",
   "metadata": {},
   "outputs": [
    {
     "name": "stdout",
     "output_type": "stream",
     "text": [
      " * sqlite:///pandp.db\n",
      "Done.\n"
     ]
    },
    {
     "data": {
      "text/html": [
       "<table>\n",
       "    <tr>\n",
       "        <th>id</th>\n",
       "        <th>account_id</th>\n",
       "        <th>occurred_at</th>\n",
       "        <th>standard_qty</th>\n",
       "        <th>gloss_qty</th>\n",
       "        <th>poster_qty</th>\n",
       "        <th>total</th>\n",
       "        <th>standard_amt_usd</th>\n",
       "        <th>gloss_amt_usd</th>\n",
       "        <th>poster_amt_usd</th>\n",
       "        <th>total_amt_usd</th>\n",
       "    </tr>\n",
       "    <tr>\n",
       "        <td>6719</td>\n",
       "        <td>4251</td>\n",
       "        <td>2016-06-05 01:16:37</td>\n",
       "        <td>0</td>\n",
       "        <td>78</td>\n",
       "        <td>0</td>\n",
       "        <td>78</td>\n",
       "        <td>0</td>\n",
       "        <td>584.22</td>\n",
       "        <td>0</td>\n",
       "        <td>584.22</td>\n",
       "    </tr>\n",
       "    <tr>\n",
       "        <td>4009</td>\n",
       "        <td>4251</td>\n",
       "        <td>2016-06-05 01:36:42</td>\n",
       "        <td>626</td>\n",
       "        <td>15</td>\n",
       "        <td>0</td>\n",
       "        <td>641</td>\n",
       "        <td>3123.74</td>\n",
       "        <td>112.35</td>\n",
       "        <td>0</td>\n",
       "        <td>3236.09</td>\n",
       "    </tr>\n",
       "    <tr>\n",
       "        <td>4010</td>\n",
       "        <td>4251</td>\n",
       "        <td>2016-07-04 12:34:49</td>\n",
       "        <td>498</td>\n",
       "        <td>6</td>\n",
       "        <td>2</td>\n",
       "        <td>506</td>\n",
       "        <td>2485.02</td>\n",
       "        <td>44.94</td>\n",
       "        <td>16.24</td>\n",
       "        <td>2546.2</td>\n",
       "    </tr>\n",
       "    <tr>\n",
       "        <td>4011</td>\n",
       "        <td>4251</td>\n",
       "        <td>2016-08-02 00:53:28</td>\n",
       "        <td>679</td>\n",
       "        <td>36</td>\n",
       "        <td>5</td>\n",
       "        <td>720</td>\n",
       "        <td>3388.21</td>\n",
       "        <td>269.64</td>\n",
       "        <td>40.6</td>\n",
       "        <td>3698.45</td>\n",
       "    </tr>\n",
       "    <tr>\n",
       "        <td>6720</td>\n",
       "        <td>4251</td>\n",
       "        <td>2016-08-02 01:13:08</td>\n",
       "        <td>9</td>\n",
       "        <td>0</td>\n",
       "        <td>19</td>\n",
       "        <td>28</td>\n",
       "        <td>44.91</td>\n",
       "        <td>0</td>\n",
       "        <td>154.28</td>\n",
       "        <td>199.19</td>\n",
       "    </tr>\n",
       "    <tr>\n",
       "        <td>4012</td>\n",
       "        <td>4251</td>\n",
       "        <td>2016-09-01 02:32:51</td>\n",
       "        <td>503</td>\n",
       "        <td>13</td>\n",
       "        <td>32</td>\n",
       "        <td>548</td>\n",
       "        <td>2509.97</td>\n",
       "        <td>97.37</td>\n",
       "        <td>259.84</td>\n",
       "        <td>2867.18</td>\n",
       "    </tr>\n",
       "    <tr>\n",
       "        <td>6721</td>\n",
       "        <td>4251</td>\n",
       "        <td>2016-09-01 02:39:55</td>\n",
       "        <td>3</td>\n",
       "        <td>71</td>\n",
       "        <td>50</td>\n",
       "        <td>124</td>\n",
       "        <td>14.97</td>\n",
       "        <td>531.79</td>\n",
       "        <td>406</td>\n",
       "        <td>952.76</td>\n",
       "    </tr>\n",
       "    <tr>\n",
       "        <td>4013</td>\n",
       "        <td>4251</td>\n",
       "        <td>2016-09-30 13:31:53</td>\n",
       "        <td>503</td>\n",
       "        <td>39</td>\n",
       "        <td>0</td>\n",
       "        <td>542</td>\n",
       "        <td>2509.97</td>\n",
       "        <td>292.11</td>\n",
       "        <td>0</td>\n",
       "        <td>2802.08</td>\n",
       "    </tr>\n",
       "    <tr>\n",
       "        <td>4014</td>\n",
       "        <td>4251</td>\n",
       "        <td>2016-10-29 12:04:06</td>\n",
       "        <td>483</td>\n",
       "        <td>12</td>\n",
       "        <td>0</td>\n",
       "        <td>495</td>\n",
       "        <td>2410.17</td>\n",
       "        <td>89.88</td>\n",
       "        <td>0</td>\n",
       "        <td>2500.05</td>\n",
       "    </tr>\n",
       "    <tr>\n",
       "        <td>6722</td>\n",
       "        <td>4251</td>\n",
       "        <td>2016-11-27 15:16:07</td>\n",
       "        <td>19</td>\n",
       "        <td>56</td>\n",
       "        <td>0</td>\n",
       "        <td>75</td>\n",
       "        <td>94.81</td>\n",
       "        <td>419.44</td>\n",
       "        <td>0</td>\n",
       "        <td>514.25</td>\n",
       "    </tr>\n",
       "    <tr>\n",
       "        <td>4015</td>\n",
       "        <td>4251</td>\n",
       "        <td>2016-11-27 15:17:06</td>\n",
       "        <td>520</td>\n",
       "        <td>21</td>\n",
       "        <td>7</td>\n",
       "        <td>548</td>\n",
       "        <td>2594.8</td>\n",
       "        <td>157.29</td>\n",
       "        <td>56.84</td>\n",
       "        <td>2808.93</td>\n",
       "    </tr>\n",
       "    <tr>\n",
       "        <td>6723</td>\n",
       "        <td>4251</td>\n",
       "        <td>2016-12-26 08:39:56</td>\n",
       "        <td>0</td>\n",
       "        <td>31</td>\n",
       "        <td>21</td>\n",
       "        <td>52</td>\n",
       "        <td>0</td>\n",
       "        <td>232.19</td>\n",
       "        <td>170.52</td>\n",
       "        <td>402.71</td>\n",
       "    </tr>\n",
       "    <tr>\n",
       "        <td>4016</td>\n",
       "        <td>4251</td>\n",
       "        <td>2016-12-26 08:53:24</td>\n",
       "        <td>521</td>\n",
       "        <td>16</td>\n",
       "        <td>28262</td>\n",
       "        <td>28799</td>\n",
       "        <td>2599.79</td>\n",
       "        <td>119.84</td>\n",
       "        <td>229487.44</td>\n",
       "        <td>232207.07</td>\n",
       "    </tr>\n",
       "</table>"
      ],
      "text/plain": [
       "[(6719, 4251, '2016-06-05 01:16:37', 0, 78, 0, 78, 0, 584.22, 0, 584.22),\n",
       " (4009, 4251, '2016-06-05 01:36:42', 626, 15, 0, 641, 3123.74, 112.35, 0, 3236.09),\n",
       " (4010, 4251, '2016-07-04 12:34:49', 498, 6, 2, 506, 2485.02, 44.94, 16.24, 2546.2),\n",
       " (4011, 4251, '2016-08-02 00:53:28', 679, 36, 5, 720, 3388.21, 269.64, 40.6, 3698.45),\n",
       " (6720, 4251, '2016-08-02 01:13:08', 9, 0, 19, 28, 44.91, 0, 154.28, 199.19),\n",
       " (4012, 4251, '2016-09-01 02:32:51', 503, 13, 32, 548, 2509.97, 97.37, 259.84, 2867.18),\n",
       " (6721, 4251, '2016-09-01 02:39:55', 3, 71, 50, 124, 14.97, 531.79, 406, 952.76),\n",
       " (4013, 4251, '2016-09-30 13:31:53', 503, 39, 0, 542, 2509.97, 292.11, 0, 2802.08),\n",
       " (4014, 4251, '2016-10-29 12:04:06', 483, 12, 0, 495, 2410.17, 89.88, 0, 2500.05),\n",
       " (6722, 4251, '2016-11-27 15:16:07', 19, 56, 0, 75, 94.81, 419.44, 0, 514.25),\n",
       " (4015, 4251, '2016-11-27 15:17:06', 520, 21, 7, 548, 2594.8, 157.29, 56.84, 2808.93),\n",
       " (6723, 4251, '2016-12-26 08:39:56', 0, 31, 21, 52, 0, 232.19, 170.52, 402.71),\n",
       " (4016, 4251, '2016-12-26 08:53:24', 521, 16, 28262, 28799, 2599.79, 119.84, 229487.44, 232207.07)]"
      ]
     },
     "execution_count": 5,
     "metadata": {},
     "output_type": "execute_result"
    }
   ],
   "source": [
    "%%sql\n",
    "SELECT *\n",
    "FROM orders\n",
    "WHERE account_id = 4251\n",
    "ORDER BY occurred_at\n",
    "LIMIT 1000;"
   ]
  },
  {
   "cell_type": "code",
   "execution_count": 6,
   "id": "b3379f11",
   "metadata": {},
   "outputs": [
    {
     "name": "stdout",
     "output_type": "stream",
     "text": [
      " * sqlite:///pandp.db\n",
      "Done.\n"
     ]
    },
    {
     "data": {
      "text/html": [
       "<table>\n",
       "    <tr>\n",
       "        <th>id</th>\n",
       "        <th>account_id</th>\n",
       "        <th>occurred_at</th>\n",
       "        <th>standard_qty</th>\n",
       "        <th>gloss_qty</th>\n",
       "        <th>poster_qty</th>\n",
       "        <th>total</th>\n",
       "        <th>standard_amt_usd</th>\n",
       "        <th>gloss_amt_usd</th>\n",
       "        <th>poster_amt_usd</th>\n",
       "        <th>total_amt_usd</th>\n",
       "    </tr>\n",
       "    <tr>\n",
       "        <td>14</td>\n",
       "        <td>1001</td>\n",
       "        <td>2016-10-26 20:31:30</td>\n",
       "        <td>97</td>\n",
       "        <td>143</td>\n",
       "        <td>54</td>\n",
       "        <td>294</td>\n",
       "        <td>484.03</td>\n",
       "        <td>1071.07</td>\n",
       "        <td>438.48</td>\n",
       "        <td>1993.58</td>\n",
       "    </tr>\n",
       "    <tr>\n",
       "        <td>62</td>\n",
       "        <td>1091</td>\n",
       "        <td>2014-10-13 12:12:55</td>\n",
       "        <td>146</td>\n",
       "        <td>196</td>\n",
       "        <td>3</td>\n",
       "        <td>345</td>\n",
       "        <td>728.54</td>\n",
       "        <td>1468.04</td>\n",
       "        <td>24.36</td>\n",
       "        <td>2220.94</td>\n",
       "    </tr>\n",
       "    <tr>\n",
       "        <td>88</td>\n",
       "        <td>1101</td>\n",
       "        <td>2015-06-24 13:08:15</td>\n",
       "        <td>182</td>\n",
       "        <td>339</td>\n",
       "        <td>17</td>\n",
       "        <td>538</td>\n",
       "        <td>908.18</td>\n",
       "        <td>2539.11</td>\n",
       "        <td>138.04</td>\n",
       "        <td>3585.33</td>\n",
       "    </tr>\n",
       "    <tr>\n",
       "        <td>121</td>\n",
       "        <td>1131</td>\n",
       "        <td>2016-08-10 23:47:41</td>\n",
       "        <td>273</td>\n",
       "        <td>134</td>\n",
       "        <td>0</td>\n",
       "        <td>407</td>\n",
       "        <td>1362.27</td>\n",
       "        <td>1003.66</td>\n",
       "        <td>0</td>\n",
       "        <td>2365.93</td>\n",
       "    </tr>\n",
       "    <tr>\n",
       "        <td>129</td>\n",
       "        <td>1141</td>\n",
       "        <td>2016-12-21 15:52:58</td>\n",
       "        <td>143</td>\n",
       "        <td>1045</td>\n",
       "        <td>2157</td>\n",
       "        <td>3345</td>\n",
       "        <td>713.57</td>\n",
       "        <td>7827.05</td>\n",
       "        <td>17514.84</td>\n",
       "        <td>26055.46</td>\n",
       "    </tr>\n",
       "</table>"
      ],
      "text/plain": [
       "[(14, 1001, '2016-10-26 20:31:30', 97, 143, 54, 294, 484.03, 1071.07, 438.48, 1993.58),\n",
       " (62, 1091, '2014-10-13 12:12:55', 146, 196, 3, 345, 728.54, 1468.04, 24.36, 2220.94),\n",
       " (88, 1101, '2015-06-24 13:08:15', 182, 339, 17, 538, 908.18, 2539.11, 138.04, 3585.33),\n",
       " (121, 1131, '2016-08-10 23:47:41', 273, 134, 0, 407, 1362.27, 1003.66, 0, 2365.93),\n",
       " (129, 1141, '2016-12-21 15:52:58', 143, 1045, 2157, 3345, 713.57, 7827.05, 17514.84, 26055.46)]"
      ]
     },
     "execution_count": 6,
     "metadata": {},
     "output_type": "execute_result"
    }
   ],
   "source": [
    "%%sql\n",
    "SELECT *\n",
    "FROM orders\n",
    "WHERE gloss_amt_usd >= 1000\n",
    "LIMIT 5;"
   ]
  },
  {
   "cell_type": "code",
   "execution_count": 7,
   "id": "b2034b9d",
   "metadata": {},
   "outputs": [
    {
     "name": "stdout",
     "output_type": "stream",
     "text": [
      " * sqlite:///pandp.db\n",
      "Done.\n"
     ]
    },
    {
     "data": {
      "text/html": [
       "<table>\n",
       "    <tr>\n",
       "        <th>id</th>\n",
       "        <th>account_id</th>\n",
       "        <th>occurred_at</th>\n",
       "        <th>standard_qty</th>\n",
       "        <th>gloss_qty</th>\n",
       "        <th>poster_qty</th>\n",
       "        <th>total</th>\n",
       "        <th>standard_amt_usd</th>\n",
       "        <th>gloss_amt_usd</th>\n",
       "        <th>poster_amt_usd</th>\n",
       "        <th>total_amt_usd</th>\n",
       "    </tr>\n",
       "    <tr>\n",
       "        <td>67</td>\n",
       "        <td>1091</td>\n",
       "        <td>2015-04-07 13:29:20</td>\n",
       "        <td>95</td>\n",
       "        <td>0</td>\n",
       "        <td>0</td>\n",
       "        <td>95</td>\n",
       "        <td>474.05</td>\n",
       "        <td>0</td>\n",
       "        <td>0</td>\n",
       "        <td>474.05</td>\n",
       "    </tr>\n",
       "    <tr>\n",
       "        <td>96</td>\n",
       "        <td>1101</td>\n",
       "        <td>2016-03-15 11:36:03</td>\n",
       "        <td>14</td>\n",
       "        <td>8</td>\n",
       "        <td>16</td>\n",
       "        <td>38</td>\n",
       "        <td>69.86</td>\n",
       "        <td>59.92</td>\n",
       "        <td>129.92</td>\n",
       "        <td>259.7</td>\n",
       "    </tr>\n",
       "    <tr>\n",
       "        <td>119</td>\n",
       "        <td>1131</td>\n",
       "        <td>2016-06-12 12:29:45</td>\n",
       "        <td>0</td>\n",
       "        <td>30</td>\n",
       "        <td>23</td>\n",
       "        <td>53</td>\n",
       "        <td>0</td>\n",
       "        <td>224.7</td>\n",
       "        <td>186.76</td>\n",
       "        <td>411.46</td>\n",
       "    </tr>\n",
       "    <tr>\n",
       "        <td>124</td>\n",
       "        <td>1131</td>\n",
       "        <td>2016-11-07 05:10:56</td>\n",
       "        <td>0</td>\n",
       "        <td>0</td>\n",
       "        <td>0</td>\n",
       "        <td>0</td>\n",
       "        <td>0</td>\n",
       "        <td>0</td>\n",
       "        <td>0</td>\n",
       "        <td>0</td>\n",
       "    </tr>\n",
       "    <tr>\n",
       "        <td>254</td>\n",
       "        <td>1251</td>\n",
       "        <td>2014-11-01 02:15:24</td>\n",
       "        <td>0</td>\n",
       "        <td>0</td>\n",
       "        <td>17</td>\n",
       "        <td>17</td>\n",
       "        <td>0</td>\n",
       "        <td>0</td>\n",
       "        <td>138.04</td>\n",
       "        <td>138.04</td>\n",
       "    </tr>\n",
       "    <tr>\n",
       "        <td>328</td>\n",
       "        <td>1291</td>\n",
       "        <td>2015-08-03 08:35:23</td>\n",
       "        <td>0</td>\n",
       "        <td>19</td>\n",
       "        <td>21</td>\n",
       "        <td>40</td>\n",
       "        <td>0</td>\n",
       "        <td>142.31</td>\n",
       "        <td>170.52</td>\n",
       "        <td>312.83</td>\n",
       "    </tr>\n",
       "    <tr>\n",
       "        <td>542</td>\n",
       "        <td>1421</td>\n",
       "        <td>2015-11-13 09:07:09</td>\n",
       "        <td>0</td>\n",
       "        <td>64</td>\n",
       "        <td>0</td>\n",
       "        <td>64</td>\n",
       "        <td>0</td>\n",
       "        <td>479.36</td>\n",
       "        <td>0</td>\n",
       "        <td>479.36</td>\n",
       "    </tr>\n",
       "    <tr>\n",
       "        <td>683</td>\n",
       "        <td>1501</td>\n",
       "        <td>2016-04-14 23:59:50</td>\n",
       "        <td>0</td>\n",
       "        <td>15</td>\n",
       "        <td>16</td>\n",
       "        <td>31</td>\n",
       "        <td>0</td>\n",
       "        <td>112.35</td>\n",
       "        <td>129.92</td>\n",
       "        <td>242.27</td>\n",
       "    </tr>\n",
       "    <tr>\n",
       "        <td>713</td>\n",
       "        <td>1521</td>\n",
       "        <td>2014-11-23 16:04:03</td>\n",
       "        <td>0</td>\n",
       "        <td>8</td>\n",
       "        <td>10</td>\n",
       "        <td>18</td>\n",
       "        <td>0</td>\n",
       "        <td>59.92</td>\n",
       "        <td>81.2</td>\n",
       "        <td>141.12</td>\n",
       "    </tr>\n",
       "    <tr>\n",
       "        <td>730</td>\n",
       "        <td>1521</td>\n",
       "        <td>2016-05-06 02:34:48</td>\n",
       "        <td>0</td>\n",
       "        <td>0</td>\n",
       "        <td>2</td>\n",
       "        <td>2</td>\n",
       "        <td>0</td>\n",
       "        <td>0</td>\n",
       "        <td>16.24</td>\n",
       "        <td>16.24</td>\n",
       "    </tr>\n",
       "</table>"
      ],
      "text/plain": [
       "[(67, 1091, '2015-04-07 13:29:20', 95, 0, 0, 95, 474.05, 0, 0, 474.05),\n",
       " (96, 1101, '2016-03-15 11:36:03', 14, 8, 16, 38, 69.86, 59.92, 129.92, 259.7),\n",
       " (119, 1131, '2016-06-12 12:29:45', 0, 30, 23, 53, 0, 224.7, 186.76, 411.46),\n",
       " (124, 1131, '2016-11-07 05:10:56', 0, 0, 0, 0, 0, 0, 0, 0),\n",
       " (254, 1251, '2014-11-01 02:15:24', 0, 0, 17, 17, 0, 0, 138.04, 138.04),\n",
       " (328, 1291, '2015-08-03 08:35:23', 0, 19, 21, 40, 0, 142.31, 170.52, 312.83),\n",
       " (542, 1421, '2015-11-13 09:07:09', 0, 64, 0, 64, 0, 479.36, 0, 479.36),\n",
       " (683, 1501, '2016-04-14 23:59:50', 0, 15, 16, 31, 0, 112.35, 129.92, 242.27),\n",
       " (713, 1521, '2014-11-23 16:04:03', 0, 8, 10, 18, 0, 59.92, 81.2, 141.12),\n",
       " (730, 1521, '2016-05-06 02:34:48', 0, 0, 2, 2, 0, 0, 16.24, 16.24)]"
      ]
     },
     "execution_count": 7,
     "metadata": {},
     "output_type": "execute_result"
    }
   ],
   "source": [
    "%%sql\n",
    "SELECT *\n",
    "FROM orders\n",
    "WHERE total_amt_usd < 500\n",
    "LIMIT 10;"
   ]
  },
  {
   "cell_type": "code",
   "execution_count": 8,
   "id": "82c21a4b",
   "metadata": {},
   "outputs": [
    {
     "name": "stdout",
     "output_type": "stream",
     "text": [
      " * sqlite:///pandp.db\n",
      "Done.\n"
     ]
    },
    {
     "data": {
      "text/html": [
       "<table>\n",
       "    <tr>\n",
       "        <th>id</th>\n",
       "        <th>name</th>\n",
       "        <th>website</th>\n",
       "        <th>lat</th>\n",
       "        <th>long</th>\n",
       "        <th>primary_poc</th>\n",
       "        <th>sales_rep_id</th>\n",
       "    </tr>\n",
       "    <tr>\n",
       "        <td>1441</td>\n",
       "        <td>United Technologies</td>\n",
       "        <td>www.utc.com</td>\n",
       "        <td>42.329397</td>\n",
       "        <td>-75.15785469</td>\n",
       "        <td>Janett Wisecarver</td>\n",
       "        <td>321520</td>\n",
       "    </tr>\n",
       "</table>"
      ],
      "text/plain": [
       "[(1441, 'United Technologies', 'www.utc.com', 42.329397, -75.15785469, 'Janett Wisecarver', 321520)]"
      ]
     },
     "execution_count": 8,
     "metadata": {},
     "output_type": "execute_result"
    }
   ],
   "source": [
    "%%sql\n",
    "SELECT *\n",
    "FROM accounts\n",
    "WHERE name = 'United Technologies'"
   ]
  },
  {
   "cell_type": "code",
   "execution_count": 9,
   "id": "78612517",
   "metadata": {},
   "outputs": [
    {
     "name": "stdout",
     "output_type": "stream",
     "text": [
      " * sqlite:///pandp.db\n",
      "Done.\n"
     ]
    },
    {
     "data": {
      "text/html": [
       "<table>\n",
       "    <tr>\n",
       "        <th>id</th>\n",
       "        <th>name</th>\n",
       "        <th>website</th>\n",
       "        <th>lat</th>\n",
       "        <th>long</th>\n",
       "        <th>primary_poc</th>\n",
       "        <th>sales_rep_id</th>\n",
       "    </tr>\n",
       "    <tr>\n",
       "        <td>1001</td>\n",
       "        <td>Walmart</td>\n",
       "        <td>www.walmart.com</td>\n",
       "        <td>40.23849561</td>\n",
       "        <td>-75.10329704</td>\n",
       "        <td>Tamara Tuma</td>\n",
       "        <td>321500</td>\n",
       "    </tr>\n",
       "    <tr>\n",
       "        <td>1011</td>\n",
       "        <td>Exxon Mobil</td>\n",
       "        <td>www.exxonmobil.com</td>\n",
       "        <td>41.1691563</td>\n",
       "        <td>-73.84937379</td>\n",
       "        <td>Sung Shields</td>\n",
       "        <td>321510</td>\n",
       "    </tr>\n",
       "    <tr>\n",
       "        <td>1021</td>\n",
       "        <td>Apple</td>\n",
       "        <td>www.apple.com</td>\n",
       "        <td>42.29049481</td>\n",
       "        <td>-76.08400942</td>\n",
       "        <td>Jodee Lupo</td>\n",
       "        <td>321520</td>\n",
       "    </tr>\n",
       "    <tr>\n",
       "        <td>1031</td>\n",
       "        <td>Berkshire Hathaway</td>\n",
       "        <td>www.berkshirehathaway.com</td>\n",
       "        <td>40.94902131</td>\n",
       "        <td>-75.76389759</td>\n",
       "        <td>Serafina Banda</td>\n",
       "        <td>321530</td>\n",
       "    </tr>\n",
       "    <tr>\n",
       "        <td>1041</td>\n",
       "        <td>McKesson</td>\n",
       "        <td>www.mckesson.com</td>\n",
       "        <td>42.21709326</td>\n",
       "        <td>-75.28499823</td>\n",
       "        <td>Angeles Crusoe</td>\n",
       "        <td>321540</td>\n",
       "    </tr>\n",
       "</table>"
      ],
      "text/plain": [
       "[(1001, 'Walmart', 'www.walmart.com', 40.23849561, -75.10329704, 'Tamara Tuma', 321500),\n",
       " (1011, 'Exxon Mobil', 'www.exxonmobil.com', 41.1691563, -73.84937379, 'Sung Shields', 321510),\n",
       " (1021, 'Apple', 'www.apple.com', 42.29049481, -76.08400942, 'Jodee Lupo', 321520),\n",
       " (1031, 'Berkshire Hathaway', 'www.berkshirehathaway.com', 40.94902131, -75.76389759, 'Serafina Banda', 321530),\n",
       " (1041, 'McKesson', 'www.mckesson.com', 42.21709326, -75.28499823, 'Angeles Crusoe', 321540)]"
      ]
     },
     "execution_count": 9,
     "metadata": {},
     "output_type": "execute_result"
    }
   ],
   "source": [
    "%%sql\n",
    "SELECT *\n",
    "FROM accounts\n",
    "WHERE name != 'United Technologies'\n",
    "limit 5"
   ]
  },
  {
   "cell_type": "code",
   "execution_count": 10,
   "id": "16c7cf01",
   "metadata": {},
   "outputs": [
    {
     "name": "stdout",
     "output_type": "stream",
     "text": [
      " * sqlite:///pandp.db\n",
      "Done.\n"
     ]
    },
    {
     "data": {
      "text/html": [
       "<table>\n",
       "    <tr>\n",
       "        <th>name</th>\n",
       "        <th>website</th>\n",
       "        <th>primary_poc</th>\n",
       "    </tr>\n",
       "    <tr>\n",
       "        <td>Exxon Mobil</td>\n",
       "        <td>www.exxonmobil.com</td>\n",
       "        <td>Sung Shields</td>\n",
       "    </tr>\n",
       "</table>"
      ],
      "text/plain": [
       "[('Exxon Mobil', 'www.exxonmobil.com', 'Sung Shields')]"
      ]
     },
     "execution_count": 10,
     "metadata": {},
     "output_type": "execute_result"
    }
   ],
   "source": [
    "%%sql\n",
    "SELECT name, website, primary_poc\n",
    "FROM accounts\n",
    "WHERE name = 'Exxon Mobil'"
   ]
  },
  {
   "cell_type": "markdown",
   "id": "152ca088",
   "metadata": {},
   "source": [
    "### Arthmetic"
   ]
  },
  {
   "cell_type": "code",
   "execution_count": 11,
   "id": "5c6f39ac",
   "metadata": {},
   "outputs": [
    {
     "name": "stdout",
     "output_type": "stream",
     "text": [
      " * sqlite:///pandp.db\n",
      "Done.\n"
     ]
    },
    {
     "data": {
      "text/html": [
       "<table>\n",
       "    <tr>\n",
       "        <th>account_id</th>\n",
       "        <th>occurred_at</th>\n",
       "        <th>standard_qty</th>\n",
       "        <th>nonstandard_qty</th>\n",
       "    </tr>\n",
       "    <tr>\n",
       "        <td>1001</td>\n",
       "        <td>2015-10-06 17:31:14</td>\n",
       "        <td>123</td>\n",
       "        <td>46</td>\n",
       "    </tr>\n",
       "    <tr>\n",
       "        <td>1001</td>\n",
       "        <td>2015-11-05 03:34:33</td>\n",
       "        <td>190</td>\n",
       "        <td>98</td>\n",
       "    </tr>\n",
       "    <tr>\n",
       "        <td>1001</td>\n",
       "        <td>2015-12-04 04:21:55</td>\n",
       "        <td>85</td>\n",
       "        <td>47</td>\n",
       "    </tr>\n",
       "    <tr>\n",
       "        <td>1001</td>\n",
       "        <td>2016-01-02 01:18:24</td>\n",
       "        <td>144</td>\n",
       "        <td>32</td>\n",
       "    </tr>\n",
       "    <tr>\n",
       "        <td>1001</td>\n",
       "        <td>2016-02-01 19:27:27</td>\n",
       "        <td>108</td>\n",
       "        <td>57</td>\n",
       "    </tr>\n",
       "</table>"
      ],
      "text/plain": [
       "[(1001, '2015-10-06 17:31:14', 123, 46),\n",
       " (1001, '2015-11-05 03:34:33', 190, 98),\n",
       " (1001, '2015-12-04 04:21:55', 85, 47),\n",
       " (1001, '2016-01-02 01:18:24', 144, 32),\n",
       " (1001, '2016-02-01 19:27:27', 108, 57)]"
      ]
     },
     "execution_count": 11,
     "metadata": {},
     "output_type": "execute_result"
    }
   ],
   "source": [
    "%%sql\n",
    "SELECT account_id,\n",
    "       occurred_at,\n",
    "       standard_qty,\n",
    "       gloss_qty + poster_qty AS nonstandard_qty\n",
    "FROM orders\n",
    "limit 5;\n"
   ]
  },
  {
   "cell_type": "code",
   "execution_count": 12,
   "id": "c45a01af",
   "metadata": {},
   "outputs": [
    {
     "name": "stdout",
     "output_type": "stream",
     "text": [
      " * sqlite:///pandp.db\n",
      "Done.\n"
     ]
    },
    {
     "data": {
      "text/html": [
       "<table>\n",
       "    <tr>\n",
       "        <th>id</th>\n",
       "        <th>account_id</th>\n",
       "        <th>unit_price</th>\n",
       "    </tr>\n",
       "    <tr>\n",
       "        <td>1</td>\n",
       "        <td>1001</td>\n",
       "        <td>4.99</td>\n",
       "    </tr>\n",
       "    <tr>\n",
       "        <td>2</td>\n",
       "        <td>1001</td>\n",
       "        <td>4.99</td>\n",
       "    </tr>\n",
       "    <tr>\n",
       "        <td>3</td>\n",
       "        <td>1001</td>\n",
       "        <td>4.989999999999999</td>\n",
       "    </tr>\n",
       "    <tr>\n",
       "        <td>4</td>\n",
       "        <td>1001</td>\n",
       "        <td>4.989999999999999</td>\n",
       "    </tr>\n",
       "    <tr>\n",
       "        <td>5</td>\n",
       "        <td>1001</td>\n",
       "        <td>4.989999999999999</td>\n",
       "    </tr>\n",
       "    <tr>\n",
       "        <td>6</td>\n",
       "        <td>1001</td>\n",
       "        <td>4.99</td>\n",
       "    </tr>\n",
       "    <tr>\n",
       "        <td>7</td>\n",
       "        <td>1001</td>\n",
       "        <td>4.99</td>\n",
       "    </tr>\n",
       "    <tr>\n",
       "        <td>8</td>\n",
       "        <td>1001</td>\n",
       "        <td>4.99</td>\n",
       "    </tr>\n",
       "    <tr>\n",
       "        <td>9</td>\n",
       "        <td>1001</td>\n",
       "        <td>4.989999999999999</td>\n",
       "    </tr>\n",
       "    <tr>\n",
       "        <td>10</td>\n",
       "        <td>1001</td>\n",
       "        <td>4.99</td>\n",
       "    </tr>\n",
       "</table>"
      ],
      "text/plain": [
       "[(1, 1001, 4.99),\n",
       " (2, 1001, 4.99),\n",
       " (3, 1001, 4.989999999999999),\n",
       " (4, 1001, 4.989999999999999),\n",
       " (5, 1001, 4.989999999999999),\n",
       " (6, 1001, 4.99),\n",
       " (7, 1001, 4.99),\n",
       " (8, 1001, 4.99),\n",
       " (9, 1001, 4.989999999999999),\n",
       " (10, 1001, 4.99)]"
      ]
     },
     "execution_count": 12,
     "metadata": {},
     "output_type": "execute_result"
    }
   ],
   "source": [
    "%%sql\n",
    "SELECT id, account_id, standard_amt_usd/standard_qty AS unit_price\n",
    "FROM orders\n",
    "LIMIT 10;"
   ]
  },
  {
   "cell_type": "code",
   "execution_count": 13,
   "id": "74ce2ae6",
   "metadata": {},
   "outputs": [
    {
     "name": "stdout",
     "output_type": "stream",
     "text": [
      " * sqlite:///pandp.db\n",
      "Done.\n"
     ]
    },
    {
     "data": {
      "text/html": [
       "<table>\n",
       "    <tr>\n",
       "        <th>id</th>\n",
       "        <th>account_id</th>\n",
       "        <th>post_per</th>\n",
       "    </tr>\n",
       "    <tr>\n",
       "        <td>1</td>\n",
       "        <td>1001</td>\n",
       "        <td>0.20019929527546923</td>\n",
       "    </tr>\n",
       "    <tr>\n",
       "        <td>2</td>\n",
       "        <td>1001</td>\n",
       "        <td>0.269401582044551</td>\n",
       "    </tr>\n",
       "    <tr>\n",
       "        <td>3</td>\n",
       "        <td>1001</td>\n",
       "        <td>0.0</td>\n",
       "    </tr>\n",
       "    <tr>\n",
       "        <td>4</td>\n",
       "        <td>1001</td>\n",
       "        <td>0.0</td>\n",
       "    </tr>\n",
       "    <tr>\n",
       "        <td>5</td>\n",
       "        <td>1001</td>\n",
       "        <td>0.23117672777557474</td>\n",
       "    </tr>\n",
       "    <tr>\n",
       "        <td>6</td>\n",
       "        <td>1001</td>\n",
       "        <td>0.349983602717264</td>\n",
       "    </tr>\n",
       "    <tr>\n",
       "        <td>7</td>\n",
       "        <td>1001</td>\n",
       "        <td>0.49862501668669074</td>\n",
       "    </tr>\n",
       "    <tr>\n",
       "        <td>8</td>\n",
       "        <td>1001</td>\n",
       "        <td>0.5974661339050775</td>\n",
       "    </tr>\n",
       "    <tr>\n",
       "        <td>9</td>\n",
       "        <td>1001</td>\n",
       "        <td>0.23737326760301367</td>\n",
       "    </tr>\n",
       "    <tr>\n",
       "        <td>10</td>\n",
       "        <td>1001</td>\n",
       "        <td>0.07393917319249681</td>\n",
       "    </tr>\n",
       "</table>"
      ],
      "text/plain": [
       "[(1, 1001, 0.20019929527546923),\n",
       " (2, 1001, 0.269401582044551),\n",
       " (3, 1001, 0.0),\n",
       " (4, 1001, 0.0),\n",
       " (5, 1001, 0.23117672777557474),\n",
       " (6, 1001, 0.349983602717264),\n",
       " (7, 1001, 0.49862501668669074),\n",
       " (8, 1001, 0.5974661339050775),\n",
       " (9, 1001, 0.23737326760301367),\n",
       " (10, 1001, 0.07393917319249681)]"
      ]
     },
     "execution_count": 13,
     "metadata": {},
     "output_type": "execute_result"
    }
   ],
   "source": [
    "%%sql\n",
    "SELECT id, account_id, \n",
    "poster_amt_usd/(standard_amt_usd + gloss_amt_usd + poster_amt_usd) AS post_per\n",
    "FROM orders\n",
    "LIMIT 10;"
   ]
  },
  {
   "cell_type": "markdown",
   "id": "93cf405d",
   "metadata": {},
   "source": [
    "### like"
   ]
  },
  {
   "cell_type": "code",
   "execution_count": 14,
   "id": "e4a1a88c",
   "metadata": {},
   "outputs": [
    {
     "name": "stdout",
     "output_type": "stream",
     "text": [
      " * sqlite:///pandp.db\n",
      "Done.\n"
     ]
    },
    {
     "data": {
      "text/html": [
       "<table>\n",
       "    <tr>\n",
       "        <th>id</th>\n",
       "        <th>name</th>\n",
       "        <th>website</th>\n",
       "        <th>lat</th>\n",
       "        <th>long</th>\n",
       "        <th>primary_poc</th>\n",
       "        <th>sales_rep_id</th>\n",
       "    </tr>\n",
       "    <tr>\n",
       "        <td>1351</td>\n",
       "        <td>Alphabet</td>\n",
       "        <td>www.google.com</td>\n",
       "        <td>40.20427811</td>\n",
       "        <td>-75.07724145</td>\n",
       "        <td>Pamula Hammel</td>\n",
       "        <td>321640</td>\n",
       "    </tr>\n",
       "</table>"
      ],
      "text/plain": [
       "[(1351, 'Alphabet', 'www.google.com', 40.20427811, -75.07724145, 'Pamula Hammel', 321640)]"
      ]
     },
     "execution_count": 14,
     "metadata": {},
     "output_type": "execute_result"
    }
   ],
   "source": [
    "%%sql\n",
    "SELECT *\n",
    "FROM accounts\n",
    "WHERE website LIKE '%google%';"
   ]
  },
  {
   "cell_type": "code",
   "execution_count": 15,
   "id": "282fcee4",
   "metadata": {},
   "outputs": [
    {
     "name": "stdout",
     "output_type": "stream",
     "text": [
      " * sqlite:///pandp.db\n",
      "Done.\n"
     ]
    },
    {
     "data": {
      "text/html": [
       "<table>\n",
       "    <tr>\n",
       "        <th>name</th>\n",
       "    </tr>\n",
       "    <tr>\n",
       "        <td>CVS Health</td>\n",
       "    </tr>\n",
       "    <tr>\n",
       "        <td>Chevron</td>\n",
       "    </tr>\n",
       "    <tr>\n",
       "        <td>Costco</td>\n",
       "    </tr>\n",
       "    <tr>\n",
       "        <td>Cardinal Health</td>\n",
       "    </tr>\n",
       "    <tr>\n",
       "        <td>Citigroup</td>\n",
       "    </tr>\n",
       "    <tr>\n",
       "        <td>Comcast</td>\n",
       "    </tr>\n",
       "    <tr>\n",
       "        <td>Cisco Systems</td>\n",
       "    </tr>\n",
       "    <tr>\n",
       "        <td>Caterpillar</td>\n",
       "    </tr>\n",
       "    <tr>\n",
       "        <td>Coca-Cola</td>\n",
       "    </tr>\n",
       "    <tr>\n",
       "        <td>Cigna</td>\n",
       "    </tr>\n",
       "    <tr>\n",
       "        <td>CHS</td>\n",
       "    </tr>\n",
       "    <tr>\n",
       "        <td>ConocoPhillips</td>\n",
       "    </tr>\n",
       "    <tr>\n",
       "        <td>Capital One Financial</td>\n",
       "    </tr>\n",
       "    <tr>\n",
       "        <td>Centene</td>\n",
       "    </tr>\n",
       "    <tr>\n",
       "        <td>Community Health Systems</td>\n",
       "    </tr>\n",
       "    <tr>\n",
       "        <td>Cummins</td>\n",
       "    </tr>\n",
       "    <tr>\n",
       "        <td>CenturyLink</td>\n",
       "    </tr>\n",
       "    <tr>\n",
       "        <td>Colgate-Palmolive</td>\n",
       "    </tr>\n",
       "    <tr>\n",
       "        <td>ConAgra Foods</td>\n",
       "    </tr>\n",
       "    <tr>\n",
       "        <td>CarMax</td>\n",
       "    </tr>\n",
       "    <tr>\n",
       "        <td>CBS</td>\n",
       "    </tr>\n",
       "    <tr>\n",
       "        <td>C.H. Robinson Worldwide</td>\n",
       "    </tr>\n",
       "    <tr>\n",
       "        <td>CDW</td>\n",
       "    </tr>\n",
       "    <tr>\n",
       "        <td>Chesapeake Energy</td>\n",
       "    </tr>\n",
       "    <tr>\n",
       "        <td>Consolidated Edison</td>\n",
       "    </tr>\n",
       "    <tr>\n",
       "        <td>Cognizant Technology Solutions</td>\n",
       "    </tr>\n",
       "    <tr>\n",
       "        <td>Computer Sciences</td>\n",
       "    </tr>\n",
       "    <tr>\n",
       "        <td>CSX</td>\n",
       "    </tr>\n",
       "    <tr>\n",
       "        <td>CBRE Group</td>\n",
       "    </tr>\n",
       "    <tr>\n",
       "        <td>Charter Communications</td>\n",
       "    </tr>\n",
       "    <tr>\n",
       "        <td>CST Brands</td>\n",
       "    </tr>\n",
       "    <tr>\n",
       "        <td>Celgene</td>\n",
       "    </tr>\n",
       "    <tr>\n",
       "        <td>Corning</td>\n",
       "    </tr>\n",
       "    <tr>\n",
       "        <td>Core-Mark Holding</td>\n",
       "    </tr>\n",
       "    <tr>\n",
       "        <td>Cameron International</td>\n",
       "    </tr>\n",
       "    <tr>\n",
       "        <td>Crown Holdings</td>\n",
       "    </tr>\n",
       "    <tr>\n",
       "        <td>Campbell Soup</td>\n",
       "    </tr>\n",
       "</table>"
      ],
      "text/plain": [
       "[('CVS Health',),\n",
       " ('Chevron',),\n",
       " ('Costco',),\n",
       " ('Cardinal Health',),\n",
       " ('Citigroup',),\n",
       " ('Comcast',),\n",
       " ('Cisco Systems',),\n",
       " ('Caterpillar',),\n",
       " ('Coca-Cola',),\n",
       " ('Cigna',),\n",
       " ('CHS',),\n",
       " ('ConocoPhillips',),\n",
       " ('Capital One Financial',),\n",
       " ('Centene',),\n",
       " ('Community Health Systems',),\n",
       " ('Cummins',),\n",
       " ('CenturyLink',),\n",
       " ('Colgate-Palmolive',),\n",
       " ('ConAgra Foods',),\n",
       " ('CarMax',),\n",
       " ('CBS',),\n",
       " ('C.H. Robinson Worldwide',),\n",
       " ('CDW',),\n",
       " ('Chesapeake Energy',),\n",
       " ('Consolidated Edison',),\n",
       " ('Cognizant Technology Solutions',),\n",
       " ('Computer Sciences',),\n",
       " ('CSX',),\n",
       " ('CBRE Group',),\n",
       " ('Charter Communications',),\n",
       " ('CST Brands',),\n",
       " ('Celgene',),\n",
       " ('Corning',),\n",
       " ('Core-Mark Holding',),\n",
       " ('Cameron International',),\n",
       " ('Crown Holdings',),\n",
       " ('Campbell Soup',)]"
      ]
     },
     "execution_count": 15,
     "metadata": {},
     "output_type": "execute_result"
    }
   ],
   "source": [
    "%%sql\n",
    "SELECT name\n",
    "FROM accounts\n",
    "WHERE name LIKE 'C%';"
   ]
  },
  {
   "cell_type": "code",
   "execution_count": 16,
   "id": "8e213388",
   "metadata": {},
   "outputs": [
    {
     "name": "stdout",
     "output_type": "stream",
     "text": [
      " * sqlite:///pandp.db\n",
      "Done.\n"
     ]
    },
    {
     "data": {
      "text/html": [
       "<table>\n",
       "    <tr>\n",
       "        <th>name</th>\n",
       "    </tr>\n",
       "    <tr>\n",
       "        <td>Honeywell International</td>\n",
       "    </tr>\n",
       "    <tr>\n",
       "        <td>INTL FCStone</td>\n",
       "    </tr>\n",
       "    <tr>\n",
       "        <td>Capital One Financial</td>\n",
       "    </tr>\n",
       "    <tr>\n",
       "        <td>AutoZone</td>\n",
       "    </tr>\n",
       "    <tr>\n",
       "        <td>Oneok</td>\n",
       "    </tr>\n",
       "</table>"
      ],
      "text/plain": [
       "[('Honeywell International',),\n",
       " ('INTL FCStone',),\n",
       " ('Capital One Financial',),\n",
       " ('AutoZone',),\n",
       " ('Oneok',)]"
      ]
     },
     "execution_count": 16,
     "metadata": {},
     "output_type": "execute_result"
    }
   ],
   "source": [
    "%%sql\n",
    "SELECT name\n",
    "FROM accounts\n",
    "WHERE name LIKE '%one%';"
   ]
  },
  {
   "cell_type": "code",
   "execution_count": 17,
   "id": "b370cb68",
   "metadata": {},
   "outputs": [
    {
     "name": "stdout",
     "output_type": "stream",
     "text": [
      " * sqlite:///pandp.db\n",
      "Done.\n"
     ]
    },
    {
     "data": {
      "text/html": [
       "<table>\n",
       "    <tr>\n",
       "        <th>name</th>\n",
       "    </tr>\n",
       "    <tr>\n",
       "        <td>General Motors</td>\n",
       "    </tr>\n",
       "    <tr>\n",
       "        <td>United Technologies</td>\n",
       "    </tr>\n",
       "    <tr>\n",
       "        <td>Lowe&#x27;s</td>\n",
       "    </tr>\n",
       "    <tr>\n",
       "        <td>UPS</td>\n",
       "    </tr>\n",
       "    <tr>\n",
       "        <td>Cisco Systems</td>\n",
       "    </tr>\n",
       "</table>"
      ],
      "text/plain": [
       "[('General Motors',),\n",
       " ('United Technologies',),\n",
       " (\"Lowe's\",),\n",
       " ('UPS',),\n",
       " ('Cisco Systems',)]"
      ]
     },
     "execution_count": 17,
     "metadata": {},
     "output_type": "execute_result"
    }
   ],
   "source": [
    "%%sql\n",
    "SELECT name\n",
    "FROM accounts\n",
    "WHERE name LIKE '%s'\n",
    "limit 5;"
   ]
  },
  {
   "cell_type": "markdown",
   "id": "c0917567",
   "metadata": {},
   "source": [
    "## In"
   ]
  },
  {
   "cell_type": "code",
   "execution_count": 18,
   "id": "e268cdc7",
   "metadata": {},
   "outputs": [
    {
     "name": "stdout",
     "output_type": "stream",
     "text": [
      " * sqlite:///pandp.db\n",
      "Done.\n"
     ]
    },
    {
     "data": {
      "text/html": [
       "<table>\n",
       "    <tr>\n",
       "        <th>id</th>\n",
       "        <th>account_id</th>\n",
       "        <th>occurred_at</th>\n",
       "        <th>standard_qty</th>\n",
       "        <th>gloss_qty</th>\n",
       "        <th>poster_qty</th>\n",
       "        <th>total</th>\n",
       "        <th>standard_amt_usd</th>\n",
       "        <th>gloss_amt_usd</th>\n",
       "        <th>poster_amt_usd</th>\n",
       "        <th>total_amt_usd</th>\n",
       "    </tr>\n",
       "    <tr>\n",
       "        <td>1</td>\n",
       "        <td>1001</td>\n",
       "        <td>2015-10-06 17:31:14</td>\n",
       "        <td>123</td>\n",
       "        <td>22</td>\n",
       "        <td>24</td>\n",
       "        <td>169</td>\n",
       "        <td>613.77</td>\n",
       "        <td>164.78</td>\n",
       "        <td>194.88</td>\n",
       "        <td>973.43</td>\n",
       "    </tr>\n",
       "    <tr>\n",
       "        <td>2</td>\n",
       "        <td>1001</td>\n",
       "        <td>2015-11-05 03:34:33</td>\n",
       "        <td>190</td>\n",
       "        <td>41</td>\n",
       "        <td>57</td>\n",
       "        <td>288</td>\n",
       "        <td>948.1</td>\n",
       "        <td>307.09</td>\n",
       "        <td>462.84</td>\n",
       "        <td>1718.03</td>\n",
       "    </tr>\n",
       "    <tr>\n",
       "        <td>3</td>\n",
       "        <td>1001</td>\n",
       "        <td>2015-12-04 04:21:55</td>\n",
       "        <td>85</td>\n",
       "        <td>47</td>\n",
       "        <td>0</td>\n",
       "        <td>132</td>\n",
       "        <td>424.15</td>\n",
       "        <td>352.03</td>\n",
       "        <td>0</td>\n",
       "        <td>776.18</td>\n",
       "    </tr>\n",
       "    <tr>\n",
       "        <td>4</td>\n",
       "        <td>1001</td>\n",
       "        <td>2016-01-02 01:18:24</td>\n",
       "        <td>144</td>\n",
       "        <td>32</td>\n",
       "        <td>0</td>\n",
       "        <td>176</td>\n",
       "        <td>718.56</td>\n",
       "        <td>239.68</td>\n",
       "        <td>0</td>\n",
       "        <td>958.24</td>\n",
       "    </tr>\n",
       "    <tr>\n",
       "        <td>5</td>\n",
       "        <td>1001</td>\n",
       "        <td>2016-02-01 19:27:27</td>\n",
       "        <td>108</td>\n",
       "        <td>29</td>\n",
       "        <td>28</td>\n",
       "        <td>165</td>\n",
       "        <td>538.92</td>\n",
       "        <td>217.21</td>\n",
       "        <td>227.36</td>\n",
       "        <td>983.49</td>\n",
       "    </tr>\n",
       "</table>"
      ],
      "text/plain": [
       "[(1, 1001, '2015-10-06 17:31:14', 123, 22, 24, 169, 613.77, 164.78, 194.88, 973.43),\n",
       " (2, 1001, '2015-11-05 03:34:33', 190, 41, 57, 288, 948.1, 307.09, 462.84, 1718.03),\n",
       " (3, 1001, '2015-12-04 04:21:55', 85, 47, 0, 132, 424.15, 352.03, 0, 776.18),\n",
       " (4, 1001, '2016-01-02 01:18:24', 144, 32, 0, 176, 718.56, 239.68, 0, 958.24),\n",
       " (5, 1001, '2016-02-01 19:27:27', 108, 29, 28, 165, 538.92, 217.21, 227.36, 983.49)]"
      ]
     },
     "execution_count": 18,
     "metadata": {},
     "output_type": "execute_result"
    }
   ],
   "source": [
    "%%sql\n",
    "SELECT *\n",
    "FROM orders\n",
    "WHERE account_id IN (1001,1021)\n",
    "limit 5;"
   ]
  },
  {
   "cell_type": "code",
   "execution_count": 19,
   "id": "5e5aee69",
   "metadata": {},
   "outputs": [
    {
     "name": "stdout",
     "output_type": "stream",
     "text": [
      " * sqlite:///pandp.db\n",
      "Done.\n"
     ]
    },
    {
     "data": {
      "text/html": [
       "<table>\n",
       "    <tr>\n",
       "        <th>name</th>\n",
       "        <th>primary_poc</th>\n",
       "        <th>sales_rep_id</th>\n",
       "    </tr>\n",
       "    <tr>\n",
       "        <td>Walmart</td>\n",
       "        <td>Tamara Tuma</td>\n",
       "        <td>321500</td>\n",
       "    </tr>\n",
       "    <tr>\n",
       "        <td>Target</td>\n",
       "        <td>Luba Streett</td>\n",
       "        <td>321660</td>\n",
       "    </tr>\n",
       "    <tr>\n",
       "        <td>Nordstrom</td>\n",
       "        <td>Yan Crater</td>\n",
       "        <td>321820</td>\n",
       "    </tr>\n",
       "</table>"
      ],
      "text/plain": [
       "[('Walmart', 'Tamara Tuma', 321500),\n",
       " ('Target', 'Luba Streett', 321660),\n",
       " ('Nordstrom', 'Yan Crater', 321820)]"
      ]
     },
     "execution_count": 19,
     "metadata": {},
     "output_type": "execute_result"
    }
   ],
   "source": [
    "%%sql\n",
    "SELECT name, primary_poc, sales_rep_id\n",
    "FROM accounts\n",
    "WHERE name IN ('Walmart', 'Target', 'Nordstrom');"
   ]
  },
  {
   "cell_type": "markdown",
   "id": "23cafd8b",
   "metadata": {},
   "source": [
    "### Not "
   ]
  },
  {
   "cell_type": "code",
   "execution_count": 20,
   "id": "021b3bb1",
   "metadata": {},
   "outputs": [
    {
     "name": "stdout",
     "output_type": "stream",
     "text": [
      " * sqlite:///pandp.db\n",
      "Done.\n"
     ]
    },
    {
     "data": {
      "text/html": [
       "<table>\n",
       "    <tr>\n",
       "        <th>sales_rep_id</th>\n",
       "        <th>name</th>\n",
       "    </tr>\n",
       "    <tr>\n",
       "        <td>321510</td>\n",
       "        <td>Exxon Mobil</td>\n",
       "    </tr>\n",
       "    <tr>\n",
       "        <td>321510</td>\n",
       "        <td>J.P. Morgan Chase</td>\n",
       "    </tr>\n",
       "    <tr>\n",
       "        <td>321510</td>\n",
       "        <td>PepsiCo</td>\n",
       "    </tr>\n",
       "    <tr>\n",
       "        <td>321510</td>\n",
       "        <td>Energy Transfer Equity</td>\n",
       "    </tr>\n",
       "    <tr>\n",
       "        <td>321510</td>\n",
       "        <td>Delta Air Lines</td>\n",
       "    </tr>\n",
       "</table>"
      ],
      "text/plain": [
       "[(321510, 'Exxon Mobil'),\n",
       " (321510, 'J.P. Morgan Chase'),\n",
       " (321510, 'PepsiCo'),\n",
       " (321510, 'Energy Transfer Equity'),\n",
       " (321510, 'Delta Air Lines')]"
      ]
     },
     "execution_count": 20,
     "metadata": {},
     "output_type": "execute_result"
    }
   ],
   "source": [
    "%%sql\n",
    "SELECT sales_rep_id, \n",
    "       name\n",
    "FROM accounts\n",
    "WHERE sales_rep_id NOT IN (321500,321570)\n",
    "ORDER BY sales_rep_id\n",
    "limit 5;"
   ]
  },
  {
   "cell_type": "code",
   "execution_count": 21,
   "id": "59af8e25",
   "metadata": {},
   "outputs": [
    {
     "name": "stdout",
     "output_type": "stream",
     "text": [
      " * sqlite:///pandp.db\n",
      "Done.\n"
     ]
    },
    {
     "data": {
      "text/html": [
       "<table>\n",
       "    <tr>\n",
       "        <th>id</th>\n",
       "        <th>name</th>\n",
       "        <th>website</th>\n",
       "        <th>lat</th>\n",
       "        <th>long</th>\n",
       "        <th>primary_poc</th>\n",
       "        <th>sales_rep_id</th>\n",
       "    </tr>\n",
       "    <tr>\n",
       "        <td>1811</td>\n",
       "        <td>TIAA</td>\n",
       "        <td>www.tiaa.org</td>\n",
       "        <td>42.3595683</td>\n",
       "        <td>-71.05133234</td>\n",
       "        <td>Deeanna Burpo</td>\n",
       "        <td>321640</td>\n",
       "    </tr>\n",
       "    <tr>\n",
       "        <td>2241</td>\n",
       "        <td>Community Health Systems</td>\n",
       "        <td>www.chs.net</td>\n",
       "        <td>41.87567906</td>\n",
       "        <td>-87.63221831</td>\n",
       "        <td>Grazyna Dewald</td>\n",
       "        <td>321710</td>\n",
       "    </tr>\n",
       "</table>"
      ],
      "text/plain": [
       "[(1811, 'TIAA', 'www.tiaa.org', 42.3595683, -71.05133234, 'Deeanna Burpo', 321640),\n",
       " (2241, 'Community Health Systems', 'www.chs.net', 41.87567906, -87.63221831, 'Grazyna Dewald', 321710)]"
      ]
     },
     "execution_count": 21,
     "metadata": {},
     "output_type": "execute_result"
    }
   ],
   "source": [
    "%%sql\n",
    "SELECT *\n",
    "FROM accounts\n",
    "WHERE website NOT LIKE '%com%';"
   ]
  },
  {
   "cell_type": "code",
   "execution_count": 23,
   "id": "afa66f00",
   "metadata": {},
   "outputs": [
    {
     "name": "stdout",
     "output_type": "stream",
     "text": [
      " * sqlite:///pandp.db\n",
      "Done.\n"
     ]
    },
    {
     "data": {
      "text/html": [
       "<table>\n",
       "    <tr>\n",
       "        <th>name</th>\n",
       "        <th>primary_poc</th>\n",
       "        <th>sales_rep_id</th>\n",
       "    </tr>\n",
       "    <tr>\n",
       "        <td>Exxon Mobil</td>\n",
       "        <td>Sung Shields</td>\n",
       "        <td>321510</td>\n",
       "    </tr>\n",
       "    <tr>\n",
       "        <td>Apple</td>\n",
       "        <td>Jodee Lupo</td>\n",
       "        <td>321520</td>\n",
       "    </tr>\n",
       "    <tr>\n",
       "        <td>Berkshire Hathaway</td>\n",
       "        <td>Serafina Banda</td>\n",
       "        <td>321530</td>\n",
       "    </tr>\n",
       "    <tr>\n",
       "        <td>McKesson</td>\n",
       "        <td>Angeles Crusoe</td>\n",
       "        <td>321540</td>\n",
       "    </tr>\n",
       "    <tr>\n",
       "        <td>UnitedHealth Group</td>\n",
       "        <td>Savanna Gayman</td>\n",
       "        <td>321550</td>\n",
       "    </tr>\n",
       "</table>"
      ],
      "text/plain": [
       "[('Exxon Mobil', 'Sung Shields', 321510),\n",
       " ('Apple', 'Jodee Lupo', 321520),\n",
       " ('Berkshire Hathaway', 'Serafina Banda', 321530),\n",
       " ('McKesson', 'Angeles Crusoe', 321540),\n",
       " ('UnitedHealth Group', 'Savanna Gayman', 321550)]"
      ]
     },
     "execution_count": 23,
     "metadata": {},
     "output_type": "execute_result"
    }
   ],
   "source": [
    "%%sql\n",
    "SELECT name, primary_poc, sales_rep_id\n",
    "FROM accounts\n",
    "WHERE name NOT IN ('Walmart', 'Target', 'Nordstrom')\n",
    "limit 5;"
   ]
  },
  {
   "cell_type": "code",
   "execution_count": 25,
   "id": "9de7071f",
   "metadata": {},
   "outputs": [
    {
     "name": "stdout",
     "output_type": "stream",
     "text": [
      " * sqlite:///pandp.db\n",
      "Done.\n"
     ]
    },
    {
     "data": {
      "text/html": [
       "<table>\n",
       "    <tr>\n",
       "        <th>id</th>\n",
       "        <th>account_id</th>\n",
       "        <th>occurred_at</th>\n",
       "        <th>channel</th>\n",
       "    </tr>\n",
       "    <tr>\n",
       "        <td>1</td>\n",
       "        <td>1001</td>\n",
       "        <td>2015-10-06 17:13:58</td>\n",
       "        <td>direct</td>\n",
       "    </tr>\n",
       "    <tr>\n",
       "        <td>2</td>\n",
       "        <td>1001</td>\n",
       "        <td>2015-11-05 03:08:26</td>\n",
       "        <td>direct</td>\n",
       "    </tr>\n",
       "    <tr>\n",
       "        <td>3</td>\n",
       "        <td>1001</td>\n",
       "        <td>2015-12-04 03:57:24</td>\n",
       "        <td>direct</td>\n",
       "    </tr>\n",
       "    <tr>\n",
       "        <td>4</td>\n",
       "        <td>1001</td>\n",
       "        <td>2016-01-02 00:55:03</td>\n",
       "        <td>direct</td>\n",
       "    </tr>\n",
       "    <tr>\n",
       "        <td>5</td>\n",
       "        <td>1001</td>\n",
       "        <td>2016-02-01 19:02:33</td>\n",
       "        <td>direct</td>\n",
       "    </tr>\n",
       "</table>"
      ],
      "text/plain": [
       "[(1, 1001, '2015-10-06 17:13:58', 'direct'),\n",
       " (2, 1001, '2015-11-05 03:08:26', 'direct'),\n",
       " (3, 1001, '2015-12-04 03:57:24', 'direct'),\n",
       " (4, 1001, '2016-01-02 00:55:03', 'direct'),\n",
       " (5, 1001, '2016-02-01 19:02:33', 'direct')]"
      ]
     },
     "execution_count": 25,
     "metadata": {},
     "output_type": "execute_result"
    }
   ],
   "source": [
    "%%sql\n",
    "SELECT *\n",
    "FROM web_events\n",
    "WHERE channel NOT IN ('organic', 'adwords')\n",
    "limit 5;"
   ]
  },
  {
   "cell_type": "code",
   "execution_count": 27,
   "id": "7994e7a0",
   "metadata": {},
   "outputs": [
    {
     "name": "stdout",
     "output_type": "stream",
     "text": [
      " * sqlite:///pandp.db\n",
      "Done.\n"
     ]
    },
    {
     "data": {
      "text/html": [
       "<table>\n",
       "    <tr>\n",
       "        <th>name</th>\n",
       "    </tr>\n",
       "    <tr>\n",
       "        <td>Walmart</td>\n",
       "    </tr>\n",
       "    <tr>\n",
       "        <td>Exxon Mobil</td>\n",
       "    </tr>\n",
       "    <tr>\n",
       "        <td>Apple</td>\n",
       "    </tr>\n",
       "    <tr>\n",
       "        <td>Berkshire Hathaway</td>\n",
       "    </tr>\n",
       "    <tr>\n",
       "        <td>McKesson</td>\n",
       "    </tr>\n",
       "</table>"
      ],
      "text/plain": [
       "[('Walmart',),\n",
       " ('Exxon Mobil',),\n",
       " ('Apple',),\n",
       " ('Berkshire Hathaway',),\n",
       " ('McKesson',)]"
      ]
     },
     "execution_count": 27,
     "metadata": {},
     "output_type": "execute_result"
    }
   ],
   "source": [
    "%%sql\n",
    "SELECT name\n",
    "FROM accounts\n",
    "WHERE name NOT LIKE '%s'\n",
    "limit 5;"
   ]
  },
  {
   "cell_type": "markdown",
   "id": "a7202f43",
   "metadata": {},
   "source": [
    "### AND & Between"
   ]
  },
  {
   "cell_type": "code",
   "execution_count": 29,
   "id": "54fe1dbe",
   "metadata": {},
   "outputs": [
    {
     "name": "stdout",
     "output_type": "stream",
     "text": [
      " * sqlite:///pandp.db\n",
      "Done.\n"
     ]
    },
    {
     "data": {
      "text/html": [
       "<table>\n",
       "    <tr>\n",
       "        <th>id</th>\n",
       "        <th>account_id</th>\n",
       "        <th>occurred_at</th>\n",
       "        <th>standard_qty</th>\n",
       "        <th>gloss_qty</th>\n",
       "        <th>poster_qty</th>\n",
       "        <th>total</th>\n",
       "        <th>standard_amt_usd</th>\n",
       "        <th>gloss_amt_usd</th>\n",
       "        <th>poster_amt_usd</th>\n",
       "        <th>total_amt_usd</th>\n",
       "    </tr>\n",
       "    <tr>\n",
       "        <td>1757</td>\n",
       "        <td>2341</td>\n",
       "        <td>2016-04-01 04:39:00</td>\n",
       "        <td>500</td>\n",
       "        <td>0</td>\n",
       "        <td>21</td>\n",
       "        <td>521</td>\n",
       "        <td>2495</td>\n",
       "        <td>0</td>\n",
       "        <td>170.52</td>\n",
       "        <td>2665.52</td>\n",
       "    </tr>\n",
       "    <tr>\n",
       "        <td>1591</td>\n",
       "        <td>2181</td>\n",
       "        <td>2016-04-01 06:10:39</td>\n",
       "        <td>298</td>\n",
       "        <td>194</td>\n",
       "        <td>0</td>\n",
       "        <td>492</td>\n",
       "        <td>1487.02</td>\n",
       "        <td>1453.06</td>\n",
       "        <td>0</td>\n",
       "        <td>2940.08</td>\n",
       "    </tr>\n",
       "    <tr>\n",
       "        <td>4312</td>\n",
       "        <td>1001</td>\n",
       "        <td>2016-04-01 11:15:27</td>\n",
       "        <td>497</td>\n",
       "        <td>618</td>\n",
       "        <td>152</td>\n",
       "        <td>1267</td>\n",
       "        <td>2480.03</td>\n",
       "        <td>4628.82</td>\n",
       "        <td>1234.24</td>\n",
       "        <td>8343.09</td>\n",
       "    </tr>\n",
       "    <tr>\n",
       "        <td>7</td>\n",
       "        <td>1001</td>\n",
       "        <td>2016-04-01 11:20:18</td>\n",
       "        <td>101</td>\n",
       "        <td>33</td>\n",
       "        <td>92</td>\n",
       "        <td>226</td>\n",
       "        <td>503.99</td>\n",
       "        <td>247.17</td>\n",
       "        <td>747.04</td>\n",
       "        <td>1498.2</td>\n",
       "    </tr>\n",
       "    <tr>\n",
       "        <td>589</td>\n",
       "        <td>1441</td>\n",
       "        <td>2016-04-01 16:01:34</td>\n",
       "        <td>317</td>\n",
       "        <td>38</td>\n",
       "        <td>1</td>\n",
       "        <td>356</td>\n",
       "        <td>1581.83</td>\n",
       "        <td>284.62</td>\n",
       "        <td>8.12</td>\n",
       "        <td>1874.57</td>\n",
       "    </tr>\n",
       "</table>"
      ],
      "text/plain": [
       "[(1757, 2341, '2016-04-01 04:39:00', 500, 0, 21, 521, 2495, 0, 170.52, 2665.52),\n",
       " (1591, 2181, '2016-04-01 06:10:39', 298, 194, 0, 492, 1487.02, 1453.06, 0, 2940.08),\n",
       " (4312, 1001, '2016-04-01 11:15:27', 497, 618, 152, 1267, 2480.03, 4628.82, 1234.24, 8343.09),\n",
       " (7, 1001, '2016-04-01 11:20:18', 101, 33, 92, 226, 503.99, 247.17, 747.04, 1498.2),\n",
       " (589, 1441, '2016-04-01 16:01:34', 317, 38, 1, 356, 1581.83, 284.62, 8.12, 1874.57)]"
      ]
     },
     "execution_count": 29,
     "metadata": {},
     "output_type": "execute_result"
    }
   ],
   "source": [
    "%%sql\n",
    "SELECT *\n",
    "FROM orders\n",
    "WHERE occurred_at >= '2016-04-01' AND occurred_at <= '2016-10-01'\n",
    "ORDER BY occurred_at\n",
    "limit 5;"
   ]
  },
  {
   "cell_type": "code",
   "execution_count": 31,
   "id": "17394987",
   "metadata": {},
   "outputs": [
    {
     "name": "stdout",
     "output_type": "stream",
     "text": [
      " * sqlite:///pandp.db\n",
      "Done.\n"
     ]
    },
    {
     "data": {
      "text/html": [
       "<table>\n",
       "    <tr>\n",
       "        <th>id</th>\n",
       "        <th>account_id</th>\n",
       "        <th>occurred_at</th>\n",
       "        <th>standard_qty</th>\n",
       "        <th>gloss_qty</th>\n",
       "        <th>poster_qty</th>\n",
       "        <th>total</th>\n",
       "        <th>standard_amt_usd</th>\n",
       "        <th>gloss_amt_usd</th>\n",
       "        <th>poster_amt_usd</th>\n",
       "        <th>total_amt_usd</th>\n",
       "    </tr>\n",
       "    <tr>\n",
       "        <td>1757</td>\n",
       "        <td>2341</td>\n",
       "        <td>2016-04-01 04:39:00</td>\n",
       "        <td>500</td>\n",
       "        <td>0</td>\n",
       "        <td>21</td>\n",
       "        <td>521</td>\n",
       "        <td>2495</td>\n",
       "        <td>0</td>\n",
       "        <td>170.52</td>\n",
       "        <td>2665.52</td>\n",
       "    </tr>\n",
       "    <tr>\n",
       "        <td>1591</td>\n",
       "        <td>2181</td>\n",
       "        <td>2016-04-01 06:10:39</td>\n",
       "        <td>298</td>\n",
       "        <td>194</td>\n",
       "        <td>0</td>\n",
       "        <td>492</td>\n",
       "        <td>1487.02</td>\n",
       "        <td>1453.06</td>\n",
       "        <td>0</td>\n",
       "        <td>2940.08</td>\n",
       "    </tr>\n",
       "    <tr>\n",
       "        <td>4312</td>\n",
       "        <td>1001</td>\n",
       "        <td>2016-04-01 11:15:27</td>\n",
       "        <td>497</td>\n",
       "        <td>618</td>\n",
       "        <td>152</td>\n",
       "        <td>1267</td>\n",
       "        <td>2480.03</td>\n",
       "        <td>4628.82</td>\n",
       "        <td>1234.24</td>\n",
       "        <td>8343.09</td>\n",
       "    </tr>\n",
       "    <tr>\n",
       "        <td>7</td>\n",
       "        <td>1001</td>\n",
       "        <td>2016-04-01 11:20:18</td>\n",
       "        <td>101</td>\n",
       "        <td>33</td>\n",
       "        <td>92</td>\n",
       "        <td>226</td>\n",
       "        <td>503.99</td>\n",
       "        <td>247.17</td>\n",
       "        <td>747.04</td>\n",
       "        <td>1498.2</td>\n",
       "    </tr>\n",
       "    <tr>\n",
       "        <td>589</td>\n",
       "        <td>1441</td>\n",
       "        <td>2016-04-01 16:01:34</td>\n",
       "        <td>317</td>\n",
       "        <td>38</td>\n",
       "        <td>1</td>\n",
       "        <td>356</td>\n",
       "        <td>1581.83</td>\n",
       "        <td>284.62</td>\n",
       "        <td>8.12</td>\n",
       "        <td>1874.57</td>\n",
       "    </tr>\n",
       "</table>"
      ],
      "text/plain": [
       "[(1757, 2341, '2016-04-01 04:39:00', 500, 0, 21, 521, 2495, 0, 170.52, 2665.52),\n",
       " (1591, 2181, '2016-04-01 06:10:39', 298, 194, 0, 492, 1487.02, 1453.06, 0, 2940.08),\n",
       " (4312, 1001, '2016-04-01 11:15:27', 497, 618, 152, 1267, 2480.03, 4628.82, 1234.24, 8343.09),\n",
       " (7, 1001, '2016-04-01 11:20:18', 101, 33, 92, 226, 503.99, 247.17, 747.04, 1498.2),\n",
       " (589, 1441, '2016-04-01 16:01:34', 317, 38, 1, 356, 1581.83, 284.62, 8.12, 1874.57)]"
      ]
     },
     "execution_count": 31,
     "metadata": {},
     "output_type": "execute_result"
    }
   ],
   "source": [
    "%%sql\n",
    "SELECT *\n",
    "FROM orders\n",
    "WHERE occurred_at BETWEEN '2016-04-01' AND '2016-10-01'\n",
    "ORDER BY occurred_at\n",
    "limit 5;"
   ]
  },
  {
   "cell_type": "code",
   "execution_count": 32,
   "id": "405bba6a",
   "metadata": {},
   "outputs": [
    {
     "name": "stdout",
     "output_type": "stream",
     "text": [
      " * sqlite:///pandp.db\n",
      "Done.\n"
     ]
    },
    {
     "data": {
      "text/html": [
       "<table>\n",
       "    <tr>\n",
       "        <th>id</th>\n",
       "        <th>account_id</th>\n",
       "        <th>occurred_at</th>\n",
       "        <th>standard_qty</th>\n",
       "        <th>gloss_qty</th>\n",
       "        <th>poster_qty</th>\n",
       "        <th>total</th>\n",
       "        <th>standard_amt_usd</th>\n",
       "        <th>gloss_amt_usd</th>\n",
       "        <th>poster_amt_usd</th>\n",
       "        <th>total_amt_usd</th>\n",
       "    </tr>\n",
       "    <tr>\n",
       "        <td>2613</td>\n",
       "        <td>2951</td>\n",
       "        <td>2016-08-15 00:06:12</td>\n",
       "        <td>1171</td>\n",
       "        <td>0</td>\n",
       "        <td>0</td>\n",
       "        <td>1171</td>\n",
       "        <td>5843.29</td>\n",
       "        <td>0</td>\n",
       "        <td>0</td>\n",
       "        <td>5843.29</td>\n",
       "    </tr>\n",
       "    <tr>\n",
       "        <td>3260</td>\n",
       "        <td>3491</td>\n",
       "        <td>2014-08-29 22:43:00</td>\n",
       "        <td>1552</td>\n",
       "        <td>0</td>\n",
       "        <td>0</td>\n",
       "        <td>1552</td>\n",
       "        <td>7744.48</td>\n",
       "        <td>0</td>\n",
       "        <td>0</td>\n",
       "        <td>7744.48</td>\n",
       "    </tr>\n",
       "</table>"
      ],
      "text/plain": [
       "[(2613, 2951, '2016-08-15 00:06:12', 1171, 0, 0, 1171, 5843.29, 0, 0, 5843.29),\n",
       " (3260, 3491, '2014-08-29 22:43:00', 1552, 0, 0, 1552, 7744.48, 0, 0, 7744.48)]"
      ]
     },
     "execution_count": 32,
     "metadata": {},
     "output_type": "execute_result"
    }
   ],
   "source": [
    "%%sql\n",
    "SELECT *\n",
    "FROM orders\n",
    "WHERE standard_qty > 1000 AND poster_qty = 0 AND gloss_qty = 0;"
   ]
  },
  {
   "cell_type": "code",
   "execution_count": 34,
   "id": "ab682420",
   "metadata": {},
   "outputs": [
    {
     "name": "stdout",
     "output_type": "stream",
     "text": [
      " * sqlite:///pandp.db\n",
      "Done.\n"
     ]
    },
    {
     "data": {
      "text/html": [
       "<table>\n",
       "    <tr>\n",
       "        <th>name</th>\n",
       "    </tr>\n",
       "    <tr>\n",
       "        <td>General Motors</td>\n",
       "    </tr>\n",
       "    <tr>\n",
       "        <td>United Technologies</td>\n",
       "    </tr>\n",
       "    <tr>\n",
       "        <td>Lowe&#x27;s</td>\n",
       "    </tr>\n",
       "    <tr>\n",
       "        <td>UPS</td>\n",
       "    </tr>\n",
       "</table>"
      ],
      "text/plain": [
       "[('General Motors',), ('United Technologies',), (\"Lowe's\",), ('UPS',)]"
      ]
     },
     "execution_count": 34,
     "metadata": {},
     "output_type": "execute_result"
    }
   ],
   "source": [
    "%%sql\n",
    "SELECT name\n",
    "FROM accounts\n",
    "WHERE name NOT LIKE 'C%' AND name LIKE '%s'\n",
    "limit 4;"
   ]
  },
  {
   "cell_type": "code",
   "execution_count": null,
   "id": "f222e9ce",
   "metadata": {},
   "outputs": [],
   "source": [
    "%%sql\n"
   ]
  }
 ],
 "metadata": {
  "kernelspec": {
   "display_name": "Python 3 (ipykernel)",
   "language": "python",
   "name": "python3"
  },
  "language_info": {
   "codemirror_mode": {
    "name": "ipython",
    "version": 3
   },
   "file_extension": ".py",
   "mimetype": "text/x-python",
   "name": "python",
   "nbconvert_exporter": "python",
   "pygments_lexer": "ipython3",
   "version": "3.10.6"
  }
 },
 "nbformat": 4,
 "nbformat_minor": 5
}
