{
 "cells": [
  {
   "cell_type": "markdown",
   "metadata": {},
   "source": [
    "# Time Series Analysis on Warner Bros Discovery Stock Price  \n",
    "\n",
    "This is my first project with time series.\n",
    "\n",
    "Notebook based on the Kaggle \"Time Series\" lessons: https://www.kaggle.com/learn/time-series\n",
    "\n",
    "Dataset: https://finance.yahoo.com/quote/WBD/history?p=WBD  \n",
    "\n",
    "Period: January 07 2022 - January 07 2023"
   ]
  },
  {
   "cell_type": "markdown",
   "metadata": {},
   "source": [
    "# Importing Libraries"
   ]
  },
  {
   "cell_type": "code",
   "execution_count": 1,
   "metadata": {},
   "outputs": [],
   "source": [
    "import pandas as pd\n",
    "import numpy as np\n",
    "import matplotlib\n",
    "import matplotlib.pyplot as plt\n",
    "import seaborn as sns\n",
    "%matplotlib inline\n",
    "\n",
    "sns.set_style(\"darkgrid\")\n",
    "matplotlib.rcParams['font.size'] = 14\n",
    "matplotlib.rcParams['figure.figsize'] = (15, 5)\n",
    "matplotlib.rcParams['figure.facecolor'] = '#00000000'\n",
    "\n",
    "import warnings\n",
    "warnings.simplefilter(action='ignore')"
   ]
  },
  {
   "cell_type": "code",
   "execution_count": 2,
   "metadata": {},
   "outputs": [
    {
     "name": "stdout",
     "output_type": "stream",
     "text": [
      "[*********************100%***********************]  1 of 1 completed\n"
     ]
    }
   ],
   "source": [
    "import yfinance as yf\n",
    "stock_symbol = 'WBD' ##change to any ticker of your choice\n",
    "warner = yf.download(tickers = stock_symbol,period ='1y',interval ='1d')"
   ]
  },
  {
   "cell_type": "code",
   "execution_count": 3,
   "metadata": {
    "scrolled": true
   },
   "outputs": [],
   "source": [
    "# warner = pd.read_csv('./warner_bros.csv', parse_dates=['Date'], index_col='Date').drop(\n",
    "#     columns=['Open', 'High', 'Low', 'Adj Close', 'Volume']).rename(columns={'Close':'Closing Price'})\n",
    "\n",
    "# warner.info()"
   ]
  },
  {
   "cell_type": "code",
   "execution_count": 4,
   "metadata": {},
   "outputs": [],
   "source": [
    "warner.drop(columns=['Open', 'High', 'Low', 'Adj Close', 'Volume'],inplace=True)"
   ]
  },
  {
   "cell_type": "code",
   "execution_count": 5,
   "metadata": {},
   "outputs": [],
   "source": [
    "warner.rename(columns={'Close':'Closing Price'},inplace=True)"
   ]
  },
  {
   "cell_type": "code",
   "execution_count": 6,
   "metadata": {},
   "outputs": [
    {
     "data": {
      "text/plain": [
       "DatetimeIndex(['2022-02-10', '2022-02-11', '2022-02-14', '2022-02-15',\n",
       "               '2022-02-16', '2022-02-17', '2022-02-18', '2022-02-22',\n",
       "               '2022-02-23', '2022-02-24',\n",
       "               ...\n",
       "               '2023-01-30', '2023-01-31', '2023-02-01', '2023-02-02',\n",
       "               '2023-02-03', '2023-02-06', '2023-02-07', '2023-02-08',\n",
       "               '2023-02-09', '2023-02-10'],\n",
       "              dtype='datetime64[ns]', name='Date', length=252, freq=None)"
      ]
     },
     "execution_count": 6,
     "metadata": {},
     "output_type": "execute_result"
    }
   ],
   "source": [
    "warner.index"
   ]
  },
  {
   "cell_type": "markdown",
   "metadata": {},
   "source": [
    "# Plotting the Data"
   ]
  },
  {
   "cell_type": "code",
   "execution_count": null,
   "metadata": {},
   "outputs": [],
   "source": [
    "warner.plot(color='blue', marker='o', markersize=3.5, markerfacecolor='yellow');"
   ]
  },
  {
   "cell_type": "markdown",
   "metadata": {},
   "source": [
    "# Trend  \n",
    "\n",
    "Discovering the trend."
   ]
  },
  {
   "cell_type": "markdown",
   "metadata": {},
   "source": [
    "## Moving Average Plot Computation  \n",
    "\n",
    "It does not seem to be a particular seasonality in the stocks' closing price.  \n",
    "So, some different moving averages will be plotted to choose the smoothest one.  \n",
    "\n",
    "Source: https://mins.space/blog/2020-06-29-moving-average-effect-window-size/"
   ]
  },
  {
   "cell_type": "markdown",
   "metadata": {},
   "source": [
    "Creating a moving average function."
   ]
  },
  {
   "cell_type": "code",
   "execution_count": null,
   "metadata": {},
   "outputs": [],
   "source": [
    "def moving_plotter(size, ax):\n",
    "    # Creating the Moving Average\n",
    "    mov_av = warner.rolling(\n",
    "        window=size,\n",
    "        center=True,\n",
    "        min_periods=round(size/2)\n",
    "    ).mean()\n",
    "    mov_av['Trend'] = mov_av['Closing Price']\n",
    "    mov_av.drop(columns='Closing Price', inplace=True)\n",
    "    \n",
    "    # Plotting it\n",
    "    warner.plot(marker='o', color='grey', ax=ax)\n",
    "    mov_av.plot(color='red', ax=ax);"
   ]
  },
  {
   "cell_type": "markdown",
   "metadata": {},
   "source": [
    "Plotting different values."
   ]
  },
  {
   "cell_type": "code",
   "execution_count": null,
   "metadata": {},
   "outputs": [],
   "source": [
    "fig, axes = plt.subplots(2,2, figsize=(30,20))\n",
    "\n",
    "axes[0,0].set_title('Window 120')\n",
    "moving_plotter(120, axes[0,0])\n",
    "\n",
    "axes[1,0].set_title('Window 150')\n",
    "moving_plotter(150, ax=axes[1,0])\n",
    "\n",
    "axes[0,1].set_title('Window 200')\n",
    "moving_plotter(200, ax=axes[0,1])\n",
    "\n",
    "axes[1,1].set_title('Window 250')\n",
    "moving_plotter(250, ax=axes[1,1])"
   ]
  },
  {
   "cell_type": "markdown",
   "metadata": {},
   "source": [
    "A 120 window seems to fit the trend well."
   ]
  },
  {
   "cell_type": "markdown",
   "metadata": {},
   "source": [
    "## Deterministic Process  \n",
    "\n",
    "It will be used to make predictions about the trend and trying some forecasts."
   ]
  },
  {
   "cell_type": "code",
   "execution_count": null,
   "metadata": {},
   "outputs": [],
   "source": [
    "from statsmodels.tsa.deterministic import DeterministicProcess\n",
    "\n",
    "dp = DeterministicProcess(\n",
    "    index=warner.index,\n",
    "    constant=True,\n",
    "    order=2,\n",
    "    drop=True\n",
    ")\n",
    "\n",
    "X = dp.in_sample()"
   ]
  },
  {
   "cell_type": "code",
   "execution_count": null,
   "metadata": {},
   "outputs": [],
   "source": [
    "X"
   ]
  },
  {
   "cell_type": "code",
   "execution_count": null,
   "metadata": {},
   "outputs": [],
   "source": [
    "y = warner['Closing Price']\n",
    "\n",
    "from sklearn.linear_model import LinearRegression\n",
    "\n",
    "model = LinearRegression(fit_intercept=False)\n",
    "model.fit(X, y)\n",
    "\n",
    "y_pred = pd.DataFrame(model.predict(X), columns=['Trend'], index=X.index)"
   ]
  },
  {
   "cell_type": "code",
   "execution_count": null,
   "metadata": {},
   "outputs": [],
   "source": [
    "y_pred"
   ]
  },
  {
   "cell_type": "code",
   "execution_count": null,
   "metadata": {},
   "outputs": [],
   "source": [
    "y"
   ]
  },
  {
   "cell_type": "markdown",
   "metadata": {},
   "source": [
    "Plotting the results."
   ]
  },
  {
   "cell_type": "code",
   "execution_count": null,
   "metadata": {},
   "outputs": [],
   "source": [
    "fig, ax = plt.subplots()\n",
    "\n",
    "y.plot(color='grey', ax=ax)\n",
    "\n",
    "y_pred.plot(color='blue', ax=ax);"
   ]
  },
  {
   "cell_type": "markdown",
   "metadata": {},
   "source": [
    "Making forecasts."
   ]
  },
  {
   "cell_type": "code",
   "execution_count": null,
   "metadata": {},
   "outputs": [],
   "source": [
    "X_fore = dp.out_of_sample(steps=30)\n",
    "y_fore = pd.DataFrame(model.predict(X_fore), columns=['Forecasts'])\n",
    "\n",
    "y_fore.index = pd.date_range(start='2023-01-07', periods=30)\n",
    "y_fore.head()"
   ]
  },
  {
   "cell_type": "markdown",
   "metadata": {},
   "source": [
    "Plotting actual values, trend and forecasted trend."
   ]
  },
  {
   "cell_type": "code",
   "execution_count": null,
   "metadata": {},
   "outputs": [],
   "source": [
    "fig, ax = plt.subplots()\n",
    "\n",
    "# Actual Values\n",
    "warner.plot(color='grey', marker='o', ax=ax)\n",
    "\n",
    "# Trend\n",
    "y_pred.plot(color='blue', ax=ax)\n",
    "\n",
    "# Forecasts\n",
    "y_fore.plot(color='red', ax=ax);"
   ]
  },
  {
   "cell_type": "markdown",
   "metadata": {},
   "source": [
    "# Hybrid Models Usage  \n",
    "\n",
    "Firstly, series will be detrended (using LinearRegression()); then the XGBRegressor will be used on the residuals."
   ]
  },
  {
   "cell_type": "markdown",
   "metadata": {},
   "source": [
    "Splitting the X and the y on the month basis.\n",
    "Data until 24-10-2022 will be included in the training set, others will be part of the test set."
   ]
  },
  {
   "cell_type": "code",
   "execution_count": null,
   "metadata": {},
   "outputs": [],
   "source": [
    "from sklearn.model_selection import train_test_split\n",
    "\n",
    "X_train, X_test, y_train, y_test = train_test_split(X, y, test_size=0.2, shuffle=False)"
   ]
  },
  {
   "cell_type": "markdown",
   "metadata": {},
   "source": [
    "Checking the sets."
   ]
  },
  {
   "cell_type": "code",
   "execution_count": null,
   "metadata": {},
   "outputs": [],
   "source": [
    "X_train"
   ]
  },
  {
   "cell_type": "code",
   "execution_count": null,
   "metadata": {},
   "outputs": [],
   "source": [
    "X_test.head()"
   ]
  },
  {
   "cell_type": "code",
   "execution_count": null,
   "metadata": {},
   "outputs": [],
   "source": [
    "print('X_train shape: {}'.format(X_train.shape))\n",
    "print('X_test shape: {}'.format(X_test.shape))"
   ]
  },
  {
   "cell_type": "code",
   "execution_count": null,
   "metadata": {},
   "outputs": [],
   "source": [
    "y_train"
   ]
  },
  {
   "cell_type": "code",
   "execution_count": null,
   "metadata": {},
   "outputs": [],
   "source": [
    "y_test.head()"
   ]
  },
  {
   "cell_type": "markdown",
   "metadata": {},
   "source": [
    "Model creation."
   ]
  },
  {
   "cell_type": "code",
   "execution_count": null,
   "metadata": {},
   "outputs": [],
   "source": [
    "# Creating the Model\n",
    "lin_model = LinearRegression(fit_intercept=False)\n",
    "lin_model.fit(X_train, y_train)\n",
    "\n",
    "# Storing the Predictions (y_pred --> training set; y_fore --> test set)\n",
    "y_pred = pd.DataFrame(lin_model.predict(X_train), columns=['Predictions'], index=X_train.index)\n",
    "y_fore = pd.DataFrame(lin_model.predict(X_test), columns=['Forecasts'], index=X_test.index)"
   ]
  },
  {
   "cell_type": "markdown",
   "metadata": {},
   "source": [
    "Plotting the results."
   ]
  },
  {
   "cell_type": "code",
   "execution_count": null,
   "metadata": {},
   "outputs": [],
   "source": [
    "# Actual Values\n",
    "sns.lineplot(data=warner, x=warner.index, y='Closing Price', color='grey', marker='o')\n",
    "\n",
    "# Predictions\n",
    "sns.lineplot(data=y_pred, x=y_pred.index, y='Predictions', color='blue')\n",
    "\n",
    "# Forecasts\n",
    "sns.lineplot(data=y_fore, x=y_fore.index, y='Forecasts', color='red')\n",
    "plt.legend(['Actual Values', 'Predictions', 'Forecasts']);"
   ]
  },
  {
   "cell_type": "markdown",
   "metadata": {},
   "source": [
    "Second part using XGBRegressor.  \n",
    "\n",
    "Firstly, some features must be created."
   ]
  },
  {
   "cell_type": "code",
   "execution_count": null,
   "metadata": {},
   "outputs": [],
   "source": [
    "warner['Year'] = pd.to_datetime(warner.index).year\n",
    "warner['Month'] = pd.to_datetime(warner.index).month\n",
    "warner['DayOfWeek'] = pd.to_datetime(warner.index).dayofweek\n",
    "\n",
    "warner"
   ]
  },
  {
   "cell_type": "markdown",
   "metadata": {},
   "source": [
    "Defining X and y."
   ]
  },
  {
   "cell_type": "code",
   "execution_count": null,
   "metadata": {},
   "outputs": [],
   "source": [
    "X = warner.drop(columns='Closing Price')\n",
    "y = warner['Closing Price']"
   ]
  },
  {
   "cell_type": "code",
   "execution_count": null,
   "metadata": {},
   "outputs": [],
   "source": [
    "X.head()"
   ]
  },
  {
   "cell_type": "code",
   "execution_count": null,
   "metadata": {},
   "outputs": [],
   "source": [
    "y.head()"
   ]
  },
  {
   "cell_type": "markdown",
   "metadata": {},
   "source": [
    "Splitting."
   ]
  },
  {
   "cell_type": "code",
   "execution_count": null,
   "metadata": {},
   "outputs": [],
   "source": [
    "X_train, X_test, y_train, y_test = train_test_split(X,y, test_size=0.2, shuffle=False)"
   ]
  },
  {
   "cell_type": "code",
   "execution_count": null,
   "metadata": {},
   "outputs": [],
   "source": [
    "X_train"
   ]
  },
  {
   "cell_type": "code",
   "execution_count": null,
   "metadata": {},
   "outputs": [],
   "source": [
    "X_test.head()"
   ]
  },
  {
   "cell_type": "code",
   "execution_count": null,
   "metadata": {},
   "outputs": [],
   "source": [
    "y_train"
   ]
  },
  {
   "cell_type": "code",
   "execution_count": null,
   "metadata": {},
   "outputs": [],
   "source": [
    "y_test.head()"
   ]
  },
  {
   "cell_type": "markdown",
   "metadata": {},
   "source": [
    "Creating the residuals."
   ]
  },
  {
   "cell_type": "code",
   "execution_count": null,
   "metadata": {},
   "outputs": [],
   "source": [
    "y_resid = y_train - y_pred.squeeze()\n",
    "y_resid"
   ]
  },
  {
   "cell_type": "markdown",
   "metadata": {},
   "source": [
    "Creating the model to fit with the residuals."
   ]
  },
  {
   "cell_type": "code",
   "execution_count": null,
   "metadata": {},
   "outputs": [],
   "source": [
    "from xgboost import XGBRegressor\n",
    "\n",
    "# Creating the Model\n",
    "xgb_model = XGBRegressor()\n",
    "xgb_model.fit(X_train, y_resid)\n",
    "\n",
    "# Adding the predicted residuals to the trend\n",
    "y_pred_xgb = xgb_model.predict(X_train) + y_pred.squeeze()\n",
    "y_fore_xgb = xgb_model.predict(X_test) + y_fore.squeeze()"
   ]
  },
  {
   "cell_type": "code",
   "execution_count": null,
   "metadata": {},
   "outputs": [],
   "source": [
    "y_pred_xgb"
   ]
  },
  {
   "cell_type": "code",
   "execution_count": null,
   "metadata": {},
   "outputs": [],
   "source": [
    "y_fore_xgb.head()"
   ]
  },
  {
   "cell_type": "markdown",
   "metadata": {},
   "source": [
    "Plotting the results."
   ]
  },
  {
   "cell_type": "code",
   "execution_count": null,
   "metadata": {},
   "outputs": [],
   "source": [
    "# Actual Values\n",
    "sns.lineplot(data=warner, x=warner.index, y='Closing Price', marker='o', color='grey')\n",
    "\n",
    "# Predictions\n",
    "sns.lineplot(data=y_pred_xgb, x=y_pred_xgb.index, y=y_pred_xgb.values, color='blue')\n",
    "\n",
    "# Forecasts\n",
    "sns.lineplot(data=y_fore_xgb, x=y_fore_xgb.index, y=y_fore_xgb.values, color='red');"
   ]
  },
  {
   "cell_type": "markdown",
   "metadata": {},
   "source": [
    "# Forecasts  \n",
    "\n",
    "It will be performed some forecasts on a 4-day horizon with 1-day lead time. "
   ]
  },
  {
   "cell_type": "markdown",
   "metadata": {},
   "source": [
    "Creation of the lags."
   ]
  },
  {
   "cell_type": "code",
   "execution_count": null,
   "metadata": {},
   "outputs": [],
   "source": [
    "warner.drop(columns=['Year', 'Month', 'DayOfWeek'], inplace=True)\n",
    "warner"
   ]
  },
  {
   "cell_type": "code",
   "execution_count": null,
   "metadata": {},
   "outputs": [],
   "source": [
    "def lag_creation(period):\n",
    "    new_col = warner['Closing Price'].shift(period)\n",
    "    warner['Lag_{}'.format(period)] = new_col"
   ]
  },
  {
   "cell_type": "code",
   "execution_count": null,
   "metadata": {},
   "outputs": [],
   "source": [
    "[lag_creation(period) for period in range(1,5)]\n",
    "warner"
   ]
  },
  {
   "cell_type": "code",
   "execution_count": null,
   "metadata": {},
   "outputs": [],
   "source": [
    "warner.fillna(0, inplace=True)\n",
    "warner"
   ]
  },
  {
   "cell_type": "markdown",
   "metadata": {},
   "source": [
    "Creating the X."
   ]
  },
  {
   "cell_type": "code",
   "execution_count": null,
   "metadata": {},
   "outputs": [],
   "source": [
    "X = warner.drop(columns='Closing Price')\n",
    "X"
   ]
  },
  {
   "cell_type": "markdown",
   "metadata": {},
   "source": [
    "Creating 4 steps."
   ]
  },
  {
   "cell_type": "code",
   "execution_count": null,
   "metadata": {},
   "outputs": [],
   "source": [
    "def step_creator(step):\n",
    "    new_col = warner['Closing Price'].shift(-step)\n",
    "    warner['Step_{}'.format(step)] = new_col"
   ]
  },
  {
   "cell_type": "code",
   "execution_count": null,
   "metadata": {},
   "outputs": [],
   "source": [
    "[step_creator(step) for step in range(4)]\n",
    "warner"
   ]
  },
  {
   "cell_type": "markdown",
   "metadata": {},
   "source": [
    "Step_0 and Closing Price are the same."
   ]
  },
  {
   "cell_type": "markdown",
   "metadata": {},
   "source": [
    "Choosing the y."
   ]
  },
  {
   "cell_type": "code",
   "execution_count": null,
   "metadata": {},
   "outputs": [],
   "source": [
    "y = warner.drop(columns=warner.columns[:5])\n",
    "y.dropna(inplace=True)\n",
    "y"
   ]
  },
  {
   "cell_type": "markdown",
   "metadata": {},
   "source": [
    "Since X and y have different shapes, only the periods in both dataset will be selected."
   ]
  },
  {
   "cell_type": "code",
   "execution_count": null,
   "metadata": {},
   "outputs": [],
   "source": [
    "final_df = pd.concat([y,X], axis=1).dropna()\n",
    "final_df"
   ]
  },
  {
   "cell_type": "markdown",
   "metadata": {},
   "source": [
    "Creating the new X and the new y."
   ]
  },
  {
   "cell_type": "code",
   "execution_count": null,
   "metadata": {},
   "outputs": [],
   "source": [
    "X = final_df.drop(columns=final_df.columns[:4])\n",
    "y = final_df.drop(columns=final_df.columns[4:])"
   ]
  },
  {
   "cell_type": "code",
   "execution_count": null,
   "metadata": {},
   "outputs": [],
   "source": [
    "X"
   ]
  },
  {
   "cell_type": "code",
   "execution_count": null,
   "metadata": {},
   "outputs": [],
   "source": [
    "y"
   ]
  },
  {
   "cell_type": "markdown",
   "metadata": {},
   "source": [
    "## MultiOutput Strategy  \n",
    "\n",
    "It will be used the LinearRegression() algorithm."
   ]
  },
  {
   "cell_type": "code",
   "execution_count": null,
   "metadata": {},
   "outputs": [],
   "source": [
    "# Splitting X and y\n",
    "X_train, X_test, y_train, y_test = train_test_split(X,y, test_size=0.2, shuffle=False)\n",
    "\n",
    "# Creating the Model\n",
    "linear_model = LinearRegression()\n",
    "linear_model.fit(X_train, y_train)\n",
    "\n",
    "# Storing the Results\n",
    "y_pred = pd.DataFrame(linear_model.predict(X_train), index=y_train.index, columns=y.columns)\n",
    "y_fore = pd.DataFrame(linear_model.predict(X_test), index=y_test.index, columns=y.columns)"
   ]
  },
  {
   "cell_type": "code",
   "execution_count": null,
   "metadata": {},
   "outputs": [],
   "source": [
    "y_pred"
   ]
  },
  {
   "cell_type": "code",
   "execution_count": null,
   "metadata": {},
   "outputs": [],
   "source": [
    "y_train"
   ]
  },
  {
   "cell_type": "code",
   "execution_count": null,
   "metadata": {},
   "outputs": [],
   "source": [
    "y_fore.head()"
   ]
  },
  {
   "cell_type": "markdown",
   "metadata": {},
   "source": [
    "Plotting the results."
   ]
  },
  {
   "cell_type": "code",
   "execution_count": null,
   "metadata": {},
   "outputs": [],
   "source": [
    "fig, ax = plt.subplots()\n",
    "\n",
    "# Actual Values\n",
    "warner['Closing Price'].loc[y_pred.index].plot(color='grey', marker='o')\n",
    "\n",
    "# y_pred\n",
    "y_pred.plot(ax=ax);"
   ]
  },
  {
   "cell_type": "code",
   "execution_count": null,
   "metadata": {},
   "outputs": [],
   "source": [
    "fig, ax = plt.subplots()\n",
    "\n",
    "# Actual Values\n",
    "warner['Closing Price'].loc[y_fore.index].plot(color='grey', marker='o')\n",
    "\n",
    "# y_pred\n",
    "y_fore.plot(ax=ax);"
   ]
  },
  {
   "cell_type": "markdown",
   "metadata": {},
   "source": [
    "Checking the RMSE."
   ]
  },
  {
   "cell_type": "code",
   "execution_count": null,
   "metadata": {},
   "outputs": [],
   "source": [
    "from sklearn.metrics import mean_squared_error\n",
    "\n",
    "print(mean_squared_error(y_train, y_pred, squared=False))\n",
    "print(mean_squared_error(y_test, y_fore, squared=False))"
   ]
  },
  {
   "cell_type": "markdown",
   "metadata": {},
   "source": [
    "The RMSE is quite good. The biggest mistake was done on the first observation."
   ]
  },
  {
   "cell_type": "markdown",
   "metadata": {},
   "source": [
    "## Direct Strategy  \n",
    "\n",
    "Direct Strategy with XGBRegressor."
   ]
  },
  {
   "cell_type": "code",
   "execution_count": null,
   "metadata": {},
   "outputs": [],
   "source": [
    "from sklearn.multioutput import MultiOutputRegressor\n",
    "\n",
    "xgb_multi = MultiOutputRegressor(XGBRegressor())\n",
    "xgb_multi.fit(X_train, y_train)\n",
    "\n",
    "y_pred = pd.DataFrame(xgb_multi.predict(X_train), index=X_train.index, columns=y.columns)\n",
    "y_fore = pd.DataFrame(xgb_multi.predict(X_test), index=X_test.index, columns=y.columns)"
   ]
  },
  {
   "cell_type": "markdown",
   "metadata": {},
   "source": [
    "Plotting the results."
   ]
  },
  {
   "cell_type": "code",
   "execution_count": null,
   "metadata": {},
   "outputs": [],
   "source": [
    "fig, ax = plt.subplots()\n",
    "\n",
    "# Actual Values\n",
    "warner['Closing Price'].loc[y_pred.index].plot(color='grey', marker='o', ax=ax)\n",
    "\n",
    "# Predictions\n",
    "y_pred.plot(ax=ax);\n"
   ]
  },
  {
   "cell_type": "code",
   "execution_count": null,
   "metadata": {},
   "outputs": [],
   "source": [
    "fig, ax = plt.subplots()\n",
    "\n",
    "# Actual Values\n",
    "warner['Closing Price'].loc[y_fore.index].plot(color='grey', marker='o', ax=ax)\n",
    "\n",
    "# Forecasts\n",
    "y_fore.plot(ax=ax);"
   ]
  },
  {
   "cell_type": "markdown",
   "metadata": {},
   "source": [
    "It seems to show overfitting."
   ]
  },
  {
   "cell_type": "code",
   "execution_count": null,
   "metadata": {},
   "outputs": [],
   "source": [
    "print(mean_squared_error(y_train, y_pred, squared=False))\n",
    "print(mean_squared_error(y_test, y_fore, squared=False))"
   ]
  }
 ],
 "metadata": {
  "hide_input": false,
  "kernelspec": {
   "display_name": "Python 3 (ipykernel)",
   "language": "python",
   "name": "python3"
  },
  "language_info": {
   "codemirror_mode": {
    "name": "ipython",
    "version": 3
   },
   "file_extension": ".py",
   "mimetype": "text/x-python",
   "name": "python",
   "nbconvert_exporter": "python",
   "pygments_lexer": "ipython3",
   "version": "3.10.6"
  },
  "varInspector": {
   "cols": {
    "lenName": 16,
    "lenType": 16,
    "lenVar": 40
   },
   "kernels_config": {
    "python": {
     "delete_cmd_postfix": "",
     "delete_cmd_prefix": "del ",
     "library": "var_list.py",
     "varRefreshCmd": "print(var_dic_list())"
    },
    "r": {
     "delete_cmd_postfix": ") ",
     "delete_cmd_prefix": "rm(",
     "library": "var_list.r",
     "varRefreshCmd": "cat(var_dic_list()) "
    }
   },
   "types_to_exclude": [
    "module",
    "function",
    "builtin_function_or_method",
    "instance",
    "_Feature"
   ],
   "window_display": false
  },
  "vscode": {
   "interpreter": {
    "hash": "d5ea41e4a4ff96221c207c65d84f76a2ad4a045e3a80bca3429d461f1852c7cd"
   }
  }
 },
 "nbformat": 4,
 "nbformat_minor": 2
}
