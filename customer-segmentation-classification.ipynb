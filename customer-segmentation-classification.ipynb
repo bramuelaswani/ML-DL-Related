{
 "cells": [
  {
   "cell_type": "markdown",
   "metadata": {},
   "source": [
    "# <span style='color: gold'>Customer Classification - RFM</span>"
   ]
  },
  {
   "cell_type": "markdown",
   "metadata": {},
   "source": [
    "### Table of Contents\n",
    "* <a href=\"#overview\">Overview and goal</a>\n",
    "* <a href=\"#wrangling\">Data Wrangling</a>\n",
    "* <a href=\"#cleaning\">Data Cleaning</a>\n",
    "* <a href=\"#eda\">Exploratory Data Analysis</a>\n",
    "* <a href=\"#model\">Model</a>\n",
    "* <a href=\"#conclusions\">Conclusions</a>\n",
    "* <a href=\"#possible-solutions\">Solutions</a>\n"
   ]
  },
  {
   "cell_type": "markdown",
   "metadata": {},
   "source": [
    "---\n",
    "<a id='overview'></a>\n",
    "### Overview\n",
    "This analysis is done on the Online retail data which contains customer transactions of a multinational store based in the UK. The store deals majorly in gift-items and customers are predominantly wholesalers, hence the large purchases.\n",
    "\n",
    "\n",
    "In this project, we'll be analysing data from over four hundred thousand purchases and segmenting the customers based on RFM. \n",
    "\n",
    "This will help the company at segmentation, retargeting and customer retention\n",
    "The data features - \n",
    "- **InvoiceNo** - Invoice numbers containing letter 'C' indicate either cancelled purchases or returned products.\n",
    "- **StockCode** - Item/product stock ID.\n",
    "- **Description** - The product/item name.\n",
    "- **Quantity** - Quantity of the item purchased.\n",
    "- **InvoiceDate** - Date of Purchase.\n",
    "- **UnitPrice** - Price per unit of the item purchased.\n",
    "- **CustomerID** - Customer identification.\n",
    "- **Country** - Country from which purchase was made.\n",
    "\n",
    "An analysis of <a href=\"#returned\"> returned products</a> is also done for more insights\n",
    " - Do feel free to comment your observations :)\n"
   ]
  },
  {
   "cell_type": "markdown",
   "metadata": {},
   "source": [
    "### Concepts\n",
    "#### RFM - Factors on which our customer analysis will be based\n",
    "* **R** ~ Recency: Number of days since customer's last purchase\n",
    "* **F** ~ Frequency: Number of transactions of the customer.\n",
    "* **M** ~ Monetary: Total amount of transactions  (revenue contributed; total spent on our store)"
   ]
  },
  {
   "cell_type": "markdown",
   "metadata": {},
   "source": [
    "### Loading dependencies"
   ]
  },
  {
   "cell_type": "code",
   "execution_count": 1,
   "metadata": {
    "execution": {
     "iopub.execute_input": "2022-12-30T16:50:03.239418Z",
     "iopub.status.busy": "2022-12-30T16:50:03.239015Z",
     "iopub.status.idle": "2022-12-30T16:50:03.249395Z",
     "shell.execute_reply": "2022-12-30T16:50:03.248136Z",
     "shell.execute_reply.started": "2022-12-30T16:50:03.239385Z"
    }
   },
   "outputs": [],
   "source": [
    "# required libraries for plots and numerical computations\n",
    "import numpy as np\n",
    "import seaborn as sns\n",
    "import pandas as pd\n",
    "import matplotlib.pyplot as plt\n",
    "%matplotlib inline\n",
    "\n",
    "# required libraries for clustering\n",
    "import sklearn\n",
    "from sklearn.preprocessing import StandardScaler # Standard Scaler\n",
    "from sklearn.cluster import KMeans # KMeans\n",
    "\n",
    "from scipy.cluster.hierarchy import linkage # Linkage\n",
    "from scipy.cluster.hierarchy import dendrogram # Dendogram\n",
    "from scipy.cluster.hierarchy import cut_tree # Cut Tree\n",
    "\n",
    "import warnings\n",
    "warnings.filterwarnings('ignore')"
   ]
  },
  {
   "cell_type": "markdown",
   "metadata": {},
   "source": [
    "---\n",
    "<a id='wrangling'></a>\n",
    "### Data Wrangling\n",
    "#### Importing our data"
   ]
  },
  {
   "cell_type": "code",
   "execution_count": 2,
   "metadata": {
    "execution": {
     "iopub.execute_input": "2022-12-30T16:50:03.270211Z",
     "iopub.status.busy": "2022-12-30T16:50:03.268941Z",
     "iopub.status.idle": "2022-12-30T16:50:04.549498Z",
     "shell.execute_reply": "2022-12-30T16:50:04.548262Z",
     "shell.execute_reply.started": "2022-12-30T16:50:03.270167Z"
    }
   },
   "outputs": [],
   "source": [
    "df = pd.read_csv('retail_data.csv',encoding = 'ISO-8859-1')"
   ]
  },
  {
   "cell_type": "code",
   "execution_count": 3,
   "metadata": {
    "execution": {
     "iopub.execute_input": "2022-12-30T16:50:04.553077Z",
     "iopub.status.busy": "2022-12-30T16:50:04.552120Z",
     "iopub.status.idle": "2022-12-30T16:50:04.575580Z",
     "shell.execute_reply": "2022-12-30T16:50:04.574642Z",
     "shell.execute_reply.started": "2022-12-30T16:50:04.553027Z"
    }
   },
   "outputs": [
    {
     "data": {
      "text/html": [
       "<div>\n",
       "<style scoped>\n",
       "    .dataframe tbody tr th:only-of-type {\n",
       "        vertical-align: middle;\n",
       "    }\n",
       "\n",
       "    .dataframe tbody tr th {\n",
       "        vertical-align: top;\n",
       "    }\n",
       "\n",
       "    .dataframe thead th {\n",
       "        text-align: right;\n",
       "    }\n",
       "</style>\n",
       "<table border=\"1\" class=\"dataframe\">\n",
       "  <thead>\n",
       "    <tr style=\"text-align: right;\">\n",
       "      <th></th>\n",
       "      <th>Invoice</th>\n",
       "      <th>StockCode</th>\n",
       "      <th>Description</th>\n",
       "      <th>Quantity</th>\n",
       "      <th>InvoiceDate</th>\n",
       "      <th>Price</th>\n",
       "      <th>Customer ID</th>\n",
       "      <th>Country</th>\n",
       "    </tr>\n",
       "  </thead>\n",
       "  <tbody>\n",
       "    <tr>\n",
       "      <th>0</th>\n",
       "      <td>536365</td>\n",
       "      <td>85123A</td>\n",
       "      <td>WHITE HANGING HEART T-LIGHT HOLDER</td>\n",
       "      <td>6</td>\n",
       "      <td>12/1/2010 8:26</td>\n",
       "      <td>2.55</td>\n",
       "      <td>17850.0</td>\n",
       "      <td>United Kingdom</td>\n",
       "    </tr>\n",
       "    <tr>\n",
       "      <th>1</th>\n",
       "      <td>536365</td>\n",
       "      <td>71053</td>\n",
       "      <td>WHITE METAL LANTERN</td>\n",
       "      <td>6</td>\n",
       "      <td>12/1/2010 8:26</td>\n",
       "      <td>3.39</td>\n",
       "      <td>17850.0</td>\n",
       "      <td>United Kingdom</td>\n",
       "    </tr>\n",
       "    <tr>\n",
       "      <th>2</th>\n",
       "      <td>536365</td>\n",
       "      <td>84406B</td>\n",
       "      <td>CREAM CUPID HEARTS COAT HANGER</td>\n",
       "      <td>8</td>\n",
       "      <td>12/1/2010 8:26</td>\n",
       "      <td>2.75</td>\n",
       "      <td>17850.0</td>\n",
       "      <td>United Kingdom</td>\n",
       "    </tr>\n",
       "  </tbody>\n",
       "</table>\n",
       "</div>"
      ],
      "text/plain": [
       "  Invoice StockCode                         Description  Quantity  \\\n",
       "0  536365    85123A  WHITE HANGING HEART T-LIGHT HOLDER         6   \n",
       "1  536365     71053                 WHITE METAL LANTERN         6   \n",
       "2  536365    84406B      CREAM CUPID HEARTS COAT HANGER         8   \n",
       "\n",
       "      InvoiceDate  Price  Customer ID         Country  \n",
       "0  12/1/2010 8:26   2.55      17850.0  United Kingdom  \n",
       "1  12/1/2010 8:26   3.39      17850.0  United Kingdom  \n",
       "2  12/1/2010 8:26   2.75      17850.0  United Kingdom  "
      ]
     },
     "execution_count": 3,
     "metadata": {},
     "output_type": "execute_result"
    }
   ],
   "source": [
    "df.head(3)"
   ]
  },
  {
   "cell_type": "code",
   "execution_count": 4,
   "metadata": {
    "execution": {
     "iopub.execute_input": "2022-12-30T16:50:04.577273Z",
     "iopub.status.busy": "2022-12-30T16:50:04.576793Z",
     "iopub.status.idle": "2022-12-30T16:50:04.583981Z",
     "shell.execute_reply": "2022-12-30T16:50:04.582936Z",
     "shell.execute_reply.started": "2022-12-30T16:50:04.577243Z"
    }
   },
   "outputs": [
    {
     "data": {
      "text/plain": [
       "(541910, 8)"
      ]
     },
     "execution_count": 4,
     "metadata": {},
     "output_type": "execute_result"
    }
   ],
   "source": [
    "df.shape"
   ]
  },
  {
   "cell_type": "markdown",
   "metadata": {},
   "source": [
    "---\n",
    "<a id='cleaning'></a>\n",
    "### Data Cleaning\n",
    "#### Assessing our data"
   ]
  },
  {
   "cell_type": "code",
   "execution_count": 5,
   "metadata": {
    "execution": {
     "iopub.execute_input": "2022-12-30T16:50:04.585887Z",
     "iopub.status.busy": "2022-12-30T16:50:04.585568Z",
     "iopub.status.idle": "2022-12-30T16:50:04.692468Z",
     "shell.execute_reply": "2022-12-30T16:50:04.691390Z",
     "shell.execute_reply.started": "2022-12-30T16:50:04.585857Z"
    },
    "scrolled": true
   },
   "outputs": [
    {
     "data": {
      "text/html": [
       "<div>\n",
       "<style scoped>\n",
       "    .dataframe tbody tr th:only-of-type {\n",
       "        vertical-align: middle;\n",
       "    }\n",
       "\n",
       "    .dataframe tbody tr th {\n",
       "        vertical-align: top;\n",
       "    }\n",
       "\n",
       "    .dataframe thead th {\n",
       "        text-align: right;\n",
       "    }\n",
       "</style>\n",
       "<table border=\"1\" class=\"dataframe\">\n",
       "  <thead>\n",
       "    <tr style=\"text-align: right;\">\n",
       "      <th></th>\n",
       "      <th>count</th>\n",
       "      <th>mean</th>\n",
       "      <th>std</th>\n",
       "      <th>min</th>\n",
       "      <th>25%</th>\n",
       "      <th>50%</th>\n",
       "      <th>75%</th>\n",
       "      <th>max</th>\n",
       "    </tr>\n",
       "  </thead>\n",
       "  <tbody>\n",
       "    <tr>\n",
       "      <th>Quantity</th>\n",
       "      <td>541910.0</td>\n",
       "      <td>9.552234</td>\n",
       "      <td>218.080957</td>\n",
       "      <td>-80995.00</td>\n",
       "      <td>1.00</td>\n",
       "      <td>3.00</td>\n",
       "      <td>10.00</td>\n",
       "      <td>80995.0</td>\n",
       "    </tr>\n",
       "    <tr>\n",
       "      <th>Price</th>\n",
       "      <td>541910.0</td>\n",
       "      <td>4.611138</td>\n",
       "      <td>96.759765</td>\n",
       "      <td>-11062.06</td>\n",
       "      <td>1.25</td>\n",
       "      <td>2.08</td>\n",
       "      <td>4.13</td>\n",
       "      <td>38970.0</td>\n",
       "    </tr>\n",
       "    <tr>\n",
       "      <th>Customer ID</th>\n",
       "      <td>406830.0</td>\n",
       "      <td>15287.684160</td>\n",
       "      <td>1713.603074</td>\n",
       "      <td>12346.00</td>\n",
       "      <td>13953.00</td>\n",
       "      <td>15152.00</td>\n",
       "      <td>16791.00</td>\n",
       "      <td>18287.0</td>\n",
       "    </tr>\n",
       "  </tbody>\n",
       "</table>\n",
       "</div>"
      ],
      "text/plain": [
       "                count          mean          std       min       25%  \\\n",
       "Quantity     541910.0      9.552234   218.080957 -80995.00      1.00   \n",
       "Price        541910.0      4.611138    96.759765 -11062.06      1.25   \n",
       "Customer ID  406830.0  15287.684160  1713.603074  12346.00  13953.00   \n",
       "\n",
       "                  50%       75%      max  \n",
       "Quantity         3.00     10.00  80995.0  \n",
       "Price            2.08      4.13  38970.0  \n",
       "Customer ID  15152.00  16791.00  18287.0  "
      ]
     },
     "execution_count": 5,
     "metadata": {},
     "output_type": "execute_result"
    }
   ],
   "source": [
    "df.describe().T"
   ]
  },
  {
   "cell_type": "markdown",
   "metadata": {},
   "source": [
    "#### New column for revenue"
   ]
  },
  {
   "cell_type": "code",
   "execution_count": 7,
   "metadata": {
    "execution": {
     "iopub.execute_input": "2022-12-30T16:50:04.696675Z",
     "iopub.status.busy": "2022-12-30T16:50:04.696261Z",
     "iopub.status.idle": "2022-12-30T16:50:04.704954Z",
     "shell.execute_reply": "2022-12-30T16:50:04.703729Z",
     "shell.execute_reply.started": "2022-12-30T16:50:04.696642Z"
    }
   },
   "outputs": [],
   "source": [
    "df['Revenue'] = df['Price'] * df['Quantity']"
   ]
  },
  {
   "cell_type": "code",
   "execution_count": 8,
   "metadata": {
    "execution": {
     "iopub.execute_input": "2022-12-30T16:50:04.707182Z",
     "iopub.status.busy": "2022-12-30T16:50:04.706717Z",
     "iopub.status.idle": "2022-12-30T16:50:04.725871Z",
     "shell.execute_reply": "2022-12-30T16:50:04.724230Z",
     "shell.execute_reply.started": "2022-12-30T16:50:04.707129Z"
    }
   },
   "outputs": [
    {
     "data": {
      "text/html": [
       "<div>\n",
       "<style scoped>\n",
       "    .dataframe tbody tr th:only-of-type {\n",
       "        vertical-align: middle;\n",
       "    }\n",
       "\n",
       "    .dataframe tbody tr th {\n",
       "        vertical-align: top;\n",
       "    }\n",
       "\n",
       "    .dataframe thead th {\n",
       "        text-align: right;\n",
       "    }\n",
       "</style>\n",
       "<table border=\"1\" class=\"dataframe\">\n",
       "  <thead>\n",
       "    <tr style=\"text-align: right;\">\n",
       "      <th></th>\n",
       "      <th>Invoice</th>\n",
       "      <th>StockCode</th>\n",
       "      <th>Description</th>\n",
       "      <th>Quantity</th>\n",
       "      <th>InvoiceDate</th>\n",
       "      <th>Price</th>\n",
       "      <th>Customer ID</th>\n",
       "      <th>Country</th>\n",
       "      <th>Revenue</th>\n",
       "    </tr>\n",
       "  </thead>\n",
       "  <tbody>\n",
       "    <tr>\n",
       "      <th>0</th>\n",
       "      <td>536365</td>\n",
       "      <td>85123A</td>\n",
       "      <td>WHITE HANGING HEART T-LIGHT HOLDER</td>\n",
       "      <td>6</td>\n",
       "      <td>12/1/2010 8:26</td>\n",
       "      <td>2.55</td>\n",
       "      <td>17850.0</td>\n",
       "      <td>United Kingdom</td>\n",
       "      <td>15.30</td>\n",
       "    </tr>\n",
       "    <tr>\n",
       "      <th>1</th>\n",
       "      <td>536365</td>\n",
       "      <td>71053</td>\n",
       "      <td>WHITE METAL LANTERN</td>\n",
       "      <td>6</td>\n",
       "      <td>12/1/2010 8:26</td>\n",
       "      <td>3.39</td>\n",
       "      <td>17850.0</td>\n",
       "      <td>United Kingdom</td>\n",
       "      <td>20.34</td>\n",
       "    </tr>\n",
       "    <tr>\n",
       "      <th>2</th>\n",
       "      <td>536365</td>\n",
       "      <td>84406B</td>\n",
       "      <td>CREAM CUPID HEARTS COAT HANGER</td>\n",
       "      <td>8</td>\n",
       "      <td>12/1/2010 8:26</td>\n",
       "      <td>2.75</td>\n",
       "      <td>17850.0</td>\n",
       "      <td>United Kingdom</td>\n",
       "      <td>22.00</td>\n",
       "    </tr>\n",
       "  </tbody>\n",
       "</table>\n",
       "</div>"
      ],
      "text/plain": [
       "  Invoice StockCode                         Description  Quantity  \\\n",
       "0  536365    85123A  WHITE HANGING HEART T-LIGHT HOLDER         6   \n",
       "1  536365     71053                 WHITE METAL LANTERN         6   \n",
       "2  536365    84406B      CREAM CUPID HEARTS COAT HANGER         8   \n",
       "\n",
       "      InvoiceDate  Price  Customer ID         Country  Revenue  \n",
       "0  12/1/2010 8:26   2.55      17850.0  United Kingdom    15.30  \n",
       "1  12/1/2010 8:26   3.39      17850.0  United Kingdom    20.34  \n",
       "2  12/1/2010 8:26   2.75      17850.0  United Kingdom    22.00  "
      ]
     },
     "execution_count": 8,
     "metadata": {},
     "output_type": "execute_result"
    }
   ],
   "source": [
    "df.head(3)"
   ]
  },
  {
   "cell_type": "markdown",
   "metadata": {},
   "source": [
    "#### Renaming the columns"
   ]
  },
  {
   "cell_type": "code",
   "execution_count": 10,
   "metadata": {
    "execution": {
     "iopub.execute_input": "2022-12-30T16:50:04.729133Z",
     "iopub.status.busy": "2022-12-30T16:50:04.728615Z",
     "iopub.status.idle": "2022-12-30T16:50:04.740346Z",
     "shell.execute_reply": "2022-12-30T16:50:04.739179Z",
     "shell.execute_reply.started": "2022-12-30T16:50:04.729083Z"
    }
   },
   "outputs": [],
   "source": [
    "df.rename({'Price':'Unit Price', 'StockCode': 'Stock Code', 'CustomerID': 'Customer ID',\n",
    "           'Quantity': 'Quantity Purchased', 'InvoiceDate':'Date of Purchase'}, \n",
    "          axis=1, inplace=True)"
   ]
  },
  {
   "cell_type": "markdown",
   "metadata": {},
   "source": [
    "#### Changing the index range to start from 1"
   ]
  },
  {
   "cell_type": "code",
   "execution_count": 11,
   "metadata": {
    "execution": {
     "iopub.execute_input": "2022-12-30T16:50:04.742735Z",
     "iopub.status.busy": "2022-12-30T16:50:04.742183Z",
     "iopub.status.idle": "2022-12-30T16:50:04.754289Z",
     "shell.execute_reply": "2022-12-30T16:50:04.753104Z",
     "shell.execute_reply.started": "2022-12-30T16:50:04.742688Z"
    }
   },
   "outputs": [],
   "source": [
    "df.index = np.arange(1, len(df)+1)"
   ]
  },
  {
   "cell_type": "markdown",
   "metadata": {},
   "source": [
    "#### Checking for null values"
   ]
  },
  {
   "cell_type": "code",
   "execution_count": 12,
   "metadata": {
    "execution": {
     "iopub.execute_input": "2022-12-30T16:50:04.756899Z",
     "iopub.status.busy": "2022-12-30T16:50:04.756173Z",
     "iopub.status.idle": "2022-12-30T16:50:04.889857Z",
     "shell.execute_reply": "2022-12-30T16:50:04.888798Z",
     "shell.execute_reply.started": "2022-12-30T16:50:04.756856Z"
    },
    "scrolled": true
   },
   "outputs": [
    {
     "data": {
      "text/plain": [
       "Invoice                    0\n",
       "Stock Code                 0\n",
       "Description             1454\n",
       "Quantity Purchased         0\n",
       "Date of Purchase           0\n",
       "Unit Price                 0\n",
       "Customer ID           135080\n",
       "Country                    0\n",
       "Revenue                    0\n",
       "dtype: int64"
      ]
     },
     "execution_count": 12,
     "metadata": {},
     "output_type": "execute_result"
    }
   ],
   "source": [
    "null_count = df.isnull().sum()\n",
    "null_count"
   ]
  },
  {
   "cell_type": "markdown",
   "metadata": {},
   "source": [
    "#### How much missing data in each column (in percentages)"
   ]
  },
  {
   "cell_type": "code",
   "execution_count": 13,
   "metadata": {
    "execution": {
     "iopub.execute_input": "2022-12-30T16:50:04.893122Z",
     "iopub.status.busy": "2022-12-30T16:50:04.892663Z",
     "iopub.status.idle": "2022-12-30T16:50:04.901873Z",
     "shell.execute_reply": "2022-12-30T16:50:04.900771Z",
     "shell.execute_reply.started": "2022-12-30T16:50:04.893077Z"
    }
   },
   "outputs": [
    {
     "data": {
      "text/plain": [
       "Invoice                0.00\n",
       "Stock Code             0.00\n",
       "Description            0.27\n",
       "Quantity Purchased     0.00\n",
       "Date of Purchase       0.00\n",
       "Unit Price             0.00\n",
       "Customer ID           24.93\n",
       "Country                0.00\n",
       "Revenue                0.00\n",
       "dtype: float64"
      ]
     },
     "execution_count": 13,
     "metadata": {},
     "output_type": "execute_result"
    }
   ],
   "source": [
    "df_null = round(100*(null_count)/len(df), 2)\n",
    "df_null"
   ]
  },
  {
   "cell_type": "code",
   "execution_count": 14,
   "metadata": {
    "execution": {
     "iopub.execute_input": "2022-12-30T16:50:04.904697Z",
     "iopub.status.busy": "2022-12-30T16:50:04.904221Z",
     "iopub.status.idle": "2022-12-30T16:50:11.639258Z",
     "shell.execute_reply": "2022-12-30T16:50:11.638146Z",
     "shell.execute_reply.started": "2022-12-30T16:50:04.904654Z"
    }
   },
   "outputs": [
    {
     "data": {
      "text/plain": [
       "<AxesSubplot:>"
      ]
     },
     "execution_count": 14,
     "metadata": {},
     "output_type": "execute_result"
    },
    {
     "data": {
      "image/png": "[encoded data removed]",
      "text/plain": [
       "<Figure size 640x480 with 1 Axes>"
      ]
     },
     "metadata": {},
     "output_type": "display_data"
    }
   ],
   "source": [
    "sns.heatmap(df.isnull(),yticklabels=False,cbar=False,cmap='viridis')"
   ]
  },
  {
   "cell_type": "code",
   "execution_count": 15,
   "metadata": {
    "execution": {
     "iopub.execute_input": "2022-12-30T16:50:11.641292Z",
     "iopub.status.busy": "2022-12-30T16:50:11.640893Z",
     "iopub.status.idle": "2022-12-30T16:50:14.066282Z",
     "shell.execute_reply": "2022-12-30T16:50:14.065036Z",
     "shell.execute_reply.started": "2022-12-30T16:50:11.641257Z"
    }
   },
   "outputs": [],
   "source": [
    "df['Date of Purchase'] = pd.to_datetime(df['Date of Purchase'])"
   ]
  },
  {
   "cell_type": "code",
   "execution_count": 16,
   "metadata": {
    "execution": {
     "iopub.execute_input": "2022-12-30T16:50:14.069895Z",
     "iopub.status.busy": "2022-12-30T16:50:14.069421Z",
     "iopub.status.idle": "2022-12-30T16:50:14.085717Z",
     "shell.execute_reply": "2022-12-30T16:50:14.084438Z",
     "shell.execute_reply.started": "2022-12-30T16:50:14.069850Z"
    }
   },
   "outputs": [
    {
     "data": {
      "text/html": [
       "<div>\n",
       "<style scoped>\n",
       "    .dataframe tbody tr th:only-of-type {\n",
       "        vertical-align: middle;\n",
       "    }\n",
       "\n",
       "    .dataframe tbody tr th {\n",
       "        vertical-align: top;\n",
       "    }\n",
       "\n",
       "    .dataframe thead th {\n",
       "        text-align: right;\n",
       "    }\n",
       "</style>\n",
       "<table border=\"1\" class=\"dataframe\">\n",
       "  <thead>\n",
       "    <tr style=\"text-align: right;\">\n",
       "      <th></th>\n",
       "      <th>Invoice</th>\n",
       "      <th>Stock Code</th>\n",
       "      <th>Description</th>\n",
       "      <th>Quantity Purchased</th>\n",
       "      <th>Date of Purchase</th>\n",
       "      <th>Unit Price</th>\n",
       "      <th>Customer ID</th>\n",
       "      <th>Country</th>\n",
       "      <th>Revenue</th>\n",
       "    </tr>\n",
       "  </thead>\n",
       "  <tbody>\n",
       "    <tr>\n",
       "      <th>1</th>\n",
       "      <td>536365</td>\n",
       "      <td>85123A</td>\n",
       "      <td>WHITE HANGING HEART T-LIGHT HOLDER</td>\n",
       "      <td>6</td>\n",
       "      <td>2010-12-01 08:26:00</td>\n",
       "      <td>2.55</td>\n",
       "      <td>17850.0</td>\n",
       "      <td>United Kingdom</td>\n",
       "      <td>15.3</td>\n",
       "    </tr>\n",
       "  </tbody>\n",
       "</table>\n",
       "</div>"
      ],
      "text/plain": [
       "  Invoice Stock Code                         Description  Quantity Purchased  \\\n",
       "1  536365     85123A  WHITE HANGING HEART T-LIGHT HOLDER                   6   \n",
       "\n",
       "     Date of Purchase  Unit Price  Customer ID         Country  Revenue  \n",
       "1 2010-12-01 08:26:00        2.55      17850.0  United Kingdom     15.3  "
      ]
     },
     "execution_count": 16,
     "metadata": {},
     "output_type": "execute_result"
    }
   ],
   "source": [
    "df.head(1)"
   ]
  },
  {
   "cell_type": "markdown",
   "metadata": {},
   "source": [
    "---\n",
    "<a id=\"eda\"></a>\n",
    "## EDA"
   ]
  },
  {
   "cell_type": "markdown",
   "metadata": {},
   "source": [
    " Creating two datasets; for all **retail** purchases and **returned** products"
   ]
  },
  {
   "cell_type": "code",
   "execution_count": 17,
   "metadata": {
    "execution": {
     "iopub.execute_input": "2022-12-30T16:50:14.093672Z",
     "iopub.status.busy": "2022-12-30T16:50:14.093239Z",
     "iopub.status.idle": "2022-12-30T16:50:14.255057Z",
     "shell.execute_reply": "2022-12-30T16:50:14.253887Z",
     "shell.execute_reply.started": "2022-12-30T16:50:14.093628Z"
    }
   },
   "outputs": [],
   "source": [
    "retail = df.dropna()"
   ]
  },
  {
   "cell_type": "code",
   "execution_count": 19,
   "metadata": {
    "execution": {
     "iopub.execute_input": "2022-12-30T16:50:14.256976Z",
     "iopub.status.busy": "2022-12-30T16:50:14.256545Z",
     "iopub.status.idle": "2022-12-30T16:50:14.509144Z",
     "shell.execute_reply": "2022-12-30T16:50:14.507871Z",
     "shell.execute_reply.started": "2022-12-30T16:50:14.256934Z"
    },
    "scrolled": true
   },
   "outputs": [],
   "source": [
    "returned = df[df[\"Invoice\"].str.contains(\"C\",na=False)]"
   ]
  },
  {
   "cell_type": "markdown",
   "metadata": {},
   "source": [
    "##### The earliest purchased date; first date recorded and latest purchase recorded."
   ]
  },
  {
   "cell_type": "code",
   "execution_count": 20,
   "metadata": {
    "execution": {
     "iopub.execute_input": "2022-12-30T16:50:14.510858Z",
     "iopub.status.busy": "2022-12-30T16:50:14.510477Z",
     "iopub.status.idle": "2022-12-30T16:50:16.329149Z",
     "shell.execute_reply": "2022-12-30T16:50:16.327736Z",
     "shell.execute_reply.started": "2022-12-30T16:50:14.510825Z"
    }
   },
   "outputs": [
    {
     "name": "stdout",
     "output_type": "stream",
     "text": [
      "Earliest date recorded: 2010-12-01 08:26:00, Latest recorded purchase: 2011-12-09 12:50:00\n"
     ]
    }
   ],
   "source": [
    "earliest_date = min(retail['Date of Purchase'])\n",
    "latest_date = max(retail['Date of Purchase'])\n",
    "print(f'Earliest date recorded: {earliest_date}, Latest recorded purchase: {latest_date}')"
   ]
  },
  {
   "cell_type": "markdown",
   "metadata": {},
   "source": [
    "<a id=\"returned\"></a>\n",
    "### Returned product analysis "
   ]
  },
  {
   "cell_type": "code",
   "execution_count": 22,
   "metadata": {
    "execution": {
     "iopub.execute_input": "2022-12-30T16:50:16.331020Z",
     "iopub.status.busy": "2022-12-30T16:50:16.330599Z",
     "iopub.status.idle": "2022-12-30T16:50:16.563683Z",
     "shell.execute_reply": "2022-12-30T16:50:16.562677Z",
     "shell.execute_reply.started": "2022-12-30T16:50:16.330989Z"
    },
    "scrolled": true
   },
   "outputs": [
    {
     "data": {
      "text/html": [
       "<div>\n",
       "<style scoped>\n",
       "    .dataframe tbody tr th:only-of-type {\n",
       "        vertical-align: middle;\n",
       "    }\n",
       "\n",
       "    .dataframe tbody tr th {\n",
       "        vertical-align: top;\n",
       "    }\n",
       "\n",
       "    .dataframe thead th {\n",
       "        text-align: right;\n",
       "    }\n",
       "</style>\n",
       "<table border=\"1\" class=\"dataframe\">\n",
       "  <thead>\n",
       "    <tr style=\"text-align: right;\">\n",
       "      <th></th>\n",
       "      <th>Invoice</th>\n",
       "      <th>Stock Code</th>\n",
       "      <th>Description</th>\n",
       "      <th>Quantity Purchased</th>\n",
       "      <th>Date of Purchase</th>\n",
       "      <th>Unit Price</th>\n",
       "      <th>Customer ID</th>\n",
       "      <th>Country</th>\n",
       "      <th>Revenue</th>\n",
       "    </tr>\n",
       "  </thead>\n",
       "  <tbody>\n",
       "    <tr>\n",
       "      <th>540423</th>\n",
       "      <td>C581484</td>\n",
       "      <td>23843</td>\n",
       "      <td>PAPER CRAFT , LITTLE BIRDIE</td>\n",
       "      <td>-80995</td>\n",
       "      <td>2011-12-09 09:27:00</td>\n",
       "      <td>2.08</td>\n",
       "      <td>16446.0</td>\n",
       "      <td>United Kingdom</td>\n",
       "      <td>-168469.6</td>\n",
       "    </tr>\n",
       "    <tr>\n",
       "      <th>61625</th>\n",
       "      <td>C541433</td>\n",
       "      <td>23166</td>\n",
       "      <td>MEDIUM CERAMIC TOP STORAGE JAR</td>\n",
       "      <td>-74215</td>\n",
       "      <td>2011-01-18 10:17:00</td>\n",
       "      <td>1.04</td>\n",
       "      <td>12346.0</td>\n",
       "      <td>United Kingdom</td>\n",
       "      <td>-77183.6</td>\n",
       "    </tr>\n",
       "    <tr>\n",
       "      <th>4269</th>\n",
       "      <td>C536757</td>\n",
       "      <td>84347</td>\n",
       "      <td>ROTATING SILVER ANGELS T-LIGHT HLDR</td>\n",
       "      <td>-9360</td>\n",
       "      <td>2010-12-02 14:23:00</td>\n",
       "      <td>0.03</td>\n",
       "      <td>15838.0</td>\n",
       "      <td>United Kingdom</td>\n",
       "      <td>-280.8</td>\n",
       "    </tr>\n",
       "  </tbody>\n",
       "</table>\n",
       "</div>"
      ],
      "text/plain": [
       "        Invoice Stock Code                          Description  \\\n",
       "540423  C581484      23843          PAPER CRAFT , LITTLE BIRDIE   \n",
       "61625   C541433      23166       MEDIUM CERAMIC TOP STORAGE JAR   \n",
       "4269    C536757      84347  ROTATING SILVER ANGELS T-LIGHT HLDR   \n",
       "\n",
       "        Quantity Purchased    Date of Purchase  Unit Price  Customer ID  \\\n",
       "540423              -80995 2011-12-09 09:27:00        2.08      16446.0   \n",
       "61625               -74215 2011-01-18 10:17:00        1.04      12346.0   \n",
       "4269                 -9360 2010-12-02 14:23:00        0.03      15838.0   \n",
       "\n",
       "               Country   Revenue  \n",
       "540423  United Kingdom -168469.6  \n",
       "61625   United Kingdom  -77183.6  \n",
       "4269    United Kingdom    -280.8  "
      ]
     },
     "execution_count": 22,
     "metadata": {},
     "output_type": "execute_result"
    }
   ],
   "source": [
    "returned = df[df[\"Invoice\"].str.contains(\"C\",na=False)]\n",
    "returned.sort_values(\"Quantity Purchased\").head(3)"
   ]
  },
  {
   "cell_type": "code",
   "execution_count": 23,
   "metadata": {
    "execution": {
     "iopub.execute_input": "2022-12-30T16:50:16.565401Z",
     "iopub.status.busy": "2022-12-30T16:50:16.565038Z",
     "iopub.status.idle": "2022-12-30T16:50:16.596593Z",
     "shell.execute_reply": "2022-12-30T16:50:16.595213Z",
     "shell.execute_reply.started": "2022-12-30T16:50:16.565342Z"
    },
    "scrolled": true
   },
   "outputs": [
    {
     "data": {
      "text/html": [
       "<div>\n",
       "<style scoped>\n",
       "    .dataframe tbody tr th:only-of-type {\n",
       "        vertical-align: middle;\n",
       "    }\n",
       "\n",
       "    .dataframe tbody tr th {\n",
       "        vertical-align: top;\n",
       "    }\n",
       "\n",
       "    .dataframe thead th {\n",
       "        text-align: right;\n",
       "    }\n",
       "</style>\n",
       "<table border=\"1\" class=\"dataframe\">\n",
       "  <thead>\n",
       "    <tr style=\"text-align: right;\">\n",
       "      <th></th>\n",
       "      <th>count</th>\n",
       "      <th>mean</th>\n",
       "      <th>std</th>\n",
       "      <th>min</th>\n",
       "      <th>25%</th>\n",
       "      <th>50%</th>\n",
       "      <th>75%</th>\n",
       "      <th>max</th>\n",
       "    </tr>\n",
       "  </thead>\n",
       "  <tbody>\n",
       "    <tr>\n",
       "      <th>Quantity Purchased</th>\n",
       "      <td>9288.0</td>\n",
       "      <td>-29.885228</td>\n",
       "      <td>1145.786965</td>\n",
       "      <td>-80995.00</td>\n",
       "      <td>-6.00</td>\n",
       "      <td>-2.00</td>\n",
       "      <td>-1.00</td>\n",
       "      <td>-1.00</td>\n",
       "    </tr>\n",
       "    <tr>\n",
       "      <th>Unit Price</th>\n",
       "      <td>9288.0</td>\n",
       "      <td>48.393661</td>\n",
       "      <td>666.600430</td>\n",
       "      <td>0.01</td>\n",
       "      <td>1.45</td>\n",
       "      <td>2.95</td>\n",
       "      <td>5.95</td>\n",
       "      <td>38970.00</td>\n",
       "    </tr>\n",
       "    <tr>\n",
       "      <th>Customer ID</th>\n",
       "      <td>8905.0</td>\n",
       "      <td>14991.667266</td>\n",
       "      <td>1706.772357</td>\n",
       "      <td>12346.00</td>\n",
       "      <td>13510.00</td>\n",
       "      <td>14895.00</td>\n",
       "      <td>16393.00</td>\n",
       "      <td>18282.00</td>\n",
       "    </tr>\n",
       "    <tr>\n",
       "      <th>Revenue</th>\n",
       "      <td>9288.0</td>\n",
       "      <td>-96.556039</td>\n",
       "      <td>2039.905511</td>\n",
       "      <td>-168469.60</td>\n",
       "      <td>-17.70</td>\n",
       "      <td>-8.50</td>\n",
       "      <td>-3.70</td>\n",
       "      <td>-0.12</td>\n",
       "    </tr>\n",
       "  </tbody>\n",
       "</table>\n",
       "</div>"
      ],
      "text/plain": [
       "                     count          mean          std        min       25%  \\\n",
       "Quantity Purchased  9288.0    -29.885228  1145.786965  -80995.00     -6.00   \n",
       "Unit Price          9288.0     48.393661   666.600430       0.01      1.45   \n",
       "Customer ID         8905.0  14991.667266  1706.772357   12346.00  13510.00   \n",
       "Revenue             9288.0    -96.556039  2039.905511 -168469.60    -17.70   \n",
       "\n",
       "                         50%       75%       max  \n",
       "Quantity Purchased     -2.00     -1.00     -1.00  \n",
       "Unit Price              2.95      5.95  38970.00  \n",
       "Customer ID         14895.00  16393.00  18282.00  \n",
       "Revenue                -8.50     -3.70     -0.12  "
      ]
     },
     "execution_count": 23,
     "metadata": {},
     "output_type": "execute_result"
    }
   ],
   "source": [
    "returned.describe().T"
   ]
  },
  {
   "cell_type": "markdown",
   "metadata": {},
   "source": [
    "#### Most returned products"
   ]
  },
  {
   "cell_type": "code",
   "execution_count": 25,
   "metadata": {
    "execution": {
     "iopub.execute_input": "2022-12-30T16:50:16.598789Z",
     "iopub.status.busy": "2022-12-30T16:50:16.598407Z",
     "iopub.status.idle": "2022-12-30T16:50:16.620405Z",
     "shell.execute_reply": "2022-12-30T16:50:16.619020Z",
     "shell.execute_reply.started": "2022-12-30T16:50:16.598756Z"
    }
   },
   "outputs": [
    {
     "data": {
      "text/html": [
       "<div>\n",
       "<style scoped>\n",
       "    .dataframe tbody tr th:only-of-type {\n",
       "        vertical-align: middle;\n",
       "    }\n",
       "\n",
       "    .dataframe tbody tr th {\n",
       "        vertical-align: top;\n",
       "    }\n",
       "\n",
       "    .dataframe thead th {\n",
       "        text-align: right;\n",
       "    }\n",
       "</style>\n",
       "<table border=\"1\" class=\"dataframe\">\n",
       "  <thead>\n",
       "    <tr style=\"text-align: right;\">\n",
       "      <th></th>\n",
       "      <th>Product Name</th>\n",
       "      <th>Frequency of returns</th>\n",
       "    </tr>\n",
       "  </thead>\n",
       "  <tbody>\n",
       "    <tr>\n",
       "      <th>1093</th>\n",
       "      <td>Manual</td>\n",
       "      <td>244</td>\n",
       "    </tr>\n",
       "    <tr>\n",
       "      <th>1399</th>\n",
       "      <td>REGENCY CAKESTAND 3 TIER</td>\n",
       "      <td>181</td>\n",
       "    </tr>\n",
       "    <tr>\n",
       "      <th>1305</th>\n",
       "      <td>POSTAGE</td>\n",
       "      <td>126</td>\n",
       "    </tr>\n",
       "    <tr>\n",
       "      <th>887</th>\n",
       "      <td>JAM MAKING SET WITH JARS</td>\n",
       "      <td>87</td>\n",
       "    </tr>\n",
       "    <tr>\n",
       "      <th>538</th>\n",
       "      <td>Discount</td>\n",
       "      <td>77</td>\n",
       "    </tr>\n",
       "  </tbody>\n",
       "</table>\n",
       "</div>"
      ],
      "text/plain": [
       "                  Product Name  Frequency of returns\n",
       "1093                    Manual                   244\n",
       "1399  REGENCY CAKESTAND 3 TIER                   181\n",
       "1305                   POSTAGE                   126\n",
       "887   JAM MAKING SET WITH JARS                    87\n",
       "538                   Discount                    77"
      ]
     },
     "execution_count": 25,
     "metadata": {},
     "output_type": "execute_result"
    }
   ],
   "source": [
    "product_return_count = returned.groupby('Description')['Invoice'].count()\n",
    "product_return_count = product_return_count.reset_index()\n",
    "product_return_count.columns = ['Product Name', 'Frequency of returns']\n",
    "product_return_count.sort_values(by='Frequency of returns', ascending=False).head(5)"
   ]
  },
  {
   "cell_type": "markdown",
   "metadata": {},
   "source": [
    "#### Frequency of customer returns"
   ]
  },
  {
   "cell_type": "code",
   "execution_count": 28,
   "metadata": {
    "execution": {
     "iopub.execute_input": "2022-12-30T16:50:16.623217Z",
     "iopub.status.busy": "2022-12-30T16:50:16.622044Z",
     "iopub.status.idle": "2022-12-30T16:50:16.644202Z",
     "shell.execute_reply": "2022-12-30T16:50:16.643030Z",
     "shell.execute_reply.started": "2022-12-30T16:50:16.623171Z"
    }
   },
   "outputs": [
    {
     "data": {
      "text/html": [
       "<div>\n",
       "<style scoped>\n",
       "    .dataframe tbody tr th:only-of-type {\n",
       "        vertical-align: middle;\n",
       "    }\n",
       "\n",
       "    .dataframe tbody tr th {\n",
       "        vertical-align: top;\n",
       "    }\n",
       "\n",
       "    .dataframe thead th {\n",
       "        text-align: right;\n",
       "    }\n",
       "</style>\n",
       "<table border=\"1\" class=\"dataframe\">\n",
       "  <thead>\n",
       "    <tr style=\"text-align: right;\">\n",
       "      <th></th>\n",
       "      <th>Customer ID</th>\n",
       "      <th>Frequency of returns</th>\n",
       "    </tr>\n",
       "  </thead>\n",
       "  <tbody>\n",
       "    <tr>\n",
       "      <th>736</th>\n",
       "      <td>14911.0</td>\n",
       "      <td>226</td>\n",
       "    </tr>\n",
       "    <tr>\n",
       "      <th>1485</th>\n",
       "      <td>17841.0</td>\n",
       "      <td>136</td>\n",
       "    </tr>\n",
       "    <tr>\n",
       "      <th>1397</th>\n",
       "      <td>17511.0</td>\n",
       "      <td>113</td>\n",
       "    </tr>\n",
       "  </tbody>\n",
       "</table>\n",
       "</div>"
      ],
      "text/plain": [
       "      Customer ID  Frequency of returns\n",
       "736       14911.0                   226\n",
       "1485      17841.0                   136\n",
       "1397      17511.0                   113"
      ]
     },
     "execution_count": 28,
     "metadata": {},
     "output_type": "execute_result"
    }
   ],
   "source": [
    "f_returned = returned.groupby('Customer ID')['Invoice'].count()\n",
    "f_returned = f_returned.reset_index()\n",
    "f_returned.rename({'Invoice':'Frequency of returns'}, axis=1, inplace=True)\n",
    "\n",
    "f_returned.sort_values(by='Frequency of returns',  axis=0,ascending=False).head(3)"
   ]
  },
  {
   "cell_type": "markdown",
   "metadata": {},
   "source": [
    "#### Quantity of customer returns"
   ]
  },
  {
   "cell_type": "code",
   "execution_count": 29,
   "metadata": {
    "execution": {
     "iopub.execute_input": "2022-12-30T16:50:16.646836Z",
     "iopub.status.busy": "2022-12-30T16:50:16.645682Z",
     "iopub.status.idle": "2022-12-30T16:50:16.665729Z",
     "shell.execute_reply": "2022-12-30T16:50:16.664505Z",
     "shell.execute_reply.started": "2022-12-30T16:50:16.646790Z"
    }
   },
   "outputs": [
    {
     "data": {
      "text/html": [
       "<div>\n",
       "<style scoped>\n",
       "    .dataframe tbody tr th:only-of-type {\n",
       "        vertical-align: middle;\n",
       "    }\n",
       "\n",
       "    .dataframe tbody tr th {\n",
       "        vertical-align: top;\n",
       "    }\n",
       "\n",
       "    .dataframe thead th {\n",
       "        text-align: right;\n",
       "    }\n",
       "</style>\n",
       "<table border=\"1\" class=\"dataframe\">\n",
       "  <thead>\n",
       "    <tr style=\"text-align: right;\">\n",
       "      <th></th>\n",
       "      <th>Customer ID</th>\n",
       "      <th>Quantity of customer returns</th>\n",
       "    </tr>\n",
       "  </thead>\n",
       "  <tbody>\n",
       "    <tr>\n",
       "      <th>0</th>\n",
       "      <td>12346.0</td>\n",
       "      <td>74215</td>\n",
       "    </tr>\n",
       "    <tr>\n",
       "      <th>1</th>\n",
       "      <td>12352.0</td>\n",
       "      <td>66</td>\n",
       "    </tr>\n",
       "    <tr>\n",
       "      <th>2</th>\n",
       "      <td>12359.0</td>\n",
       "      <td>10</td>\n",
       "    </tr>\n",
       "  </tbody>\n",
       "</table>\n",
       "</div>"
      ],
      "text/plain": [
       "   Customer ID  Quantity of customer returns\n",
       "0      12346.0                         74215\n",
       "1      12352.0                            66\n",
       "2      12359.0                            10"
      ]
     },
     "execution_count": 29,
     "metadata": {},
     "output_type": "execute_result"
    }
   ],
   "source": [
    "q_returned = returned.groupby('Customer ID')['Quantity Purchased'].sum()\n",
    "q_returned = q_returned.reset_index()\n",
    "q_returned.columns = ['Customer ID', 'Quantity of customer returns']\n",
    "q_returned['Quantity of customer returns'] = abs(q_returned['Quantity of customer returns'])\n",
    "q_returned.head(3)"
   ]
  },
  {
   "cell_type": "markdown",
   "metadata": {},
   "source": [
    "#### Revenue lost to failed puirchases"
   ]
  },
  {
   "cell_type": "code",
   "execution_count": 30,
   "metadata": {
    "execution": {
     "iopub.execute_input": "2022-12-30T16:50:16.669859Z",
     "iopub.status.busy": "2022-12-30T16:50:16.668329Z",
     "iopub.status.idle": "2022-12-30T16:50:16.690470Z",
     "shell.execute_reply": "2022-12-30T16:50:16.689027Z",
     "shell.execute_reply.started": "2022-12-30T16:50:16.669817Z"
    }
   },
   "outputs": [
    {
     "name": "stdout",
     "output_type": "stream",
     "text": [
      "About 611342.09 was lost to cancelled and failed purchases.\n"
     ]
    },
    {
     "data": {
      "text/html": [
       "<div>\n",
       "<style scoped>\n",
       "    .dataframe tbody tr th:only-of-type {\n",
       "        vertical-align: middle;\n",
       "    }\n",
       "\n",
       "    .dataframe tbody tr th {\n",
       "        vertical-align: top;\n",
       "    }\n",
       "\n",
       "    .dataframe thead th {\n",
       "        text-align: right;\n",
       "    }\n",
       "</style>\n",
       "<table border=\"1\" class=\"dataframe\">\n",
       "  <thead>\n",
       "    <tr style=\"text-align: right;\">\n",
       "      <th></th>\n",
       "      <th>Customer ID</th>\n",
       "      <th>Revenue lost</th>\n",
       "    </tr>\n",
       "  </thead>\n",
       "  <tbody>\n",
       "    <tr>\n",
       "      <th>0</th>\n",
       "      <td>12346.0</td>\n",
       "      <td>77183.60</td>\n",
       "    </tr>\n",
       "    <tr>\n",
       "      <th>1</th>\n",
       "      <td>12352.0</td>\n",
       "      <td>960.63</td>\n",
       "    </tr>\n",
       "    <tr>\n",
       "      <th>2</th>\n",
       "      <td>12359.0</td>\n",
       "      <td>127.05</td>\n",
       "    </tr>\n",
       "  </tbody>\n",
       "</table>\n",
       "</div>"
      ],
      "text/plain": [
       "   Customer ID  Revenue lost\n",
       "0      12346.0      77183.60\n",
       "1      12352.0        960.63\n",
       "2      12359.0        127.05"
      ]
     },
     "execution_count": 30,
     "metadata": {},
     "output_type": "execute_result"
    }
   ],
   "source": [
    "r_returned = returned.groupby('Customer ID')['Revenue'].sum()\n",
    "r_returned = r_returned.reset_index()\n",
    "r_returned.columns = ['Customer ID', 'Revenue lost']\n",
    "r_returned['Revenue lost'] = abs(r_returned['Revenue lost'])\n",
    "\n",
    "print(f\"About {round(r_returned['Revenue lost'].sum(), 2)} was lost to cancelled and failed purchases.\")\n",
    "r_returned.head(3)"
   ]
  },
  {
   "cell_type": "markdown",
   "metadata": {},
   "source": [
    "#### Failed purchases per month"
   ]
  },
  {
   "cell_type": "code",
   "execution_count": 32,
   "metadata": {
    "execution": {
     "iopub.execute_input": "2022-12-30T16:50:16.692509Z",
     "iopub.status.busy": "2022-12-30T16:50:16.692154Z",
     "iopub.status.idle": "2022-12-30T16:50:16.731135Z",
     "shell.execute_reply": "2022-12-30T16:50:16.729822Z",
     "shell.execute_reply.started": "2022-12-30T16:50:16.692477Z"
    }
   },
   "outputs": [
    {
     "data": {
      "text/html": [
       "<div>\n",
       "<style scoped>\n",
       "    .dataframe tbody tr th:only-of-type {\n",
       "        vertical-align: middle;\n",
       "    }\n",
       "\n",
       "    .dataframe tbody tr th {\n",
       "        vertical-align: top;\n",
       "    }\n",
       "\n",
       "    .dataframe thead th {\n",
       "        text-align: right;\n",
       "    }\n",
       "</style>\n",
       "<table border=\"1\" class=\"dataframe\">\n",
       "  <thead>\n",
       "    <tr style=\"text-align: right;\">\n",
       "      <th>Month</th>\n",
       "      <th>2010-12-31</th>\n",
       "      <th>2011-01-31</th>\n",
       "      <th>2011-02-28</th>\n",
       "      <th>2011-03-31</th>\n",
       "      <th>2011-04-30</th>\n",
       "      <th>2011-05-31</th>\n",
       "      <th>2011-06-30</th>\n",
       "      <th>2011-07-31</th>\n",
       "      <th>2011-08-31</th>\n",
       "      <th>2011-09-30</th>\n",
       "      <th>2011-10-31</th>\n",
       "      <th>2011-11-30</th>\n",
       "      <th>2011-12-31</th>\n",
       "    </tr>\n",
       "  </thead>\n",
       "  <tbody>\n",
       "    <tr>\n",
       "      <th>Returned/cancelled purchases</th>\n",
       "      <td>728</td>\n",
       "      <td>701</td>\n",
       "      <td>475</td>\n",
       "      <td>699</td>\n",
       "      <td>559</td>\n",
       "      <td>621</td>\n",
       "      <td>711</td>\n",
       "      <td>685</td>\n",
       "      <td>668</td>\n",
       "      <td>805</td>\n",
       "      <td>1200</td>\n",
       "      <td>1076</td>\n",
       "      <td>360</td>\n",
       "    </tr>\n",
       "  </tbody>\n",
       "</table>\n",
       "</div>"
      ],
      "text/plain": [
       "Month                         2010-12-31  2011-01-31  2011-02-28  2011-03-31  \\\n",
       "Returned/cancelled purchases         728         701         475         699   \n",
       "\n",
       "Month                         2011-04-30  2011-05-31  2011-06-30  2011-07-31  \\\n",
       "Returned/cancelled purchases         559         621         711         685   \n",
       "\n",
       "Month                         2011-08-31  2011-09-30  2011-10-31  2011-11-30  \\\n",
       "Returned/cancelled purchases         668         805        1200        1076   \n",
       "\n",
       "Month                         2011-12-31  \n",
       "Returned/cancelled purchases         360  "
      ]
     },
     "execution_count": 32,
     "metadata": {},
     "output_type": "execute_result"
    }
   ],
   "source": [
    "returned_per_month = returned.set_index('Date of Purchase')['Invoice'].resample('M').count()\n",
    "# q_returned = returned.groupby('Date of Purchase')['Quantity Purchased'].sum()\n",
    "returned_per_month = returned_per_month.reset_index()\n",
    "returned_per_month.columns = ['Month', 'Returned/cancelled purchases']\n",
    "returned_per_month.index = returned_per_month['Month']\n",
    "returned_per_month.drop('Month', axis=1).T"
   ]
  },
  {
   "cell_type": "code",
   "execution_count": 33,
   "metadata": {
    "execution": {
     "iopub.execute_input": "2022-12-30T16:50:16.733466Z",
     "iopub.status.busy": "2022-12-30T16:50:16.732943Z",
     "iopub.status.idle": "2022-12-30T16:50:16.759324Z",
     "shell.execute_reply": "2022-12-30T16:50:16.758220Z",
     "shell.execute_reply.started": "2022-12-30T16:50:16.733420Z"
    }
   },
   "outputs": [
    {
     "data": {
      "text/html": [
       "<div>\n",
       "<style scoped>\n",
       "    .dataframe tbody tr th:only-of-type {\n",
       "        vertical-align: middle;\n",
       "    }\n",
       "\n",
       "    .dataframe tbody tr th {\n",
       "        vertical-align: top;\n",
       "    }\n",
       "\n",
       "    .dataframe thead th {\n",
       "        text-align: right;\n",
       "    }\n",
       "</style>\n",
       "<table border=\"1\" class=\"dataframe\">\n",
       "  <thead>\n",
       "    <tr style=\"text-align: right;\">\n",
       "      <th></th>\n",
       "      <th>Customer ID</th>\n",
       "      <th>Frequency of returns</th>\n",
       "      <th>Quantity of customer returns</th>\n",
       "    </tr>\n",
       "  </thead>\n",
       "  <tbody>\n",
       "    <tr>\n",
       "      <th>0</th>\n",
       "      <td>12346.0</td>\n",
       "      <td>1</td>\n",
       "      <td>74215</td>\n",
       "    </tr>\n",
       "    <tr>\n",
       "      <th>1</th>\n",
       "      <td>12352.0</td>\n",
       "      <td>10</td>\n",
       "      <td>66</td>\n",
       "    </tr>\n",
       "    <tr>\n",
       "      <th>2</th>\n",
       "      <td>12359.0</td>\n",
       "      <td>6</td>\n",
       "      <td>10</td>\n",
       "    </tr>\n",
       "  </tbody>\n",
       "</table>\n",
       "</div>"
      ],
      "text/plain": [
       "   Customer ID  Frequency of returns  Quantity of customer returns\n",
       "0      12346.0                     1                         74215\n",
       "1      12352.0                    10                            66\n",
       "2      12359.0                     6                            10"
      ]
     },
     "execution_count": 33,
     "metadata": {},
     "output_type": "execute_result"
    }
   ],
   "source": [
    "f_q_returned = pd.merge(f_returned,q_returned, on='Customer ID', how='inner')\n",
    "f_q_returned.head(3)"
   ]
  },
  {
   "cell_type": "markdown",
   "metadata": {},
   "source": [
    "## Completed purchases\n",
    "### Factors R-F-M\n",
    "<img src='customer_map.png'>\n",
    "Recall the factors: Recency, Frequency and Monetary('Revenue' in this case)"
   ]
  },
  {
   "cell_type": "code",
   "execution_count": 34,
   "metadata": {
    "execution": {
     "iopub.execute_input": "2022-12-30T16:50:16.760656Z",
     "iopub.status.busy": "2022-12-30T16:50:16.760303Z",
     "iopub.status.idle": "2022-12-30T16:50:16.852964Z",
     "shell.execute_reply": "2022-12-30T16:50:16.851815Z",
     "shell.execute_reply.started": "2022-12-30T16:50:16.760625Z"
    },
    "scrolled": true
   },
   "outputs": [
    {
     "data": {
      "text/html": [
       "<div>\n",
       "<style scoped>\n",
       "    .dataframe tbody tr th:only-of-type {\n",
       "        vertical-align: middle;\n",
       "    }\n",
       "\n",
       "    .dataframe tbody tr th {\n",
       "        vertical-align: top;\n",
       "    }\n",
       "\n",
       "    .dataframe thead th {\n",
       "        text-align: right;\n",
       "    }\n",
       "</style>\n",
       "<table border=\"1\" class=\"dataframe\">\n",
       "  <thead>\n",
       "    <tr style=\"text-align: right;\">\n",
       "      <th></th>\n",
       "      <th>count</th>\n",
       "      <th>mean</th>\n",
       "      <th>std</th>\n",
       "      <th>min</th>\n",
       "      <th>25%</th>\n",
       "      <th>50%</th>\n",
       "      <th>75%</th>\n",
       "      <th>max</th>\n",
       "    </tr>\n",
       "  </thead>\n",
       "  <tbody>\n",
       "    <tr>\n",
       "      <th>Quantity Purchased</th>\n",
       "      <td>406830.0</td>\n",
       "      <td>12.061276</td>\n",
       "      <td>248.693065</td>\n",
       "      <td>-80995.0</td>\n",
       "      <td>2.00</td>\n",
       "      <td>5.00</td>\n",
       "      <td>12.00</td>\n",
       "      <td>80995.0</td>\n",
       "    </tr>\n",
       "    <tr>\n",
       "      <th>Unit Price</th>\n",
       "      <td>406830.0</td>\n",
       "      <td>3.460507</td>\n",
       "      <td>69.315080</td>\n",
       "      <td>0.0</td>\n",
       "      <td>1.25</td>\n",
       "      <td>1.95</td>\n",
       "      <td>3.75</td>\n",
       "      <td>38970.0</td>\n",
       "    </tr>\n",
       "    <tr>\n",
       "      <th>Customer ID</th>\n",
       "      <td>406830.0</td>\n",
       "      <td>15287.684160</td>\n",
       "      <td>1713.603074</td>\n",
       "      <td>12346.0</td>\n",
       "      <td>13953.00</td>\n",
       "      <td>15152.00</td>\n",
       "      <td>16791.00</td>\n",
       "      <td>18287.0</td>\n",
       "    </tr>\n",
       "    <tr>\n",
       "      <th>Revenue</th>\n",
       "      <td>406830.0</td>\n",
       "      <td>20.401848</td>\n",
       "      <td>427.591192</td>\n",
       "      <td>-168469.6</td>\n",
       "      <td>4.20</td>\n",
       "      <td>11.10</td>\n",
       "      <td>19.50</td>\n",
       "      <td>168469.6</td>\n",
       "    </tr>\n",
       "  </tbody>\n",
       "</table>\n",
       "</div>"
      ],
      "text/plain": [
       "                       count          mean          std       min       25%  \\\n",
       "Quantity Purchased  406830.0     12.061276   248.693065  -80995.0      2.00   \n",
       "Unit Price          406830.0      3.460507    69.315080       0.0      1.25   \n",
       "Customer ID         406830.0  15287.684160  1713.603074   12346.0  13953.00   \n",
       "Revenue             406830.0     20.401848   427.591192 -168469.6      4.20   \n",
       "\n",
       "                         50%       75%       max  \n",
       "Quantity Purchased      5.00     12.00   80995.0  \n",
       "Unit Price              1.95      3.75   38970.0  \n",
       "Customer ID         15152.00  16791.00   18287.0  \n",
       "Revenue                11.10     19.50  168469.6  "
      ]
     },
     "execution_count": 34,
     "metadata": {},
     "output_type": "execute_result"
    }
   ],
   "source": [
    "retail.describe().T"
   ]
  },
  {
   "cell_type": "markdown",
   "metadata": {},
   "source": [
    "Since monetary is ready; as Revenue, we find the other two attributes for each customer"
   ]
  },
  {
   "cell_type": "markdown",
   "metadata": {},
   "source": [
    "#### Recency ~ R"
   ]
  },
  {
   "cell_type": "code",
   "execution_count": 35,
   "metadata": {
    "execution": {
     "iopub.execute_input": "2022-12-30T16:50:16.855103Z",
     "iopub.status.busy": "2022-12-30T16:50:16.854681Z",
     "iopub.status.idle": "2022-12-30T16:50:16.865212Z",
     "shell.execute_reply": "2022-12-30T16:50:16.863983Z",
     "shell.execute_reply.started": "2022-12-30T16:50:16.855063Z"
    }
   },
   "outputs": [],
   "source": [
    "retail['Purchase recency'] = latest_date -retail['Date of Purchase']"
   ]
  },
  {
   "cell_type": "code",
   "execution_count": 36,
   "metadata": {
    "execution": {
     "iopub.execute_input": "2022-12-30T16:50:16.866941Z",
     "iopub.status.busy": "2022-12-30T16:50:16.866558Z",
     "iopub.status.idle": "2022-12-30T16:50:16.872462Z",
     "shell.execute_reply": "2022-12-30T16:50:16.871198Z",
     "shell.execute_reply.started": "2022-12-30T16:50:16.866909Z"
    }
   },
   "outputs": [],
   "source": [
    "##### Now to obtain the recency for each customer"
   ]
  },
  {
   "cell_type": "code",
   "execution_count": 37,
   "metadata": {
    "execution": {
     "iopub.execute_input": "2022-12-30T16:50:16.875228Z",
     "iopub.status.busy": "2022-12-30T16:50:16.874644Z",
     "iopub.status.idle": "2022-12-30T16:50:16.911220Z",
     "shell.execute_reply": "2022-12-30T16:50:16.910138Z",
     "shell.execute_reply.started": "2022-12-30T16:50:16.875181Z"
    },
    "scrolled": true
   },
   "outputs": [
    {
     "data": {
      "text/html": [
       "<div>\n",
       "<style scoped>\n",
       "    .dataframe tbody tr th:only-of-type {\n",
       "        vertical-align: middle;\n",
       "    }\n",
       "\n",
       "    .dataframe tbody tr th {\n",
       "        vertical-align: top;\n",
       "    }\n",
       "\n",
       "    .dataframe thead th {\n",
       "        text-align: right;\n",
       "    }\n",
       "</style>\n",
       "<table border=\"1\" class=\"dataframe\">\n",
       "  <thead>\n",
       "    <tr style=\"text-align: right;\">\n",
       "      <th></th>\n",
       "      <th>Customer ID</th>\n",
       "      <th>Recency</th>\n",
       "    </tr>\n",
       "  </thead>\n",
       "  <tbody>\n",
       "    <tr>\n",
       "      <th>3837</th>\n",
       "      <td>17556.0</td>\n",
       "      <td>205 days 02:02:00</td>\n",
       "    </tr>\n",
       "    <tr>\n",
       "      <th>3742</th>\n",
       "      <td>17429.0</td>\n",
       "      <td>120 days 02:37:00</td>\n",
       "    </tr>\n",
       "    <tr>\n",
       "      <th>2650</th>\n",
       "      <td>15925.0</td>\n",
       "      <td>193 days 21:15:00</td>\n",
       "    </tr>\n",
       "  </tbody>\n",
       "</table>\n",
       "</div>"
      ],
      "text/plain": [
       "      Customer ID           Recency\n",
       "3837      17556.0 205 days 02:02:00\n",
       "3742      17429.0 120 days 02:37:00\n",
       "2650      15925.0 193 days 21:15:00"
      ]
     },
     "execution_count": 37,
     "metadata": {},
     "output_type": "execute_result"
    }
   ],
   "source": [
    "rfm_r = retail.groupby('Customer ID')['Purchase recency'].min()\n",
    "rfm_r = rfm_r.reset_index()\n",
    "rfm_r.columns = ['Customer ID', 'Recency']\n",
    "rfm_r.sample(3)"
   ]
  },
  {
   "cell_type": "markdown",
   "metadata": {},
   "source": [
    "Since what we really need to know is how many days ago was the last purchase, we fetch days only"
   ]
  },
  {
   "cell_type": "code",
   "execution_count": 38,
   "metadata": {
    "execution": {
     "iopub.execute_input": "2022-12-30T16:50:16.913169Z",
     "iopub.status.busy": "2022-12-30T16:50:16.912822Z",
     "iopub.status.idle": "2022-12-30T16:50:16.925186Z",
     "shell.execute_reply": "2022-12-30T16:50:16.924286Z",
     "shell.execute_reply.started": "2022-12-30T16:50:16.913137Z"
    }
   },
   "outputs": [
    {
     "data": {
      "text/html": [
       "<div>\n",
       "<style scoped>\n",
       "    .dataframe tbody tr th:only-of-type {\n",
       "        vertical-align: middle;\n",
       "    }\n",
       "\n",
       "    .dataframe tbody tr th {\n",
       "        vertical-align: top;\n",
       "    }\n",
       "\n",
       "    .dataframe thead th {\n",
       "        text-align: right;\n",
       "    }\n",
       "</style>\n",
       "<table border=\"1\" class=\"dataframe\">\n",
       "  <thead>\n",
       "    <tr style=\"text-align: right;\">\n",
       "      <th></th>\n",
       "      <th>Customer ID</th>\n",
       "      <th>Recency</th>\n",
       "    </tr>\n",
       "  </thead>\n",
       "  <tbody>\n",
       "    <tr>\n",
       "      <th>0</th>\n",
       "      <td>12346.0</td>\n",
       "      <td>325</td>\n",
       "    </tr>\n",
       "    <tr>\n",
       "      <th>1</th>\n",
       "      <td>12347.0</td>\n",
       "      <td>1</td>\n",
       "    </tr>\n",
       "    <tr>\n",
       "      <th>2</th>\n",
       "      <td>12348.0</td>\n",
       "      <td>74</td>\n",
       "    </tr>\n",
       "  </tbody>\n",
       "</table>\n",
       "</div>"
      ],
      "text/plain": [
       "   Customer ID  Recency\n",
       "0      12346.0      325\n",
       "1      12347.0        1\n",
       "2      12348.0       74"
      ]
     },
     "execution_count": 38,
     "metadata": {},
     "output_type": "execute_result"
    }
   ],
   "source": [
    "rfm_r['Recency'] = rfm_r['Recency'].dt.days\n",
    "rfm_r.head(3)"
   ]
  },
  {
   "cell_type": "markdown",
   "metadata": {},
   "source": [
    "#### Frequency ~ F"
   ]
  },
  {
   "cell_type": "code",
   "execution_count": 40,
   "metadata": {
    "execution": {
     "iopub.execute_input": "2022-12-30T16:50:16.927107Z",
     "iopub.status.busy": "2022-12-30T16:50:16.926566Z",
     "iopub.status.idle": "2022-12-30T16:50:16.975066Z",
     "shell.execute_reply": "2022-12-30T16:50:16.974043Z",
     "shell.execute_reply.started": "2022-12-30T16:50:16.927074Z"
    }
   },
   "outputs": [
    {
     "data": {
      "text/html": [
       "<div>\n",
       "<style scoped>\n",
       "    .dataframe tbody tr th:only-of-type {\n",
       "        vertical-align: middle;\n",
       "    }\n",
       "\n",
       "    .dataframe tbody tr th {\n",
       "        vertical-align: top;\n",
       "    }\n",
       "\n",
       "    .dataframe thead th {\n",
       "        text-align: right;\n",
       "    }\n",
       "</style>\n",
       "<table border=\"1\" class=\"dataframe\">\n",
       "  <thead>\n",
       "    <tr style=\"text-align: right;\">\n",
       "      <th></th>\n",
       "      <th>Customer ID</th>\n",
       "      <th>Frequency</th>\n",
       "    </tr>\n",
       "  </thead>\n",
       "  <tbody>\n",
       "    <tr>\n",
       "      <th>0</th>\n",
       "      <td>12346.0</td>\n",
       "      <td>2</td>\n",
       "    </tr>\n",
       "    <tr>\n",
       "      <th>1</th>\n",
       "      <td>12347.0</td>\n",
       "      <td>182</td>\n",
       "    </tr>\n",
       "    <tr>\n",
       "      <th>2</th>\n",
       "      <td>12348.0</td>\n",
       "      <td>31</td>\n",
       "    </tr>\n",
       "  </tbody>\n",
       "</table>\n",
       "</div>"
      ],
      "text/plain": [
       "   Customer ID  Frequency\n",
       "0      12346.0          2\n",
       "1      12347.0        182\n",
       "2      12348.0         31"
      ]
     },
     "execution_count": 40,
     "metadata": {},
     "output_type": "execute_result"
    }
   ],
   "source": [
    "rfm_f = retail.groupby('Customer ID')['Invoice'].count()\n",
    "rfm_f = rfm_f.reset_index()\n",
    "rfm_f.columns = ['Customer ID', 'Frequency']\n",
    "rfm_f.head(3)"
   ]
  },
  {
   "cell_type": "markdown",
   "metadata": {},
   "source": [
    "#### Monetary ~ M"
   ]
  },
  {
   "cell_type": "code",
   "execution_count": 41,
   "metadata": {
    "execution": {
     "iopub.execute_input": "2022-12-30T16:50:16.977008Z",
     "iopub.status.busy": "2022-12-30T16:50:16.976602Z",
     "iopub.status.idle": "2022-12-30T16:50:17.003457Z",
     "shell.execute_reply": "2022-12-30T16:50:17.002243Z",
     "shell.execute_reply.started": "2022-12-30T16:50:16.976971Z"
    }
   },
   "outputs": [
    {
     "data": {
      "text/html": [
       "<div>\n",
       "<style scoped>\n",
       "    .dataframe tbody tr th:only-of-type {\n",
       "        vertical-align: middle;\n",
       "    }\n",
       "\n",
       "    .dataframe tbody tr th {\n",
       "        vertical-align: top;\n",
       "    }\n",
       "\n",
       "    .dataframe thead th {\n",
       "        text-align: right;\n",
       "    }\n",
       "</style>\n",
       "<table border=\"1\" class=\"dataframe\">\n",
       "  <thead>\n",
       "    <tr style=\"text-align: right;\">\n",
       "      <th></th>\n",
       "      <th>Customer ID</th>\n",
       "      <th>Monetary</th>\n",
       "    </tr>\n",
       "  </thead>\n",
       "  <tbody>\n",
       "    <tr>\n",
       "      <th>0</th>\n",
       "      <td>12346.0</td>\n",
       "      <td>0.00</td>\n",
       "    </tr>\n",
       "    <tr>\n",
       "      <th>1</th>\n",
       "      <td>12347.0</td>\n",
       "      <td>4310.00</td>\n",
       "    </tr>\n",
       "    <tr>\n",
       "      <th>2</th>\n",
       "      <td>12348.0</td>\n",
       "      <td>1797.24</td>\n",
       "    </tr>\n",
       "  </tbody>\n",
       "</table>\n",
       "</div>"
      ],
      "text/plain": [
       "   Customer ID  Monetary\n",
       "0      12346.0      0.00\n",
       "1      12347.0   4310.00\n",
       "2      12348.0   1797.24"
      ]
     },
     "execution_count": 41,
     "metadata": {},
     "output_type": "execute_result"
    }
   ],
   "source": [
    "rfm_m = retail.groupby('Customer ID')['Revenue'].sum()\n",
    "rfm_m = rfm_m.reset_index()\n",
    "rfm_m.columns = ['Customer ID', 'Monetary']\n",
    "rfm_m.head(3)\n"
   ]
  },
  {
   "cell_type": "markdown",
   "metadata": {},
   "source": [
    "Now we can merge the *r-f-m* dataframes"
   ]
  },
  {
   "cell_type": "code",
   "execution_count": 42,
   "metadata": {
    "execution": {
     "iopub.execute_input": "2022-12-30T16:50:17.005450Z",
     "iopub.status.busy": "2022-12-30T16:50:17.005087Z",
     "iopub.status.idle": "2022-12-30T16:50:17.022682Z",
     "shell.execute_reply": "2022-12-30T16:50:17.021450Z",
     "shell.execute_reply.started": "2022-12-30T16:50:17.005414Z"
    }
   },
   "outputs": [
    {
     "data": {
      "text/html": [
       "<div>\n",
       "<style scoped>\n",
       "    .dataframe tbody tr th:only-of-type {\n",
       "        vertical-align: middle;\n",
       "    }\n",
       "\n",
       "    .dataframe tbody tr th {\n",
       "        vertical-align: top;\n",
       "    }\n",
       "\n",
       "    .dataframe thead th {\n",
       "        text-align: right;\n",
       "    }\n",
       "</style>\n",
       "<table border=\"1\" class=\"dataframe\">\n",
       "  <thead>\n",
       "    <tr style=\"text-align: right;\">\n",
       "      <th></th>\n",
       "      <th>Customer ID</th>\n",
       "      <th>Recency</th>\n",
       "      <th>Frequency</th>\n",
       "    </tr>\n",
       "  </thead>\n",
       "  <tbody>\n",
       "    <tr>\n",
       "      <th>0</th>\n",
       "      <td>12346.0</td>\n",
       "      <td>325</td>\n",
       "      <td>2</td>\n",
       "    </tr>\n",
       "    <tr>\n",
       "      <th>1</th>\n",
       "      <td>12347.0</td>\n",
       "      <td>1</td>\n",
       "      <td>182</td>\n",
       "    </tr>\n",
       "    <tr>\n",
       "      <th>2</th>\n",
       "      <td>12348.0</td>\n",
       "      <td>74</td>\n",
       "      <td>31</td>\n",
       "    </tr>\n",
       "  </tbody>\n",
       "</table>\n",
       "</div>"
      ],
      "text/plain": [
       "   Customer ID  Recency  Frequency\n",
       "0      12346.0      325          2\n",
       "1      12347.0        1        182\n",
       "2      12348.0       74         31"
      ]
     },
     "execution_count": 42,
     "metadata": {},
     "output_type": "execute_result"
    }
   ],
   "source": [
    "rfm_r_f = pd.merge(rfm_r,rfm_f, on='Customer ID', how='inner')\n",
    "rfm_r_f.head(3)"
   ]
  },
  {
   "cell_type": "code",
   "execution_count": 43,
   "metadata": {
    "execution": {
     "iopub.execute_input": "2022-12-30T16:50:17.025488Z",
     "iopub.status.busy": "2022-12-30T16:50:17.024873Z",
     "iopub.status.idle": "2022-12-30T16:50:17.029535Z",
     "shell.execute_reply": "2022-12-30T16:50:17.028488Z",
     "shell.execute_reply.started": "2022-12-30T16:50:17.025450Z"
    }
   },
   "outputs": [],
   "source": [
    "### Note that we merged Recency and Frequency first because we cannot merge all three at once"
   ]
  },
  {
   "cell_type": "code",
   "execution_count": 44,
   "metadata": {
    "execution": {
     "iopub.execute_input": "2022-12-30T16:50:17.031421Z",
     "iopub.status.busy": "2022-12-30T16:50:17.031046Z",
     "iopub.status.idle": "2022-12-30T16:50:17.059369Z",
     "shell.execute_reply": "2022-12-30T16:50:17.057770Z",
     "shell.execute_reply.started": "2022-12-30T16:50:17.031387Z"
    },
    "scrolled": true
   },
   "outputs": [
    {
     "data": {
      "text/html": [
       "<div>\n",
       "<style scoped>\n",
       "    .dataframe tbody tr th:only-of-type {\n",
       "        vertical-align: middle;\n",
       "    }\n",
       "\n",
       "    .dataframe tbody tr th {\n",
       "        vertical-align: top;\n",
       "    }\n",
       "\n",
       "    .dataframe thead th {\n",
       "        text-align: right;\n",
       "    }\n",
       "</style>\n",
       "<table border=\"1\" class=\"dataframe\">\n",
       "  <thead>\n",
       "    <tr style=\"text-align: right;\">\n",
       "      <th></th>\n",
       "      <th>Recency</th>\n",
       "      <th>Frequency</th>\n",
       "      <th>Monetary</th>\n",
       "    </tr>\n",
       "    <tr>\n",
       "      <th>Customer ID</th>\n",
       "      <th></th>\n",
       "      <th></th>\n",
       "      <th></th>\n",
       "    </tr>\n",
       "  </thead>\n",
       "  <tbody>\n",
       "    <tr>\n",
       "      <th>12346.0</th>\n",
       "      <td>325</td>\n",
       "      <td>2</td>\n",
       "      <td>0.00</td>\n",
       "    </tr>\n",
       "    <tr>\n",
       "      <th>12347.0</th>\n",
       "      <td>1</td>\n",
       "      <td>182</td>\n",
       "      <td>4310.00</td>\n",
       "    </tr>\n",
       "    <tr>\n",
       "      <th>12348.0</th>\n",
       "      <td>74</td>\n",
       "      <td>31</td>\n",
       "      <td>1797.24</td>\n",
       "    </tr>\n",
       "  </tbody>\n",
       "</table>\n",
       "</div>"
      ],
      "text/plain": [
       "             Recency  Frequency  Monetary\n",
       "Customer ID                              \n",
       "12346.0          325          2      0.00\n",
       "12347.0            1        182   4310.00\n",
       "12348.0           74         31   1797.24"
      ]
     },
     "execution_count": 44,
     "metadata": {},
     "output_type": "execute_result"
    }
   ],
   "source": [
    "rfm = pd.merge(rfm_r_f,rfm_m, on='Customer ID', how='inner')\n",
    "rfm.columns = ['Customer ID', 'Recency', 'Frequency', 'Monetary'] #recall that monetary represents customer expenditure\n",
    "rfm.set_index('Customer ID', inplace=True)\n",
    "rfm.head(3)"
   ]
  },
  {
   "cell_type": "markdown",
   "metadata": {},
   "source": [
    "### Scoring with R-F-M\n",
    "##### Scoring each customer based on Recency, Frequency, Monetary(Expenditure)"
   ]
  },
  {
   "cell_type": "code",
   "execution_count": 45,
   "metadata": {
    "execution": {
     "iopub.execute_input": "2022-12-30T16:50:17.063189Z",
     "iopub.status.busy": "2022-12-30T16:50:17.061828Z",
     "iopub.status.idle": "2022-12-30T16:50:17.098419Z",
     "shell.execute_reply": "2022-12-30T16:50:17.097321Z",
     "shell.execute_reply.started": "2022-12-30T16:50:17.063148Z"
    }
   },
   "outputs": [
    {
     "data": {
      "text/html": [
       "<div>\n",
       "<style scoped>\n",
       "    .dataframe tbody tr th:only-of-type {\n",
       "        vertical-align: middle;\n",
       "    }\n",
       "\n",
       "    .dataframe tbody tr th {\n",
       "        vertical-align: top;\n",
       "    }\n",
       "\n",
       "    .dataframe thead th {\n",
       "        text-align: right;\n",
       "    }\n",
       "</style>\n",
       "<table border=\"1\" class=\"dataframe\">\n",
       "  <thead>\n",
       "    <tr style=\"text-align: right;\">\n",
       "      <th></th>\n",
       "      <th>Recency</th>\n",
       "      <th>Frequency</th>\n",
       "      <th>Monetary</th>\n",
       "      <th>Recency Score</th>\n",
       "      <th>Frequency Score</th>\n",
       "      <th>Monetary Score</th>\n",
       "      <th>RFM Score</th>\n",
       "      <th>RFM Segment</th>\n",
       "    </tr>\n",
       "    <tr>\n",
       "      <th>Customer ID</th>\n",
       "      <th></th>\n",
       "      <th></th>\n",
       "      <th></th>\n",
       "      <th></th>\n",
       "      <th></th>\n",
       "      <th></th>\n",
       "      <th></th>\n",
       "      <th></th>\n",
       "    </tr>\n",
       "  </thead>\n",
       "  <tbody>\n",
       "    <tr>\n",
       "      <th>12346.0</th>\n",
       "      <td>325</td>\n",
       "      <td>2</td>\n",
       "      <td>0.00</td>\n",
       "      <td>1</td>\n",
       "      <td>1</td>\n",
       "      <td>1</td>\n",
       "      <td>3</td>\n",
       "      <td>111</td>\n",
       "    </tr>\n",
       "    <tr>\n",
       "      <th>12347.0</th>\n",
       "      <td>1</td>\n",
       "      <td>182</td>\n",
       "      <td>4310.00</td>\n",
       "      <td>5</td>\n",
       "      <td>5</td>\n",
       "      <td>5</td>\n",
       "      <td>15</td>\n",
       "      <td>555</td>\n",
       "    </tr>\n",
       "    <tr>\n",
       "      <th>12348.0</th>\n",
       "      <td>74</td>\n",
       "      <td>31</td>\n",
       "      <td>1797.24</td>\n",
       "      <td>2</td>\n",
       "      <td>3</td>\n",
       "      <td>4</td>\n",
       "      <td>9</td>\n",
       "      <td>234</td>\n",
       "    </tr>\n",
       "  </tbody>\n",
       "</table>\n",
       "</div>"
      ],
      "text/plain": [
       "             Recency  Frequency  Monetary Recency Score Frequency Score  \\\n",
       "Customer ID                                                               \n",
       "12346.0          325          2      0.00             1               1   \n",
       "12347.0            1        182   4310.00             5               5   \n",
       "12348.0           74         31   1797.24             2               3   \n",
       "\n",
       "            Monetary Score  RFM Score RFM Segment  \n",
       "Customer ID                                        \n",
       "12346.0                  1          3         111  \n",
       "12347.0                  5         15         555  \n",
       "12348.0                  4          9         234  "
      ]
     },
     "execution_count": 45,
     "metadata": {},
     "output_type": "execute_result"
    }
   ],
   "source": [
    "rfm[\"Recency Score\"]  = pd.qcut(rfm[\"Recency\"], 5, labels = [5, 4 , 3, 2, 1])\n",
    "rfm[\"Frequency Score\"]= pd.qcut(rfm[\"Frequency\"].rank(method=\"first\"),5, labels=[1,2,3,4,5])\n",
    "rfm[\"Monetary Score\"] = pd.qcut(rfm['Monetary'], 5, labels = [1, 2, 3, 4, 5])\n",
    "\n",
    "rfm['RFM Score'] = rfm[[\"Recency Score\", \"Frequency Score\", 'Monetary Score']].sum(axis = 1)\n",
    "\n",
    "rfm['RFM Segment'] = rfm['Recency Score'].astype(str) + rfm['Frequency Score'].astype(str) + rfm['Monetary Score'].astype(str)\n",
    "rfm\n",
    "rfm.head(3)"
   ]
  },
  {
   "cell_type": "code",
   "execution_count": 46,
   "metadata": {
    "execution": {
     "iopub.execute_input": "2022-12-30T16:50:17.100654Z",
     "iopub.status.busy": "2022-12-30T16:50:17.100266Z",
     "iopub.status.idle": "2022-12-30T16:50:17.189900Z",
     "shell.execute_reply": "2022-12-30T16:50:17.188617Z",
     "shell.execute_reply.started": "2022-12-30T16:50:17.100618Z"
    }
   },
   "outputs": [],
   "source": [
    "seg_map = {\n",
    "    r'[1-2][1-2]': 'Hibernating',\n",
    "    r'[1-2][3-4]': 'At Risk',\n",
    "    r'[1-2]5': 'Can\\'t Loose',\n",
    "    r'3[1-2]': 'About to Sleep',\n",
    "    r'33': 'Need Attention',\n",
    "    r'[3-4][4-5]': 'Loyal',\n",
    "    r'41': 'Promising',\n",
    "    r'51': 'New Customers',\n",
    "    r'[4-5][2-3]': 'Potential Loyalists',\n",
    "    r'5[4-5]': 'Champions'\n",
    "}\n",
    "\n",
    "rfm['Customer Segment'] = rfm['Recency Score'].astype(str) + rfm['Frequency Score'].astype(str)\n",
    "rfm['Customer Segment'] = rfm['Customer Segment'].replace(seg_map, regex=True)"
   ]
  },
  {
   "cell_type": "code",
   "execution_count": 47,
   "metadata": {
    "execution": {
     "iopub.execute_input": "2022-12-30T16:50:17.192683Z",
     "iopub.status.busy": "2022-12-30T16:50:17.191797Z",
     "iopub.status.idle": "2022-12-30T16:50:17.211739Z",
     "shell.execute_reply": "2022-12-30T16:50:17.210432Z",
     "shell.execute_reply.started": "2022-12-30T16:50:17.192634Z"
    }
   },
   "outputs": [
    {
     "data": {
      "text/html": [
       "<div>\n",
       "<style scoped>\n",
       "    .dataframe tbody tr th:only-of-type {\n",
       "        vertical-align: middle;\n",
       "    }\n",
       "\n",
       "    .dataframe tbody tr th {\n",
       "        vertical-align: top;\n",
       "    }\n",
       "\n",
       "    .dataframe thead th {\n",
       "        text-align: right;\n",
       "    }\n",
       "</style>\n",
       "<table border=\"1\" class=\"dataframe\">\n",
       "  <thead>\n",
       "    <tr style=\"text-align: right;\">\n",
       "      <th></th>\n",
       "      <th>Recency</th>\n",
       "      <th>Frequency</th>\n",
       "      <th>Monetary</th>\n",
       "      <th>Recency Score</th>\n",
       "      <th>Frequency Score</th>\n",
       "      <th>Monetary Score</th>\n",
       "      <th>RFM Score</th>\n",
       "      <th>RFM Segment</th>\n",
       "      <th>Customer Segment</th>\n",
       "    </tr>\n",
       "    <tr>\n",
       "      <th>Customer ID</th>\n",
       "      <th></th>\n",
       "      <th></th>\n",
       "      <th></th>\n",
       "      <th></th>\n",
       "      <th></th>\n",
       "      <th></th>\n",
       "      <th></th>\n",
       "      <th></th>\n",
       "      <th></th>\n",
       "    </tr>\n",
       "  </thead>\n",
       "  <tbody>\n",
       "    <tr>\n",
       "      <th>12346.0</th>\n",
       "      <td>325</td>\n",
       "      <td>2</td>\n",
       "      <td>0.00</td>\n",
       "      <td>1</td>\n",
       "      <td>1</td>\n",
       "      <td>1</td>\n",
       "      <td>3</td>\n",
       "      <td>111</td>\n",
       "      <td>Hibernating</td>\n",
       "    </tr>\n",
       "    <tr>\n",
       "      <th>12347.0</th>\n",
       "      <td>1</td>\n",
       "      <td>182</td>\n",
       "      <td>4310.00</td>\n",
       "      <td>5</td>\n",
       "      <td>5</td>\n",
       "      <td>5</td>\n",
       "      <td>15</td>\n",
       "      <td>555</td>\n",
       "      <td>Champions</td>\n",
       "    </tr>\n",
       "    <tr>\n",
       "      <th>12348.0</th>\n",
       "      <td>74</td>\n",
       "      <td>31</td>\n",
       "      <td>1797.24</td>\n",
       "      <td>2</td>\n",
       "      <td>3</td>\n",
       "      <td>4</td>\n",
       "      <td>9</td>\n",
       "      <td>234</td>\n",
       "      <td>At Risk</td>\n",
       "    </tr>\n",
       "  </tbody>\n",
       "</table>\n",
       "</div>"
      ],
      "text/plain": [
       "             Recency  Frequency  Monetary Recency Score Frequency Score  \\\n",
       "Customer ID                                                               \n",
       "12346.0          325          2      0.00             1               1   \n",
       "12347.0            1        182   4310.00             5               5   \n",
       "12348.0           74         31   1797.24             2               3   \n",
       "\n",
       "            Monetary Score  RFM Score RFM Segment Customer Segment  \n",
       "Customer ID                                                         \n",
       "12346.0                  1          3         111      Hibernating  \n",
       "12347.0                  5         15         555        Champions  \n",
       "12348.0                  4          9         234          At Risk  "
      ]
     },
     "execution_count": 47,
     "metadata": {},
     "output_type": "execute_result"
    }
   ],
   "source": [
    "rfm.head(3)"
   ]
  },
  {
   "cell_type": "markdown",
   "metadata": {},
   "source": [
    "### Outlier Analysis"
   ]
  },
  {
   "cell_type": "code",
   "execution_count": 48,
   "metadata": {
    "execution": {
     "iopub.execute_input": "2022-12-30T16:50:17.214222Z",
     "iopub.status.busy": "2022-12-30T16:50:17.213520Z",
     "iopub.status.idle": "2022-12-30T16:50:17.481481Z",
     "shell.execute_reply": "2022-12-30T16:50:17.480119Z",
     "shell.execute_reply.started": "2022-12-30T16:50:17.214177Z"
    }
   },
   "outputs": [
    {
     "data": {
      "text/plain": [
       "Text(0.5, 0, 'Attributes')"
      ]
     },
     "execution_count": 48,
     "metadata": {},
     "output_type": "execute_result"
    },
    {
     "data": {
      "image/png": "[encoded data removed]",
      "text/plain": [
       "<Figure size 1000x700 with 1 Axes>"
      ]
     },
     "metadata": {},
     "output_type": "display_data"
    }
   ],
   "source": [
    "attributes = ['Recency', 'Frequency', 'Monetary']\n",
    "# Since we need all except the customer ID columns\n",
    "plt.rcParams['figure.figsize'] = [10,7]\n",
    "sns.boxplot(data = rfm[attributes], orient=\"v\", saturation=1, width=0.7)\n",
    "plt.title(\"Outliers Distribution\", fontsize = 13, fontweight = 'bold')\n",
    "plt.ylabel(\"Range\", fontweight = 'bold')\n",
    "plt.xlabel(\"Attributes\", fontweight = 'bold')"
   ]
  },
  {
   "cell_type": "code",
   "execution_count": 49,
   "metadata": {
    "execution": {
     "iopub.execute_input": "2022-12-30T16:50:17.484472Z",
     "iopub.status.busy": "2022-12-30T16:50:17.482991Z",
     "iopub.status.idle": "2022-12-30T16:50:17.506327Z",
     "shell.execute_reply": "2022-12-30T16:50:17.505006Z",
     "shell.execute_reply.started": "2022-12-30T16:50:17.484424Z"
    }
   },
   "outputs": [],
   "source": [
    "\n",
    "# Removing (statistical) outliers for Recency\n",
    "Q1 = rfm['Recency'].quantile(0.05)\n",
    "Q3 = rfm['Recency'].quantile(0.95)\n",
    "IQR = Q3 - Q1\n",
    "rfm = rfm[(rfm['Recency'] >= Q1 - 1.5 * IQR) & (rfm['Recency'] <= Q3 + 1.5 * IQR)]\n",
    "\n",
    "# Removing (statistical) outliers for Frequency\n",
    "Q1 = rfm['Frequency'].quantile(0.05)\n",
    "Q3 = rfm['Frequency'].quantile(0.95)\n",
    "IQR = Q3 - Q1\n",
    "rfm = rfm[(rfm['Frequency'] >= Q1 - 1.5 * IQR) & (rfm['Frequency'] <= Q3 + 1.5 * IQR)]\n",
    "\n",
    "\n",
    "# Removing (statistical) outliers for Expenditure\n",
    "Q1 = rfm['Monetary'].quantile(0.05)\n",
    "Q3 = rfm['Monetary'].quantile(0.95)\n",
    "IQR = Q3 - Q1\n",
    "rfm = rfm[(rfm['Monetary'] >= Q1 - 1.5 * IQR) & (rfm['Monetary'] <= Q3 + 1.5 * IQR)]\n"
   ]
  },
  {
   "cell_type": "code",
   "execution_count": 50,
   "metadata": {
    "execution": {
     "iopub.execute_input": "2022-12-30T16:50:17.508561Z",
     "iopub.status.busy": "2022-12-30T16:50:17.507989Z",
     "iopub.status.idle": "2022-12-30T16:50:17.774999Z",
     "shell.execute_reply": "2022-12-30T16:50:17.774098Z",
     "shell.execute_reply.started": "2022-12-30T16:50:17.508525Z"
    }
   },
   "outputs": [
    {
     "data": {
      "text/plain": [
       "Text(0.5, 0, 'Factors')"
      ]
     },
     "execution_count": 50,
     "metadata": {},
     "output_type": "execute_result"
    },
    {
     "data": {
      "image/png": "[encoded data removed]",
      "text/plain": [
       "<Figure size 1000x700 with 1 Axes>"
      ]
     },
     "metadata": {},
     "output_type": "display_data"
    }
   ],
   "source": [
    "plt.rcParams['figure.figsize'] = [10,7]\n",
    "sns.boxplot(data = rfm[attributes], orient=\"v\", palette=\"Set2\", whis=1.5, saturation=1, width=0.7)\n",
    "plt.title(\"Outliers Variable Distribution\", fontsize = 13, fontweight = 'bold')\n",
    "plt.ylabel(\"Range\", fontweight = 'bold')\n",
    "plt.xlabel(\"Factors\", fontweight = 'bold')"
   ]
  },
  {
   "cell_type": "code",
   "execution_count": 51,
   "metadata": {
    "execution": {
     "iopub.execute_input": "2022-12-30T16:50:17.784847Z",
     "iopub.status.busy": "2022-12-30T16:50:17.782425Z",
     "iopub.status.idle": "2022-12-30T16:50:18.386174Z",
     "shell.execute_reply": "2022-12-30T16:50:18.384806Z",
     "shell.execute_reply.started": "2022-12-30T16:50:17.784804Z"
    }
   },
   "outputs": [
    {
     "data": {
      "text/plain": [
       "<AxesSubplot:xlabel='Customer Segment', ylabel='Recency'>"
      ]
     },
     "execution_count": 51,
     "metadata": {},
     "output_type": "execute_result"
    },
    {
     "data": {
      "image/png": "[encoded data removed]",
      "text/plain": [
       "<Figure size 1500x700 with 1 Axes>"
      ]
     },
     "metadata": {},
     "output_type": "display_data"
    }
   ],
   "source": [
    "sns.set_palette(\"GnBu_d\")\n",
    "sns.set_style('whitegrid')\n",
    "\n",
    "plt.rcParams['figure.figsize'] = [15,7]\n",
    "sns.barplot(x = rfm[\"Customer Segment\"], y = rfm[\"Recency\"], palette=\"bright\")"
   ]
  },
  {
   "cell_type": "code",
   "execution_count": 52,
   "metadata": {
    "execution": {
     "iopub.execute_input": "2022-12-30T16:50:18.388109Z",
     "iopub.status.busy": "2022-12-30T16:50:18.387738Z",
     "iopub.status.idle": "2022-12-30T16:50:18.997472Z",
     "shell.execute_reply": "2022-12-30T16:50:18.996130Z",
     "shell.execute_reply.started": "2022-12-30T16:50:18.388075Z"
    }
   },
   "outputs": [
    {
     "data": {
      "text/plain": [
       "<AxesSubplot:xlabel='Customer Segment', ylabel='Frequency'>"
      ]
     },
     "execution_count": 52,
     "metadata": {},
     "output_type": "execute_result"
    },
    {
     "data": {
      "image/png": "[encoded data removed]",
      "text/plain": [
       "<Figure size 1500x700 with 1 Axes>"
      ]
     },
     "metadata": {},
     "output_type": "display_data"
    }
   ],
   "source": [
    "sns.barplot(x = rfm[\"Customer Segment\"], y = rfm[\"Frequency\"], palette=\"bright\")"
   ]
  },
  {
   "cell_type": "code",
   "execution_count": 53,
   "metadata": {
    "execution": {
     "iopub.execute_input": "2022-12-30T16:50:18.999296Z",
     "iopub.status.busy": "2022-12-30T16:50:18.998973Z",
     "iopub.status.idle": "2022-12-30T16:50:19.594397Z",
     "shell.execute_reply": "2022-12-30T16:50:19.593191Z",
     "shell.execute_reply.started": "2022-12-30T16:50:18.999266Z"
    }
   },
   "outputs": [
    {
     "data": {
      "text/plain": [
       "<AxesSubplot:xlabel='Customer Segment', ylabel='Monetary'>"
      ]
     },
     "execution_count": 53,
     "metadata": {},
     "output_type": "execute_result"
    },
    {
     "data": {
      "image/png": "[encoded data removed]",
      "text/plain": [
       "<Figure size 1500x700 with 1 Axes>"
      ]
     },
     "metadata": {},
     "output_type": "display_data"
    }
   ],
   "source": [
    "sns.barplot(x = rfm[\"Customer Segment\"], y = rfm[\"Monetary\"], palette=\"bright\")"
   ]
  },
  {
   "cell_type": "code",
   "execution_count": 54,
   "metadata": {
    "execution": {
     "iopub.execute_input": "2022-12-30T16:50:19.596332Z",
     "iopub.status.busy": "2022-12-30T16:50:19.595898Z",
     "iopub.status.idle": "2022-12-30T16:50:19.636978Z",
     "shell.execute_reply": "2022-12-30T16:50:19.635973Z",
     "shell.execute_reply.started": "2022-12-30T16:50:19.596286Z"
    }
   },
   "outputs": [
    {
     "data": {
      "text/html": [
       "<div>\n",
       "<style scoped>\n",
       "    .dataframe tbody tr th:only-of-type {\n",
       "        vertical-align: middle;\n",
       "    }\n",
       "\n",
       "    .dataframe tbody tr th {\n",
       "        vertical-align: top;\n",
       "    }\n",
       "\n",
       "    .dataframe thead tr th {\n",
       "        text-align: left;\n",
       "    }\n",
       "\n",
       "    .dataframe thead tr:last-of-type th {\n",
       "        text-align: right;\n",
       "    }\n",
       "</style>\n",
       "<table border=\"1\" class=\"dataframe\">\n",
       "  <thead>\n",
       "    <tr>\n",
       "      <th></th>\n",
       "      <th colspan=\"4\" halign=\"left\">Recency</th>\n",
       "      <th colspan=\"4\" halign=\"left\">Frequency</th>\n",
       "      <th colspan=\"4\" halign=\"left\">Monetary</th>\n",
       "    </tr>\n",
       "    <tr>\n",
       "      <th></th>\n",
       "      <th>mean</th>\n",
       "      <th>median</th>\n",
       "      <th>count</th>\n",
       "      <th>std</th>\n",
       "      <th>mean</th>\n",
       "      <th>median</th>\n",
       "      <th>count</th>\n",
       "      <th>std</th>\n",
       "      <th>mean</th>\n",
       "      <th>median</th>\n",
       "      <th>count</th>\n",
       "      <th>std</th>\n",
       "    </tr>\n",
       "    <tr>\n",
       "      <th>Customer Segment</th>\n",
       "      <th></th>\n",
       "      <th></th>\n",
       "      <th></th>\n",
       "      <th></th>\n",
       "      <th></th>\n",
       "      <th></th>\n",
       "      <th></th>\n",
       "      <th></th>\n",
       "      <th></th>\n",
       "      <th></th>\n",
       "      <th></th>\n",
       "      <th></th>\n",
       "    </tr>\n",
       "  </thead>\n",
       "  <tbody>\n",
       "    <tr>\n",
       "      <th>About to Sleep</th>\n",
       "      <td>51.233645</td>\n",
       "      <td>51.0</td>\n",
       "      <td>321</td>\n",
       "      <td>10.959795</td>\n",
       "      <td>15.797508</td>\n",
       "      <td>15.0</td>\n",
       "      <td>321</td>\n",
       "      <td>8.029212</td>\n",
       "      <td>412.142928</td>\n",
       "      <td>306.450</td>\n",
       "      <td>321</td>\n",
       "      <td>576.956080</td>\n",
       "    </tr>\n",
       "    <tr>\n",
       "      <th>At Risk</th>\n",
       "      <td>164.136752</td>\n",
       "      <td>143.0</td>\n",
       "      <td>585</td>\n",
       "      <td>83.023691</td>\n",
       "      <td>56.668376</td>\n",
       "      <td>50.0</td>\n",
       "      <td>585</td>\n",
       "      <td>23.335172</td>\n",
       "      <td>953.336103</td>\n",
       "      <td>689.950</td>\n",
       "      <td>585</td>\n",
       "      <td>998.862195</td>\n",
       "    </tr>\n",
       "    <tr>\n",
       "      <th>Can't Loose</th>\n",
       "      <td>140.250000</td>\n",
       "      <td>116.5</td>\n",
       "      <td>84</td>\n",
       "      <td>70.327611</td>\n",
       "      <td>183.142857</td>\n",
       "      <td>157.0</td>\n",
       "      <td>84</td>\n",
       "      <td>71.642207</td>\n",
       "      <td>2291.069298</td>\n",
       "      <td>2028.225</td>\n",
       "      <td>84</td>\n",
       "      <td>1670.422751</td>\n",
       "    </tr>\n",
       "    <tr>\n",
       "      <th>Champions</th>\n",
       "      <td>4.454713</td>\n",
       "      <td>3.0</td>\n",
       "      <td>541</td>\n",
       "      <td>3.285248</td>\n",
       "      <td>202.351201</td>\n",
       "      <td>153.0</td>\n",
       "      <td>541</td>\n",
       "      <td>142.630066</td>\n",
       "      <td>3170.294861</td>\n",
       "      <td>2385.000</td>\n",
       "      <td>541</td>\n",
       "      <td>2515.600571</td>\n",
       "    </tr>\n",
       "    <tr>\n",
       "      <th>Hibernating</th>\n",
       "      <td>210.938028</td>\n",
       "      <td>211.0</td>\n",
       "      <td>1065</td>\n",
       "      <td>90.265762</td>\n",
       "      <td>13.358685</td>\n",
       "      <td>12.0</td>\n",
       "      <td>1065</td>\n",
       "      <td>8.194016</td>\n",
       "      <td>348.591927</td>\n",
       "      <td>251.520</td>\n",
       "      <td>1065</td>\n",
       "      <td>554.008621</td>\n",
       "    </tr>\n",
       "    <tr>\n",
       "      <th>Loyal</th>\n",
       "      <td>31.417476</td>\n",
       "      <td>28.0</td>\n",
       "      <td>824</td>\n",
       "      <td>15.702984</td>\n",
       "      <td>154.542476</td>\n",
       "      <td>118.0</td>\n",
       "      <td>824</td>\n",
       "      <td>106.369553</td>\n",
       "      <td>2163.438653</td>\n",
       "      <td>1607.450</td>\n",
       "      <td>824</td>\n",
       "      <td>1823.618297</td>\n",
       "    </tr>\n",
       "    <tr>\n",
       "      <th>Need Attention</th>\n",
       "      <td>50.242574</td>\n",
       "      <td>51.0</td>\n",
       "      <td>202</td>\n",
       "      <td>11.320987</td>\n",
       "      <td>41.693069</td>\n",
       "      <td>40.0</td>\n",
       "      <td>202</td>\n",
       "      <td>8.495527</td>\n",
       "      <td>818.649015</td>\n",
       "      <td>662.910</td>\n",
       "      <td>202</td>\n",
       "      <td>977.900328</td>\n",
       "    </tr>\n",
       "    <tr>\n",
       "      <th>New Customers</th>\n",
       "      <td>5.689655</td>\n",
       "      <td>6.5</td>\n",
       "      <td>58</td>\n",
       "      <td>3.288507</td>\n",
       "      <td>7.517241</td>\n",
       "      <td>8.5</td>\n",
       "      <td>58</td>\n",
       "      <td>3.916861</td>\n",
       "      <td>675.133103</td>\n",
       "      <td>204.000</td>\n",
       "      <td>58</td>\n",
       "      <td>1872.542211</td>\n",
       "    </tr>\n",
       "    <tr>\n",
       "      <th>Potential Loyalists</th>\n",
       "      <td>14.593750</td>\n",
       "      <td>15.0</td>\n",
       "      <td>512</td>\n",
       "      <td>9.201112</td>\n",
       "      <td>34.511719</td>\n",
       "      <td>34.0</td>\n",
       "      <td>512</td>\n",
       "      <td>12.803034</td>\n",
       "      <td>763.552344</td>\n",
       "      <td>574.425</td>\n",
       "      <td>512</td>\n",
       "      <td>861.196372</td>\n",
       "    </tr>\n",
       "    <tr>\n",
       "      <th>Promising</th>\n",
       "      <td>21.714286</td>\n",
       "      <td>21.0</td>\n",
       "      <td>98</td>\n",
       "      <td>5.365026</td>\n",
       "      <td>7.122449</td>\n",
       "      <td>7.0</td>\n",
       "      <td>98</td>\n",
       "      <td>3.681285</td>\n",
       "      <td>418.561735</td>\n",
       "      <td>186.120</td>\n",
       "      <td>98</td>\n",
       "      <td>803.446060</td>\n",
       "    </tr>\n",
       "  </tbody>\n",
       "</table>\n",
       "</div>"
      ],
      "text/plain": [
       "                        Recency                           Frequency         \\\n",
       "                           mean median count        std        mean median   \n",
       "Customer Segment                                                             \n",
       "About to Sleep        51.233645   51.0   321  10.959795   15.797508   15.0   \n",
       "At Risk              164.136752  143.0   585  83.023691   56.668376   50.0   \n",
       "Can't Loose          140.250000  116.5    84  70.327611  183.142857  157.0   \n",
       "Champions              4.454713    3.0   541   3.285248  202.351201  153.0   \n",
       "Hibernating          210.938028  211.0  1065  90.265762   13.358685   12.0   \n",
       "Loyal                 31.417476   28.0   824  15.702984  154.542476  118.0   \n",
       "Need Attention        50.242574   51.0   202  11.320987   41.693069   40.0   \n",
       "New Customers          5.689655    6.5    58   3.288507    7.517241    8.5   \n",
       "Potential Loyalists   14.593750   15.0   512   9.201112   34.511719   34.0   \n",
       "Promising             21.714286   21.0    98   5.365026    7.122449    7.0   \n",
       "\n",
       "                                          Monetary                  \\\n",
       "                    count         std         mean    median count   \n",
       "Customer Segment                                                     \n",
       "About to Sleep        321    8.029212   412.142928   306.450   321   \n",
       "At Risk               585   23.335172   953.336103   689.950   585   \n",
       "Can't Loose            84   71.642207  2291.069298  2028.225    84   \n",
       "Champions             541  142.630066  3170.294861  2385.000   541   \n",
       "Hibernating          1065    8.194016   348.591927   251.520  1065   \n",
       "Loyal                 824  106.369553  2163.438653  1607.450   824   \n",
       "Need Attention        202    8.495527   818.649015   662.910   202   \n",
       "New Customers          58    3.916861   675.133103   204.000    58   \n",
       "Potential Loyalists   512   12.803034   763.552344   574.425   512   \n",
       "Promising              98    3.681285   418.561735   186.120    98   \n",
       "\n",
       "                                  \n",
       "                             std  \n",
       "Customer Segment                  \n",
       "About to Sleep        576.956080  \n",
       "At Risk               998.862195  \n",
       "Can't Loose          1670.422751  \n",
       "Champions            2515.600571  \n",
       "Hibernating           554.008621  \n",
       "Loyal                1823.618297  \n",
       "Need Attention        977.900328  \n",
       "New Customers        1872.542211  \n",
       "Potential Loyalists   861.196372  \n",
       "Promising             803.446060  "
      ]
     },
     "execution_count": 54,
     "metadata": {},
     "output_type": "execute_result"
    }
   ],
   "source": [
    "rfmStats = rfm[[\"Customer Segment\",\"Recency\",\"Frequency\", \"Monetary\"]].groupby(\"Customer Segment\").agg([\"mean\",\"median\",\"count\", \"std\"])\n",
    "\n",
    "rfmStats"
   ]
  },
  {
   "cell_type": "markdown",
   "metadata": {},
   "source": [
    "### Rescaling the attributes"
   ]
  },
  {
   "cell_type": "markdown",
   "metadata": {},
   "source": [
    "Rescaling is done to give the variables a comparable scale. There are two rescaling conventions:\n",
    "\n",
    "- *Standardisation (mean-0, sigma-1)*\n",
    "    * hi\n",
    "- *Min-Max scaling*\n",
    "    * hi1\n",
    "    \n",
    "    \n",
    "Here, we will use Standardisation Scaling."
   ]
  },
  {
   "cell_type": "code",
   "execution_count": 55,
   "metadata": {
    "execution": {
     "iopub.execute_input": "2022-12-30T16:50:19.638878Z",
     "iopub.status.busy": "2022-12-30T16:50:19.638239Z",
     "iopub.status.idle": "2022-12-30T16:50:19.644526Z",
     "shell.execute_reply": "2022-12-30T16:50:19.643309Z",
     "shell.execute_reply.started": "2022-12-30T16:50:19.638844Z"
    }
   },
   "outputs": [],
   "source": [
    "rfm_df = rfm[['Recency', 'Frequency', 'Monetary']]"
   ]
  },
  {
   "cell_type": "markdown",
   "metadata": {},
   "source": [
    "#### Instantiating the Standard Scaler"
   ]
  },
  {
   "cell_type": "code",
   "execution_count": 56,
   "metadata": {
    "execution": {
     "iopub.execute_input": "2022-12-30T16:50:19.646407Z",
     "iopub.status.busy": "2022-12-30T16:50:19.646059Z",
     "iopub.status.idle": "2022-12-30T16:50:19.657429Z",
     "shell.execute_reply": "2022-12-30T16:50:19.656520Z",
     "shell.execute_reply.started": "2022-12-30T16:50:19.646344Z"
    }
   },
   "outputs": [],
   "source": [
    "scaler = StandardScaler()"
   ]
  },
  {
   "cell_type": "markdown",
   "metadata": {},
   "source": [
    "#### Fitting our data"
   ]
  },
  {
   "cell_type": "code",
   "execution_count": 57,
   "metadata": {
    "execution": {
     "iopub.execute_input": "2022-12-30T16:50:19.659251Z",
     "iopub.status.busy": "2022-12-30T16:50:19.658922Z",
     "iopub.status.idle": "2022-12-30T16:50:19.678158Z",
     "shell.execute_reply": "2022-12-30T16:50:19.676596Z",
     "shell.execute_reply.started": "2022-12-30T16:50:19.659220Z"
    },
    "scrolled": true
   },
   "outputs": [
    {
     "data": {
      "text/plain": [
       "(4290, 3)"
      ]
     },
     "execution_count": 57,
     "metadata": {},
     "output_type": "execute_result"
    }
   ],
   "source": [
    "rfm_df_scaled = scaler.fit_transform(rfm_df)\n",
    "rfm_df_scaled.shape"
   ]
  },
  {
   "cell_type": "code",
   "execution_count": 58,
   "metadata": {
    "execution": {
     "iopub.execute_input": "2022-12-30T16:50:19.680392Z",
     "iopub.status.busy": "2022-12-30T16:50:19.679794Z",
     "iopub.status.idle": "2022-12-30T16:50:19.691903Z",
     "shell.execute_reply": "2022-12-30T16:50:19.691122Z",
     "shell.execute_reply.started": "2022-12-30T16:50:19.680328Z"
    }
   },
   "outputs": [
    {
     "data": {
      "text/html": [
       "<div>\n",
       "<style scoped>\n",
       "    .dataframe tbody tr th:only-of-type {\n",
       "        vertical-align: middle;\n",
       "    }\n",
       "\n",
       "    .dataframe tbody tr th {\n",
       "        vertical-align: top;\n",
       "    }\n",
       "\n",
       "    .dataframe thead th {\n",
       "        text-align: right;\n",
       "    }\n",
       "</style>\n",
       "<table border=\"1\" class=\"dataframe\">\n",
       "  <thead>\n",
       "    <tr style=\"text-align: right;\">\n",
       "      <th></th>\n",
       "      <th>Recency</th>\n",
       "      <th>Frequency</th>\n",
       "      <th>Monetary</th>\n",
       "    </tr>\n",
       "  </thead>\n",
       "  <tbody>\n",
       "    <tr>\n",
       "      <th>0</th>\n",
       "      <td>2.300765</td>\n",
       "      <td>-0.749875</td>\n",
       "      <td>-0.738838</td>\n",
       "    </tr>\n",
       "    <tr>\n",
       "      <th>1</th>\n",
       "      <td>-0.906903</td>\n",
       "      <td>1.041230</td>\n",
       "      <td>1.796625</td>\n",
       "    </tr>\n",
       "    <tr>\n",
       "      <th>2</th>\n",
       "      <td>-0.184188</td>\n",
       "      <td>-0.461308</td>\n",
       "      <td>0.318433</td>\n",
       "    </tr>\n",
       "  </tbody>\n",
       "</table>\n",
       "</div>"
      ],
      "text/plain": [
       "    Recency  Frequency  Monetary\n",
       "0  2.300765  -0.749875 -0.738838\n",
       "1 -0.906903   1.041230  1.796625\n",
       "2 -0.184188  -0.461308  0.318433"
      ]
     },
     "execution_count": 58,
     "metadata": {},
     "output_type": "execute_result"
    }
   ],
   "source": [
    "rfm_df_scaled = pd.DataFrame(rfm_df_scaled)\n",
    "rfm_df_scaled.columns = ['Recency', 'Frequency', 'Monetary']\n",
    "rfm_df_scaled.head(3)"
   ]
  },
  {
   "cell_type": "code",
   "execution_count": 59,
   "metadata": {
    "execution": {
     "iopub.execute_input": "2022-12-30T16:50:19.693377Z",
     "iopub.status.busy": "2022-12-30T16:50:19.693056Z",
     "iopub.status.idle": "2022-12-30T16:50:19.700441Z",
     "shell.execute_reply": "2022-12-30T16:50:19.699531Z",
     "shell.execute_reply.started": "2022-12-30T16:50:19.693328Z"
    }
   },
   "outputs": [],
   "source": [
    "corr = rfm_df_scaled.corr()"
   ]
  },
  {
   "cell_type": "code",
   "execution_count": 60,
   "metadata": {
    "execution": {
     "iopub.execute_input": "2022-12-30T16:50:19.702295Z",
     "iopub.status.busy": "2022-12-30T16:50:19.701950Z",
     "iopub.status.idle": "2022-12-30T16:50:19.982893Z",
     "shell.execute_reply": "2022-12-30T16:50:19.981816Z",
     "shell.execute_reply.started": "2022-12-30T16:50:19.702265Z"
    }
   },
   "outputs": [
    {
     "data": {
      "text/plain": [
       "<AxesSubplot:>"
      ]
     },
     "execution_count": 60,
     "metadata": {},
     "output_type": "execute_result"
    },
    {
     "data": {
      "image/png": "[encoded data removed]",
      "text/plain": [
       "<Figure size 700x500 with 2 Axes>"
      ]
     },
     "metadata": {},
     "output_type": "display_data"
    }
   ],
   "source": [
    "plt.figure(figsize=(7,5))\n",
    "sns.heatmap(corr, cmap='Spectral', linewidths = .2, annot=True)"
   ]
  },
  {
   "cell_type": "code",
   "execution_count": 61,
   "metadata": {
    "execution": {
     "iopub.execute_input": "2022-12-30T16:50:19.984335Z",
     "iopub.status.busy": "2022-12-30T16:50:19.984030Z",
     "iopub.status.idle": "2022-12-30T16:50:21.887724Z",
     "shell.execute_reply": "2022-12-30T16:50:21.886118Z",
     "shell.execute_reply.started": "2022-12-30T16:50:19.984307Z"
    }
   },
   "outputs": [
    {
     "data": {
      "image/png": "[encoded data removed]",
      "text/plain": [
       "<Figure size 1800x1800 with 6 Axes>"
      ]
     },
     "metadata": {},
     "output_type": "display_data"
    }
   ],
   "source": [
    "cont_features = ['Recency', 'Frequency', 'Monetary']\n",
    "\n",
    "\n",
    "fig, ax = plt.subplots(ncols=2, nrows=3, figsize=(18,18))\n",
    "plt.subplots_adjust(right=1.5, top=1.25)\n",
    "\n",
    "for i, feature in enumerate(cont_features):\n",
    "    sns.distplot(rfm[feature],  hist=True, color='#e74c3c', ax=ax[i][0])    \n",
    "    sns.distplot(rfm_df_scaled[feature], hist=True, color='#e74c3c', ax=ax[i][1])\n",
    "    \n",
    "    ax[i][0].set_title(f'Distribution of Unscaled {feature}', size=20, y=1.05)\n",
    "    ax[i][1].set_title(f'Distribution of Scaled {feature}', size=20, y=1.05)\n",
    "    \n",
    "plt.tight_layout() "
   ]
  },
  {
   "cell_type": "markdown",
   "metadata": {},
   "source": [
    "---\n",
    "<a id='model'></a>\n",
    "## Model"
   ]
  },
  {
   "cell_type": "markdown",
   "metadata": {},
   "source": [
    "### K-Means Clustering\n"
   ]
  },
  {
   "cell_type": "markdown",
   "metadata": {},
   "source": [
    "The K-means clustering is one of the simplest and popular unsupervised machine learning algorithms in which every indiviual sample in a dataset is assigned to exactly one cluster. The objective of K-Means clustering is to minimize total intra-cluster variance which is known as Sum of Squared Distances - SSD\n",
    "\n",
    "The work flow of K-means is thus:\n",
    "\n",
    "* **k points(means)** are initialized in a random order.\n",
    "* Each item is categorized(grouped) to its closest mean and **centroid**, the metric for  is Euclidean distance.\n",
    "* Next, the dat points of the centers are recalculated and updated.\n",
    "* The process is repeated for a given number of iterations.\n",
    "* In the end **centroids** & **clusters**(k's;groups of items) are formed.\n"
   ]
  },
  {
   "cell_type": "markdown",
   "metadata": {},
   "source": [
    "### Silhouette Analysis"
   ]
  },
  {
   "cell_type": "markdown",
   "metadata": {},
   "source": [
    "Silhouette analysis can be used to study the separation distance between the resulting clusters, a measure of how close each point in one cluster is to points in the neighboring clusters.\n",
    "\n",
    "\n",
    "\n",
    "\n",
    "A silhouette score range is between -1 & 1.\n",
    "\n",
    "- A score tending towards 1 tells that the data point is very similar to other data points in the cluster,\n",
    "- A score of 0\n",
    "- A score tending towards -1 tells that the data point is not similar to the data points in its cluster."
   ]
  },
  {
   "cell_type": "code",
   "execution_count": 62,
   "metadata": {
    "execution": {
     "iopub.execute_input": "2022-12-30T16:50:21.889560Z",
     "iopub.status.busy": "2022-12-30T16:50:21.889065Z",
     "iopub.status.idle": "2022-12-30T16:50:21.895604Z",
     "shell.execute_reply": "2022-12-30T16:50:21.894581Z",
     "shell.execute_reply.started": "2022-12-30T16:50:21.889512Z"
    }
   },
   "outputs": [],
   "source": [
    "from sklearn.metrics import silhouette_score as SS"
   ]
  },
  {
   "cell_type": "code",
   "execution_count": 63,
   "metadata": {
    "execution": {
     "iopub.execute_input": "2022-12-30T16:50:21.897329Z",
     "iopub.status.busy": "2022-12-30T16:50:21.896994Z",
     "iopub.status.idle": "2022-12-30T16:50:53.815857Z",
     "shell.execute_reply": "2022-12-30T16:50:53.814673Z",
     "shell.execute_reply.started": "2022-12-30T16:50:21.897300Z"
    }
   },
   "outputs": [
    {
     "data": {
      "image/png": "[encoded data removed]",
      "text/plain": [
       "<Figure size 1500x700 with 1 Axes>"
      ]
     },
     "metadata": {},
     "output_type": "display_data"
    }
   ],
   "source": [
    "sse_ = []\n",
    "for k in range(2, 20):\n",
    "    kmeans = KMeans(n_clusters=k).fit(rfm_df_scaled)\n",
    "    sse_.append([k, SS(rfm_df_scaled, kmeans.labels_)])\n",
    "plt.plot(pd.DataFrame(sse_)[0], pd.DataFrame(sse_)[1]);"
   ]
  },
  {
   "cell_type": "markdown",
   "metadata": {},
   "source": [
    "### Sum of Squared Distances"
   ]
  },
  {
   "cell_type": "markdown",
   "metadata": {},
   "source": [
    "SSE or cluster inertia is the within/intra-cluster sum of squared errors. \n",
    "\n",
    "So, the objective of K-Means clustering is to minimize total intra-cluster variance, or, the squared error function:\n",
    "\n"
   ]
  },
  {
   "cell_type": "code",
   "execution_count": 64,
   "metadata": {
    "execution": {
     "iopub.execute_input": "2022-12-30T16:50:53.818519Z",
     "iopub.status.busy": "2022-12-30T16:50:53.817313Z",
     "iopub.status.idle": "2022-12-30T16:51:20.233380Z",
     "shell.execute_reply": "2022-12-30T16:51:20.232148Z",
     "shell.execute_reply.started": "2022-12-30T16:50:53.818471Z"
    }
   },
   "outputs": [
    {
     "data": {
      "text/plain": [
       "[<matplotlib.lines.Line2D at 0x2e3cba7dba0>]"
      ]
     },
     "execution_count": 64,
     "metadata": {},
     "output_type": "execute_result"
    },
    {
     "data": {
      "image/png": "[encoded data removed]",
      "text/plain": [
       "<Figure size 1500x700 with 1 Axes>"
      ]
     },
     "metadata": {},
     "output_type": "display_data"
    }
   ],
   "source": [
    "# sum of squared distances\n",
    "ssd_ = []\n",
    "for cluster_num in list(range(2,20)):\n",
    "    model_clusters = KMeans(n_clusters = cluster_num, max_iter=100)\n",
    "    model_clusters.fit(rfm_df_scaled)\n",
    "    ssd_.append(model_clusters.inertia_)\n",
    "\n",
    "plt.plot(ssd_)"
   ]
  },
  {
   "cell_type": "markdown",
   "metadata": {},
   "source": [
    "### The Elbow method\n",
    "#### Finding the optimal number of k points"
   ]
  },
  {
   "cell_type": "code",
   "execution_count": null,
   "metadata": {},
   "outputs": [],
   "source": [
    "!pip install yellowbrick"
   ]
  },
  {
   "cell_type": "code",
   "execution_count": 65,
   "metadata": {
    "execution": {
     "iopub.execute_input": "2022-12-30T16:51:20.235187Z",
     "iopub.status.busy": "2022-12-30T16:51:20.234765Z",
     "iopub.status.idle": "2022-12-30T16:51:20.492806Z",
     "shell.execute_reply": "2022-12-30T16:51:20.491418Z",
     "shell.execute_reply.started": "2022-12-30T16:51:20.235155Z"
    },
    "scrolled": true
   },
   "outputs": [
    {
     "ename": "ModuleNotFoundError",
     "evalue": "No module named 'yellowbrick'",
     "output_type": "error",
     "traceback": [
      "\u001b[1;31m---------------------------------------------------------------------------\u001b[0m",
      "\u001b[1;31mModuleNotFoundError\u001b[0m                       Traceback (most recent call last)",
      "Input \u001b[1;32mIn [65]\u001b[0m, in \u001b[0;36m<cell line: 1>\u001b[1;34m()\u001b[0m\n\u001b[1;32m----> 1\u001b[0m \u001b[38;5;28;01mfrom\u001b[39;00m \u001b[38;5;21;01myellowbrick\u001b[39;00m\u001b[38;5;21;01m.\u001b[39;00m\u001b[38;5;21;01mcluster\u001b[39;00m \u001b[38;5;28;01mimport\u001b[39;00m KElbowVisualizer\n",
      "\u001b[1;31mModuleNotFoundError\u001b[0m: No module named 'yellowbrick'"
     ]
    }
   ],
   "source": [
    "from yellowbrick.cluster import KElbowVisualizer"
   ]
  },
  {
   "cell_type": "code",
   "execution_count": null,
   "metadata": {
    "execution": {
     "iopub.execute_input": "2022-12-30T16:51:20.494511Z",
     "iopub.status.busy": "2022-12-30T16:51:20.494139Z",
     "iopub.status.idle": "2022-12-30T16:51:47.259895Z",
     "shell.execute_reply": "2022-12-30T16:51:47.258508Z",
     "shell.execute_reply.started": "2022-12-30T16:51:20.494468Z"
    },
    "scrolled": true
   },
   "outputs": [],
   "source": [
    "kmeans = KMeans()\n",
    "visu = KElbowVisualizer(kmeans, k = (2,20))\n",
    "visu.fit(rfm_df_scaled)\n",
    "visu.poof()\n",
    "plt.tight_layout()"
   ]
  },
  {
   "cell_type": "markdown",
   "metadata": {},
   "source": [
    "*Instantiating K-means*"
   ]
  },
  {
   "cell_type": "code",
   "execution_count": null,
   "metadata": {
    "execution": {
     "iopub.execute_input": "2022-12-30T16:51:47.261642Z",
     "iopub.status.busy": "2022-12-30T16:51:47.261269Z",
     "iopub.status.idle": "2022-12-30T16:51:47.267881Z",
     "shell.execute_reply": "2022-12-30T16:51:47.266405Z",
     "shell.execute_reply.started": "2022-12-30T16:51:47.261610Z"
    }
   },
   "outputs": [],
   "source": [
    "# k-means with six clusters\n",
    "kmeans = KMeans(n_clusters=6)"
   ]
  },
  {
   "cell_type": "markdown",
   "metadata": {},
   "source": [
    "*Fit data*"
   ]
  },
  {
   "cell_type": "code",
   "execution_count": null,
   "metadata": {
    "execution": {
     "iopub.execute_input": "2022-12-30T16:51:47.269486Z",
     "iopub.status.busy": "2022-12-30T16:51:47.269091Z",
     "iopub.status.idle": "2022-12-30T16:51:48.651379Z",
     "shell.execute_reply": "2022-12-30T16:51:48.650320Z",
     "shell.execute_reply.started": "2022-12-30T16:51:47.269453Z"
    },
    "scrolled": true
   },
   "outputs": [],
   "source": [
    "kmeans.fit(rfm_df_scaled)"
   ]
  },
  {
   "cell_type": "markdown",
   "metadata": {},
   "source": [
    "*Label*"
   ]
  },
  {
   "cell_type": "code",
   "execution_count": null,
   "metadata": {
    "execution": {
     "iopub.execute_input": "2022-12-30T16:51:48.652766Z",
     "iopub.status.busy": "2022-12-30T16:51:48.652455Z",
     "iopub.status.idle": "2022-12-30T16:51:48.658179Z",
     "shell.execute_reply": "2022-12-30T16:51:48.656905Z",
     "shell.execute_reply.started": "2022-12-30T16:51:48.652737Z"
    }
   },
   "outputs": [],
   "source": [
    "clusters = kmeans.labels_"
   ]
  },
  {
   "cell_type": "markdown",
   "metadata": {},
   "source": [
    "*Cluster center vectors*"
   ]
  },
  {
   "cell_type": "code",
   "execution_count": null,
   "metadata": {
    "execution": {
     "iopub.execute_input": "2022-12-30T16:51:48.659860Z",
     "iopub.status.busy": "2022-12-30T16:51:48.659564Z",
     "iopub.status.idle": "2022-12-30T16:51:48.672089Z",
     "shell.execute_reply": "2022-12-30T16:51:48.671033Z",
     "shell.execute_reply.started": "2022-12-30T16:51:48.659832Z"
    }
   },
   "outputs": [],
   "source": [
    "kmeans.cluster_centers_"
   ]
  },
  {
   "cell_type": "code",
   "execution_count": null,
   "metadata": {
    "execution": {
     "iopub.execute_input": "2022-12-30T16:51:48.673858Z",
     "iopub.status.busy": "2022-12-30T16:51:48.673462Z",
     "iopub.status.idle": "2022-12-30T16:51:48.695157Z",
     "shell.execute_reply": "2022-12-30T16:51:48.694131Z",
     "shell.execute_reply.started": "2022-12-30T16:51:48.673829Z"
    },
    "scrolled": true
   },
   "outputs": [],
   "source": [
    "rfm_kmeans = rfm_df_scaled.copy()\n",
    "rfm_kmeans[\"Cluster_no\"] = clusters\n",
    "\n",
    "customers_and_their_clusters = pd.DataFrame({\"Cluster Number\": (clusters), 'Recency' : rfm['Recency'], 'Frequency' : rfm_df['Frequency'], 'Monetary' : rfm_df['Monetary'], 'Segment' : rfm['Customer Segment']})\n",
    "\n",
    "customers_and_their_clusters.sample(3)"
   ]
  },
  {
   "cell_type": "code",
   "execution_count": null,
   "metadata": {
    "execution": {
     "iopub.execute_input": "2022-12-30T16:51:48.696805Z",
     "iopub.status.busy": "2022-12-30T16:51:48.696401Z",
     "iopub.status.idle": "2022-12-30T16:51:48.710884Z",
     "shell.execute_reply": "2022-12-30T16:51:48.709745Z",
     "shell.execute_reply.started": "2022-12-30T16:51:48.696775Z"
    }
   },
   "outputs": [],
   "source": [
    "clusters_grouped = customers_and_their_clusters.groupby(\"Cluster Number\").agg({\"Cluster Number\":\"count\"})\n",
    "clusters_grouped.rename({'Cluster Number':'Customer count'}, axis=1, inplace=True)\n",
    "clusters_grouped.T"
   ]
  },
  {
   "cell_type": "code",
   "execution_count": null,
   "metadata": {
    "execution": {
     "iopub.execute_input": "2022-12-30T16:51:48.712955Z",
     "iopub.status.busy": "2022-12-30T16:51:48.712469Z",
     "iopub.status.idle": "2022-12-30T16:51:48.735304Z",
     "shell.execute_reply": "2022-12-30T16:51:48.734475Z",
     "shell.execute_reply.started": "2022-12-30T16:51:48.712924Z"
    }
   },
   "outputs": [],
   "source": [
    "n  = customers_and_their_clusters.groupby(['Cluster Number'])[['Recency', 'Frequency', 'Monetary']].agg(['mean','std'])\n",
    "n.T"
   ]
  },
  {
   "cell_type": "markdown",
   "metadata": {},
   "source": [
    "### Model Evaluation"
   ]
  },
  {
   "cell_type": "markdown",
   "metadata": {},
   "source": [
    "#### The confusion matrix & classification report"
   ]
  },
  {
   "cell_type": "code",
   "execution_count": null,
   "metadata": {
    "execution": {
     "iopub.execute_input": "2022-12-30T16:51:48.737125Z",
     "iopub.status.busy": "2022-12-30T16:51:48.736341Z",
     "iopub.status.idle": "2022-12-30T16:51:48.755623Z",
     "shell.execute_reply": "2022-12-30T16:51:48.754333Z",
     "shell.execute_reply.started": "2022-12-30T16:51:48.737089Z"
    }
   },
   "outputs": [],
   "source": [
    "from sklearn.metrics import confusion_matrix,classification_report\n",
    "print(confusion_matrix(customers_and_their_clusters['Cluster Number'],clusters))\n",
    "print(classification_report(customers_and_their_clusters['Cluster Number'],clusters))"
   ]
  },
  {
   "cell_type": "markdown",
   "metadata": {},
   "source": [
    " A plotly representation of the clusters"
   ]
  },
  {
   "cell_type": "code",
   "execution_count": null,
   "metadata": {
    "execution": {
     "iopub.execute_input": "2022-12-30T16:51:48.757262Z",
     "iopub.status.busy": "2022-12-30T16:51:48.756922Z",
     "iopub.status.idle": "2022-12-30T16:51:51.031803Z",
     "shell.execute_reply": "2022-12-30T16:51:51.030504Z",
     "shell.execute_reply.started": "2022-12-30T16:51:48.757230Z"
    }
   },
   "outputs": [],
   "source": [
    "import plotly.express as px\n",
    "fig = px.scatter_3d(rfm_kmeans, x=rfm_kmeans[\"Recency\"], y=rfm_kmeans[\"Frequency\"], z=rfm_kmeans[\"Monetary\"], \n",
    "                    color=rfm_kmeans[\"Cluster_no\"])\n",
    "fig"
   ]
  },
  {
   "cell_type": "code",
   "execution_count": null,
   "metadata": {
    "execution": {
     "iopub.execute_input": "2022-12-30T16:51:51.034302Z",
     "iopub.status.busy": "2022-12-30T16:51:51.033877Z",
     "iopub.status.idle": "2022-12-30T16:51:51.507959Z",
     "shell.execute_reply": "2022-12-30T16:51:51.506770Z",
     "shell.execute_reply.started": "2022-12-30T16:51:51.034264Z"
    }
   },
   "outputs": [],
   "source": [
    "\n",
    "plt.rcParams['figure.figsize'] = [12,5]\n",
    "sns.barplot(x='Cluster_no', y='Recency', data=rfm_kmeans, palette='rainbow')"
   ]
  },
  {
   "cell_type": "code",
   "execution_count": null,
   "metadata": {
    "execution": {
     "iopub.execute_input": "2022-12-30T16:51:51.509652Z",
     "iopub.status.busy": "2022-12-30T16:51:51.509307Z",
     "iopub.status.idle": "2022-12-30T16:51:52.122587Z",
     "shell.execute_reply": "2022-12-30T16:51:52.121325Z",
     "shell.execute_reply.started": "2022-12-30T16:51:51.509622Z"
    }
   },
   "outputs": [],
   "source": [
    "sns.barplot(x='Cluster_no', y='Frequency', data=rfm_kmeans, palette='rainbow')"
   ]
  },
  {
   "cell_type": "code",
   "execution_count": null,
   "metadata": {
    "execution": {
     "iopub.execute_input": "2022-12-30T16:51:52.124584Z",
     "iopub.status.busy": "2022-12-30T16:51:52.124206Z",
     "iopub.status.idle": "2022-12-30T16:51:52.564000Z",
     "shell.execute_reply": "2022-12-30T16:51:52.563005Z",
     "shell.execute_reply.started": "2022-12-30T16:51:52.124548Z"
    }
   },
   "outputs": [],
   "source": [
    "sns.barplot(x='Cluster_no', y='Monetary', data=rfm_kmeans, palette='rainbow')"
   ]
  },
  {
   "cell_type": "markdown",
   "metadata": {},
   "source": [
    "---\n",
    "<a id='conclusions'></a>\n",
    "### Conclusions\n",
    "- About 611,342.09 was lost to cancelled and failed purchases.\n",
    "- Customers in cluster 0 are the most loyal\n",
    "- Customers in cluster 3 are important to revenue generated\n",
    "---\n",
    "<a id='possible-solutions'></a>\n",
    "### Solution and Suggestions\n",
    "- Customers in cluster 0 and 3 respectively may be given discounts to promote their loyalty.\n",
    "- Customers in clusters 1,4,5 should be targets of marketing strategies and personalized ads."
   ]
  },
  {
   "cell_type": "code",
   "execution_count": null,
   "metadata": {},
   "outputs": [],
   "source": []
  }
 ],
 "metadata": {
  "kernelspec": {
   "display_name": "Python 3 (ipykernel)",
   "language": "python",
   "name": "python3"
  },
  "language_info": {
   "codemirror_mode": {
    "name": "ipython",
    "version": 3
   },
   "file_extension": ".py",
   "mimetype": "text/x-python",
   "name": "python",
   "nbconvert_exporter": "python",
   "pygments_lexer": "ipython3",
   "version": "3.10.6"
  }
 },
 "nbformat": 4,
 "nbformat_minor": 4
}
