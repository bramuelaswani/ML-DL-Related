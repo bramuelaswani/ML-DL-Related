{
 "cells": [
  {
   "cell_type": "code",
   "execution_count": 1,
   "id": "e2d354ff",
   "metadata": {},
   "outputs": [],
   "source": [
    "import requests"
   ]
  },
  {
   "cell_type": "code",
   "execution_count": 2,
   "id": "5788db77",
   "metadata": {},
   "outputs": [],
   "source": [
    "standings_url = \"https://www.footmercato.net/\""
   ]
  },
  {
   "cell_type": "code",
   "execution_count": 3,
   "id": "f5603b15",
   "metadata": {},
   "outputs": [
    {
     "data": {
      "text/plain": [
       "<Response [200]>"
      ]
     },
     "execution_count": 3,
     "metadata": {},
     "output_type": "execute_result"
    }
   ],
   "source": [
    "data = requests.get(standings_url)\n",
    "data"
   ]
  },
  {
   "cell_type": "markdown",
   "id": "13d55c7c",
   "metadata": {},
   "source": [
    "## Scraping our first page with requests"
   ]
  },
  {
   "cell_type": "code",
   "execution_count": 4,
   "id": "6086990d",
   "metadata": {},
   "outputs": [],
   "source": [
    "from bs4 import BeautifulSoup"
   ]
  },
  {
   "cell_type": "code",
   "execution_count": 5,
   "id": "cc5dac87",
   "metadata": {},
   "outputs": [],
   "source": [
    "soup = BeautifulSoup(data.text)"
   ]
  },
  {
   "cell_type": "code",
   "execution_count": 6,
   "id": "a9393aff",
   "metadata": {},
   "outputs": [],
   "source": [
    "results = soup.select('article a')"
   ]
  },
  {
   "cell_type": "markdown",
   "id": "132b1f6c",
   "metadata": {},
   "source": [
    "## Parsing our first page with requests"
   ]
  },
  {
   "cell_type": "code",
   "execution_count": 7,
   "id": "da2abc58",
   "metadata": {},
   "outputs": [],
   "source": [
    "links = list(set([r['href'] for r in results]))"
   ]
  },
  {
   "cell_type": "code",
   "execution_count": 8,
   "id": "0a0ddd9b",
   "metadata": {},
   "outputs": [],
   "source": [
    "article_urls = [f\"https://www.footmercato.net{l}\" for l in links]"
   ]
  },
  {
   "cell_type": "code",
   "execution_count": 9,
   "id": "e9df4471",
   "metadata": {},
   "outputs": [
    {
     "data": {
      "text/plain": [
       "105"
      ]
     },
     "execution_count": 9,
     "metadata": {},
     "output_type": "execute_result"
    }
   ],
   "source": [
    "len(article_urls)"
   ]
  },
  {
   "cell_type": "code",
   "execution_count": 10,
   "id": "8c854789",
   "metadata": {},
   "outputs": [],
   "source": [
    "title_list = []\n",
    "article_lead_list = []\n",
    "import re\n",
    "\n",
    "allowlist = [\n",
    "      'p'\n",
    "    ]\n",
    "p_list = []\n",
    "noise = \"\\n', ' /\\n\\n\\n                        ', ' /\\n\\n                    ', '\\n\"\n",
    "noise = \"\\n\"\n",
    "for article_url in article_urls:\n",
    "    try :\n",
    "        data = requests.get(article_url)\n",
    "    except:\n",
    "        continue\n",
    "    soup = BeautifulSoup(data.text)\n",
    "    if len(soup.select('h1[class=\"title\"]')) < 1:\n",
    "        continue\n",
    "    title = soup.select('h1[class=\"title\"]')[0].text.replace(\"\\n        \", \"\").replace(\"\\n    \", \"\")\n",
    "    \n",
    "    ##########################################################\"\"\n",
    "    try :\n",
    "        data = requests.get(article_url)\n",
    "    except:\n",
    "        continue\n",
    "    soup = BeautifulSoup(data.text)\n",
    "    if len(soup.select('h2[class=\"article__lead\"]')) < 1:\n",
    "        continue\n",
    "    article__lead = soup.select('h2[class=\"article__lead\"]')\n",
    "\n",
    "        \n",
    "    ###################################################################\n",
    "\n",
    "    try :\n",
    "        data = requests.get(article_url)\n",
    "    except :\n",
    "        continue\n",
    "    soup = BeautifulSoup(data.text)\n",
    "    text_elements = ' '.join([str(t) for t in soup.find_all(text=True) if t.parent.name in allowlist])\n",
    "    #for i in range(len(text_elements)):\n",
    "    text_elements = re.sub(\"[^a-zA-Z-À-ú-Â-û-0-9-.']\", ' ', text_elements)\n",
    "    \n",
    "    print(title)\n",
    "    p_list.append(text_elements)\n",
    "    title_list.append(title)\n",
    "    if len(article__lead) != 0:\n",
    "       article__lead= article__lead[0].text.replace(\"\\n        \", \"\").replace(\"\\n    \", \"\")\n",
    "       article_lead_list.append(article__lead)\n",
    "    time.sleep(1)\n"
   ]
  },
  {
   "cell_type": "code",
   "execution_count": 11,
   "id": "7580c9db",
   "metadata": {},
   "outputs": [
    {
     "name": "stdout",
     "output_type": "stream",
     "text": [
      "title_list 0\n",
      "title_list 0\n",
      "title_list 0\n"
     ]
    }
   ],
   "source": [
    "print('title_list', len(title_list))\n",
    "print('title_list', len(article_lead_list))\n",
    "print('title_list', len(p_list))"
   ]
  },
  {
   "cell_type": "code",
   "execution_count": 12,
   "id": "d57d19d0",
   "metadata": {},
   "outputs": [],
   "source": [
    "articles_info = list(zip(title_list, article_lead_list, p_list))"
   ]
  },
  {
   "cell_type": "code",
   "execution_count": 13,
   "id": "b9f1a53f",
   "metadata": {},
   "outputs": [
    {
     "data": {
      "text/html": [
       "<div>\n",
       "<style scoped>\n",
       "    .dataframe tbody tr th:only-of-type {\n",
       "        vertical-align: middle;\n",
       "    }\n",
       "\n",
       "    .dataframe tbody tr th {\n",
       "        vertical-align: top;\n",
       "    }\n",
       "\n",
       "    .dataframe thead th {\n",
       "        text-align: right;\n",
       "    }\n",
       "</style>\n",
       "<table border=\"1\" class=\"dataframe\">\n",
       "  <thead>\n",
       "    <tr style=\"text-align: right;\">\n",
       "      <th></th>\n",
       "      <th>Title</th>\n",
       "      <th>article_lead</th>\n",
       "      <th>content</th>\n",
       "    </tr>\n",
       "  </thead>\n",
       "  <tbody>\n",
       "  </tbody>\n",
       "</table>\n",
       "</div>"
      ],
      "text/plain": [
       "Empty DataFrame\n",
       "Columns: [Title, article_lead, content]\n",
       "Index: []"
      ]
     },
     "execution_count": 13,
     "metadata": {},
     "output_type": "execute_result"
    }
   ],
   "source": [
    "# Converting lists of tuples into\n",
    "# pandas Dataframe.\n",
    "import pandas as pd\n",
    "df_article = pd.DataFrame(articles_info, columns = ['Title', 'article_lead', 'content'])\n",
    "df_article"
   ]
  },
  {
   "cell_type": "code",
   "execution_count": 14,
   "id": "861867ba",
   "metadata": {},
   "outputs": [],
   "source": [
    "df_article.to_csv(\"article_foot_mercato.csv\")"
   ]
  },
  {
   "cell_type": "code",
   "execution_count": null,
   "id": "4b9aacd2",
   "metadata": {},
   "outputs": [],
   "source": []
  }
 ],
 "metadata": {
  "interpreter": {
   "hash": "c7a54c27525f12f8185aeafabf530cb3f43b91cca1c57f749faf5a82d7bc3c15"
  },
  "kernelspec": {
   "display_name": "Python 3 (ipykernel)",
   "language": "python",
   "name": "python3"
  },
  "language_info": {
   "codemirror_mode": {
    "name": "ipython",
    "version": 3
   },
   "file_extension": ".py",
   "mimetype": "text/x-python",
   "name": "python",
   "nbconvert_exporter": "python",
   "pygments_lexer": "ipython3",
   "version": "3.10.6"
  }
 },
 "nbformat": 4,
 "nbformat_minor": 5
}
