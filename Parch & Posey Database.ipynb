{
 "cells": [
  {
   "cell_type": "markdown",
   "id": "06d943b5",
   "metadata": {},
   "source": [
    "<div style=\"background-color: #F5E8DA; padding: 10px;font-family: 'Merriweather'; font-size: 16px;\">\n",
    "<h2>Table of Contents</h2>\n",
    "<ol>\n",
    "<li><a href=\"#intro\">Overview</a></li>    \n",
    "<li><a href=\"#intro\">Introduction</a></li>\n",
    "<li><a href=\"#wrangling\">Methodology</a></li>\n",
    "<li><a href=\"#eda\">Analysis</a></li>\n",
    "<li><a href=\"#conclusions\">Conclusions</a></li>\n",
    "<li><a href=\"#model\">Recommendations</a></li>\n",
    "<li><a href=\"#references\">References</a></li>\n",
    "</ol>\n",
    "</div>"
   ]
  },
  {
   "cell_type": "markdown",
   "id": "da6ea165",
   "metadata": {},
   "source": [
    "<link href='https://fonts.googleapis.com/css?family=Merriweather' rel='stylesheet'>\n",
    "<h2 style=\"background-color: #F5E8DA; color: #50006C; font-family: 'Merriweather'; font-weight: bold; font-size: 20px; text-align: center; padding: 10px 0;\">\n",
    "  1. Overview\n",
    "</h2>\n"
   ]
  },
  {
   "cell_type": "markdown",
   "id": "8ab43e14",
   "metadata": {},
   "source": [
    "Improving business performance is often a priority for companies in order to remain competitive and achieve long-term success. This can involve conducting regular assessments of the business's strengths and weaknesses, setting clear goals and objectives, and implementing targeted strategies to address any identified areas for improvement. Parch and Posey (P&P) is seeking to improve their business performance in order to remain competitive and achieve their overall business goals. To this end, a database analysis was conducted using SQL and Pandas to uncover insights about P&P's performance. The mode of inquiry adapted for this project involved posing questions, querying the database, organising the data into dataframes, visualising the results, and drawing insights. The business goal was broken down into three objectives: productivity, revenue, and growth. These were examined through the lenses of sales representatives, customers, products, channels, regions, and growth. The findings showed that P&P has strong customer retention and growth rates. However, there is room for improvement in terms of revenue growth, and the project provides recommendations for how this can be achieved."
   ]
  },
  {
   "cell_type": "markdown",
   "id": "060c9cf5",
   "metadata": {},
   "source": [
    "<link href='https://fonts.googleapis.com/css?family=Merriweather' rel='stylesheet'>\n",
    "<h2 style=\"background-color: #F5E8DA; color: #50006C; font-family: 'Merriweather'; font-weight: bold; font-size: 20px; text-align: center; padding: 10px 0;\">\n",
    "  2. Introduction\n",
    "</h2>\n"
   ]
  },
  {
   "cell_type": "markdown",
   "id": "18571751",
   "metadata": {},
   "source": [
    "**`P&P`** is a fictitious paper company that sales three type of papers to  their customers drawn form the Fortune 500 through various advertising channels. It 50 sales representatives spread across four regions of operation in the United States (US).\n",
    "\n",
    "The goal of this project is to examine P&P's productivity, revenue, and growth objectives. To achieve this, we will use SQL, Pandas, and visualization tools to analyze the P&P database (supplied by [Udacity](https://github.com/BuhariS/Interrogation-of-the-Parch-Posey-Database/blob/main/pandp.db)) and extract insights. Our ultimate objective is to assist P&P in its  decision-making process and aligning its employees' efforts towards realizing its business goals."
   ]
  },
  {
   "cell_type": "markdown",
   "id": "e99726e4",
   "metadata": {},
   "source": [
    "<link href='https://fonts.googleapis.com/css?family=Merriweather' rel='stylesheet'>\n",
    "<h2 style=\"background-color: #F5E8DA; color: #50006C; font-family: 'Merriweather'; font-weight: bold; font-size: 20px; text-align: center; padding: 10px 0;\">\n",
    "  3. Methodology\n",
    "</h2>\n"
   ]
  },
  {
   "cell_type": "markdown",
   "id": "a49e3811",
   "metadata": {},
   "source": [
    "To accomplish the goal of this project we will follow these steps:\n",
    "1. Ask question\n",
    "2. Query the database\n",
    "3. Transform query output to a Pandas DataFrame (occasional)\n",
    "4. Visualise the Pandas data (occasional)\n",
    "5. Extract insights\n"
   ]
  },
  {
   "cell_type": "markdown",
   "id": "39671fe5",
   "metadata": {},
   "source": [
    "<link href='https://fonts.googleapis.com/css?family=Merriweather' rel='stylesheet'>\n",
    "<h2 style=\"background-color: #F5E8DA; color: #50006C; font-family: 'Merriweather'; font-weight: bold; font-size: 20px; text-align: center; padding: 10px 0;\">\n",
    "  4. Analysis\n",
    "</h2>\n"
   ]
  },
  {
   "cell_type": "markdown",
   "id": "685605d8",
   "metadata": {},
   "source": [
    "To facilitate the analysis of P&P's productivity, revenue, and growth objectives, we will break these objectives down into smaller objectives. Our analysis will then focus on various entities such as sales representatives, customers, products, channels, region, and growth."
   ]
  },
  {
   "cell_type": "markdown",
   "id": "eae50b67",
   "metadata": {},
   "source": [
    "### 4.1 Import dependencies and load the database\n",
    "\n",
    "To ensure the successful execution of this project, it is crucial to have the following listed packages installed:\n",
    "- `numpy`\n",
    "- `pandas`\n",
    "- `matplotlib`\n",
    "- `seaborn`\n",
    "- `sqlalchemy`\n",
    "- `ipython-sql`\n",
    "- `pymysql`"
   ]
  },
  {
   "cell_type": "code",
   "execution_count": 1,
   "id": "9dd066d4",
   "metadata": {},
   "outputs": [],
   "source": [
    "#!pip install ipython-sql"
   ]
  },
  {
   "cell_type": "code",
   "execution_count": 2,
   "id": "a0fc8c39",
   "metadata": {},
   "outputs": [],
   "source": [
    "# Import data analysis toolkits\n",
    "import pandas as pd\n",
    "import numpy as np\n",
    "\n",
    "# Import visualization libraries\n",
    "import matplotlib.pyplot as plt\n",
    "%matplotlib inline\n",
    "\n",
    "import seaborn as sns\n",
    "# Override matplotlib \n",
    "sns.set()"
   ]
  },
  {
   "cell_type": "code",
   "execution_count": 3,
   "id": "8c89b80f",
   "metadata": {},
   "outputs": [],
   "source": [
    "#!pip install pymongo"
   ]
  },
  {
   "cell_type": "code",
   "execution_count": 4,
   "id": "3f4b5d21",
   "metadata": {},
   "outputs": [],
   "source": [
    "# from pymongo import MongoClient\n",
    "# client=MongoClient(host='localhost',port=27017)\n",
    "# db=client['air-quality']\n",
    "# nairobi=db['nairobi']"
   ]
  },
  {
   "cell_type": "code",
   "execution_count": 5,
   "id": "949af3f0",
   "metadata": {
    "scrolled": true
   },
   "outputs": [],
   "source": [
    "#nairobi"
   ]
  },
  {
   "cell_type": "code",
   "execution_count": 6,
   "id": "1d32f0be",
   "metadata": {},
   "outputs": [],
   "source": [
    "# results=nairobi.find({'metadata.site':29,'metadata.measurement':'P2'},\n",
    "#                        projection={'P2':1,'timestamp':1,'_id':0})\n",
    "# df=pd.DataFrame(results).set_index('timestamp')\n",
    "# df.head()"
   ]
  },
  {
   "cell_type": "code",
   "execution_count": 7,
   "id": "0f280593",
   "metadata": {
    "scrolled": true
   },
   "outputs": [],
   "source": [
    "# Load Magic commands\n",
    "import sqlite3\n",
    "%load_ext sql\n",
    "\n",
    "# Load SQLite database\n",
    "%sql sqlite:///pandp.db"
   ]
  },
  {
   "cell_type": "markdown",
   "id": "a3667564",
   "metadata": {},
   "source": [
    "***1. Which tables are in the database?***"
   ]
  },
  {
   "cell_type": "code",
   "execution_count": 8,
   "id": "f6fd02e3",
   "metadata": {},
   "outputs": [
    {
     "name": "stdout",
     "output_type": "stream",
     "text": [
      " * sqlite:///pandp.db\n",
      "Done.\n"
     ]
    },
    {
     "data": {
      "text/html": [
       "<table>\n",
       "    <tr>\n",
       "        <th>tables</th>\n",
       "    </tr>\n",
       "    <tr>\n",
       "        <td>accounts</td>\n",
       "    </tr>\n",
       "    <tr>\n",
       "        <td>orders</td>\n",
       "    </tr>\n",
       "    <tr>\n",
       "        <td>region</td>\n",
       "    </tr>\n",
       "    <tr>\n",
       "        <td>sales_reps</td>\n",
       "    </tr>\n",
       "    <tr>\n",
       "        <td>web_events</td>\n",
       "    </tr>\n",
       "</table>"
      ],
      "text/plain": [
       "[('accounts',), ('orders',), ('region',), ('sales_reps',), ('web_events',)]"
      ]
     },
     "execution_count": 8,
     "metadata": {},
     "output_type": "execute_result"
    }
   ],
   "source": [
    "%%sql\n",
    "SELECT name tables\n",
    "FROM sqlite_master \n",
    "WHERE type IN ('table','view') AND name NOT LIKE 'sqlite_%' \n",
    "ORDER BY 1;"
   ]
  },
  {
   "cell_type": "markdown",
   "id": "72079ca9",
   "metadata": {},
   "source": [
    "The database includes tables for **`accounts, orders, region`**, sales representatives (**`sales_reps`**), and web events (**`web_events`**)."
   ]
  },
  {
   "cell_type": "markdown",
   "id": "b8006bba",
   "metadata": {},
   "source": [
    "***2. When were the earliest and latest orders placed?***"
   ]
  },
  {
   "cell_type": "code",
   "execution_count": 9,
   "id": "f3e8727c",
   "metadata": {},
   "outputs": [
    {
     "name": "stdout",
     "output_type": "stream",
     "text": [
      " * sqlite:///pandp.db\n",
      "Done.\n"
     ]
    },
    {
     "data": {
      "text/html": [
       "<table>\n",
       "    <tr>\n",
       "        <th>earliest order date</th>\n",
       "        <th>latest order date</th>\n",
       "    </tr>\n",
       "    <tr>\n",
       "        <td>2013 12 04</td>\n",
       "        <td>2017 01 02</td>\n",
       "    </tr>\n",
       "</table>"
      ],
      "text/plain": [
       "[('2013 12 04', '2017 01 02')]"
      ]
     },
     "execution_count": 9,
     "metadata": {},
     "output_type": "execute_result"
    }
   ],
   "source": [
    "%%sql\n",
    "SELECT MIN(STRFTIME('%Y %m %d', occurred_at)) 'earliest order date', MAX(STRFTIME('%Y %m %d', occurred_at)) 'latest order date'\n",
    "FROM orders;"
   ]
  },
  {
   "cell_type": "markdown",
   "id": "c81743a1",
   "metadata": {},
   "source": [
    "The earliest recorded order was placed in **`December 4th, 2013`** and the most recent order was placed on **`January 2nd, 2017`**. As a result, these two years will be excluded from some analyses due to the lack of sufficient data."
   ]
  },
  {
   "cell_type": "markdown",
   "id": "2bb5776e",
   "metadata": {},
   "source": [
    "### 4.2 Sales representatives\n",
    "\n",
    "Sales representatives play a crucial role in a company's sales and revenue generation. They are responsible for promoting and selling the company's products or services to potential customers, as well as maintaining relationships with existing clients. In this section, we will examine P&P's success in retaining its sales representatives and evaluate the performance of these reps.\n",
    "\n",
    "***3. What is the number of sales representatives at P&P?***"
   ]
  },
  {
   "cell_type": "code",
   "execution_count": 10,
   "id": "ed940a00",
   "metadata": {},
   "outputs": [
    {
     "name": "stdout",
     "output_type": "stream",
     "text": [
      " * sqlite:///pandp.db\n",
      "Done.\n"
     ]
    },
    {
     "data": {
      "text/html": [
       "<table>\n",
       "    <tr>\n",
       "        <th>number of sales representatives</th>\n",
       "    </tr>\n",
       "    <tr>\n",
       "        <td>50</td>\n",
       "    </tr>\n",
       "</table>"
      ],
      "text/plain": [
       "[(50,)]"
      ]
     },
     "execution_count": 10,
     "metadata": {},
     "output_type": "execute_result"
    }
   ],
   "source": [
    "%%sql\n",
    "SELECT COUNT(*) 'number of sales representatives'\n",
    "FROM sales_reps;"
   ]
  },
  {
   "cell_type": "markdown",
   "id": "afa382a3",
   "metadata": {},
   "source": [
    "There are **`50`** sales representatives at **P&P**."
   ]
  },
  {
   "cell_type": "markdown",
   "id": "f4689e89",
   "metadata": {},
   "source": [
    "***4. How does the number of employees change over the years?***\n",
    "\n",
    "- **Get the number of employees by year**"
   ]
  },
  {
   "cell_type": "code",
   "execution_count": 11,
   "id": "a1bd9960",
   "metadata": {},
   "outputs": [
    {
     "name": "stdout",
     "output_type": "stream",
     "text": [
      " * sqlite:///pandp.db\n",
      "Done.\n"
     ]
    },
    {
     "data": {
      "text/html": [
       "<table>\n",
       "    <tr>\n",
       "        <th>year</th>\n",
       "        <th>number of sales representatives</th>\n",
       "    </tr>\n",
       "    <tr>\n",
       "        <td>2013</td>\n",
       "        <td>35</td>\n",
       "    </tr>\n",
       "    <tr>\n",
       "        <td>2014</td>\n",
       "        <td>42</td>\n",
       "    </tr>\n",
       "    <tr>\n",
       "        <td>2015</td>\n",
       "        <td>45</td>\n",
       "    </tr>\n",
       "    <tr>\n",
       "        <td>2016</td>\n",
       "        <td>50</td>\n",
       "    </tr>\n",
       "    <tr>\n",
       "        <td>2017</td>\n",
       "        <td>13</td>\n",
       "    </tr>\n",
       "</table>"
      ],
      "text/plain": [
       "[('2013', 35), ('2014', 42), ('2015', 45), ('2016', 50), ('2017', 13)]"
      ]
     },
     "execution_count": 11,
     "metadata": {},
     "output_type": "execute_result"
    }
   ],
   "source": [
    "%%sql\n",
    "SELECT STRFTIME('%Y', o.occurred_at) year, COUNT(DISTINCT s.id) 'number of sales representatives'\n",
    "FROM sales_reps s\n",
    "JOIN accounts a\n",
    "ON s.id = a.sales_rep_id\n",
    "JOIN orders o\n",
    "ON a.id = o.account_id\n",
    "GROUP BY 1"
   ]
  },
  {
   "cell_type": "markdown",
   "id": "02636802",
   "metadata": {},
   "source": [
    "- We can observe that the number of **`P&P’s`** employees is ever increasing which implies more than **`100% retention rate`**. This demonstrates that P&P has effective strategies in place for retaining its employees, which will ultimately result in cost savings on hiring expenses."
   ]
  },
  {
   "cell_type": "markdown",
   "id": "7d1f1f86",
   "metadata": {},
   "source": [
    "***5. Which sales representatives are the top and bottom five performers?***"
   ]
  },
  {
   "cell_type": "markdown",
   "id": "d047ba96",
   "metadata": {},
   "source": [
    "- **Get the top perfomers**"
   ]
  },
  {
   "cell_type": "code",
   "execution_count": 12,
   "id": "a7a968db",
   "metadata": {},
   "outputs": [
    {
     "name": "stdout",
     "output_type": "stream",
     "text": [
      " * sqlite:///pandp.db\n",
      "Done.\n"
     ]
    },
    {
     "data": {
      "text/html": [
       "<table>\n",
       "    <tr>\n",
       "        <th>sales_rep</th>\n",
       "        <th>total_sales</th>\n",
       "    </tr>\n",
       "    <tr>\n",
       "        <td>Earlie Schleusner</td>\n",
       "        <td>1098137.72</td>\n",
       "    </tr>\n",
       "    <tr>\n",
       "        <td>Tia Amato</td>\n",
       "        <td>1010690.6</td>\n",
       "    </tr>\n",
       "    <tr>\n",
       "        <td>Vernita Plump</td>\n",
       "        <td>934212.93</td>\n",
       "    </tr>\n",
       "    <tr>\n",
       "        <td>Georgianna Chisholm</td>\n",
       "        <td>886244.12</td>\n",
       "    </tr>\n",
       "    <tr>\n",
       "        <td>Arica Stoltzfus</td>\n",
       "        <td>810353.34</td>\n",
       "    </tr>\n",
       "</table>"
      ],
      "text/plain": [
       "[('Earlie Schleusner', 1098137.72),\n",
       " ('Tia Amato', 1010690.6),\n",
       " ('Vernita Plump', 934212.93),\n",
       " ('Georgianna Chisholm', 886244.12),\n",
       " ('Arica Stoltzfus', 810353.34)]"
      ]
     },
     "execution_count": 12,
     "metadata": {},
     "output_type": "execute_result"
    }
   ],
   "source": [
    "%%sql\n",
    "SELECT s.name sales_rep, ROUND(SUM(o.total_amt_usd), 2) total_sales\n",
    "FROM sales_reps s\n",
    "JOIN accounts a\n",
    "ON s.id = a.sales_rep_id\n",
    "JOIN orders o\n",
    "ON a.id = o.account_id\n",
    "GROUP BY 1\n",
    "ORDER BY 2 DESC\n",
    "LIMIT 5;"
   ]
  },
  {
   "cell_type": "markdown",
   "id": "89b94b9b",
   "metadata": {},
   "source": [
    "- **`Earlie Schleusner, Tia Amato, Vernita Plump, Georgianna Chisholm, and Arica Stoltzfus`** are the top sales representatives, with each recording over **`$800,000`** in sales."
   ]
  },
  {
   "cell_type": "markdown",
   "id": "9fde18fb",
   "metadata": {},
   "source": [
    "- **Get the low performers**"
   ]
  },
  {
   "cell_type": "code",
   "execution_count": 13,
   "id": "0a69cb2e",
   "metadata": {},
   "outputs": [
    {
     "name": "stdout",
     "output_type": "stream",
     "text": [
      " * sqlite:///pandp.db\n",
      "Done.\n"
     ]
    },
    {
     "data": {
      "text/html": [
       "<table>\n",
       "    <tr>\n",
       "        <th>sales_rep</th>\n",
       "        <th>total_sales</th>\n",
       "    </tr>\n",
       "    <tr>\n",
       "        <td>Nakesha Renn</td>\n",
       "        <td>49361.11</td>\n",
       "    </tr>\n",
       "    <tr>\n",
       "        <td>Julie Starr</td>\n",
       "        <td>89097.65</td>\n",
       "    </tr>\n",
       "    <tr>\n",
       "        <td>Elba Felder</td>\n",
       "        <td>114976.59</td>\n",
       "    </tr>\n",
       "    <tr>\n",
       "        <td>Kathleen Lalonde</td>\n",
       "        <td>116307.79</td>\n",
       "    </tr>\n",
       "    <tr>\n",
       "        <td>Akilah Drinkard</td>\n",
       "        <td>136613.99</td>\n",
       "    </tr>\n",
       "</table>"
      ],
      "text/plain": [
       "[('Nakesha Renn', 49361.11),\n",
       " ('Julie Starr', 89097.65),\n",
       " ('Elba Felder', 114976.59),\n",
       " ('Kathleen Lalonde', 116307.79),\n",
       " ('Akilah Drinkard', 136613.99)]"
      ]
     },
     "execution_count": 13,
     "metadata": {},
     "output_type": "execute_result"
    }
   ],
   "source": [
    "%%sql\n",
    "SELECT s.name sales_rep, ROUND(SUM(o.total_amt_usd), 2) total_sales\n",
    "FROM sales_reps s\n",
    "JOIN accounts a\n",
    "ON s.id = a.sales_rep_id\n",
    "JOIN orders o\n",
    "ON a.id = o.account_id\n",
    "GROUP BY 1\n",
    "ORDER BY 2\n",
    "LIMIT 5;"
   ]
  },
  {
   "cell_type": "markdown",
   "id": "7fa9a5b1",
   "metadata": {},
   "source": [
    "**`Nakesha Renn, Julie Starr, Elba Felder, Kathleen Lalonde, and Akilah Drinkard`** are the lowest-performing sales representatives, with each recording less than **`$150,000`** in sales. This is a significant difference, as it represents more than a **`500%`** difference from the top performers. There is a need to investigate further into why they have low performance."
   ]
  },
  {
   "cell_type": "markdown",
   "id": "445c10a9",
   "metadata": {},
   "source": [
    "***6. What is the trend in performance for the top performers?***\n",
    "\n",
    "- **Aggregate the annual performance of the top performers**"
   ]
  },
  {
   "cell_type": "code",
   "execution_count": 14,
   "id": "d33e875e",
   "metadata": {},
   "outputs": [
    {
     "name": "stdout",
     "output_type": "stream",
     "text": [
      " * sqlite:///pandp.db\n",
      "Done.\n"
     ]
    },
    {
     "data": {
      "text/html": [
       "<table>\n",
       "    <tr>\n",
       "        <th>sales_rep</th>\n",
       "        <th>year</th>\n",
       "        <th>total_sales</th>\n",
       "    </tr>\n",
       "    <tr>\n",
       "        <td>Arica Stoltzfus</td>\n",
       "        <td>2013</td>\n",
       "        <td>19596.7</td>\n",
       "    </tr>\n",
       "    <tr>\n",
       "        <td>Arica Stoltzfus</td>\n",
       "        <td>2014</td>\n",
       "        <td>178758.0</td>\n",
       "    </tr>\n",
       "    <tr>\n",
       "        <td>Arica Stoltzfus</td>\n",
       "        <td>2015</td>\n",
       "        <td>312236.42</td>\n",
       "    </tr>\n",
       "    <tr>\n",
       "        <td>Arica Stoltzfus</td>\n",
       "        <td>2016</td>\n",
       "        <td>291377.61</td>\n",
       "    </tr>\n",
       "    <tr>\n",
       "        <td>Arica Stoltzfus</td>\n",
       "        <td>2017</td>\n",
       "        <td>8384.61</td>\n",
       "    </tr>\n",
       "    <tr>\n",
       "        <td>Earlie Schleusner</td>\n",
       "        <td>2013</td>\n",
       "        <td>33182.64</td>\n",
       "    </tr>\n",
       "    <tr>\n",
       "        <td>Earlie Schleusner</td>\n",
       "        <td>2014</td>\n",
       "        <td>253434.98</td>\n",
       "    </tr>\n",
       "    <tr>\n",
       "        <td>Earlie Schleusner</td>\n",
       "        <td>2015</td>\n",
       "        <td>241763.05</td>\n",
       "    </tr>\n",
       "    <tr>\n",
       "        <td>Earlie Schleusner</td>\n",
       "        <td>2016</td>\n",
       "        <td>560717.22</td>\n",
       "    </tr>\n",
       "    <tr>\n",
       "        <td>Earlie Schleusner</td>\n",
       "        <td>2017</td>\n",
       "        <td>9039.83</td>\n",
       "    </tr>\n",
       "    <tr>\n",
       "        <td>Georgianna Chisholm</td>\n",
       "        <td>2014</td>\n",
       "        <td>43677.04</td>\n",
       "    </tr>\n",
       "    <tr>\n",
       "        <td>Georgianna Chisholm</td>\n",
       "        <td>2015</td>\n",
       "        <td>250151.14</td>\n",
       "    </tr>\n",
       "    <tr>\n",
       "        <td>Georgianna Chisholm</td>\n",
       "        <td>2016</td>\n",
       "        <td>592415.94</td>\n",
       "    </tr>\n",
       "    <tr>\n",
       "        <td>Tia Amato</td>\n",
       "        <td>2013</td>\n",
       "        <td>22204.81</td>\n",
       "    </tr>\n",
       "    <tr>\n",
       "        <td>Tia Amato</td>\n",
       "        <td>2014</td>\n",
       "        <td>241150.65</td>\n",
       "    </tr>\n",
       "    <tr>\n",
       "        <td>Tia Amato</td>\n",
       "        <td>2015</td>\n",
       "        <td>286155.57</td>\n",
       "    </tr>\n",
       "    <tr>\n",
       "        <td>Tia Amato</td>\n",
       "        <td>2016</td>\n",
       "        <td>461179.57</td>\n",
       "    </tr>\n",
       "    <tr>\n",
       "        <td>Vernita Plump</td>\n",
       "        <td>2013</td>\n",
       "        <td>11752.37</td>\n",
       "    </tr>\n",
       "    <tr>\n",
       "        <td>Vernita Plump</td>\n",
       "        <td>2014</td>\n",
       "        <td>158739.14</td>\n",
       "    </tr>\n",
       "    <tr>\n",
       "        <td>Vernita Plump</td>\n",
       "        <td>2015</td>\n",
       "        <td>308642.83</td>\n",
       "    </tr>\n",
       "    <tr>\n",
       "        <td>Vernita Plump</td>\n",
       "        <td>2016</td>\n",
       "        <td>455078.59</td>\n",
       "    </tr>\n",
       "</table>"
      ],
      "text/plain": [
       "[('Arica Stoltzfus', '2013', 19596.7),\n",
       " ('Arica Stoltzfus', '2014', 178758.0),\n",
       " ('Arica Stoltzfus', '2015', 312236.42),\n",
       " ('Arica Stoltzfus', '2016', 291377.61),\n",
       " ('Arica Stoltzfus', '2017', 8384.61),\n",
       " ('Earlie Schleusner', '2013', 33182.64),\n",
       " ('Earlie Schleusner', '2014', 253434.98),\n",
       " ('Earlie Schleusner', '2015', 241763.05),\n",
       " ('Earlie Schleusner', '2016', 560717.22),\n",
       " ('Earlie Schleusner', '2017', 9039.83),\n",
       " ('Georgianna Chisholm', '2014', 43677.04),\n",
       " ('Georgianna Chisholm', '2015', 250151.14),\n",
       " ('Georgianna Chisholm', '2016', 592415.94),\n",
       " ('Tia Amato', '2013', 22204.81),\n",
       " ('Tia Amato', '2014', 241150.65),\n",
       " ('Tia Amato', '2015', 286155.57),\n",
       " ('Tia Amato', '2016', 461179.57),\n",
       " ('Vernita Plump', '2013', 11752.37),\n",
       " ('Vernita Plump', '2014', 158739.14),\n",
       " ('Vernita Plump', '2015', 308642.83),\n",
       " ('Vernita Plump', '2016', 455078.59)]"
      ]
     },
     "execution_count": 14,
     "metadata": {},
     "output_type": "execute_result"
    }
   ],
   "source": [
    "%%sql\n",
    "SELECT s.name sales_rep, STRFTIME('%Y', o.occurred_at) year, ROUND(SUM(o.total_amt_usd), 2) total_sales\n",
    "FROM sales_reps s\n",
    "JOIN accounts a\n",
    "ON s.id = a.sales_rep_id\n",
    "JOIN orders o\n",
    "ON a.id = o.account_id\n",
    "WHERE s.name IN ('Earlie Schleusner', 'Tia Amato', 'Vernita Plump', 'Georgianna Chisholm', 'Arica Stoltzfus')\n",
    "GROUP BY 1, 2\n",
    "ORDER BY 1;"
   ]
  },
  {
   "cell_type": "markdown",
   "id": "00d755c9",
   "metadata": {},
   "source": [
    "- **Transform the query results into a Pandas dataframe**"
   ]
  },
  {
   "cell_type": "code",
   "execution_count": 15,
   "id": "fd8012fc",
   "metadata": {},
   "outputs": [
    {
     "name": "stdout",
     "output_type": "stream",
     "text": [
      " * sqlite:///pandp.db\n",
      "Done.\n"
     ]
    }
   ],
   "source": [
    "# Create high sales reps df\n",
    "high_sales_reps_query = %sql SELECT s.name sales_rep, STRFTIME('%Y', o.occurred_at) year, ROUND(SUM(o.total_amt_usd), 2) total_sales FROM sales_reps s JOIN accounts a ON s.id = a.sales_rep_id JOIN orders o ON a.id = o.account_id WHERE s.name IN ('Earlie Schleusner', 'Tia Amato', 'Vernita Plump', 'Georgianna Chisholm', 'Arica Stoltzfus') GROUP BY 1, 2 ORDER BY 2\n",
    "high_sales_reps_df = high_sales_reps_query.DataFrame()"
   ]
  },
  {
   "cell_type": "markdown",
   "id": "82d9f8a7",
   "metadata": {},
   "source": [
    "- **Create a function for plotting the annual performance**"
   ]
  },
  {
   "cell_type": "code",
   "execution_count": 16,
   "id": "9cf26b1d",
   "metadata": {},
   "outputs": [],
   "source": [
    "def plot_bar(x, y, hue, df):\n",
    "    \"\"\"\n",
    "    Create a bar plot using Seaborn.\n",
    "    \n",
    "    Parameters:\n",
    "    x (str): The column to use for the x-axis.\n",
    "    y (str): The column to use for the y-axis.\n",
    "    hue (str): The column to use for color encoding.\n",
    "    df (pandas.DataFrame): The dataframe to use for the plot.\n",
    "    \n",
    "    Returns:\n",
    "    None\n",
    "    \"\"\"\n",
    "    plt.figure(figsize=(10, 6)) \n",
    "    sns.barplot(x=x, y=y, hue=hue, data=df)\n",
    "    plt.show()"
   ]
  },
  {
   "cell_type": "markdown",
   "id": "4819b76c",
   "metadata": {},
   "source": [
    "- **plot the annual performance of the top performers**"
   ]
  },
  {
   "cell_type": "code",
   "execution_count": 17,
   "id": "736c7fe4",
   "metadata": {},
   "outputs": [
    {
     "data": {
      "image/png": "[encoded data removed]",
      "text/plain": [
       "<Figure size 1000x600 with 1 Axes>"
      ]
     },
     "metadata": {},
     "output_type": "display_data"
    }
   ],
   "source": [
    "# plot the annual performance of the top performers\n",
    "plot_bar(x='sales_rep', y='total_sales', hue='year', df=high_sales_reps_df)"
   ]
  },
  {
   "cell_type": "markdown",
   "id": "7b784559",
   "metadata": {},
   "source": [
    "- All of the top performers except for **`Arica Stoltzfus`** have shown an improvement in performance on an annual basis.\n",
    "- The performance of **`Earlie Schleusner`** and **`Georgianna Chisholm`** experienced a dramatic increase of almost **`100%`** in **`2016`**.\n",
    "- The top performers appear to be in close competition with one another."
   ]
  },
  {
   "cell_type": "markdown",
   "id": "a233657d",
   "metadata": {},
   "source": [
    "***7. What is the trend in performance for the low performers?***"
   ]
  },
  {
   "cell_type": "code",
   "execution_count": 18,
   "id": "ecffcc8a",
   "metadata": {},
   "outputs": [
    {
     "name": "stdout",
     "output_type": "stream",
     "text": [
      " * sqlite:///pandp.db\n",
      "Done.\n"
     ]
    },
    {
     "data": {
      "text/html": [
       "<table>\n",
       "    <tr>\n",
       "        <th>sales_rep</th>\n",
       "        <th>year</th>\n",
       "        <th>total_sales</th>\n",
       "    </tr>\n",
       "    <tr>\n",
       "        <td>Akilah Drinkard</td>\n",
       "        <td>2014</td>\n",
       "        <td>41117.38</td>\n",
       "    </tr>\n",
       "    <tr>\n",
       "        <td>Akilah Drinkard</td>\n",
       "        <td>2015</td>\n",
       "        <td>38109.41</td>\n",
       "    </tr>\n",
       "    <tr>\n",
       "        <td>Akilah Drinkard</td>\n",
       "        <td>2016</td>\n",
       "        <td>57387.2</td>\n",
       "    </tr>\n",
       "    <tr>\n",
       "        <td>Elba Felder</td>\n",
       "        <td>2013</td>\n",
       "        <td>1228.72</td>\n",
       "    </tr>\n",
       "    <tr>\n",
       "        <td>Elba Felder</td>\n",
       "        <td>2014</td>\n",
       "        <td>22893.08</td>\n",
       "    </tr>\n",
       "    <tr>\n",
       "        <td>Elba Felder</td>\n",
       "        <td>2015</td>\n",
       "        <td>38088.2</td>\n",
       "    </tr>\n",
       "    <tr>\n",
       "        <td>Elba Felder</td>\n",
       "        <td>2016</td>\n",
       "        <td>51730.02</td>\n",
       "    </tr>\n",
       "    <tr>\n",
       "        <td>Elba Felder</td>\n",
       "        <td>2017</td>\n",
       "        <td>1036.57</td>\n",
       "    </tr>\n",
       "    <tr>\n",
       "        <td>Julie Starr</td>\n",
       "        <td>2013</td>\n",
       "        <td>738.54</td>\n",
       "    </tr>\n",
       "    <tr>\n",
       "        <td>Julie Starr</td>\n",
       "        <td>2014</td>\n",
       "        <td>22979.77</td>\n",
       "    </tr>\n",
       "    <tr>\n",
       "        <td>Julie Starr</td>\n",
       "        <td>2016</td>\n",
       "        <td>65379.34</td>\n",
       "    </tr>\n",
       "    <tr>\n",
       "        <td>Kathleen Lalonde</td>\n",
       "        <td>2016</td>\n",
       "        <td>116307.79</td>\n",
       "    </tr>\n",
       "    <tr>\n",
       "        <td>Nakesha Renn</td>\n",
       "        <td>2016</td>\n",
       "        <td>49361.11</td>\n",
       "    </tr>\n",
       "</table>"
      ],
      "text/plain": [
       "[('Akilah Drinkard', '2014', 41117.38),\n",
       " ('Akilah Drinkard', '2015', 38109.41),\n",
       " ('Akilah Drinkard', '2016', 57387.2),\n",
       " ('Elba Felder', '2013', 1228.72),\n",
       " ('Elba Felder', '2014', 22893.08),\n",
       " ('Elba Felder', '2015', 38088.2),\n",
       " ('Elba Felder', '2016', 51730.02),\n",
       " ('Elba Felder', '2017', 1036.57),\n",
       " ('Julie Starr', '2013', 738.54),\n",
       " ('Julie Starr', '2014', 22979.77),\n",
       " ('Julie Starr', '2016', 65379.34),\n",
       " ('Kathleen Lalonde', '2016', 116307.79),\n",
       " ('Nakesha Renn', '2016', 49361.11)]"
      ]
     },
     "execution_count": 18,
     "metadata": {},
     "output_type": "execute_result"
    }
   ],
   "source": [
    "%%sql\n",
    "SELECT s.name sales_rep, STRFTIME('%Y', o.occurred_at) year, ROUND(SUM(o.total_amt_usd), 2) total_sales\n",
    "FROM sales_reps s\n",
    "JOIN accounts a\n",
    "ON s.id = a.sales_rep_id\n",
    "JOIN orders o\n",
    "ON a.id = o.account_id\n",
    "WHERE s.name IN ('Nakesha Renn', 'Julie Starr', 'Elba Felder', 'Kathleen Lalonde', 'Akilah Drinkard')\n",
    "GROUP BY 1, 2\n",
    "ORDER BY 1;"
   ]
  },
  {
   "cell_type": "markdown",
   "id": "9b6bbe04",
   "metadata": {},
   "source": [
    "- **Transform the query results into a Pandas dataframe**"
   ]
  },
  {
   "cell_type": "code",
   "execution_count": 19,
   "id": "efd3a285",
   "metadata": {},
   "outputs": [
    {
     "name": "stdout",
     "output_type": "stream",
     "text": [
      " * sqlite:///pandp.db\n",
      "Done.\n"
     ]
    }
   ],
   "source": [
    "# Create low sales reps df\n",
    "low_sales_reps_query = %sql SELECT s.name sales_rep, STRFTIME('%Y', o.occurred_at) year, ROUND(SUM(o.total_amt_usd), 2) total_sales FROM sales_reps s JOIN accounts a ON s.id = a.sales_rep_id JOIN orders o ON a.id = o.account_id WHERE s.name IN ('Nakesha Renn', 'Julie Starr', 'Elba Felder', 'Kathleen Lalonde', 'Akilah Drinkard') GROUP BY 1, 2 ORDER BY 2 \n",
    "low_sales_reps_df = low_sales_reps_query.DataFrame()"
   ]
  },
  {
   "cell_type": "markdown",
   "id": "be1ffde3",
   "metadata": {},
   "source": [
    "- **plot the annual performance of the low performers**"
   ]
  },
  {
   "cell_type": "code",
   "execution_count": 20,
   "id": "0a5203fd",
   "metadata": {},
   "outputs": [
    {
     "data": {
      "image/png": "[encoded data removed]",
      "text/plain": [
       "<Figure size 1000x600 with 1 Axes>"
      ]
     },
     "metadata": {},
     "output_type": "display_data"
    }
   ],
   "source": [
    "# plot the annual performance of the low performers\n",
    "plot_bar(x='sales_rep', y='total_sales', hue='year', df=low_sales_reps_df)"
   ]
  },
  {
   "cell_type": "markdown",
   "id": "466ee3f6",
   "metadata": {},
   "source": [
    "- It seems that **`Kathleen`** and **`Nakesha`** only began working for the company in **`2016`**, which may explain their low sales. Therefore, **`Kathleen`** may not be considered a low performer overall, and **`Nakesha's`** performance may improve in future years as she gains more experience. \n",
    "- **`Elba`** experienced stunted growth in performance.\n",
    "- It is possible that **`Julie`** did not make any sales in **`2015`** due to being on leave or absent.\n",
    "- **`Akilah`** has irregular performance."
   ]
  },
  {
   "cell_type": "markdown",
   "id": "59ea9290",
   "metadata": {},
   "source": [
    "### 4.3 Customers\n",
    "Customers play a vital role in the success of a business, as they provide the revenue needed to sustain and grow the company. It is important for businesses to understand the needs and preferences of their customers in order to effectively market and sell their products or services (Kotler & Keller, 2016). In this section, we will analyze P&P's customer data to understand their purchasing habits."
   ]
  },
  {
   "cell_type": "markdown",
   "id": "9fcd05b2",
   "metadata": {},
   "source": [
    "***8. How many customers does P&P have?***"
   ]
  },
  {
   "cell_type": "code",
   "execution_count": 21,
   "id": "0609c9cf",
   "metadata": {},
   "outputs": [
    {
     "name": "stdout",
     "output_type": "stream",
     "text": [
      " * sqlite:///pandp.db\n",
      "Done.\n"
     ]
    },
    {
     "data": {
      "text/html": [
       "<table>\n",
       "    <tr>\n",
       "        <th>number_of_customers</th>\n",
       "    </tr>\n",
       "    <tr>\n",
       "        <td>351</td>\n",
       "    </tr>\n",
       "</table>"
      ],
      "text/plain": [
       "[(351,)]"
      ]
     },
     "execution_count": 21,
     "metadata": {},
     "output_type": "execute_result"
    }
   ],
   "source": [
    "%%sql\n",
    "SELECT COUNT(*) number_of_customers\n",
    "FROM accounts;"
   ]
  },
  {
   "cell_type": "markdown",
   "id": "ab2ba7a2",
   "metadata": {},
   "source": [
    "- **`P&P`** has **`351`** customers."
   ]
  },
  {
   "cell_type": "markdown",
   "id": "c7a77427",
   "metadata": {},
   "source": [
    "***Who are the top and bottom five customers?***\n",
    "\n",
    "- **Get the top five customers**"
   ]
  },
  {
   "cell_type": "code",
   "execution_count": 22,
   "id": "9f6b29ba",
   "metadata": {},
   "outputs": [
    {
     "name": "stdout",
     "output_type": "stream",
     "text": [
      " * sqlite:///pandp.db\n",
      "Done.\n"
     ]
    },
    {
     "data": {
      "text/html": [
       "<table>\n",
       "    <tr>\n",
       "        <th>name</th>\n",
       "        <th>total_purchase</th>\n",
       "    </tr>\n",
       "    <tr>\n",
       "        <td>EOG Resources</td>\n",
       "        <td>382873.3</td>\n",
       "    </tr>\n",
       "    <tr>\n",
       "        <td>Mosaic</td>\n",
       "        <td>345618.59</td>\n",
       "    </tr>\n",
       "    <tr>\n",
       "        <td>IBM</td>\n",
       "        <td>326819.48</td>\n",
       "    </tr>\n",
       "    <tr>\n",
       "        <td>General Dynamics</td>\n",
       "        <td>300694.79</td>\n",
       "    </tr>\n",
       "    <tr>\n",
       "        <td>Republic Services</td>\n",
       "        <td>293861.14</td>\n",
       "    </tr>\n",
       "</table>"
      ],
      "text/plain": [
       "[('EOG Resources', 382873.3),\n",
       " ('Mosaic', 345618.59),\n",
       " ('IBM', 326819.48),\n",
       " ('General Dynamics', 300694.79),\n",
       " ('Republic Services', 293861.14)]"
      ]
     },
     "execution_count": 22,
     "metadata": {},
     "output_type": "execute_result"
    }
   ],
   "source": [
    "%%sql\n",
    "SELECT a.name, ROUND(SUM(o.total_amt_usd), 2) total_purchase\n",
    "FROM accounts a\n",
    "JOIN orders o\n",
    "ON a.id = o.account_id\n",
    "GROUP BY 1\n",
    "ORDER BY 2 DESC\n",
    "LIMIT 5;"
   ]
  },
  {
   "cell_type": "markdown",
   "id": "ae60373d",
   "metadata": {},
   "source": [
    "- **`P&P's`** top customers are **`EOG Resources, Mosaic, IBM, General Dynamics, and Republic Services`**, with a range of spendings close to **`300-400 thousand USD`**."
   ]
  },
  {
   "cell_type": "markdown",
   "id": "d539ebac",
   "metadata": {},
   "source": [
    "- **Get the bottom five customers**"
   ]
  },
  {
   "cell_type": "code",
   "execution_count": 23,
   "id": "86a7e5e8",
   "metadata": {},
   "outputs": [
    {
     "name": "stdout",
     "output_type": "stream",
     "text": [
      " * sqlite:///pandp.db\n",
      "Done.\n"
     ]
    },
    {
     "data": {
      "text/html": [
       "<table>\n",
       "    <tr>\n",
       "        <th>name</th>\n",
       "        <th>total_purchase</th>\n",
       "    </tr>\n",
       "    <tr>\n",
       "        <td>Bed Bath &amp; Beyond</td>\n",
       "        <td>1069.64</td>\n",
       "    </tr>\n",
       "    <tr>\n",
       "        <td>Deere</td>\n",
       "        <td>1036.57</td>\n",
       "    </tr>\n",
       "    <tr>\n",
       "        <td>Level 3 Communications</td>\n",
       "        <td>881.73</td>\n",
       "    </tr>\n",
       "    <tr>\n",
       "        <td>Delta Air Lines</td>\n",
       "        <td>859.64</td>\n",
       "    </tr>\n",
       "    <tr>\n",
       "        <td>Nike</td>\n",
       "        <td>390.25</td>\n",
       "    </tr>\n",
       "</table>"
      ],
      "text/plain": [
       "[('Bed Bath & Beyond', 1069.64),\n",
       " ('Deere', 1036.57),\n",
       " ('Level 3 Communications', 881.73),\n",
       " ('Delta Air Lines', 859.64),\n",
       " ('Nike', 390.25)]"
      ]
     },
     "execution_count": 23,
     "metadata": {},
     "output_type": "execute_result"
    }
   ],
   "source": [
    "%%sql\n",
    "WITH cte AS (SELECT a.name, ROUND(SUM(o.total_amt_usd), 2) total_purchase\n",
    "FROM accounts a\n",
    "JOIN orders o\n",
    "ON a.id = o.account_id\n",
    "GROUP BY 1\n",
    "ORDER BY 2\n",
    "LIMIT 5)\n",
    "\n",
    "SELECT *\n",
    "FROM cte\n",
    "ORDER BY 2 DESC;"
   ]
  },
  {
   "cell_type": "markdown",
   "id": "d9a6a4bf",
   "metadata": {},
   "source": [
    "- **`P&P's`** bottom customers are **`Bed Bath & Beyond, Deere, Level 3 Communications, Delta Air Lines and Nike`** each with less than **`$1,500`** in cumulative spending."
   ]
  },
  {
   "cell_type": "markdown",
   "id": "768eb1a8",
   "metadata": {},
   "source": [
    "***9. What are the trends in purchasing behaviour among the top and bottom customers?***\n",
    "\n",
    "- **Get the total annual purchases made by the top customers**"
   ]
  },
  {
   "cell_type": "code",
   "execution_count": 24,
   "id": "4e1ce1fb",
   "metadata": {},
   "outputs": [
    {
     "name": "stdout",
     "output_type": "stream",
     "text": [
      " * sqlite:///pandp.db\n",
      "Done.\n"
     ]
    },
    {
     "data": {
      "text/html": [
       "<table>\n",
       "    <tr>\n",
       "        <th>name</th>\n",
       "        <th>year</th>\n",
       "        <th>annual_purchase</th>\n",
       "    </tr>\n",
       "    <tr>\n",
       "        <td>General Dynamics</td>\n",
       "        <td>2013</td>\n",
       "        <td>10166.07</td>\n",
       "    </tr>\n",
       "    <tr>\n",
       "        <td>General Dynamics</td>\n",
       "        <td>2014</td>\n",
       "        <td>88383.04</td>\n",
       "    </tr>\n",
       "    <tr>\n",
       "        <td>General Dynamics</td>\n",
       "        <td>2015</td>\n",
       "        <td>103768.09</td>\n",
       "    </tr>\n",
       "    <tr>\n",
       "        <td>General Dynamics</td>\n",
       "        <td>2016</td>\n",
       "        <td>98377.59</td>\n",
       "    </tr>\n",
       "    <tr>\n",
       "        <td>IBM</td>\n",
       "        <td>2013</td>\n",
       "        <td>9580.87</td>\n",
       "    </tr>\n",
       "    <tr>\n",
       "        <td>IBM</td>\n",
       "        <td>2014</td>\n",
       "        <td>85418.97</td>\n",
       "    </tr>\n",
       "    <tr>\n",
       "        <td>IBM</td>\n",
       "        <td>2015</td>\n",
       "        <td>146537.01</td>\n",
       "    </tr>\n",
       "    <tr>\n",
       "        <td>IBM</td>\n",
       "        <td>2016</td>\n",
       "        <td>85282.63</td>\n",
       "    </tr>\n",
       "    <tr>\n",
       "        <td>Mosaic</td>\n",
       "        <td>2013</td>\n",
       "        <td>8348.08</td>\n",
       "    </tr>\n",
       "    <tr>\n",
       "        <td>Mosaic</td>\n",
       "        <td>2014</td>\n",
       "        <td>78933.56</td>\n",
       "    </tr>\n",
       "    <tr>\n",
       "        <td>Mosaic</td>\n",
       "        <td>2015</td>\n",
       "        <td>86156.91</td>\n",
       "    </tr>\n",
       "    <tr>\n",
       "        <td>Mosaic</td>\n",
       "        <td>2016</td>\n",
       "        <td>172180.04</td>\n",
       "    </tr>\n",
       "    <tr>\n",
       "        <td>Republic Services</td>\n",
       "        <td>2013</td>\n",
       "        <td>8526.1</td>\n",
       "    </tr>\n",
       "    <tr>\n",
       "        <td>Republic Services</td>\n",
       "        <td>2014</td>\n",
       "        <td>90223.23</td>\n",
       "    </tr>\n",
       "    <tr>\n",
       "        <td>Republic Services</td>\n",
       "        <td>2015</td>\n",
       "        <td>158416.13</td>\n",
       "    </tr>\n",
       "    <tr>\n",
       "        <td>Republic Services</td>\n",
       "        <td>2016</td>\n",
       "        <td>36695.68</td>\n",
       "    </tr>\n",
       "</table>"
      ],
      "text/plain": [
       "[('General Dynamics', '2013', 10166.07),\n",
       " ('General Dynamics', '2014', 88383.04),\n",
       " ('General Dynamics', '2015', 103768.09),\n",
       " ('General Dynamics', '2016', 98377.59),\n",
       " ('IBM', '2013', 9580.87),\n",
       " ('IBM', '2014', 85418.97),\n",
       " ('IBM', '2015', 146537.01),\n",
       " ('IBM', '2016', 85282.63),\n",
       " ('Mosaic', '2013', 8348.08),\n",
       " ('Mosaic', '2014', 78933.56),\n",
       " ('Mosaic', '2015', 86156.91),\n",
       " ('Mosaic', '2016', 172180.04),\n",
       " ('Republic Services', '2013', 8526.1),\n",
       " ('Republic Services', '2014', 90223.23),\n",
       " ('Republic Services', '2015', 158416.13),\n",
       " ('Republic Services', '2016', 36695.68)]"
      ]
     },
     "execution_count": 24,
     "metadata": {},
     "output_type": "execute_result"
    }
   ],
   "source": [
    "%%sql\n",
    "SELECT  a.name, STRFTIME('%Y',  o.occurred_at) year,  ROUND(SUM(o.total_amt_usd),2) annual_purchase\n",
    "FROM accounts a \n",
    "JOIN orders o\n",
    "ON o.account_id = a.id\n",
    "WHERE a.name IN ('G Resources', 'Mosaic', 'IBM', 'General Dynamics',  'Republic Services')\n",
    "GROUP BY 1, 2;"
   ]
  },
  {
   "cell_type": "markdown",
   "id": "73ebc333",
   "metadata": {},
   "source": [
    "- **Transform the query ouput to a Pandas DataFrame**"
   ]
  },
  {
   "cell_type": "code",
   "execution_count": 25,
   "id": "2455a092",
   "metadata": {},
   "outputs": [
    {
     "name": "stdout",
     "output_type": "stream",
     "text": [
      " * sqlite:///pandp.db\n",
      "Done.\n"
     ]
    }
   ],
   "source": [
    "top_customers_qry = %sql SELECT  a.name, STRFTIME('%Y',  o.occurred_at) year, ROUND(SUM(o.total_amt_usd),2) annual_purchase FROM accounts a JOIN orders o ON o.account_id = a.id WHERE a.name IN ('G Resources', 'Mosaic', 'IBM', 'General Dynamics',  'Republic Services') GROUP BY 1, 2;\n",
    "top_customers_df = top_customers_qry.DataFrame()"
   ]
  },
  {
   "cell_type": "markdown",
   "id": "e909ff52",
   "metadata": {},
   "source": [
    "- **Plot the annual purchases**"
   ]
  },
  {
   "cell_type": "code",
   "execution_count": 26,
   "id": "694b9726",
   "metadata": {
    "scrolled": true
   },
   "outputs": [
    {
     "data": {
      "image/png": "[encoded data removed]",
      "text/plain": [
       "<Figure size 1000x600 with 1 Axes>"
      ]
     },
     "metadata": {},
     "output_type": "display_data"
    }
   ],
   "source": [
    "# Plot the annual purchases\n",
    "plot_bar(x='name', y='annual_purchase', hue='year', df=top_customers_df)"
   ]
  },
  {
   "cell_type": "markdown",
   "id": "55dad255",
   "metadata": {},
   "source": [
    "- While **`2016`** was a great year for **`P&P`** in terms of sales, it is worth noting that the top 5 customers made their highest purchases in **`2015`**, except for **`Mosaic`**. It would be useful to examine the reasons behind the drop in spending by these top customers in **`2016`**."
   ]
  },
  {
   "cell_type": "markdown",
   "id": "da620820",
   "metadata": {},
   "source": [
    "- **Get the total annual purchases made by the bottom customers**"
   ]
  },
  {
   "cell_type": "code",
   "execution_count": 27,
   "id": "a291ecec",
   "metadata": {},
   "outputs": [
    {
     "name": "stdout",
     "output_type": "stream",
     "text": [
      " * sqlite:///pandp.db\n",
      "Done.\n"
     ]
    },
    {
     "data": {
      "text/html": [
       "<table>\n",
       "    <tr>\n",
       "        <th>name</th>\n",
       "        <th>year</th>\n",
       "        <th>annual_purchase</th>\n",
       "    </tr>\n",
       "    <tr>\n",
       "        <td>Bed Bath &amp; Beyond</td>\n",
       "        <td>2013</td>\n",
       "        <td>1069.64</td>\n",
       "    </tr>\n",
       "    <tr>\n",
       "        <td>Deere</td>\n",
       "        <td>2017</td>\n",
       "        <td>1036.57</td>\n",
       "    </tr>\n",
       "    <tr>\n",
       "        <td>Delta Air Lines</td>\n",
       "        <td>2016</td>\n",
       "        <td>859.64</td>\n",
       "    </tr>\n",
       "    <tr>\n",
       "        <td>Level 3 Communications</td>\n",
       "        <td>2015</td>\n",
       "        <td>881.73</td>\n",
       "    </tr>\n",
       "    <tr>\n",
       "        <td>Nike</td>\n",
       "        <td>2016</td>\n",
       "        <td>390.25</td>\n",
       "    </tr>\n",
       "</table>"
      ],
      "text/plain": [
       "[('Bed Bath & Beyond', '2013', 1069.64),\n",
       " ('Deere', '2017', 1036.57),\n",
       " ('Delta Air Lines', '2016', 859.64),\n",
       " ('Level 3 Communications', '2015', 881.73),\n",
       " ('Nike', '2016', 390.25)]"
      ]
     },
     "execution_count": 27,
     "metadata": {},
     "output_type": "execute_result"
    }
   ],
   "source": [
    "%%sql\n",
    "SELECT  a.name, STRFTIME('%Y',  o.occurred_at) year,  ROUND(SUM(o.total_amt_usd),2) annual_purchase\n",
    "FROM accounts a \n",
    "JOIN orders o\n",
    "ON o.account_id = a.id\n",
    "WHERE a.name IN ('Bed Bath & Beyond', 'Deere', 'Level 3 Communications', 'Delta Air Lines', 'Nike')\n",
    "GROUP BY 1, 2;"
   ]
  },
  {
   "cell_type": "markdown",
   "id": "e69117e7",
   "metadata": {},
   "source": [
    "- **Transform the query ouput to a Pandas DataFrame**"
   ]
  },
  {
   "cell_type": "code",
   "execution_count": 28,
   "id": "864381f4",
   "metadata": {},
   "outputs": [
    {
     "name": "stdout",
     "output_type": "stream",
     "text": [
      " * sqlite:///pandp.db\n",
      "Done.\n"
     ]
    }
   ],
   "source": [
    "low_customers_qry = %sql SELECT  a.name, STRFTIME('%Y',  o.occurred_at) year, ROUND(SUM(o.total_amt_usd),2) annual_purchase FROM accounts a JOIN orders o ON o.account_id = a.id WHERE a.name IN ('Bed Bath & Beyond', 'Deere', 'Level 3 Communications', 'Delta Air Lines', 'Nike') GROUP BY 1, 2;\n",
    "low_customers_df = top_customers_qry.DataFrame()"
   ]
  },
  {
   "cell_type": "markdown",
   "id": "b861fe06",
   "metadata": {},
   "source": [
    "- **Plot the annual purchases**"
   ]
  },
  {
   "cell_type": "code",
   "execution_count": 29,
   "id": "2f34ce4d",
   "metadata": {},
   "outputs": [
    {
     "data": {
      "image/png": "[encoded data removed]",
      "text/plain": [
       "<Figure size 1000x600 with 1 Axes>"
      ]
     },
     "metadata": {},
     "output_type": "display_data"
    }
   ],
   "source": [
    "# Plot the annual purchases\n",
    "plot_bar(x='name', y='annual_purchase', hue='year', df=top_customers_df)"
   ]
  },
  {
   "cell_type": "markdown",
   "id": "4d6bd282",
   "metadata": {},
   "source": [
    "- All of the bottom customers had a history of purchasing from the company for a period of one year.\n",
    "- **`Bed Bath & Beyond`** and **`Level 3 Communications`** made their last purchases from the company in 2013 and 2015, respectively, and are now considered churned customers.\n",
    "- **`Delta Air Lines, Nike, and Deere`** can be considered new customers because they began their transactions in 2016 and 2017, respectively. It is possible that they will make additional purchases in the future."
   ]
  },
  {
   "cell_type": "markdown",
   "id": "c6101d74",
   "metadata": {},
   "source": [
    "***10. What is the distribution of the total customers’ spending?***\n",
    "\n",
    "- **Get the total customers' spending?**"
   ]
  },
  {
   "cell_type": "code",
   "execution_count": 30,
   "id": "2df29a8c",
   "metadata": {
    "scrolled": true
   },
   "outputs": [
    {
     "name": "stdout",
     "output_type": "stream",
     "text": [
      " * sqlite:///pandp.db\n",
      "Done.\n"
     ]
    },
    {
     "data": {
      "text/html": [
       "<table>\n",
       "    <tr>\n",
       "        <th>account_id</th>\n",
       "        <th>total_purchase</th>\n",
       "    </tr>\n",
       "    <tr>\n",
       "        <td>1001</td>\n",
       "        <td>124014.87</td>\n",
       "    </tr>\n",
       "    <tr>\n",
       "        <td>1011</td>\n",
       "        <td>2734.59</td>\n",
       "    </tr>\n",
       "    <tr>\n",
       "        <td>1021</td>\n",
       "        <td>20767.15</td>\n",
       "    </tr>\n",
       "    <tr>\n",
       "        <td>1031</td>\n",
       "        <td>7474.32</td>\n",
       "    </tr>\n",
       "    <tr>\n",
       "        <td>1041</td>\n",
       "        <td>15184.46</td>\n",
       "    </tr>\n",
       "</table>"
      ],
      "text/plain": [
       "[(1001, 124014.87),\n",
       " (1011, 2734.59),\n",
       " (1021, 20767.15),\n",
       " (1031, 7474.32),\n",
       " (1041, 15184.46)]"
      ]
     },
     "execution_count": 30,
     "metadata": {},
     "output_type": "execute_result"
    }
   ],
   "source": [
    "%%sql\n",
    "SELECT account_id, ROUND(SUM(total_amt_usd), 2) total_purchase\n",
    "FROM orders\n",
    "GROUP BY 1\n",
    "LIMIT 5;"
   ]
  },
  {
   "cell_type": "markdown",
   "id": "4656be2b",
   "metadata": {},
   "source": [
    "- **Transform the query ouput to a Pandas DataFrame**"
   ]
  },
  {
   "cell_type": "code",
   "execution_count": 31,
   "id": "bf09a67c",
   "metadata": {},
   "outputs": [
    {
     "name": "stdout",
     "output_type": "stream",
     "text": [
      " * sqlite:///pandp.db\n",
      "Done.\n"
     ]
    }
   ],
   "source": [
    "customers_total_spend_qry = %sql SELECT account_id, ROUND(SUM(total_amt_usd), 2) total_spend FROM orders GROUP BY 1\n",
    "customers_total_spend_df = customers_total_spend_qry.DataFrame()"
   ]
  },
  {
   "cell_type": "markdown",
   "id": "b47bfc12",
   "metadata": {},
   "source": [
    "- **Evaluate the summary statistics of the customers' spending**"
   ]
  },
  {
   "cell_type": "code",
   "execution_count": 32,
   "id": "40233d20",
   "metadata": {},
   "outputs": [
    {
     "data": {
      "text/html": [
       "<div>\n",
       "<style scoped>\n",
       "    .dataframe tbody tr th:only-of-type {\n",
       "        vertical-align: middle;\n",
       "    }\n",
       "\n",
       "    .dataframe tbody tr th {\n",
       "        vertical-align: top;\n",
       "    }\n",
       "\n",
       "    .dataframe thead th {\n",
       "        text-align: right;\n",
       "    }\n",
       "</style>\n",
       "<table border=\"1\" class=\"dataframe\">\n",
       "  <thead>\n",
       "    <tr style=\"text-align: right;\">\n",
       "      <th></th>\n",
       "      <th>account_id</th>\n",
       "      <th>total_spend</th>\n",
       "    </tr>\n",
       "  </thead>\n",
       "  <tbody>\n",
       "    <tr>\n",
       "      <th>count</th>\n",
       "      <td>350.000000</td>\n",
       "      <td>350.000000</td>\n",
       "    </tr>\n",
       "    <tr>\n",
       "      <th>mean</th>\n",
       "      <td>2753.914286</td>\n",
       "      <td>66118.605229</td>\n",
       "    </tr>\n",
       "    <tr>\n",
       "      <th>std</th>\n",
       "      <td>1014.672626</td>\n",
       "      <td>71299.263574</td>\n",
       "    </tr>\n",
       "    <tr>\n",
       "      <th>min</th>\n",
       "      <td>1001.000000</td>\n",
       "      <td>390.250000</td>\n",
       "    </tr>\n",
       "    <tr>\n",
       "      <th>20%</th>\n",
       "      <td>1699.000000</td>\n",
       "      <td>11450.198000</td>\n",
       "    </tr>\n",
       "    <tr>\n",
       "      <th>40%</th>\n",
       "      <td>2407.000000</td>\n",
       "      <td>27364.832000</td>\n",
       "    </tr>\n",
       "    <tr>\n",
       "      <th>50%</th>\n",
       "      <td>2756.000000</td>\n",
       "      <td>38337.055000</td>\n",
       "    </tr>\n",
       "    <tr>\n",
       "      <th>60%</th>\n",
       "      <td>3105.000000</td>\n",
       "      <td>54832.256000</td>\n",
       "    </tr>\n",
       "    <tr>\n",
       "      <th>80%</th>\n",
       "      <td>3803.000000</td>\n",
       "      <td>118938.526000</td>\n",
       "    </tr>\n",
       "    <tr>\n",
       "      <th>90%</th>\n",
       "      <td>4152.000000</td>\n",
       "      <td>156676.340000</td>\n",
       "    </tr>\n",
       "    <tr>\n",
       "      <th>max</th>\n",
       "      <td>4501.000000</td>\n",
       "      <td>382873.300000</td>\n",
       "    </tr>\n",
       "  </tbody>\n",
       "</table>\n",
       "</div>"
      ],
      "text/plain": [
       "        account_id    total_spend\n",
       "count   350.000000     350.000000\n",
       "mean   2753.914286   66118.605229\n",
       "std    1014.672626   71299.263574\n",
       "min    1001.000000     390.250000\n",
       "20%    1699.000000   11450.198000\n",
       "40%    2407.000000   27364.832000\n",
       "50%    2756.000000   38337.055000\n",
       "60%    3105.000000   54832.256000\n",
       "80%    3803.000000  118938.526000\n",
       "90%    4152.000000  156676.340000\n",
       "max    4501.000000  382873.300000"
      ]
     },
     "execution_count": 32,
     "metadata": {},
     "output_type": "execute_result"
    }
   ],
   "source": [
    "# Evaluate the summary statistics of the customers' spending\n",
    "customers_total_spend_df.describe(percentiles=[0.2, 0.4, 0.6, 0.8, 0.9])"
   ]
  },
  {
   "cell_type": "markdown",
   "id": "f3b82262",
   "metadata": {},
   "source": [
    "- **Plot the histogram of the distribution**"
   ]
  },
  {
   "cell_type": "code",
   "execution_count": 33,
   "id": "440698d0",
   "metadata": {},
   "outputs": [
    {
     "data": {
      "image/png": "[encoded data removed]",
      "text/plain": [
       "<Figure size 1000x600 with 1 Axes>"
      ]
     },
     "metadata": {},
     "output_type": "display_data"
    }
   ],
   "source": [
    "# Create the plot\n",
    "plt.figure(figsize=(10, 6)) \n",
    "\n",
    "# Convert total spend to thousands\n",
    "customers_total_spend_df['total_spend'] = customers_total_spend_df['total_spend']/1e3\n",
    "\n",
    "# Create the plot\n",
    "sns.histplot(data=customers_total_spend_df, x='total_spend')\n",
    "\n",
    "plt.xlabel('Total spend in thousand USD')\n",
    "plt.title(\"The distribution of customers' spending\")\n",
    "\n",
    "# Show the plot\n",
    "plt.show()"
   ]
  },
  {
   "cell_type": "markdown",
   "id": "650db598",
   "metadata": {},
   "source": [
    "- The distribution is right-skewed with about **`90%`** of the customers spending less than or equal to **`$150,000`**."
   ]
  },
  {
   "cell_type": "markdown",
   "id": "5a6ef4ab",
   "metadata": {},
   "source": [
    "***11. Segmenting customers into `Bronze, Silver, Gold, and Platinum` categories: how many customers fall into each segment?***\n",
    "\n",
    "- **Get the number of customers per category**"
   ]
  },
  {
   "cell_type": "code",
   "execution_count": 34,
   "id": "7ba0be10",
   "metadata": {},
   "outputs": [
    {
     "name": "stdout",
     "output_type": "stream",
     "text": [
      " * sqlite:///pandp.db\n",
      "Done.\n"
     ]
    },
    {
     "data": {
      "text/html": [
       "<table>\n",
       "    <tr>\n",
       "        <th>segment</th>\n",
       "        <th>count</th>\n",
       "    </tr>\n",
       "    <tr>\n",
       "        <td>Bronze</td>\n",
       "        <td>203</td>\n",
       "    </tr>\n",
       "    <tr>\n",
       "        <td>Silver</td>\n",
       "        <td>65</td>\n",
       "    </tr>\n",
       "    <tr>\n",
       "        <td>Gold</td>\n",
       "        <td>43</td>\n",
       "    </tr>\n",
       "    <tr>\n",
       "        <td>Platinum</td>\n",
       "        <td>39</td>\n",
       "    </tr>\n",
       "</table>"
      ],
      "text/plain": [
       "[('Bronze', 203), ('Silver', 65), ('Gold', 43), ('Platinum', 39)]"
      ]
     },
     "execution_count": 34,
     "metadata": {},
     "output_type": "execute_result"
    }
   ],
   "source": [
    "%%sql\n",
    "WITH cte1 AS (\n",
    "    SELECT account_id, \n",
    "           ROUND(SUM(total_amt_usd), 2) total_purchase\n",
    "    FROM orders\n",
    "    GROUP BY 1\n",
    "),\n",
    "cte2 AS (\n",
    "    SELECT account_id, \n",
    "           total_purchase,\n",
    "           CASE \n",
    "               WHEN total_purchase > 150000 THEN 'Platinum'\n",
    "               WHEN total_purchase > 100000 AND total_purchase <= 150000 THEN 'Gold'\n",
    "               WHEN total_purchase > 50000 AND total_purchase <= 100000 THEN 'Silver'\n",
    "               ELSE 'Bronze' END AS segment\n",
    "    FROM cte1\n",
    ")\n",
    "SELECT segment, COUNT(segment) count\n",
    "FROM cte2\n",
    "GROUP BY 1\n",
    "ORDER BY 2 DESC;"
   ]
  },
  {
   "cell_type": "markdown",
   "id": "86b66528",
   "metadata": {},
   "source": [
    "- **Collect segmentation query output in a DataFrame**"
   ]
  },
  {
   "cell_type": "code",
   "execution_count": 35,
   "id": "cad26c9e",
   "metadata": {},
   "outputs": [],
   "source": [
    "# Collect segmentation query output in a dictionary\n",
    "segements = {'segment': ['Bronze', 'Silver', 'Gold', 'Platinum'], \n",
    "             'count': [203, 65, 43, 39]}\n",
    "# Create the DataFrame \n",
    "segements_df = pd.DataFrame(segements)"
   ]
  },
  {
   "cell_type": "markdown",
   "id": "249ac80e",
   "metadata": {},
   "source": [
    "- **Plot the segments by count**"
   ]
  },
  {
   "cell_type": "code",
   "execution_count": 36,
   "id": "137e6f8f",
   "metadata": {},
   "outputs": [
    {
     "data": {
      "image/png": "[encoded data removed]",
      "text/plain": [
       "<Figure size 640x480 with 1 Axes>"
      ]
     },
     "metadata": {},
     "output_type": "display_data"
    }
   ],
   "source": [
    "# Plot the segments by count\n",
    "palette = ['#CD7F32', '#C0C0C0', '#FFD700', '#584F3F']\n",
    "ax = sns.barplot(x='segment', y='count', data=segements_df, palette=palette)"
   ]
  },
  {
   "cell_type": "markdown",
   "id": "7bc2f910",
   "metadata": {},
   "source": [
    "- The majority of **`P&P's`** customers can be classified as **`bronze`**, as they have a total spending of less than **`$50,000`**."
   ]
  },
  {
   "cell_type": "markdown",
   "id": "9b22e4ba",
   "metadata": {},
   "source": [
    "### 4.4 Channels\n",
    "Advertising channels are the means through which a company's advertising messages are delivered to target audiences. They are important for companies to consider when developing their advertising campaigns because they can impact the effectiveness and reach of the campaign. In this section we analyse the web_events table to identify the most profitable and effective channel for P&P."
   ]
  },
  {
   "cell_type": "markdown",
   "id": "f6096c09",
   "metadata": {},
   "source": [
    "***12. How many channels are in the web_events table?***\n",
    "\n",
    "- **Count the channels**"
   ]
  },
  {
   "cell_type": "code",
   "execution_count": 37,
   "id": "429f3b6c",
   "metadata": {},
   "outputs": [
    {
     "name": "stdout",
     "output_type": "stream",
     "text": [
      " * sqlite:///pandp.db\n",
      "Done.\n"
     ]
    },
    {
     "data": {
      "text/html": [
       "<table>\n",
       "    <tr>\n",
       "        <th>number of channels</th>\n",
       "    </tr>\n",
       "    <tr>\n",
       "        <td>6</td>\n",
       "    </tr>\n",
       "</table>"
      ],
      "text/plain": [
       "[(6,)]"
      ]
     },
     "execution_count": 37,
     "metadata": {},
     "output_type": "execute_result"
    }
   ],
   "source": [
    "%%sql\n",
    "SELECT COUNT(DISTINCT channel) 'number of channels'\n",
    "FROM web_events"
   ]
  },
  {
   "cell_type": "markdown",
   "id": "67ff4ce8",
   "metadata": {},
   "source": [
    "- **`web_events table`** has 6 channels."
   ]
  },
  {
   "cell_type": "markdown",
   "id": "1079c328",
   "metadata": {},
   "source": [
    "***13. Which channel generated the Most profitable traffic?***\n",
    "\n",
    "- **Get the channel**"
   ]
  },
  {
   "cell_type": "code",
   "execution_count": 38,
   "id": "839c10bf",
   "metadata": {},
   "outputs": [
    {
     "name": "stdout",
     "output_type": "stream",
     "text": [
      " * sqlite:///pandp.db\n",
      "Done.\n"
     ]
    },
    {
     "data": {
      "text/html": [
       "<table>\n",
       "    <tr>\n",
       "        <th>channel</th>\n",
       "        <th>total_sales_million_usd</th>\n",
       "    </tr>\n",
       "    <tr>\n",
       "        <td>direct</td>\n",
       "        <td>639.7</td>\n",
       "    </tr>\n",
       "</table>"
      ],
      "text/plain": [
       "[('direct', 639.7)]"
      ]
     },
     "execution_count": 38,
     "metadata": {},
     "output_type": "execute_result"
    }
   ],
   "source": [
    "%%sql\n",
    "SELECT w.channel, ROUND(SUM(o.total_amt_usd/1e6), 2) total_sales_million_usd\n",
    "FROM orders o\n",
    "JOIN accounts a\n",
    "ON o.account_id = a.id\n",
    "JOIN web_events w\n",
    "ON w.account_id = a.id\n",
    "\n",
    "GROUP BY 1\n",
    "ORDER BY 2 DESC\n",
    "LIMIT 1;"
   ]
  },
  {
   "cell_type": "markdown",
   "id": "0e7f06d7",
   "metadata": {},
   "source": [
    "- Of all the channels, the **`direct channel`** is the most lucrative, accounting for approximately **`$640 million`** in sales."
   ]
  },
  {
   "cell_type": "markdown",
   "id": "e1b7cc3d",
   "metadata": {},
   "source": [
    "***14. How do direct channel sales compare to that of others?***\n",
    "\n",
    "- **Get the distribution**"
   ]
  },
  {
   "cell_type": "code",
   "execution_count": 39,
   "id": "cfed7c30",
   "metadata": {},
   "outputs": [
    {
     "name": "stdout",
     "output_type": "stream",
     "text": [
      " * sqlite:///pandp.db\n",
      "Done.\n"
     ]
    },
    {
     "data": {
      "text/html": [
       "<table>\n",
       "    <tr>\n",
       "        <th>channel</th>\n",
       "        <th>total_sales_million_usd</th>\n",
       "    </tr>\n",
       "    <tr>\n",
       "        <td>direct</td>\n",
       "        <td>639.7</td>\n",
       "    </tr>\n",
       "    <tr>\n",
       "        <td>facebook</td>\n",
       "        <td>103.03</td>\n",
       "    </tr>\n",
       "    <tr>\n",
       "        <td>organic</td>\n",
       "        <td>102.05</td>\n",
       "    </tr>\n",
       "    <tr>\n",
       "        <td>adwords</td>\n",
       "        <td>97.78</td>\n",
       "    </tr>\n",
       "    <tr>\n",
       "        <td>twitter</td>\n",
       "        <td>50.67</td>\n",
       "    </tr>\n",
       "    <tr>\n",
       "        <td>banner</td>\n",
       "        <td>48.08</td>\n",
       "    </tr>\n",
       "</table>"
      ],
      "text/plain": [
       "[('direct', 639.7),\n",
       " ('facebook', 103.03),\n",
       " ('organic', 102.05),\n",
       " ('adwords', 97.78),\n",
       " ('twitter', 50.67),\n",
       " ('banner', 48.08)]"
      ]
     },
     "execution_count": 39,
     "metadata": {},
     "output_type": "execute_result"
    }
   ],
   "source": [
    "%%sql\n",
    "SELECT w.channel, ROUND(SUM(o.total_amt_usd/1e6), 2) total_sales_million_usd\n",
    "FROM orders o\n",
    "JOIN accounts a\n",
    "ON o.account_id = a.id\n",
    "JOIN web_events w\n",
    "ON w.account_id = a.id\n",
    "\n",
    "GROUP BY 1\n",
    "ORDER BY 2 DESC;"
   ]
  },
  {
   "cell_type": "markdown",
   "id": "2f4ae6b2",
   "metadata": {},
   "source": [
    "- **Transform the query ouput to a Pandas DataFrame**"
   ]
  },
  {
   "cell_type": "code",
   "execution_count": 40,
   "id": "b907c00f",
   "metadata": {},
   "outputs": [
    {
     "name": "stdout",
     "output_type": "stream",
     "text": [
      " * sqlite:///pandp.db\n",
      "Done.\n"
     ]
    }
   ],
   "source": [
    "# create revenue by channel\n",
    "channel = %sql SELECT w.channel, ROUND(SUM(o.total_amt_usd/1e6), 2) total_sales_million_usd FROM orders o JOIN accounts a ON o.account_id = a.id JOIN web_events w ON w.account_id = a.id WHERE o.occurred_at GROUP BY 1 ORDER BY 2 DESC;\n",
    "channel_df = channel.DataFrame()"
   ]
  },
  {
   "cell_type": "markdown",
   "id": "01f49250",
   "metadata": {},
   "source": [
    "- **Plot the channels sales**"
   ]
  },
  {
   "cell_type": "code",
   "execution_count": 41,
   "id": "6ea3837f",
   "metadata": {},
   "outputs": [
    {
     "data": {
      "image/png": "[encoded data removed]",
      "text/plain": [
       "<Figure size 640x480 with 1 Axes>"
      ]
     },
     "metadata": {},
     "output_type": "display_data"
    }
   ],
   "source": [
    "# Create a bar plot with the 'channel' column on the x-axis and the 'total_sales_million_usd' column on the y-axis\n",
    "# Define colour palette\n",
    "colour = '#3D0069'\n",
    "colours = [colour for i in range(len(channel_df)-1)]\n",
    "palette = ['red']\n",
    "palette.extend(colours)\n",
    "\n",
    "ax = sns.barplot(x='channel', y='total_sales_million_usd', data=channel_df, palette=palette)\n",
    "\n",
    "# Set the x-axis label to 'Channels'\n",
    "ax.set_xlabel('Channels')\n",
    "\n",
    "# Set the y-axis label to 'Total sales in million USD'\n",
    "ax.set_ylabel('Total sales in million USD')\n",
    "\n",
    "# Set the title to 'Revenue by channel'\n",
    "ax.set_title('Sales by channels');\n"
   ]
  },
  {
   "cell_type": "markdown",
   "id": "922bfdbf",
   "metadata": {},
   "source": [
    "- The **`direct channel`** recorded more sales than all the other channels combined."
   ]
  },
  {
   "cell_type": "markdown",
   "id": "d0ca573c",
   "metadata": {},
   "source": [
    "### 4.5 Regions\n",
    "\n",
    "P&P operate in various regions in the US. Let's examine these regions to know the strong hold for P&P in terms of sales."
   ]
  },
  {
   "cell_type": "markdown",
   "id": "0077d061",
   "metadata": {},
   "source": [
    "***15. In how many regions `P&P` operates***?"
   ]
  },
  {
   "cell_type": "code",
   "execution_count": 42,
   "id": "749fbae7",
   "metadata": {},
   "outputs": [
    {
     "name": "stdout",
     "output_type": "stream",
     "text": [
      " * sqlite:///pandp.db\n",
      "Done.\n"
     ]
    },
    {
     "data": {
      "text/html": [
       "<table>\n",
       "    <tr>\n",
       "        <th>number_of_regions</th>\n",
       "    </tr>\n",
       "    <tr>\n",
       "        <td>4</td>\n",
       "    </tr>\n",
       "</table>"
      ],
      "text/plain": [
       "[(4,)]"
      ]
     },
     "execution_count": 42,
     "metadata": {},
     "output_type": "execute_result"
    }
   ],
   "source": [
    "%%sql\n",
    "SELECT COUNT(DISTINCT name) 'number_of_regions'\n",
    "FROM region"
   ]
  },
  {
   "cell_type": "markdown",
   "id": "6cbe7f73",
   "metadata": {},
   "source": [
    "- **`P&P`** operates in four regions."
   ]
  },
  {
   "cell_type": "markdown",
   "id": "71ef3154",
   "metadata": {},
   "source": [
    "***16. What is the relative contribution to revenue by each region?***\n",
    "\n",
    "- **Get the revenue by region**"
   ]
  },
  {
   "cell_type": "code",
   "execution_count": 43,
   "id": "f9ec3880",
   "metadata": {},
   "outputs": [
    {
     "name": "stdout",
     "output_type": "stream",
     "text": [
      " * sqlite:///pandp.db\n",
      "Done.\n"
     ]
    },
    {
     "data": {
      "text/html": [
       "<table>\n",
       "    <tr>\n",
       "        <th>name</th>\n",
       "        <th>total_purchase</th>\n",
       "    </tr>\n",
       "    <tr>\n",
       "        <td>Northeast</td>\n",
       "        <td>7744405.36</td>\n",
       "    </tr>\n",
       "    <tr>\n",
       "        <td>Southeast</td>\n",
       "        <td>6458497.0</td>\n",
       "    </tr>\n",
       "    <tr>\n",
       "        <td>West</td>\n",
       "        <td>5925122.96</td>\n",
       "    </tr>\n",
       "    <tr>\n",
       "        <td>Midwest</td>\n",
       "        <td>3013486.51</td>\n",
       "    </tr>\n",
       "</table>"
      ],
      "text/plain": [
       "[('Northeast', 7744405.36),\n",
       " ('Southeast', 6458497.0),\n",
       " ('West', 5925122.96),\n",
       " ('Midwest', 3013486.51)]"
      ]
     },
     "execution_count": 43,
     "metadata": {},
     "output_type": "execute_result"
    }
   ],
   "source": [
    "%%sql\n",
    "SELECT r.name, ROUND(SUM(o.total_amt_usd), 2) total_purchase\n",
    "FROM region r\n",
    "JOIN sales_reps s\n",
    "ON r.id = s.region_id\n",
    "JOIN accounts a\n",
    "ON s.id = a.sales_rep_id\n",
    "JOIN orders o\n",
    "ON a.id = o.account_id\n",
    "GROUP BY 1\n",
    "ORDER BY 2 DESC"
   ]
  },
  {
   "cell_type": "markdown",
   "id": "c96196c5",
   "metadata": {},
   "source": [
    "- **Collect the query ouput to a Pandas DataFrame**"
   ]
  },
  {
   "cell_type": "code",
   "execution_count": 44,
   "id": "564cf97d",
   "metadata": {},
   "outputs": [],
   "source": [
    "regions = {'name': ['Northeast', 'Southeast', 'West', 'Midwest'], \n",
    "           'total_purchase': [7744405.36, 6458497.0, 5925122.96, 3013486.51]}\n",
    "regions_df = pd.DataFrame(regions)"
   ]
  },
  {
   "cell_type": "markdown",
   "id": "473f5938",
   "metadata": {},
   "source": [
    "- **Plot the relative contributions**"
   ]
  },
  {
   "cell_type": "code",
   "execution_count": 45,
   "id": "0d5c600e",
   "metadata": {},
   "outputs": [
    {
     "data": {
      "image/png": "[encoded data removed]",
      "text/plain": [
       "<Figure size 1200x600 with 1 Axes>"
      ]
     },
     "metadata": {},
     "output_type": "display_data"
    }
   ],
   "source": [
    "# Create the plot\n",
    "plt.figure(figsize=(12, 6)) \n",
    "\n",
    "labels = regions_df['name']\n",
    "values = regions_df['total_purchase']\n",
    "\n",
    "# declaring exploding pie\n",
    "explode = [0.1, 0, 0, 0] \n",
    "# define Seaborn color palette to use\n",
    "palette_color = sns.color_palette('bright')\n",
    "\n",
    "# Create the pie chart\n",
    "plt.pie(x=values, labels=labels, colors=palette_color, explode = explode, autopct='%.0f%%')\n",
    "\n",
    "# Add a title\n",
    "plt.title('Contribution by regions')\n",
    "\n",
    "# Show the plot\n",
    "plt.show()"
   ]
  },
  {
   "cell_type": "markdown",
   "id": "1c5057fe",
   "metadata": {},
   "source": [
    "- The **`Northeast`** region accounts for **`33%`** of the company's total revenue, while the **`Southeast`** region accounts for **`28%`**, the **`West`** accounts for **`26%`**, and the **`Midwest`** accounts for **`13%`**."
   ]
  },
  {
   "cell_type": "markdown",
   "id": "cf3f1705",
   "metadata": {},
   "source": [
    "### 4.6 Products\n",
    "The products of P&P are standard, gloss, poster paper. Let's examine which of the products generates the most sales and the overall products' performance."
   ]
  },
  {
   "cell_type": "markdown",
   "id": "4f87fe88",
   "metadata": {},
   "source": [
    "***17. What are the total sales by products?***\n",
    "\n",
    "- **Get the total sales by products**"
   ]
  },
  {
   "cell_type": "code",
   "execution_count": 46,
   "id": "b4c27c22",
   "metadata": {},
   "outputs": [
    {
     "name": "stdout",
     "output_type": "stream",
     "text": [
      " * sqlite:///pandp.db\n",
      "Done.\n"
     ]
    },
    {
     "data": {
      "text/html": [
       "<table>\n",
       "    <tr>\n",
       "        <th>total_standard_usd</th>\n",
       "        <th>total_gloss_usd</th>\n",
       "        <th>total_poster_usd</th>\n",
       "    </tr>\n",
       "    <tr>\n",
       "        <td>9.67</td>\n",
       "        <td>7.59</td>\n",
       "        <td>5.88</td>\n",
       "    </tr>\n",
       "</table>"
      ],
      "text/plain": [
       "[(9.67, 7.59, 5.88)]"
      ]
     },
     "execution_count": 46,
     "metadata": {},
     "output_type": "execute_result"
    }
   ],
   "source": [
    "%%sql\n",
    "SELECT ROUND(SUM(standard_amt_usd)/1e6, 2) total_standard_usd, \n",
    "ROUND(SUM(gloss_amt_usd)/1e6, 2) total_gloss_usd, \n",
    "ROUND(SUM(poster_amt_usd)/1e6, 2) total_poster_usd\n",
    "FROM orders"
   ]
  },
  {
   "cell_type": "markdown",
   "id": "f5b50328",
   "metadata": {},
   "source": [
    "- **`Standard`** paper had total sales of **`9.67 million USD`**, **`gloss`** paper had total sales of **`7.59 million USD`**, and **`poster`** paper had total sales of **`5.88 million USD`**. The total sales of **`standard`** paper almost double that of **`poster`** paper and it differs by about **`$2 million USD`** from that of **`gloss`** paper."
   ]
  },
  {
   "cell_type": "markdown",
   "id": "232ae15b",
   "metadata": {},
   "source": [
    "***18. What is the proportional contribution of each paper type***\n",
    "\n",
    "- **Plot the contributions**"
   ]
  },
  {
   "cell_type": "code",
   "execution_count": 47,
   "id": "1d4224b4",
   "metadata": {},
   "outputs": [
    {
     "data": {
      "image/png": "[encoded data removed]",
      "text/plain": [
       "<Figure size 1200x600 with 1 Axes>"
      ]
     },
     "metadata": {},
     "output_type": "display_data"
    }
   ],
   "source": [
    "# Create the plot\n",
    "plt.figure(figsize=(12, 6)) \n",
    "\n",
    "labels = ['Standard', 'Glosss', 'Poster']\n",
    "values = [9.67, 7.59, 5.88]\n",
    "\n",
    "# declaring exploding pie\n",
    "explode = [0.1, 0, 0] \n",
    "# define Seaborn color palette to use\n",
    "palette_color = sns.color_palette('bright')\n",
    "\n",
    "# Create the pie chart\n",
    "plt.pie(x=values, labels=labels, colors=palette_color, explode = explode, autopct='%.0f%%')\n",
    "\n",
    "# Add a title\n",
    "plt.title('Contribution by products')\n",
    "\n",
    "# Show the plot\n",
    "plt.show()"
   ]
  },
  {
   "cell_type": "markdown",
   "id": "9b51bec8",
   "metadata": {},
   "source": [
    "- **`Standard`** paper accounts for **`42%`** of total sales, **`gloss`** paper accounts for **`33%`**, and **`poster`** paper accounts for **`25%`**."
   ]
  },
  {
   "cell_type": "markdown",
   "id": "70c69223",
   "metadata": {},
   "source": [
    "***19. What is the monthly average number of orders in year 2016***\n",
    "\n",
    "- **Get the monthly average**"
   ]
  },
  {
   "cell_type": "code",
   "execution_count": 48,
   "id": "1e68375d",
   "metadata": {},
   "outputs": [
    {
     "name": "stdout",
     "output_type": "stream",
     "text": [
      " * sqlite:///pandp.db\n",
      "Done.\n"
     ]
    },
    {
     "data": {
      "text/html": [
       "<table>\n",
       "    <tr>\n",
       "        <th>avg_standard_qty</th>\n",
       "        <th>avg_gloss_qty</th>\n",
       "        <th>avg_poster_qty</th>\n",
       "    </tr>\n",
       "    <tr>\n",
       "        <td>89563.0</td>\n",
       "        <td>46151.0</td>\n",
       "        <td>34420.0</td>\n",
       "    </tr>\n",
       "</table>"
      ],
      "text/plain": [
       "[(89563.0, 46151.0, 34420.0)]"
      ]
     },
     "execution_count": 48,
     "metadata": {},
     "output_type": "execute_result"
    }
   ],
   "source": [
    "%%sql\n",
    "WITH cte AS (SELECT STRFTIME('%m', occurred_at) month, \n",
    "        SUM(standard_qty) total_standard_qty,\n",
    "        SUM(gloss_qty) total_gloss_qty,\n",
    "        SUM(poster_qty) total_poster_qty\n",
    "FROM orders\n",
    "WHERE occurred_at BETWEEN '2016-01-01' AND '2017-01-01'\n",
    "GROUP BY 1)\n",
    "\n",
    "SELECT ROUND(AVG(total_standard_qty)) avg_standard_qty,\n",
    "        ROUND(AVG(total_gloss_qty)) avg_gloss_qty,\n",
    "        ROUND(AVG(total_poster_qty)) avg_poster_qty\n",
    "FROM cte"
   ]
  },
  {
   "cell_type": "markdown",
   "id": "ff63c0e0",
   "metadata": {},
   "source": [
    "- The average order size of **`standard paper`** in **`2016`** is **`89 thousand`**, **`gloss`** is **`46 thousand`** and **`poster`** is **`34 thousand`**."
   ]
  },
  {
   "cell_type": "markdown",
   "id": "c392ae34",
   "metadata": {},
   "source": [
    "***20. What is the monthly minimum and maximum order size in the year 2016 for each paper type?***\n",
    "\n",
    "- **Get the monthly maximum**"
   ]
  },
  {
   "cell_type": "code",
   "execution_count": 49,
   "id": "f7163fc7",
   "metadata": {},
   "outputs": [
    {
     "name": "stdout",
     "output_type": "stream",
     "text": [
      " * sqlite:///pandp.db\n",
      "Done.\n"
     ]
    },
    {
     "data": {
      "text/html": [
       "<table>\n",
       "    <tr>\n",
       "        <th>max_standard_qty</th>\n",
       "        <th>max_gloss_qty</th>\n",
       "        <th>max_poster_qty</th>\n",
       "    </tr>\n",
       "    <tr>\n",
       "        <td>123997</td>\n",
       "        <td>67667</td>\n",
       "        <td>79398</td>\n",
       "    </tr>\n",
       "</table>"
      ],
      "text/plain": [
       "[(123997, 67667, 79398)]"
      ]
     },
     "execution_count": 49,
     "metadata": {},
     "output_type": "execute_result"
    }
   ],
   "source": [
    "%%sql\n",
    "WITH cte AS (SELECT STRFTIME('%m', occurred_at) month, \n",
    "        SUM(standard_qty) total_standard_qty,\n",
    "        SUM(gloss_qty) total_gloss_qty,\n",
    "        SUM(poster_qty) total_poster_qty\n",
    "FROM orders\n",
    "WHERE occurred_at BETWEEN '2016-01-01' AND '2017-01-01'\n",
    "GROUP BY 1)\n",
    "\n",
    "SELECT MAX(total_standard_qty) max_standard_qty,\n",
    "        MAX(total_gloss_qty) max_gloss_qty,\n",
    "        MAX(total_poster_qty) max_poster_qty\n",
    "FROM cte"
   ]
  },
  {
   "cell_type": "markdown",
   "id": "b1bd33f9",
   "metadata": {},
   "source": [
    "- The maximum monthly order size of **`standard paper`** in **`2016`** is **`123 thousand`** while those of **`gloss`** and **`poster`** paper are **`67 thousand`** and **`79 thousand`**, respectively."
   ]
  },
  {
   "cell_type": "markdown",
   "id": "cf1abc45",
   "metadata": {},
   "source": [
    "**Get the monthly minimum**"
   ]
  },
  {
   "cell_type": "code",
   "execution_count": 50,
   "id": "ade427ff",
   "metadata": {
    "scrolled": true
   },
   "outputs": [
    {
     "name": "stdout",
     "output_type": "stream",
     "text": [
      " * sqlite:///pandp.db\n",
      "Done.\n"
     ]
    },
    {
     "data": {
      "text/html": [
       "<table>\n",
       "    <tr>\n",
       "        <th>min_standard_qty</th>\n",
       "        <th>min_gloss_qty</th>\n",
       "        <th>min_poster_qty</th>\n",
       "    </tr>\n",
       "    <tr>\n",
       "        <td>56022</td>\n",
       "        <td>27765</td>\n",
       "        <td>16358</td>\n",
       "    </tr>\n",
       "</table>"
      ],
      "text/plain": [
       "[(56022, 27765, 16358)]"
      ]
     },
     "execution_count": 50,
     "metadata": {},
     "output_type": "execute_result"
    }
   ],
   "source": [
    "%%sql\n",
    "WITH cte AS (SELECT STRFTIME('%m', occurred_at) month, \n",
    "        SUM(standard_qty) total_standard_qty,\n",
    "        SUM(gloss_qty) total_gloss_qty,\n",
    "        SUM(poster_qty) total_poster_qty\n",
    "FROM orders\n",
    "WHERE occurred_at BETWEEN '2016-01-01' AND '2017-01-01'\n",
    "GROUP BY 1)\n",
    "\n",
    "SELECT MIN(total_standard_qty) min_standard_qty,\n",
    "        MIN(total_gloss_qty) min_gloss_qty,\n",
    "        MIN(total_poster_qty) min_poster_qty\n",
    "FROM cte"
   ]
  },
  {
   "cell_type": "markdown",
   "id": "f867c3eb",
   "metadata": {},
   "source": [
    "- The minimum monthly order size of **`standard paper`** in **`2016`** is **`56 thousand`** while those of **`gloss`** and **`poster`** paper are **`27 thousand`** and **`16 thousand`**, respectively."
   ]
  },
  {
   "cell_type": "markdown",
   "id": "e6f79bbe",
   "metadata": {},
   "source": [
    "### 4.7 GROWTH\n",
    "Growth is essential to the long-term survival of a business. It is important for companies to regularly assess and strategize their approach to growth in order to sustain and improve their performance over time. In this section we are going to identify growth rate of P&P to assess its survival chances."
   ]
  },
  {
   "cell_type": "markdown",
   "id": "d027ff0a",
   "metadata": {},
   "source": [
    "***21. What are the annual growth rates of P&P?***\n",
    "\n",
    "- **Get the growth rates**"
   ]
  },
  {
   "cell_type": "code",
   "execution_count": 51,
   "id": "2d9e1278",
   "metadata": {},
   "outputs": [
    {
     "name": "stdout",
     "output_type": "stream",
     "text": [
      " * sqlite:///pandp.db\n",
      "Done.\n"
     ]
    },
    {
     "data": {
      "text/html": [
       "<table>\n",
       "    <tr>\n",
       "        <th>year</th>\n",
       "        <th>annual_amt_usd</th>\n",
       "        <th>lag</th>\n",
       "        <th>growth_rate</th>\n",
       "    </tr>\n",
       "    <tr>\n",
       "        <td>2014</td>\n",
       "        <td>4069106.54</td>\n",
       "        <td>None</td>\n",
       "        <td>None</td>\n",
       "    </tr>\n",
       "    <tr>\n",
       "        <td>2015</td>\n",
       "        <td>5752004.94</td>\n",
       "        <td>4069106.54</td>\n",
       "        <td>41.36</td>\n",
       "    </tr>\n",
       "    <tr>\n",
       "        <td>2016</td>\n",
       "        <td>12864917.92</td>\n",
       "        <td>5752004.94</td>\n",
       "        <td>123.66</td>\n",
       "    </tr>\n",
       "</table>"
      ],
      "text/plain": [
       "[('2014', 4069106.54, None, None),\n",
       " ('2015', 5752004.94, 4069106.54, 41.36),\n",
       " ('2016', 12864917.92, 5752004.94, 123.66)]"
      ]
     },
     "execution_count": 51,
     "metadata": {},
     "output_type": "execute_result"
    }
   ],
   "source": [
    "%%sql\n",
    "WITH cte AS (SELECT STRFTIME('%Y', occurred_at) year, ROUND(SUM(total_amt_usd),2) annual_amt_usd\n",
    "FROM orders\n",
    "GROUP BY 1\n",
    "ORDER BY 1)\n",
    "\n",
    "SELECT  year, \n",
    "        annual_amt_usd, \n",
    "        LAG(annual_amt_usd) OVER (ORDER BY year) AS lag,\n",
    "        ROUND(100*(annual_amt_usd - LAG(annual_amt_usd) OVER (ORDER BY year))/LAG(annual_amt_usd) OVER (ORDER BY year), 2) AS growth_rate\n",
    "FROM cte\n",
    "WHERE year NOT IN ('2013', '2017')"
   ]
  },
  {
   "cell_type": "markdown",
   "id": "a4a67f8a",
   "metadata": {},
   "source": [
    "- The annual growth rates of **`P&P`** in **`2015`** and **`2016`** respectively are **`41.36%`** and **`123%`** respectively. This shows the company is growing astronomically."
   ]
  },
  {
   "cell_type": "markdown",
   "id": "839c3c1b",
   "metadata": {},
   "source": [
    "***22. Comparing the months of 2016 to 2015, how did sales fare?***\n",
    "\n",
    "- **Get the 2015 and 2016 monthly sales**"
   ]
  },
  {
   "cell_type": "code",
   "execution_count": 52,
   "id": "c9cb4a81",
   "metadata": {},
   "outputs": [
    {
     "name": "stdout",
     "output_type": "stream",
     "text": [
      " * sqlite:///pandp.db\n",
      "Done.\n"
     ]
    },
    {
     "data": {
      "text/html": [
       "<table>\n",
       "    <tr>\n",
       "        <th>years</th>\n",
       "        <th>months</th>\n",
       "        <th>total_sales</th>\n",
       "    </tr>\n",
       "    <tr>\n",
       "        <td>2015 01</td>\n",
       "        <td>01</td>\n",
       "        <td>347804.3</td>\n",
       "    </tr>\n",
       "    <tr>\n",
       "        <td>2015 02</td>\n",
       "        <td>02</td>\n",
       "        <td>333688.01</td>\n",
       "    </tr>\n",
       "    <tr>\n",
       "        <td>2015 03</td>\n",
       "        <td>03</td>\n",
       "        <td>519403.4</td>\n",
       "    </tr>\n",
       "    <tr>\n",
       "        <td>2015 04</td>\n",
       "        <td>04</td>\n",
       "        <td>451753.57</td>\n",
       "    </tr>\n",
       "    <tr>\n",
       "        <td>2015 05</td>\n",
       "        <td>05</td>\n",
       "        <td>390830.84</td>\n",
       "    </tr>\n",
       "    <tr>\n",
       "        <td>2015 06</td>\n",
       "        <td>06</td>\n",
       "        <td>420906.13</td>\n",
       "    </tr>\n",
       "    <tr>\n",
       "        <td>2015 07</td>\n",
       "        <td>07</td>\n",
       "        <td>461895.49</td>\n",
       "    </tr>\n",
       "    <tr>\n",
       "        <td>2015 08</td>\n",
       "        <td>08</td>\n",
       "        <td>463754.33</td>\n",
       "    </tr>\n",
       "    <tr>\n",
       "        <td>2015 09</td>\n",
       "        <td>09</td>\n",
       "        <td>510848.57</td>\n",
       "    </tr>\n",
       "    <tr>\n",
       "        <td>2015 10</td>\n",
       "        <td>10</td>\n",
       "        <td>554190.81</td>\n",
       "    </tr>\n",
       "    <tr>\n",
       "        <td>2015 11</td>\n",
       "        <td>11</td>\n",
       "        <td>682094.25</td>\n",
       "    </tr>\n",
       "    <tr>\n",
       "        <td>2015 12</td>\n",
       "        <td>12</td>\n",
       "        <td>614835.24</td>\n",
       "    </tr>\n",
       "    <tr>\n",
       "        <td>2016 01</td>\n",
       "        <td>01</td>\n",
       "        <td>625565.87</td>\n",
       "    </tr>\n",
       "    <tr>\n",
       "        <td>2016 02</td>\n",
       "        <td>02</td>\n",
       "        <td>629207.29</td>\n",
       "    </tr>\n",
       "    <tr>\n",
       "        <td>2016 03</td>\n",
       "        <td>03</td>\n",
       "        <td>799072.16</td>\n",
       "    </tr>\n",
       "    <tr>\n",
       "        <td>2016 04</td>\n",
       "        <td>04</td>\n",
       "        <td>765390.18</td>\n",
       "    </tr>\n",
       "    <tr>\n",
       "        <td>2016 05</td>\n",
       "        <td>05</td>\n",
       "        <td>827040.99</td>\n",
       "    </tr>\n",
       "    <tr>\n",
       "        <td>2016 06</td>\n",
       "        <td>06</td>\n",
       "        <td>1152556.74</td>\n",
       "    </tr>\n",
       "    <tr>\n",
       "        <td>2016 07</td>\n",
       "        <td>07</td>\n",
       "        <td>1227707.47</td>\n",
       "    </tr>\n",
       "    <tr>\n",
       "        <td>2016 08</td>\n",
       "        <td>08</td>\n",
       "        <td>1087667.48</td>\n",
       "    </tr>\n",
       "    <tr>\n",
       "        <td>2016 09</td>\n",
       "        <td>09</td>\n",
       "        <td>1206399.93</td>\n",
       "    </tr>\n",
       "    <tr>\n",
       "        <td>2016 10</td>\n",
       "        <td>10</td>\n",
       "        <td>1377981.57</td>\n",
       "    </tr>\n",
       "    <tr>\n",
       "        <td>2016 11</td>\n",
       "        <td>11</td>\n",
       "        <td>1396045.62</td>\n",
       "    </tr>\n",
       "    <tr>\n",
       "        <td>2016 12</td>\n",
       "        <td>12</td>\n",
       "        <td>1770282.62</td>\n",
       "    </tr>\n",
       "</table>"
      ],
      "text/plain": [
       "[('2015 01', '01', 347804.3),\n",
       " ('2015 02', '02', 333688.01),\n",
       " ('2015 03', '03', 519403.4),\n",
       " ('2015 04', '04', 451753.57),\n",
       " ('2015 05', '05', 390830.84),\n",
       " ('2015 06', '06', 420906.13),\n",
       " ('2015 07', '07', 461895.49),\n",
       " ('2015 08', '08', 463754.33),\n",
       " ('2015 09', '09', 510848.57),\n",
       " ('2015 10', '10', 554190.81),\n",
       " ('2015 11', '11', 682094.25),\n",
       " ('2015 12', '12', 614835.24),\n",
       " ('2016 01', '01', 625565.87),\n",
       " ('2016 02', '02', 629207.29),\n",
       " ('2016 03', '03', 799072.16),\n",
       " ('2016 04', '04', 765390.18),\n",
       " ('2016 05', '05', 827040.99),\n",
       " ('2016 06', '06', 1152556.74),\n",
       " ('2016 07', '07', 1227707.47),\n",
       " ('2016 08', '08', 1087667.48),\n",
       " ('2016 09', '09', 1206399.93),\n",
       " ('2016 10', '10', 1377981.57),\n",
       " ('2016 11', '11', 1396045.62),\n",
       " ('2016 12', '12', 1770282.62)]"
      ]
     },
     "execution_count": 52,
     "metadata": {},
     "output_type": "execute_result"
    }
   ],
   "source": [
    "%%sql\n",
    "SELECT strftime('%Y %m', occurred_at) years, strftime('%m', occurred_at) months, ROUND(SUM(total_amt_usd), 2) total_sales\n",
    "FROM orders\n",
    "WHERE occurred_at LIKE '2015%' OR occurred_at LIKE '2016%'\n",
    "GROUP BY 1"
   ]
  },
  {
   "cell_type": "markdown",
   "id": "a20afe8d",
   "metadata": {},
   "source": [
    "- **Transform the query ouput to a Pandas DataFrame**"
   ]
  },
  {
   "cell_type": "code",
   "execution_count": 53,
   "id": "919447c7",
   "metadata": {},
   "outputs": [
    {
     "name": "stdout",
     "output_type": "stream",
     "text": [
      " * sqlite:///pandp.db\n",
      "Done.\n"
     ]
    }
   ],
   "source": [
    "total_sales_qry = %sql SELECT strftime('%Y %m', occurred_at) years, strftime('%m', occurred_at) months, ROUND(SUM(total_amt_usd), 2) average_sales FROM orders WHERE occurred_at LIKE '2015%' OR occurred_at LIKE '2016%' GROUP BY 1\n",
    "total_sales_df = total_sales_qry.DataFrame()"
   ]
  },
  {
   "cell_type": "markdown",
   "id": "102a6adb",
   "metadata": {},
   "source": [
    "- **Plot the month over month chart**"
   ]
  },
  {
   "cell_type": "code",
   "execution_count": 54,
   "id": "0b865b1d",
   "metadata": {},
   "outputs": [
    {
     "data": {
      "image/png": "[encoded data removed]",
      "text/plain": [
       "<Figure size 1500x600 with 1 Axes>"
      ]
     },
     "metadata": {},
     "output_type": "display_data"
    }
   ],
   "source": [
    "total_sales_df['month_over_month_change'] = total_sales_df['average_sales'] - total_sales_df['average_sales'].shift(12)\n",
    "# Set the figure size to 10 inches wide and 6 inches tall\n",
    "\n",
    "plt.figure(figsize=(15, 6))\n",
    "# Create a line plot with the year on the x-axis and the YoY change on the y-axis\n",
    "sns.lineplot(x='months', y='month_over_month_change', data=total_sales_df)\n",
    "\n",
    "plt.title('2015 and 2016 month over month comparison');"
   ]
  },
  {
   "cell_type": "markdown",
   "id": "a0248578",
   "metadata": {},
   "source": [
    "- There is high variability between the two years monthly sales.\n",
    "- There is no seasonal sales pattern between the two years.\n",
    "- Overall 2016 sales are better than those of 2015."
   ]
  },
  {
   "cell_type": "markdown",
   "id": "42485fc2",
   "metadata": {},
   "source": [
    "<link href='https://fonts.googleapis.com/css?family=Merriweather' rel='stylesheet'>\n",
    "<h2 style=\"background-color: #F5E8DA; color: #50006C; font-family: 'Merriweather'; font-weight: bold; font-size: 20px; text-align: center; padding: 10px 0;\">\n",
    "  5. Conclusions\n",
    "</h2>"
   ]
  },
  {
   "cell_type": "markdown",
   "id": "57516eda",
   "metadata": {},
   "source": [
    "- P&P has excellent employee retention strategies, which leads to cost savings on hiring expenses.\n",
    "- The top-performing sales reps recorded up to or close to a million USD in total sales.\n",
    "- Most of the top performers showed consistent growth, with exceptional performance in 2016.\n",
    "- The top performers appear to be in close competition with one another.\n",
    "- The low-performing sales reps recorded less than 150 thousand USD in total sales.\n",
    "- Some of the low-performing sales reps are new employees.\n",
    "- Five of the bottom customers have less than $1,500 in cumulative spending to date. Their low spending may be due to the fact that some of them are new or have churned.\n",
    "- The direct channel, Northeast region, and standard paper product category generate the most revenue.\n",
    "- The best year for the company was 2016, with an annual growth rate of 123%.\n"
   ]
  },
  {
   "cell_type": "markdown",
   "id": "d7edd80b",
   "metadata": {},
   "source": [
    "<link href='https://fonts.googleapis.com/css?family=Merriweather' rel='stylesheet'>\n",
    "<h2 style=\"background-color: #F5E8DA; color: #50006C; font-family: 'Merriweather'; font-weight: bold; font-size: 20px; text-align: center; padding: 10px 0;\">\n",
    "  6. Recommendations\n",
    "</h2>\n"
   ]
  },
  {
   "cell_type": "markdown",
   "id": "1f53f18e",
   "metadata": {},
   "source": [
    "By offering incentives to the top performers, P&P can encourage other team members to strive for similar levels of success. Additionally, promoting top performers to mentor other team members can help to spread their knowledge and expertise, leading to improved sales performance across the organisation.\n",
    "Consider conducting interviews with low-performing sales reps to uncover any challenges they may be facing.\n",
    "Encourage top customers with discounts and dedicated support in order to increase customer loyalty and satisfaction.\n",
    "Attempt to contact churned customers with the goal of bringing them back to the business.\n",
    "Invest more in the direct channel and Northeast region, and investigate why other channels and regions are not performing as efficiently.\n",
    "Utilise the minimum, maximum, average, and monthly number of orders data for each paper product in order to optimise inventory management.\n",
    "Look for ways to build upon the business success of 2016 in order to drive further growth.\n"
   ]
  },
  {
   "cell_type": "markdown",
   "id": "1fb4a0cf",
   "metadata": {},
   "source": [
    "<link href='https://fonts.googleapis.com/css?family=Merriweather' rel='stylesheet'>\n",
    "<h2 style=\"background-color: #F5E8DA; color: #50006C; font-family: 'Merriweather'; font-weight: bold; font-size: 20px; text-align: center; padding: 10px 0;\">\n",
    "  7. References\n",
    "</h2>\n"
   ]
  },
  {
   "cell_type": "markdown",
   "id": "62c31976",
   "metadata": {},
   "source": [
    "- Kotler, P., & Keller, K. L. (2016). Marketing management (15th ed.). Upper Saddle River, NJ: Pearson Education.\n",
    "- Perreault, W. D., Cannon, J. P., & McCarthy, E. J. (2016). Basic marketing: A marketing strategy planning approach (19th ed.). McGraw-Hill Education.\n",
    "- Oyon, D., & Garrido-Moreno, A. (2006). The impact of innovation on business performance: Evidence from Spanish companies. Journal of Business Research, 59(9), 1059-1066.\n"
   ]
  },
  {
   "cell_type": "markdown",
   "id": "047ca752",
   "metadata": {},
   "source": [
    "\n",
    "<footer style=\"background-color: #3D0069; color: white ; font-family: 'Merriweather'; font-weight: bold; text-align: center; padding: 20px 0; font-size: 16px;\">\n",
    "    <p style=\"text-align: center;\"> <i>Datavestigating to connect the facts</i> </p>\n",
    "    <p style=\"font-size: 14px; text-align: center;\">&copy; The Datavestigator</p>   \n",
    "</footer>"
   ]
  },
  {
   "cell_type": "code",
   "execution_count": null,
   "id": "ce5e6975",
   "metadata": {},
   "outputs": [],
   "source": []
  }
 ],
 "metadata": {
  "kernelspec": {
   "display_name": "Python 3 (ipykernel)",
   "language": "python",
   "name": "python3"
  },
  "language_info": {
   "codemirror_mode": {
    "name": "ipython",
    "version": 3
   },
   "file_extension": ".py",
   "mimetype": "text/x-python",
   "name": "python",
   "nbconvert_exporter": "python",
   "pygments_lexer": "ipython3",
   "version": "3.10.6"
  }
 },
 "nbformat": 4,
 "nbformat_minor": 5
}
