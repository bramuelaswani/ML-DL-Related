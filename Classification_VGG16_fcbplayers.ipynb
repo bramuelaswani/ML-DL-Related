{
 "cells": [
  {
   "cell_type": "code",
   "execution_count": null,
   "metadata": {},
   "outputs": [],
   "source": [
    "import tensorflow as tf\n",
    "from tensorflow import keras"
   ]
  },
  {
   "cell_type": "code",
   "execution_count": null,
   "metadata": {},
   "outputs": [],
   "source": [
    "from tensorflow.python.keras.layers import Conv2D"
   ]
  },
  {
   "cell_type": "code",
   "execution_count": null,
   "metadata": {},
   "outputs": [],
   "source": [
    "import numpy as np\n",
    "from random import randint\n",
    "from sklearn.utils import shuffle\n",
    "from sklearn.preprocessing import MinMaxScaler\n",
    "from tensorflow.python.keras.models import Sequential\n",
    "from tensorflow.python.keras.layers import Activation, Dense, Flatten, BatchNormalization, MaxPool2D\n",
    "from tensorflow.python.keras.optimizers import Adam\n",
    "from tensorflow.python.keras.metrics import categorical_crossentropy\n",
    "from tensorflow.python.keras.preprocessing.image import ImageDataGenerator\n",
    "from tensorflow.python.keras.applications.vgg16 import preprocess_input\n",
    "import warnings\n",
    "warnings.simplefilter(action='ignore', category=FutureWarning)\n",
    "%matplotlib inline\n",
    "from sklearn.metrics import confusion_matrix\n",
    "import itertools\n",
    "import matplotlib.pyplot as plt\n",
    "import os\n",
    "import shutil\n",
    "import random\n",
    "import glob"
   ]
  },
  {
   "cell_type": "code",
   "execution_count": null,
   "metadata": {},
   "outputs": [],
   "source": [
    "# Organize data into trai, valid, test dirs\n",
    "os.chdir('C:/Users/aboubakiri.diaw/deploiement recomm/fcbdata')\n",
    "if os.path.isdir('train/iniesta') is False:\n",
    "    os.makedirs('train/iniesta')\n",
    "    os.makedirs('train/neymar')\n",
    "    os.makedirs('train/messi')\n",
    "    os.makedirs('valid/iniesta')\n",
    "    os.makedirs('valid/neymar')\n",
    "    os.makedirs('valid/messi')\n",
    "    os.makedirs('test/iniesta')\n",
    "    os.makedirs('test/neymar')\n",
    "    os.makedirs('test/messi')\n",
    "    for c in random.sample(glob.glob('iniesta*'), 400):\n",
    "        shutil.move(c, 'train/iniesta')\n",
    "    for c in random.sample(glob.glob('neymar*'), 300): \n",
    "        shutil.move(c, 'train/neymar')\n",
    "    for c in random.sample(glob.glob('messi*'), 330):\n",
    "        shutil.move(c, 'train/messi')\n",
    "    for c in random.sample(glob.glob('iniesta*'), 160):\n",
    "        shutil.move(c, 'valid/iniesta')\n",
    "    for c in random.sample(glob.glob('neymar*'), 100):\n",
    "        shutil.move(c, 'valid/neymar')\n",
    "    for c in random.sample(glob.glob('messi*'), 100): \n",
    "        shutil.move(c, 'valid/messi') \n",
    "    for c in random.sample(glob.glob('iniesta*'), 50):\n",
    "        shutil.move(c, 'test/iniesta') \n",
    "    for c in random.sample(glob.glob('neymar*'), 44): \n",
    "        shutil.move(c, 'test/neymar') \n",
    "    for c in random.sample(glob.glob('messi*'), 42): \n",
    "        shutil.move(c, 'test/messi') \n",
    "\n",
    "        \n",
    "os.chdir('../../')     "
   ]
  },
  {
   "cell_type": "code",
   "execution_count": null,
   "metadata": {},
   "outputs": [],
   "source": [
    "train_path = 'C:/Users/aboubakiri.diaw/deploiement recomm/fcbdata/train'\n",
    "valid_path= 'C:/Users/aboubakiri.diaw/deploiement recomm/fcbdata/valid'\n",
    "test_path = 'C:/Users/aboubakiri.diaw/deploiement recomm/fcbdata/test'"
   ]
  },
  {
   "cell_type": "code",
   "execution_count": null,
   "metadata": {},
   "outputs": [
    {
     "name": "stdout",
     "output_type": "stream",
     "text": [
      "Found 1030 images belonging to 3 classes.\n",
      "Found 360 images belonging to 3 classes.\n",
      "Found 136 images belonging to 3 classes.\n"
     ]
    }
   ],
   "source": [
    "train_batches = ImageDataGenerator(preprocess_input).flow_from_directory(directory=train_path, target_size=(224,224), classes=['iniesta', 'neymar', 'messi'], batch_size=10)\n",
    "valid_batches = ImageDataGenerator(preprocess_input).flow_from_directory(directory=valid_path, target_size=(224,224), classes=['iniesta', 'neymar', 'messi'], batch_size=10)\n",
    "test_batches = ImageDataGenerator(preprocess_input).flow_from_directory(directory=test_path, target_size=(224,224), classes=['iniesta', 'neymar', 'messi'], batch_size=10, shuffle=False )\n"
   ]
  },
  {
   "cell_type": "code",
   "execution_count": null,
   "metadata": {},
   "outputs": [
    {
     "name": "stderr",
     "output_type": "stream",
     "text": [
      "C:\\Users\\aboubakiri.diaw\\Anaconda3\\lib\\site-packages\\keras_preprocessing\\image\\image_data_generator.py:716: UserWarning: This ImageDataGenerator specifies `featurewise_center`, but it hasn't been fit on any training data. Fit it first by calling `.fit(numpy_data)`.\n",
      "  warnings.warn('This ImageDataGenerator specifies '\n"
     ]
    }
   ],
   "source": [
    "imgs, labels = next(train_batches)"
   ]
  },
  {
   "cell_type": "code",
   "execution_count": null,
   "metadata": {},
   "outputs": [
    {
     "data": {
      "text/plain": [
       "array([[0., 0., 1.],\n",
       "       [1., 0., 0.],\n",
       "       [0., 0., 1.],\n",
       "       [0., 0., 1.],\n",
       "       [0., 0., 1.],\n",
       "       [0., 1., 0.],\n",
       "       [0., 1., 0.],\n",
       "       [1., 0., 0.],\n",
       "       [0., 1., 0.],\n",
       "       [0., 0., 1.]], dtype=float32)"
      ]
     },
     "execution_count": 8,
     "metadata": {},
     "output_type": "execute_result"
    }
   ],
   "source": [
    "labels "
   ]
  },
  {
   "cell_type": "code",
   "execution_count": null,
   "metadata": {},
   "outputs": [],
   "source": [
    "# this function will pplot images\n",
    "def plotImages(images_arr):\n",
    "    fig, axes = plt.subplots(1,10, figsize=(20,20))\n",
    "    axes = axes.flatten()\n",
    "    for img, ax in zip(images_arr, axes):\n",
    "        ax.imshow(img)\n",
    "        ax.axis('off')\n",
    "        plt.tight_layout()\n",
    "        plt.show"
   ]
  },
  {
   "cell_type": "code",
   "execution_count": null,
   "metadata": {},
   "outputs": [
    {
     "name": "stderr",
     "output_type": "stream",
     "text": [
      "Clipping input data to the valid range for imshow with RGB data ([0..1] for floats or [0..255] for integers).\n",
      "Clipping input data to the valid range for imshow with RGB data ([0..1] for floats or [0..255] for integers).\n",
      "Clipping input data to the valid range for imshow with RGB data ([0..1] for floats or [0..255] for integers).\n",
      "Clipping input data to the valid range for imshow with RGB data ([0..1] for floats or [0..255] for integers).\n",
      "Clipping input data to the valid range for imshow with RGB data ([0..1] for floats or [0..255] for integers).\n",
      "Clipping input data to the valid range for imshow with RGB data ([0..1] for floats or [0..255] for integers).\n",
      "Clipping input data to the valid range for imshow with RGB data ([0..1] for floats or [0..255] for integers).\n",
      "Clipping input data to the valid range for imshow with RGB data ([0..1] for floats or [0..255] for integers).\n",
      "Clipping input data to the valid range for imshow with RGB data ([0..1] for floats or [0..255] for integers).\n",
      "Clipping input data to the valid range for imshow with RGB data ([0..1] for floats or [0..255] for integers).\n"
     ]
    },
    {
     "name": "stdout",
     "output_type": "stream",
     "text": [
      "[[0. 0. 1.]\n",
      " [1. 0. 0.]\n",
      " [0. 0. 1.]\n",
      " [0. 0. 1.]\n",
      " [0. 0. 1.]\n",
      " [0. 1. 0.]\n",
      " [0. 1. 0.]\n",
      " [1. 0. 0.]\n",
      " [0. 1. 0.]\n",
      " [0. 0. 1.]]\n"
     ]
    },
    {
     "data": {
      "image/png": "[encoded data removed]",
      "text/plain": [
       "<Figure size 1440x1440 with 10 Axes>"
      ]
     },
     "metadata": {
      "needs_background": "light"
     },
     "output_type": "display_data"
    }
   ],
   "source": [
    "plotImages(imgs)\n",
    "print(labels)"
   ]
  },
  {
   "cell_type": "code",
   "execution_count": null,
   "metadata": {},
   "outputs": [
    {
     "data": {
      "text/plain": [
       "{'iniesta': 0, 'neymar': 1, 'messi': 2}"
      ]
     },
     "execution_count": 11,
     "metadata": {},
     "output_type": "execute_result"
    }
   ],
   "source": [
    "train_batches.class_indices"
   ]
  },
  {
   "cell_type": "markdown",
   "metadata": {},
   "source": [
    "## Buil Fine-tuned VGG16 model"
   ]
  },
  {
   "cell_type": "code",
   "execution_count": null,
   "metadata": {},
   "outputs": [],
   "source": [
    "from tensorflow.python.keras.applications.vgg16 import VGG16\n",
    "from tensorflow.python.keras.models import load_model\n",
    "vgg16_weights ='C:/Users/aboubakiri.diaw/deploiement recomm/keras/vgg16.h5'\n",
    "\n",
    "vgg16_model = VGG16(weights=vgg16_weights) "
   ]
  },
  {
   "cell_type": "code",
   "execution_count": null,
   "metadata": {},
   "outputs": [
    {
     "name": "stdout",
     "output_type": "stream",
     "text": [
      "Model: \"vgg16\"\n",
      "_________________________________________________________________\n",
      "Layer (type)                 Output Shape              Param #   \n",
      "=================================================================\n",
      "input_2 (InputLayer)         [(None, 224, 224, 3)]     0         \n",
      "_________________________________________________________________\n",
      "block1_conv1 (Conv2D)        (None, 224, 224, 64)      1792      \n",
      "_________________________________________________________________\n",
      "block1_conv2 (Conv2D)        (None, 224, 224, 64)      36928     \n",
      "_________________________________________________________________\n",
      "block1_pool (MaxPooling2D)   (None, 112, 112, 64)      0         \n",
      "_________________________________________________________________\n",
      "block2_conv1 (Conv2D)        (None, 112, 112, 128)     73856     \n",
      "_________________________________________________________________\n",
      "block2_conv2 (Conv2D)        (None, 112, 112, 128)     147584    \n",
      "_________________________________________________________________\n",
      "block2_pool (MaxPooling2D)   (None, 56, 56, 128)       0         \n",
      "_________________________________________________________________\n",
      "block3_conv1 (Conv2D)        (None, 56, 56, 256)       295168    \n",
      "_________________________________________________________________\n",
      "block3_conv2 (Conv2D)        (None, 56, 56, 256)       590080    \n",
      "_________________________________________________________________\n",
      "block3_conv3 (Conv2D)        (None, 56, 56, 256)       590080    \n",
      "_________________________________________________________________\n",
      "block3_pool (MaxPooling2D)   (None, 28, 28, 256)       0         \n",
      "_________________________________________________________________\n",
      "block4_conv1 (Conv2D)        (None, 28, 28, 512)       1180160   \n",
      "_________________________________________________________________\n",
      "block4_conv2 (Conv2D)        (None, 28, 28, 512)       2359808   \n",
      "_________________________________________________________________\n",
      "block4_conv3 (Conv2D)        (None, 28, 28, 512)       2359808   \n",
      "_________________________________________________________________\n",
      "block4_pool (MaxPooling2D)   (None, 14, 14, 512)       0         \n",
      "_________________________________________________________________\n",
      "block5_conv1 (Conv2D)        (None, 14, 14, 512)       2359808   \n",
      "_________________________________________________________________\n",
      "block5_conv2 (Conv2D)        (None, 14, 14, 512)       2359808   \n",
      "_________________________________________________________________\n",
      "block5_conv3 (Conv2D)        (None, 14, 14, 512)       2359808   \n",
      "_________________________________________________________________\n",
      "block5_pool (MaxPooling2D)   (None, 7, 7, 512)         0         \n",
      "_________________________________________________________________\n",
      "flatten (Flatten)            (None, 25088)             0         \n",
      "_________________________________________________________________\n",
      "fc1 (Dense)                  (None, 4096)              102764544 \n",
      "_________________________________________________________________\n",
      "fc2 (Dense)                  (None, 4096)              16781312  \n",
      "_________________________________________________________________\n",
      "predictions (Dense)          (None, 1000)              4097000   \n",
      "=================================================================\n",
      "Total params: 138,357,544\n",
      "Trainable params: 138,357,544\n",
      "Non-trainable params: 0\n",
      "_________________________________________________________________\n"
     ]
    }
   ],
   "source": [
    "vgg16_model.summary()"
   ]
  },
  {
   "cell_type": "code",
   "execution_count": null,
   "metadata": {},
   "outputs": [],
   "source": [
    "model = Sequential()\n",
    "for layer in vgg16_model.layers[:-1]:\n",
    "    model.add(layer)"
   ]
  },
  {
   "cell_type": "code",
   "execution_count": null,
   "metadata": {},
   "outputs": [],
   "source": [
    "for layer in model.layers:\n",
    "    layer.trainable = False"
   ]
  },
  {
   "cell_type": "code",
   "execution_count": null,
   "metadata": {},
   "outputs": [],
   "source": [
    "model.add(Dense(units=3, activation='softmax'))"
   ]
  },
  {
   "cell_type": "markdown",
   "metadata": {},
   "source": [
    "### Data Augmentation"
   ]
  },
  {
   "cell_type": "markdown",
   "metadata": {},
   "source": [
    "## Train the fine-tuned VGG16 model"
   ]
  },
  {
   "cell_type": "code",
   "execution_count": null,
   "metadata": {},
   "outputs": [],
   "source": [
    "model.compile(optimizer=Adam(lr=0.0001), loss='categorical_crossentropy', metrics=['accuracy']) "
   ]
  },
  {
   "cell_type": "code",
   "execution_count": null,
   "metadata": {},
   "outputs": [
    {
     "name": "stdout",
     "output_type": "stream",
     "text": [
      "Epoch 1/25\n"
     ]
    },
    {
     "name": "stderr",
     "output_type": "stream",
     "text": [
      "C:\\Users\\aboubakiri.diaw\\Anaconda3\\lib\\site-packages\\keras_preprocessing\\image\\image_data_generator.py:716: UserWarning: This ImageDataGenerator specifies `featurewise_center`, but it hasn't been fit on any training data. Fit it first by calling `.fit(numpy_data)`.\n",
      "  warnings.warn('This ImageDataGenerator specifies '\n",
      "C:\\Users\\aboubakiri.diaw\\Anaconda3\\lib\\site-packages\\keras_preprocessing\\image\\image_data_generator.py:716: UserWarning: This ImageDataGenerator specifies `featurewise_center`, but it hasn't been fit on any training data. Fit it first by calling `.fit(numpy_data)`.\n",
      "  warnings.warn('This ImageDataGenerator specifies '\n",
      "C:\\Users\\aboubakiri.diaw\\Anaconda3\\lib\\site-packages\\keras_preprocessing\\image\\image_data_generator.py:716: UserWarning: This ImageDataGenerator specifies `featurewise_center`, but it hasn't been fit on any training data. Fit it first by calling `.fit(numpy_data)`.\n",
      "  warnings.warn('This ImageDataGenerator specifies '\n",
      "C:\\Users\\aboubakiri.diaw\\Anaconda3\\lib\\site-packages\\keras_preprocessing\\image\\image_data_generator.py:716: UserWarning: This ImageDataGenerator specifies `featurewise_center`, but it hasn't been fit on any training data. Fit it first by calling `.fit(numpy_data)`.\n",
      "  warnings.warn('This ImageDataGenerator specifies '\n"
     ]
    },
    {
     "name": "stdout",
     "output_type": "stream",
     "text": [
      "103/103 - 117s - loss: 1.2156 - acc: 0.2893 - val_loss: 1.1984 - val_acc: 0.2778\n",
      "Epoch 2/25\n",
      "103/103 - 120s - loss: 1.1593 - acc: 0.2913 - val_loss: 1.1510 - val_acc: 0.2778\n",
      "Epoch 3/25\n",
      "103/103 - 128s - loss: 1.1275 - acc: 0.2913 - val_loss: 1.1224 - val_acc: 0.2778\n",
      "Epoch 4/25\n",
      "103/103 - 119s - loss: 1.1103 - acc: 0.2913 - val_loss: 1.1038 - val_acc: 0.2778\n",
      "Epoch 5/25\n",
      "103/103 - 116s - loss: 1.1008 - acc: 0.2932 - val_loss: 1.0935 - val_acc: 0.4444\n",
      "Epoch 6/25\n",
      "103/103 - 116s - loss: 1.0959 - acc: 0.3883 - val_loss: 1.0872 - val_acc: 0.4444\n",
      "Epoch 7/25\n",
      "103/103 - 114s - loss: 1.0936 - acc: 0.3883 - val_loss: 1.0845 - val_acc: 0.4444\n",
      "Epoch 8/25\n",
      "103/103 - 115s - loss: 1.0926 - acc: 0.3883 - val_loss: 1.0827 - val_acc: 0.4444\n",
      "Epoch 9/25\n",
      "103/103 - 115s - loss: 1.0920 - acc: 0.3883 - val_loss: 1.0811 - val_acc: 0.4444\n",
      "Epoch 10/25\n",
      "103/103 - 114s - loss: 1.0919 - acc: 0.3883 - val_loss: 1.0805 - val_acc: 0.4444\n",
      "Epoch 11/25\n",
      "103/103 - 115s - loss: 1.0918 - acc: 0.3883 - val_loss: 1.0796 - val_acc: 0.4444\n",
      "Epoch 12/25\n",
      "103/103 - 115s - loss: 1.0918 - acc: 0.3883 - val_loss: 1.0798 - val_acc: 0.4444\n",
      "Epoch 13/25\n",
      "103/103 - 115s - loss: 1.0916 - acc: 0.3883 - val_loss: 1.0792 - val_acc: 0.4444\n",
      "Epoch 14/25\n",
      "103/103 - 114s - loss: 1.0915 - acc: 0.3883 - val_loss: 1.0790 - val_acc: 0.4444\n",
      "Epoch 15/25\n",
      "103/103 - 115s - loss: 1.0914 - acc: 0.3883 - val_loss: 1.0797 - val_acc: 0.4444\n",
      "Epoch 16/25\n",
      "103/103 - 114s - loss: 1.0916 - acc: 0.3883 - val_loss: 1.0795 - val_acc: 0.4444\n",
      "Epoch 17/25\n",
      "103/103 - 114s - loss: 1.0916 - acc: 0.3883 - val_loss: 1.0791 - val_acc: 0.4444\n",
      "Epoch 18/25\n",
      "103/103 - 114s - loss: 1.0916 - acc: 0.3883 - val_loss: 1.0794 - val_acc: 0.4444\n",
      "Epoch 19/25\n",
      "103/103 - 115s - loss: 1.0915 - acc: 0.3883 - val_loss: 1.0796 - val_acc: 0.4444\n",
      "Epoch 20/25\n",
      "103/103 - 115s - loss: 1.0916 - acc: 0.3883 - val_loss: 1.0798 - val_acc: 0.4444\n",
      "Epoch 21/25\n",
      "103/103 - 115s - loss: 1.0917 - acc: 0.3883 - val_loss: 1.0798 - val_acc: 0.4444\n",
      "Epoch 22/25\n",
      "103/103 - 115s - loss: 1.0916 - acc: 0.3883 - val_loss: 1.0797 - val_acc: 0.4444\n",
      "Epoch 23/25\n",
      "103/103 - 114s - loss: 1.0917 - acc: 0.3883 - val_loss: 1.0793 - val_acc: 0.4444\n",
      "Epoch 24/25\n",
      "103/103 - 114s - loss: 1.0916 - acc: 0.3883 - val_loss: 1.0785 - val_acc: 0.4444\n",
      "Epoch 25/25\n",
      "103/103 - 114s - loss: 1.0916 - acc: 0.3883 - val_loss: 1.0792 - val_acc: 0.4444\n"
     ]
    },
    {
     "data": {
      "text/plain": [
       "<tensorflow.python.keras.callbacks.History at 0x1f813ebd608>"
      ]
     },
     "execution_count": 53,
     "metadata": {},
     "output_type": "execute_result"
    }
   ],
   "source": [
    "model.fit(x=train_batches, validation_data=valid_batches, epochs=25, verbose=2)"
   ]
  },
  {
   "cell_type": "code",
   "execution_count": null,
   "metadata": {},
   "outputs": [
    {
     "name": "stdout",
     "output_type": "stream",
     "text": [
      "WARNING:tensorflow:From C:\\Users\\aboubakiri.diaw\\Anaconda3\\lib\\site-packages\\tensorflow\\python\\ops\\init_ops.py:97: calling GlorotUniform.__init__ (from tensorflow.python.ops.init_ops) with dtype is deprecated and will be removed in a future version.\n",
      "Instructions for updating:\n",
      "Call initializer instance with the dtype argument instead of passing it to the constructor\n",
      "WARNING:tensorflow:From C:\\Users\\aboubakiri.diaw\\Anaconda3\\lib\\site-packages\\tensorflow\\python\\ops\\init_ops.py:97: calling Zeros.__init__ (from tensorflow.python.ops.init_ops) with dtype is deprecated and will be removed in a future version.\n",
      "Instructions for updating:\n",
      "Call initializer instance with the dtype argument instead of passing it to the constructor\n"
     ]
    }
   ],
   "source": [
    "from tensorflow.python.keras.models import load_model\n",
    "model1 = load_model('C:/Users/aboubakiri.diaw/deploy/best_players.h5')"
   ]
  },
  {
   "cell_type": "code",
   "execution_count": null,
   "metadata": {},
   "outputs": [
    {
     "name": "stdout",
     "output_type": "stream",
     "text": [
      "Model: \"sequential_1\"\n",
      "_________________________________________________________________\n",
      "Layer (type)                 Output Shape              Param #   \n",
      "=================================================================\n",
      "block1_conv1 (Conv2D)        (None, 224, 224, 64)      1792      \n",
      "_________________________________________________________________\n",
      "block1_conv2 (Conv2D)        (None, 224, 224, 64)      36928     \n",
      "_________________________________________________________________\n",
      "block1_pool (MaxPooling2D)   (None, 112, 112, 64)      0         \n",
      "_________________________________________________________________\n",
      "block2_conv1 (Conv2D)        (None, 112, 112, 128)     73856     \n",
      "_________________________________________________________________\n",
      "block2_conv2 (Conv2D)        (None, 112, 112, 128)     147584    \n",
      "_________________________________________________________________\n",
      "block2_pool (MaxPooling2D)   (None, 56, 56, 128)       0         \n",
      "_________________________________________________________________\n",
      "block3_conv1 (Conv2D)        (None, 56, 56, 256)       295168    \n",
      "_________________________________________________________________\n",
      "block3_conv2 (Conv2D)        (None, 56, 56, 256)       590080    \n",
      "_________________________________________________________________\n",
      "block3_conv3 (Conv2D)        (None, 56, 56, 256)       590080    \n",
      "_________________________________________________________________\n",
      "block3_pool (MaxPooling2D)   (None, 28, 28, 256)       0         \n",
      "_________________________________________________________________\n",
      "block4_conv1 (Conv2D)        (None, 28, 28, 512)       1180160   \n",
      "_________________________________________________________________\n",
      "block4_conv2 (Conv2D)        (None, 28, 28, 512)       2359808   \n",
      "_________________________________________________________________\n",
      "block4_conv3 (Conv2D)        (None, 28, 28, 512)       2359808   \n",
      "_________________________________________________________________\n",
      "block4_pool (MaxPooling2D)   (None, 14, 14, 512)       0         \n",
      "_________________________________________________________________\n",
      "block5_conv1 (Conv2D)        (None, 14, 14, 512)       2359808   \n",
      "_________________________________________________________________\n",
      "block5_conv2 (Conv2D)        (None, 14, 14, 512)       2359808   \n",
      "_________________________________________________________________\n",
      "block5_conv3 (Conv2D)        (None, 14, 14, 512)       2359808   \n",
      "_________________________________________________________________\n",
      "block5_pool (MaxPooling2D)   (None, 7, 7, 512)         0         \n",
      "_________________________________________________________________\n",
      "flatten (Flatten)            (None, 25088)             0         \n",
      "_________________________________________________________________\n",
      "fc1 (Dense)                  (None, 4096)              102764544 \n",
      "_________________________________________________________________\n",
      "fc2 (Dense)                  (None, 4096)              16781312  \n",
      "_________________________________________________________________\n",
      "dense_2 (Dense)              (None, 3)                 12291     \n",
      "=================================================================\n",
      "Total params: 134,272,835\n",
      "Trainable params: 12,291\n",
      "Non-trainable params: 134,260,544\n",
      "_________________________________________________________________\n"
     ]
    }
   ],
   "source": [
    "model1.summary()"
   ]
  },
  {
   "cell_type": "markdown",
   "metadata": {},
   "source": [
    "## Predict using fine-tuned VGG16 model"
   ]
  },
  {
   "cell_type": "code",
   "execution_count": null,
   "metadata": {},
   "outputs": [
    {
     "name": "stderr",
     "output_type": "stream",
     "text": [
      "C:\\Users\\aboubakiri.diaw\\Anaconda3\\lib\\site-packages\\keras_preprocessing\\image\\image_data_generator.py:716: UserWarning: This ImageDataGenerator specifies `featurewise_center`, but it hasn't been fit on any training data. Fit it first by calling `.fit(numpy_data)`.\n",
      "  warnings.warn('This ImageDataGenerator specifies '\n"
     ]
    }
   ],
   "source": [
    "predictions = model1.predict(x=test_batches, verbose=0)"
   ]
  },
  {
   "cell_type": "code",
   "execution_count": null,
   "metadata": {},
   "outputs": [
    {
     "data": {
      "text/plain": [
       "array([[9.50236380e-01, 2.93208919e-02, 2.04427205e-02],\n",
       "       [6.46205783e-01, 2.70748250e-02, 3.26719433e-01],\n",
       "       [9.88087296e-01, 2.35781120e-03, 9.55499336e-03],\n",
       "       [8.77290666e-01, 6.76600337e-02, 5.50492033e-02],\n",
       "       [8.02068114e-01, 8.90259966e-02, 1.08905971e-01],\n",
       "       [7.99263239e-01, 7.38479793e-02, 1.26888826e-01],\n",
       "       [9.96159911e-01, 3.16091580e-03, 6.79174263e-04],\n",
       "       [7.58974552e-01, 2.05428287e-01, 3.55971418e-02],\n",
       "       [9.36458528e-01, 5.11675663e-02, 1.23739429e-02],\n",
       "       [8.67948830e-01, 6.05633147e-02, 7.14878738e-02],\n",
       "       [7.79096186e-01, 9.56262201e-02, 1.25277579e-01],\n",
       "       [7.55256474e-01, 1.74402282e-01, 7.03413039e-02],\n",
       "       [9.59307313e-01, 2.73563936e-02, 1.33364061e-02],\n",
       "       [8.28085095e-02, 2.26706102e-01, 6.90485358e-01],\n",
       "       [7.50129402e-01, 1.00680307e-01, 1.49190292e-01],\n",
       "       [8.51448536e-01, 3.70864011e-02, 1.11465111e-01],\n",
       "       [8.87913406e-02, 1.97823182e-01, 7.13385522e-01],\n",
       "       [2.11090907e-01, 5.29352844e-01, 2.59556204e-01],\n",
       "       [4.62714016e-01, 3.70053858e-01, 1.67232111e-01],\n",
       "       [1.30652726e-01, 1.45962134e-01, 7.23385096e-01],\n",
       "       [1.79024264e-01, 1.11024864e-01, 7.09950924e-01],\n",
       "       [7.89597511e-01, 3.00805531e-02, 1.80321932e-01],\n",
       "       [7.77561516e-02, 6.78298235e-01, 2.43945599e-01],\n",
       "       [3.99903148e-01, 4.48734984e-02, 5.55223286e-01],\n",
       "       [1.94655582e-01, 1.51815102e-01, 6.53529286e-01],\n",
       "       [3.49503845e-01, 5.48189819e-01, 1.02306403e-01],\n",
       "       [3.23210955e-01, 5.85458517e-01, 9.13304612e-02],\n",
       "       [5.98904312e-01, 6.54047728e-02, 3.35690975e-01],\n",
       "       [9.56194162e-01, 3.26024853e-02, 1.12033542e-02],\n",
       "       [9.41058218e-01, 6.25482481e-03, 5.26869223e-02],\n",
       "       [3.22897822e-01, 2.50748456e-01, 4.26353693e-01],\n",
       "       [8.09421360e-01, 3.85373570e-02, 1.52041316e-01],\n",
       "       [7.96913803e-01, 1.31766960e-01, 7.13191703e-02],\n",
       "       [7.65201449e-01, 9.26979184e-02, 1.42100632e-01],\n",
       "       [9.70515251e-01, 9.26465075e-03, 2.02200599e-02],\n",
       "       [8.22920024e-01, 3.37620713e-02, 1.43317848e-01],\n",
       "       [3.82376611e-01, 1.68683693e-01, 4.48939711e-01],\n",
       "       [1.87420398e-01, 5.79852641e-01, 2.32726991e-01],\n",
       "       [9.17434394e-01, 7.32257292e-02, 9.33996681e-03],\n",
       "       [9.99439895e-01, 1.64890429e-04, 3.95182433e-04],\n",
       "       [4.07998890e-01, 4.57525969e-01, 1.34475082e-01],\n",
       "       [3.22389334e-01, 3.85910153e-01, 2.91700453e-01],\n",
       "       [9.86863971e-01, 9.01493430e-03, 4.12111543e-03],\n",
       "       [7.11045206e-01, 2.51512438e-01, 3.74423340e-02],\n",
       "       [8.20439219e-01, 8.67910013e-02, 9.27698165e-02],\n",
       "       [4.00925815e-01, 5.43977261e-01, 5.50969355e-02],\n",
       "       [9.39336538e-01, 2.93498989e-02, 3.13134864e-02],\n",
       "       [9.72845674e-01, 1.74335223e-02, 9.72081907e-03],\n",
       "       [7.34498799e-01, 1.64746419e-01, 1.00754745e-01],\n",
       "       [5.15339434e-01, 1.35411829e-01, 3.49248707e-01],\n",
       "       [5.55996457e-03, 9.70362902e-01, 2.40771156e-02],\n",
       "       [6.68785647e-02, 9.06229436e-01, 2.68920902e-02],\n",
       "       [5.91795007e-03, 8.82645369e-01, 1.11436591e-01],\n",
       "       [1.61033198e-01, 3.92749757e-01, 4.46217090e-01],\n",
       "       [2.02285767e-01, 7.51517236e-01, 4.61970866e-02],\n",
       "       [3.12862903e-01, 3.20117623e-01, 3.67019504e-01],\n",
       "       [4.47583050e-02, 9.72451195e-02, 8.57996583e-01],\n",
       "       [9.59106460e-02, 8.10393393e-01, 9.36959311e-02],\n",
       "       [1.26963884e-01, 7.00812399e-01, 1.72223717e-01],\n",
       "       [2.63218489e-03, 9.01437879e-01, 9.59298834e-02],\n",
       "       [4.10142122e-03, 9.31536973e-01, 6.43616170e-02],\n",
       "       [5.37651628e-02, 7.13993490e-01, 2.32241407e-01],\n",
       "       [9.00461301e-02, 8.49067688e-01, 6.08861409e-02],\n",
       "       [2.39715949e-01, 7.54613221e-01, 5.67087159e-03],\n",
       "       [1.53075144e-01, 2.48836696e-01, 5.98088086e-01],\n",
       "       [2.68874228e-01, 5.52996919e-02, 6.75826013e-01],\n",
       "       [5.70093989e-01, 5.78907803e-02, 3.72015238e-01],\n",
       "       [1.89056173e-01, 3.39000940e-01, 4.71942931e-01],\n",
       "       [3.84374633e-02, 6.36382520e-01, 3.25180024e-01],\n",
       "       [3.89742553e-01, 3.96942616e-01, 2.13314816e-01],\n",
       "       [6.26896471e-02, 8.24059188e-01, 1.13251053e-01],\n",
       "       [3.05598397e-02, 2.88649499e-01, 6.80790603e-01],\n",
       "       [7.14499131e-03, 9.69537020e-01, 2.33179089e-02],\n",
       "       [5.78840114e-02, 7.64997482e-01, 1.77118525e-01],\n",
       "       [1.56303912e-01, 1.14405058e-01, 7.29291022e-01],\n",
       "       [6.99236989e-02, 2.76886135e-01, 6.53190196e-01],\n",
       "       [1.51624335e-02, 9.05208111e-01, 7.96294510e-02],\n",
       "       [1.75223425e-02, 4.24268007e-01, 5.58209717e-01],\n",
       "       [3.45034804e-03, 7.39292443e-01, 2.57257193e-01],\n",
       "       [5.17462976e-02, 8.71978521e-01, 7.62751326e-02],\n",
       "       [3.58445980e-02, 9.37698424e-01, 2.64569446e-02],\n",
       "       [7.72608109e-05, 9.86631930e-01, 1.32907899e-02],\n",
       "       [8.15157950e-01, 1.52310595e-01, 3.25314440e-02],\n",
       "       [1.96020976e-02, 9.71591890e-01, 8.80594924e-03],\n",
       "       [9.00461301e-02, 8.49067688e-01, 6.08861409e-02],\n",
       "       [6.44164756e-02, 8.74869645e-01, 6.07138388e-02],\n",
       "       [1.83761325e-02, 5.55251002e-01, 4.26372945e-01],\n",
       "       [3.25251967e-02, 9.05977309e-01, 6.14974611e-02],\n",
       "       [4.94856797e-02, 9.49784636e-01, 7.29685999e-04],\n",
       "       [1.86352897e-03, 9.75301266e-01, 2.28352286e-02],\n",
       "       [2.67362595e-01, 3.48589838e-01, 3.84047568e-01],\n",
       "       [9.21728536e-02, 8.11538398e-01, 9.62887406e-02],\n",
       "       [1.77785352e-01, 7.32506454e-01, 8.97082612e-02],\n",
       "       [2.73118839e-02, 6.90017760e-01, 2.82670319e-01],\n",
       "       [2.69859703e-03, 1.93630487e-01, 8.03670943e-01],\n",
       "       [5.30350916e-02, 3.88540067e-02, 9.08110857e-01],\n",
       "       [4.85653728e-02, 4.45580095e-01, 5.05854487e-01],\n",
       "       [1.85822636e-01, 2.32777208e-01, 5.81400156e-01],\n",
       "       [8.86631943e-03, 3.05061527e-02, 9.60627556e-01],\n",
       "       [3.14018913e-02, 4.48486097e-02, 9.23749506e-01],\n",
       "       [2.20180955e-02, 3.78389955e-02, 9.40142989e-01],\n",
       "       [1.06475456e-02, 1.09777592e-01, 8.79574835e-01],\n",
       "       [9.16166045e-03, 3.33136976e-01, 6.57701373e-01],\n",
       "       [5.81591576e-02, 1.88290700e-02, 9.23011780e-01],\n",
       "       [1.36728823e-01, 5.80737218e-02, 8.05197418e-01],\n",
       "       [2.11979877e-02, 2.09973752e-02, 9.57804620e-01],\n",
       "       [7.39117086e-01, 5.30088320e-02, 2.07874060e-01],\n",
       "       [1.99108258e-01, 6.34971783e-02, 7.37394571e-01],\n",
       "       [1.74021702e-02, 1.78847034e-02, 9.64713097e-01],\n",
       "       [5.97997662e-03, 2.52898455e-01, 7.41121531e-01],\n",
       "       [8.20201263e-02, 3.50929886e-01, 5.67049921e-01],\n",
       "       [4.05628532e-01, 5.04531860e-01, 8.98395404e-02],\n",
       "       [3.09256881e-01, 4.77128655e-01, 2.13614464e-01],\n",
       "       [2.09013410e-02, 1.81801409e-01, 7.97297239e-01],\n",
       "       [8.20201263e-02, 3.50929886e-01, 5.67049921e-01],\n",
       "       [2.20180955e-02, 3.78389955e-02, 9.40142989e-01],\n",
       "       [5.37525773e-01, 5.03417291e-02, 4.12132561e-01],\n",
       "       [7.04137087e-02, 3.05485614e-02, 8.99037719e-01],\n",
       "       [2.61564013e-02, 4.79744449e-02, 9.25869167e-01],\n",
       "       [3.51456292e-02, 7.25098491e-01, 2.39755854e-01],\n",
       "       [1.98932171e-01, 4.97208461e-02, 7.51347005e-01],\n",
       "       [9.05875210e-03, 8.28118995e-02, 9.08129394e-01],\n",
       "       [2.59683847e-01, 3.40160817e-01, 4.00155395e-01],\n",
       "       [1.40298143e-01, 1.41131952e-01, 7.18569875e-01],\n",
       "       [1.25812460e-02, 5.02647879e-03, 9.82392251e-01],\n",
       "       [3.36891890e-01, 3.41744460e-02, 6.28933668e-01],\n",
       "       [3.30013558e-02, 1.44871501e-02, 9.52511549e-01],\n",
       "       [2.36913934e-02, 1.04309879e-01, 8.71998787e-01],\n",
       "       [6.21587485e-02, 7.10367113e-02, 8.66804481e-01],\n",
       "       [1.08128199e-02, 5.95591426e-01, 3.93595785e-01],\n",
       "       [5.32020107e-02, 7.54690051e-01, 1.92107916e-01],\n",
       "       [2.20180918e-02, 3.78389582e-02, 9.40142989e-01],\n",
       "       [4.44403738e-02, 1.01606555e-01, 8.53953063e-01],\n",
       "       [2.52922252e-03, 1.85598955e-02, 9.78910804e-01],\n",
       "       [1.22223496e-02, 5.55338502e-01, 4.32439178e-01],\n",
       "       [1.70019150e-01, 3.19735259e-01, 5.10245621e-01]], dtype=float32)"
      ]
     },
     "execution_count": 23,
     "metadata": {},
     "output_type": "execute_result"
    }
   ],
   "source": [
    "predictions"
   ]
  },
  {
   "cell_type": "code",
   "execution_count": null,
   "metadata": {},
   "outputs": [
    {
     "data": {
      "text/plain": [
       "array([0, 0, 0, 0, 0, 0, 0, 0, 0, 0, 0, 0, 0, 0, 0, 0, 0, 0, 0, 0, 0, 0,\n",
       "       0, 0, 0, 0, 0, 0, 0, 0, 0, 0, 0, 0, 0, 0, 0, 0, 0, 0, 0, 0, 0, 0,\n",
       "       0, 0, 0, 0, 0, 0, 1, 1, 1, 1, 1, 1, 1, 1, 1, 1, 1, 1, 1, 1, 1, 1,\n",
       "       1, 1, 1, 1, 1, 1, 1, 1, 1, 1, 1, 1, 1, 1, 1, 1, 1, 1, 1, 1, 1, 1,\n",
       "       1, 1, 1, 1, 1, 1, 2, 2, 2, 2, 2, 2, 2, 2, 2, 2, 2, 2, 2, 2, 2, 2,\n",
       "       2, 2, 2, 2, 2, 2, 2, 2, 2, 2, 2, 2, 2, 2, 2, 2, 2, 2, 2, 2, 2, 2,\n",
       "       2, 2, 2, 2])"
      ]
     },
     "execution_count": 24,
     "metadata": {},
     "output_type": "execute_result"
    }
   ],
   "source": [
    "test_batches.classes"
   ]
  },
  {
   "cell_type": "code",
   "execution_count": null,
   "metadata": {},
   "outputs": [],
   "source": [
    "cm=confusion_matrix(y_true=test_batches.classes, y_pred=np.argmax(predictions, axis=-1))"
   ]
  },
  {
   "cell_type": "code",
   "execution_count": null,
   "metadata": {},
   "outputs": [
    {
     "data": {
      "text/plain": [
       "{'iniesta': 0, 'neymar': 1, 'messi': 2}"
      ]
     },
     "execution_count": 26,
     "metadata": {},
     "output_type": "execute_result"
    }
   ],
   "source": [
    "test_batches.class_indices"
   ]
  },
  {
   "cell_type": "code",
   "execution_count": null,
   "metadata": {},
   "outputs": [],
   "source": [
    "def plot_confusion_matrix(cm, classes, normalize=False, title='Confusion matrix', cmap=plt.cm.Blues):\n",
    "    plt.imshow(cm, interpolation='nearest', cmap=cmap)\n",
    "    plt.title(title)\n",
    "    plt.colorbar()\n",
    "    tick_marks = np.arange(len(classes))\n",
    "    plt.xticks(tick_marks, classes, rotation=45)\n",
    "    plt.yticks(tick_marks, classes)\n",
    "    \n",
    "    if normalize:\n",
    "        cm= cm.astype('float')/cm.sum(axis=1)[:, np.newaxis]\n",
    "        print(\"Normalized confusion matrix\")\n",
    "    else:\n",
    "        print('confusion matrix, without normalization')\n",
    "    print(cm)\n",
    "    \n",
    "    thresh=cm.max()/2.\n",
    "    for i, j in itertools.product(range(cm.shape[0]), range(cm.shape[1])):\n",
    "        plt.text(j,i, cm[i,j], horizontalalignment=\"center\", \n",
    "        color=\"white\" if cm[i,j]> thresh else \"black\")\n",
    "                 \n",
    "                 \n",
    "    plt.tight_layout()\n",
    "    plt.ylabel('True label')\n",
    "    plt.xlabel('Predicted label')"
   ]
  },
  {
   "cell_type": "code",
   "execution_count": null,
   "metadata": {},
   "outputs": [
    {
     "name": "stdout",
     "output_type": "stream",
     "text": [
      "confusion matrix, without normalization\n",
      "[[34  8  8]\n",
      " [ 2 31 11]\n",
      " [ 2  6 34]]\n"
     ]
    },
    {
     "data": {
      "image/png": "[encoded data removed]",
      "text/plain": [
       "<Figure size 432x288 with 2 Axes>"
      ]
     },
     "metadata": {
      "needs_background": "light"
     },
     "output_type": "display_data"
    }
   ],
   "source": [
    "cm_plot_labels = ['inesta', 'neymar','messi']\n",
    "plot_confusion_matrix(cm=cm, classes=cm_plot_labels, title='confusion Matrix')"
   ]
  },
  {
   "cell_type": "code",
   "execution_count": null,
   "metadata": {},
   "outputs": [],
   "source": [
    "test1_path='C:/Users/aboubakiri.diaw/deploiement recomm'"
   ]
  },
  {
   "cell_type": "code",
   "execution_count": null,
   "metadata": {},
   "outputs": [
    {
     "name": "stdout",
     "output_type": "stream",
     "text": [
      "Found 1 images belonging to 1 classes.\n"
     ]
    }
   ],
   "source": [
    "test1_batches = ImageDataGenerator(preprocess_input).flow_from_directory(directory=test1_path, classes=['tes'], target_size=(224,224), batch_size=1, shuffle=False )"
   ]
  },
  {
   "cell_type": "code",
   "execution_count": null,
   "metadata": {},
   "outputs": [],
   "source": [
    "predictions = model1.predict(x=test1_batches, verbose=0)"
   ]
  },
  {
   "cell_type": "code",
   "execution_count": null,
   "metadata": {},
   "outputs": [
    {
     "data": {
      "text/plain": [
       "0.81712425"
      ]
     },
     "execution_count": 47,
     "metadata": {},
     "output_type": "execute_result"
    }
   ],
   "source": [
    "predictions[0][2]"
   ]
  },
  {
   "cell_type": "code",
   "execution_count": null,
   "metadata": {},
   "outputs": [
    {
     "data": {
      "text/plain": [
       "array([2], dtype=int64)"
      ]
     },
     "execution_count": 48,
     "metadata": {},
     "output_type": "execute_result"
    }
   ],
   "source": [
    "classes=np.argmax(predictions, axis=-1)\n",
    "classes"
   ]
  },
  {
   "cell_type": "code",
   "execution_count": null,
   "metadata": {},
   "outputs": [],
   "source": [
    "#cheks first to see if file exists already\n",
    "import os.path\n",
    "if os.path.isfile('C:/Users/aboubakiri.diaw/deploiement recomm/keras/best_players2.h5') is False:\n",
    "    model.save('C:/Users/aboubakiri.diaw/deploiement recomm/keras/best_players2.h5')"
   ]
  },
  {
   "cell_type": "code",
   "execution_count": null,
   "metadata": {},
   "outputs": [],
   "source": [
    "# cette fonction va dessiner des images \n",
    "def plotImages(image_arr):\n",
    "    fig, axes = plt.subplots(1,10,figsize=(20,20))\n",
    "    axes = axes.flatten()\n",
    "    for img, ax in zip(image_arr, axes):\n",
    "        ax.imshow(img)\n",
    "        ax.axis('off')\n",
    "    plt.tight_layout()\n",
    "    plt.show"
   ]
  },
  {
   "cell_type": "code",
   "execution_count": null,
   "metadata": {},
   "outputs": [],
   "source": [
    "# image obtenue\n",
    "image = np.expand_dims(plt.imread(path),0)\n",
    "plt.imshow(image[0])\n",
    "\n",
    "print(classes)\n",
    "\n",
    "if classes==0:\n",
    "    print(\"Iniesta\")\n",
    "    \n",
    "elif classes==1:\n",
    "    print( \"Neymar\")\n",
    "elif classes==2:\n",
    "    print(\"Lionel Messi\")"
   ]
  },
  {
   "cell_type": "code",
   "execution_count": null,
   "metadata": {},
   "outputs": [],
   "source": []
  },
  {
   "cell_type": "code",
   "execution_count": null,
   "metadata": {},
   "outputs": [],
   "source": []
  }
 ],
 "metadata": {
  "kernelspec": {
   "display_name": "Python 3 (ipykernel)",
   "language": "python",
   "name": "python3"
  },
  "language_info": {
   "codemirror_mode": {
    "name": "ipython",
    "version": 3
   },
   "file_extension": ".py",
   "mimetype": "text/x-python",
   "name": "python",
   "nbconvert_exporter": "python",
   "pygments_lexer": "ipython3",
   "version": "3.10.6"
  }
 },
 "nbformat": 4,
 "nbformat_minor": 4
}
